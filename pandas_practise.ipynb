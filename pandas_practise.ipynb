{
 "cells": [
  {
   "cell_type": "markdown",
   "id": "2801d089",
   "metadata": {},
   "source": [
    "Pandas\n",
    "Pandas is a Python tool that helps you work with data easily — like how Excel works with tables.\n",
    "\n",
    "It lets you:\n",
    "\t•\tRead data from files (like CSV or Excel)\n",
    "\t•\tLook at it in a table format\n",
    "\t•\tClean it if it’s messy\n",
    "\t•\tSort, filter, and analyze it\n",
    "\t•\tSave the clean data again\n",
    "\n",
    "Pandas is used a lot in data analysis, data science, and machine learning because most real-world data comes in table form — with rows and columns — and Pandas makes working with that kind of data super simple and powerful.\n",
    "\n",
    "\n",
    "\n",
    "Pandas gives you 2 main tools:\n",
    "\t1.\tSeries → a single column (like a list with labels)\n",
    "\t2.\tDataFrame → a full table (like an Excel sheet)\n",
    "\t•\tIt works on top of NumPy, meaning it uses NumPy under the hood to do fast calculations but adds labels (column names and row numbers) so it’s easier to understand and work with.\n",
    "\t•\tIt’s made for structured data (tables), which is the kind of data you usually get in the real world: CSVs, spreadsheets, databases, survey results, etc.\n",
    "\n",
    "Why Pandas is Important\n",
    "\t•\tIt’s the starting point for any data science or machine learning project\n",
    "\t•\tIt helps you explore and clean data before you can build charts or train models\n",
    "\t•\tIt’s much easier to use than raw Python or NumPy when working with tabular data\n",
    "\n",
    "\n",
    "🧮 NumPy (Numerical Python)\n",
    "\n",
    "NumPy is a Python library that focuses on numerical operations and high-performance computations using arrays.\n",
    "\t•\tIt works with n-dimensional arrays (like lists of numbers, grids, or even 3D arrays).\n",
    "\t•\tIt’s mainly used for mathematical operations, linear algebra, matrix multiplications, and scientific calculations.\n",
    "\t•\tIt’s extremely fast because it uses optimized C code underneath.\n",
    "\t•\tData in NumPy doesn’t have column or row labels — just index positions (like array[0][1]).\n",
    "\t•\tIt’s perfect when you need to work with large sets of numbers or mathematical modeling, such as building machine learning algorithms from scratch.\n",
    "\t•\tHowever, for real-world data like customer information or CSV files, NumPy alone is not very intuitive.\n",
    "\n",
    "⸻\n",
    "\n",
    "🐼 Pandas (Python Data Analysis Library)\n",
    "\n",
    "Pandas is a library built on top of NumPy that makes working with structured/tabular data much easier. Behind the scenes numpy is the one that is working as a engine for most of the cases. Pandas can be considered as a dashboard for now.\n",
    "\t•\tIt introduces two main data structures: Series (1D labeled array) and DataFrame (2D labeled table).\n",
    "\t•\tWith Pandas, you can easily read data from files like CSVs, Excel sheets, and databases.\n",
    "\t•\tIt allows you to filter, sort, group, and clean data using human-friendly row and column labels.\n",
    "\t•\tIt’s designed to make real-world data handling simple and efficient — especially when data is messy or unstructured.\n",
    "\t•\tWhile it’s not as fast at pure number crunching as NumPy, it makes data analysis workflows far more convenient.\n",
    "\t•\tIn most data science projects, Pandas is used first to clean and explore the data, and then NumPy may be used underneath for the calculations.\n",
    "\n",
    "\n",
    "Pandas is built using NumPy (for data handling and speed), Cython (for performance), and Python (for structure), and it wraps them into a simple, powerful toolkit for working with structured data."
   ]
  },
  {
   "cell_type": "code",
   "execution_count": 244,
   "id": "5fc2db75",
   "metadata": {},
   "outputs": [],
   "source": [
    "import pandas as pd \n",
    "import numpy as np\n",
    "#You do not need to import NumPy just because Pandas is built on top of it.\n",
    "#You only import NumPy when you plan to use NumPy directly in your own code."
   ]
  },
  {
   "cell_type": "markdown",
   "id": "a03cad97",
   "metadata": {},
   "source": [
    "Analyzing the Group of seven which is political formed by Canada, France, Germany,Italy, Japan , United Kingdom and United States . We will start analyzing the population and we will be initiating it with pandas.Series Object."
   ]
  },
  {
   "cell_type": "markdown",
   "id": "e22a0f02",
   "metadata": {},
   "source": [
    "Data Structue refer to the way of storing a data in a computer so that it can be used effeciently.\n",
    "Pandas has two types of data structures. \n",
    "1. pandas.Series\n",
    "2. pandas.DataFrame\n",
    "\n",
    "Think of data structures like containers:\n",
    "\t•\tA Series is like a single column of labeled data (e.g., a list of countries with their populations).\n",
    "\t•\tA DataFrame is like an Excel sheet — a table with rows and columns."
   ]
  },
  {
   "cell_type": "code",
   "execution_count": 245,
   "id": "7baa7e56",
   "metadata": {},
   "outputs": [],
   "source": [
    "# Population in Millions\n",
    "g7_population = pd.Series([35.467, 63.941, 80.940, 60.665, 127.061, 64.511, 318.523])"
   ]
  },
  {
   "cell_type": "markdown",
   "id": "9fa81740",
   "metadata": {},
   "source": [
    "pd.Series() is a function providecd by the Pandas Library that stores the data creating a Series Object that is one dimensional array. Its like a dictionary or Excel column."
   ]
  },
  {
   "cell_type": "code",
   "execution_count": 246,
   "id": "c568c9df",
   "metadata": {},
   "outputs": [
    {
     "data": {
      "text/plain": [
       "0     35.467\n",
       "1     63.941\n",
       "2     80.940\n",
       "3     60.665\n",
       "4    127.061\n",
       "5     64.511\n",
       "6    318.523\n",
       "dtype: float64"
      ]
     },
     "execution_count": 246,
     "metadata": {},
     "output_type": "execute_result"
    }
   ],
   "source": [
    "g7_population"
   ]
  },
  {
   "cell_type": "code",
   "execution_count": 247,
   "id": "649fe5cf",
   "metadata": {},
   "outputs": [],
   "source": [
    "g7_population.name = \"Group Seven Population in Millions\""
   ]
  },
  {
   "cell_type": "code",
   "execution_count": 248,
   "id": "e5bd0e4b",
   "metadata": {},
   "outputs": [
    {
     "data": {
      "text/plain": [
       "0     35.467\n",
       "1     63.941\n",
       "2     80.940\n",
       "3     60.665\n",
       "4    127.061\n",
       "5     64.511\n",
       "6    318.523\n",
       "Name: Group Seven Population in Millions, dtype: float64"
      ]
     },
     "execution_count": 248,
     "metadata": {},
     "output_type": "execute_result"
    }
   ],
   "source": [
    "g7_population\n",
    "#We can add a name to the pandas series"
   ]
  },
  {
   "cell_type": "markdown",
   "id": "12d984f7",
   "metadata": {},
   "source": [
    "Series are pretty similar to numpy arrays."
   ]
  },
  {
   "cell_type": "code",
   "execution_count": 249,
   "id": "2adcda7e",
   "metadata": {},
   "outputs": [
    {
     "data": {
      "text/plain": [
       "dtype('float64')"
      ]
     },
     "execution_count": 249,
     "metadata": {},
     "output_type": "execute_result"
    }
   ],
   "source": [
    "g7_population.dtype"
   ]
  },
  {
   "cell_type": "code",
   "execution_count": 250,
   "id": "e129e6a2",
   "metadata": {},
   "outputs": [
    {
     "data": {
      "text/plain": [
       "array([ 35.467,  63.941,  80.94 ,  60.665, 127.061,  64.511, 318.523])"
      ]
     },
     "execution_count": 250,
     "metadata": {},
     "output_type": "execute_result"
    }
   ],
   "source": [
    "g7_population.values\n",
    "#This shows the underlying datas in a Series"
   ]
  },
  {
   "cell_type": "code",
   "execution_count": 251,
   "id": "bd0a93da",
   "metadata": {},
   "outputs": [
    {
     "data": {
      "text/plain": [
       "numpy.ndarray"
      ]
     },
     "execution_count": 251,
     "metadata": {},
     "output_type": "execute_result"
    }
   ],
   "source": [
    "type(g7_population.values)\n",
    "#By this we can conclude that it is indeed a numpy array. So pandas series is a numpy array"
   ]
  },
  {
   "cell_type": "code",
   "execution_count": 252,
   "id": "aa41822d",
   "metadata": {},
   "outputs": [
    {
     "data": {
      "text/plain": [
       "np.float64(35.467)"
      ]
     },
     "execution_count": 252,
     "metadata": {},
     "output_type": "execute_result"
    }
   ],
   "source": [
    "#We can access its elements similar to extracting the elements in a python list\n",
    "g7_population[0]"
   ]
  },
  {
   "cell_type": "code",
   "execution_count": 253,
   "id": "a92dc92a",
   "metadata": {},
   "outputs": [
    {
     "data": {
      "text/plain": [
       "np.float64(63.941)"
      ]
     },
     "execution_count": 253,
     "metadata": {},
     "output_type": "execute_result"
    }
   ],
   "source": [
    "g7_population[1]"
   ]
  },
  {
   "cell_type": "code",
   "execution_count": 254,
   "id": "801385bd",
   "metadata": {},
   "outputs": [
    {
     "data": {
      "text/plain": [
       "RangeIndex(start=0, stop=7, step=1)"
      ]
     },
     "execution_count": 254,
     "metadata": {},
     "output_type": "execute_result"
    }
   ],
   "source": [
    "g7_population.index"
   ]
  },
  {
   "cell_type": "markdown",
   "id": "f97d8e39",
   "metadata": {},
   "source": [
    "We can see that a pandas series and a list both have their respective index. Index are metioned for the pandas if we look at them but for the list they are not mentioned but its there. The main difference is that the index of the pandas series are changable. We can add up our own index to it.\n",
    "\n",
    "These index are changable for a reason and that is what seperates a pandas library.Pandas allows changeable indexes so that data can be labeled, aligned, and analyzed in a smart and human-friendly way — which is essential for real-world data science and analytics."
   ]
  },
  {
   "cell_type": "code",
   "execution_count": 255,
   "id": "229e6ff2",
   "metadata": {},
   "outputs": [],
   "source": [
    "g7_population.index = [\n",
    "    \"Canada\",\n",
    "    \"France\",\n",
    "    \"Germany\",\n",
    "    \"Italy\",\n",
    "    \"Japan\",\n",
    "    \"United Kingdom\",\n",
    "    \"United States\",\n",
    "]"
   ]
  },
  {
   "cell_type": "code",
   "execution_count": 256,
   "id": "6a8ba1d1",
   "metadata": {},
   "outputs": [
    {
     "data": {
      "text/plain": [
       "Canada             35.467\n",
       "France             63.941\n",
       "Germany            80.940\n",
       "Italy              60.665\n",
       "Japan             127.061\n",
       "United Kingdom     64.511\n",
       "United States     318.523\n",
       "Name: Group Seven Population in Millions, dtype: float64"
      ]
     },
     "execution_count": 256,
     "metadata": {},
     "output_type": "execute_result"
    }
   ],
   "source": [
    "g7_population\n",
    "#This change of index helps us in reading the data in a more interactive way\n",
    "#So from now on we wont be labeling them using a certain index number , instead we will be using their respective meaningful names so that we can easily play with the data"
   ]
  },
  {
   "cell_type": "markdown",
   "id": "4f7da141",
   "metadata": {},
   "source": [
    "Now from the above data we can see that it looks similar to a dictionary that is a key value pair rather than a list with added features for data analysis. So, with that we can conclude that we can create series out of a dictionary.\n",
    "\n",
    "Key differences between a dictionary and pandas series\n",
    "\n",
    "Label-Based Access\n",
    "\n",
    "A Python dict allows access to values using keys. For example, my_dict[\"Canada\"] returns the value associated with the key “Canada”.\n",
    "\n",
    "Similarly, a pandas.Series allows access to values using custom index labels. For example, my_series[\"Canada\"] returns the corresponding value from the Series.\n",
    "\n",
    "⸻\n",
    "\n",
    "Order Preservation\n",
    "\n",
    "In Python, dictionaries preserve insertion order only from version 3.7 onwards. In earlier versions, the order of keys was not guaranteed.\n",
    "\n",
    "Pandas Series always preserves the order of elements. When you define values and labels in a specific order, that order is maintained throughout operations unless explicitly changed.\n",
    "\n",
    "⸻\n",
    "\n",
    "Vectorized Operations\n",
    "\n",
    "Dictionaries do not support vectorized operations. You cannot perform mathematical operations on all values of a dictionary at once. You would need to loop through or use comprehensions.\n",
    "\n",
    "Pandas Series support vectorized operations. You can perform operations like addition, subtraction, filtering, or applying mathematical functions directly on the entire Series without using loops.\n",
    "\n",
    "⸻\n",
    "\n",
    "Support for Missing Values (NaN)\n",
    "\n",
    "Dictionaries have no built-in support for representing or handling missing values. If a key is absent, accessing it raises a KeyError.\n",
    "\n",
    "Pandas Series can contain missing values using NaN (Not a Number), which makes it useful for real-world datasets that may have incomplete or missing entries.\n",
    "\n",
    "⸻\n",
    "\n",
    "Underlying Data Type\n",
    "\n",
    "A Python dictionary is a built-in data type and is part of the core Python language. It does not rely on external libraries.\n",
    "\n",
    "A Pandas Series is built on top of NumPy arrays. This gives it high performance and access to numerical operations that are not available in basic Python structures.\n",
    "\n",
    "\n",
    "Converting dictionaries or JSON into Pandas Series is a common step in data ingestion and preparation, enabling the analyst to move from raw data to a structured format that’s easy to analyze and manipulate."
   ]
  },
  {
   "cell_type": "markdown",
   "id": "b0c7a985",
   "metadata": {},
   "source": [
    "Ways to create a pandas series "
   ]
  },
  {
   "cell_type": "code",
   "execution_count": 257,
   "id": "9678b4c0",
   "metadata": {},
   "outputs": [
    {
     "name": "stdout",
     "output_type": "stream",
     "text": [
      "Canada             35.467\n",
      "France             63.941\n",
      "Germany            80.940\n",
      "Italy              60.665\n",
      "Japan             127.061\n",
      "United Kingdom     64.511\n",
      "United States     318.523\n",
      "dtype: float64\n"
     ]
    }
   ],
   "source": [
    "#1\n",
    "g7_population = pd.Series({\n",
    "    \"Canada\": 35.467,\n",
    "    \"France\": 63.941,\n",
    "    \"Germany\": 80.940,\n",
    "    \"Italy\": 60.665,\n",
    "    \"Japan\": 127.061,\n",
    "    \"United Kingdom\": 64.511,\n",
    "    \"United States\": 318.523\n",
    "})\n",
    "\n",
    "print(g7_population)"
   ]
  },
  {
   "cell_type": "code",
   "execution_count": 258,
   "id": "87cdc206",
   "metadata": {},
   "outputs": [
    {
     "name": "stdout",
     "output_type": "stream",
     "text": [
      "Canada             35.467\n",
      "France             63.941\n",
      "Germany            80.940\n",
      "Italy              60.665\n",
      "Japan             127.061\n",
      "United Kingdom     64.511\n",
      "United States     318.523\n",
      "dtype: float64\n"
     ]
    }
   ],
   "source": [
    "#2\n",
    "g7_population = pd.Series(\n",
    "    [35.467, 63.941, 80.940, 60.665, 127.061, 64.511, 318.523],\n",
    "    index=[\"Canada\", \"France\", \"Germany\", \"Italy\", \"Japan\", \"United Kingdom\", \"United States\"]\n",
    ")\n",
    "\n",
    "print(g7_population)"
   ]
  },
  {
   "cell_type": "code",
   "execution_count": 259,
   "id": "4fe1463e",
   "metadata": {},
   "outputs": [
    {
     "data": {
      "text/plain": [
       "France     63.941\n",
       "Germany    80.940\n",
       "Italy      60.665\n",
       "Spain         NaN\n",
       "dtype: float64"
      ]
     },
     "execution_count": 259,
     "metadata": {},
     "output_type": "execute_result"
    }
   ],
   "source": [
    "pd.Series(g7_population, index = [\"France\", \"Germany\", \"Italy\", \"Spain\"])\n",
    "#This line is:\n",
    "\t# •\tCreating a subset of the original Series,\n",
    "\t# •\tReordering the entries,\n",
    "\t# •\tFilling NaN for any index label not present in the original (like \"Spain\" in this case)."
   ]
  },
  {
   "cell_type": "markdown",
   "id": "adb3f19b",
   "metadata": {},
   "source": [
    "Above use of the given function\t\n",
    "    •\tpd.Series(original_series, index=[...]) creates a new Series.\n",
    "\t•\tIt is not assigned unless you do so manually.\n",
    "\t•\tIt’s useful for selecting, reordering, or introducing missing entries in a structured way."
   ]
  },
  {
   "cell_type": "markdown",
   "id": "de6a9ee5",
   "metadata": {},
   "source": [
    "Indexing "
   ]
  },
  {
   "cell_type": "code",
   "execution_count": 260,
   "id": "9a18fb78",
   "metadata": {},
   "outputs": [
    {
     "data": {
      "text/plain": [
       "Canada             35.467\n",
       "France             63.941\n",
       "Germany            80.940\n",
       "Italy              60.665\n",
       "Japan             127.061\n",
       "United Kingdom     64.511\n",
       "United States     318.523\n",
       "dtype: float64"
      ]
     },
     "execution_count": 260,
     "metadata": {},
     "output_type": "execute_result"
    }
   ],
   "source": [
    "g7_population"
   ]
  },
  {
   "cell_type": "code",
   "execution_count": 261,
   "id": "da8b6b24",
   "metadata": {},
   "outputs": [
    {
     "data": {
      "text/plain": [
       "np.float64(35.467)"
      ]
     },
     "execution_count": 261,
     "metadata": {},
     "output_type": "execute_result"
    }
   ],
   "source": [
    "#Accessing elements of different index in a panda series using key as a index\n",
    "g7_population[\"Canada\"]"
   ]
  },
  {
   "cell_type": "code",
   "execution_count": 262,
   "id": "433706f2",
   "metadata": {},
   "outputs": [
    {
     "data": {
      "text/plain": [
       "np.float64(127.061)"
      ]
     },
     "execution_count": 262,
     "metadata": {},
     "output_type": "execute_result"
    }
   ],
   "source": [
    "g7_population['Japan']"
   ]
  },
  {
   "cell_type": "code",
   "execution_count": 263,
   "id": "516c91d7",
   "metadata": {},
   "outputs": [
    {
     "name": "stderr",
     "output_type": "stream",
     "text": [
      "/var/folders/69/vt9s16nj1plcwqqsqytyf4l40000gn/T/ipykernel_21168/1635840347.py:1: FutureWarning: Series.__getitem__ treating keys as positions is deprecated. In a future version, integer keys will always be treated as labels (consistent with DataFrame behavior). To access a value by position, use `ser.iloc[pos]`\n",
      "  g7_population[0]\n"
     ]
    },
    {
     "data": {
      "text/plain": [
       "np.float64(35.467)"
      ]
     },
     "execution_count": 263,
     "metadata": {},
     "output_type": "execute_result"
    }
   ],
   "source": [
    "g7_population[0]\n",
    "#can be accesssed using the label or number index as well as the panda series are always in order"
   ]
  },
  {
   "cell_type": "code",
   "execution_count": 264,
   "id": "74524781",
   "metadata": {},
   "outputs": [
    {
     "data": {
      "text/plain": [
       "np.float64(35.467)"
      ]
     },
     "execution_count": 264,
     "metadata": {},
     "output_type": "execute_result"
    }
   ],
   "source": [
    "#iloc stands for integer-location based indexing.\n",
    "g7_population.iloc[0]"
   ]
  },
  {
   "cell_type": "code",
   "execution_count": 265,
   "id": "d48592f6",
   "metadata": {},
   "outputs": [
    {
     "data": {
      "text/plain": [
       "Canada    35.467\n",
       "France    63.941\n",
       "dtype: float64"
      ]
     },
     "execution_count": 265,
     "metadata": {},
     "output_type": "execute_result"
    }
   ],
   "source": [
    "g7_population.iloc[0:2]"
   ]
  },
  {
   "cell_type": "code",
   "execution_count": 266,
   "id": "e03be9cf",
   "metadata": {},
   "outputs": [
    {
     "data": {
      "text/plain": [
       "np.float64(35.467)"
      ]
     },
     "execution_count": 266,
     "metadata": {},
     "output_type": "execute_result"
    }
   ],
   "source": [
    "g7_population.iloc[0]"
   ]
  },
  {
   "cell_type": "code",
   "execution_count": 267,
   "id": "ff8058ac",
   "metadata": {},
   "outputs": [
    {
     "data": {
      "text/plain": [
       "np.float64(318.523)"
      ]
     },
     "execution_count": 267,
     "metadata": {},
     "output_type": "execute_result"
    }
   ],
   "source": [
    "g7_population.iloc[-1]"
   ]
  },
  {
   "cell_type": "code",
   "execution_count": 268,
   "id": "f172341c",
   "metadata": {},
   "outputs": [
    {
     "name": "stdout",
     "output_type": "stream",
     "text": [
      "Country       France\n",
      "Population      66.9\n",
      "Name: 1, dtype: object\n",
      "France\n",
      "0     35.5\n",
      "1     66.9\n",
      "2    127.3\n",
      "Name: Population, dtype: float64\n"
     ]
    }
   ],
   "source": [
    "data = {\n",
    "    \"Country\": [\"Canada\", \"France\", \"Japan\"],\n",
    "    \"Population\": [35.5, 66.9, 127.3]\n",
    "}\n",
    "\n",
    "df = pd.DataFrame(data)\n",
    "\n",
    "print(df.iloc[1])    \n",
    "print(df.iloc[1, 0])    \n",
    "print(df.iloc[:, 1])  "
   ]
  },
  {
   "cell_type": "markdown",
   "id": "132af32d",
   "metadata": {},
   "source": [
    "\t•\tdf.iloc[1] → Returns the entire second row of the DataFrame as a Series.\n",
    "\t•\tdf.iloc[1, 0] → Returns the value in the second row and first column (i.e., “France”).\n",
    "\t•\tdf.iloc[:, 1] → Returns the entire second column (Population) as a Series from the overall row. \":\" means all the row from the start to the end."
   ]
  },
  {
   "cell_type": "code",
   "execution_count": 269,
   "id": "9d3679d3",
   "metadata": {},
   "outputs": [
    {
     "data": {
      "text/plain": [
       "Canada      35.467\n",
       "France      63.941\n",
       "Germany     80.940\n",
       "Italy       60.665\n",
       "Japan      127.061\n",
       "dtype: float64"
      ]
     },
     "execution_count": 269,
     "metadata": {},
     "output_type": "execute_result"
    }
   ],
   "source": [
    "g7_population[\"Canada\": \"Japan\"]\n",
    "# Gives the data from Canada till Japan and its inclusive in case of series if you do indexing which is different from that of list "
   ]
  },
  {
   "cell_type": "markdown",
   "id": "ed1ba978",
   "metadata": {},
   "source": [
    "Conditional Selection using booleans\n",
    "Its very similar to that of numpys "
   ]
  },
  {
   "cell_type": "code",
   "execution_count": 270,
   "id": "59253ef9",
   "metadata": {},
   "outputs": [
    {
     "data": {
      "text/plain": [
       "Canada             35.467\n",
       "France             63.941\n",
       "Germany            80.940\n",
       "Italy              60.665\n",
       "Japan             127.061\n",
       "United Kingdom     64.511\n",
       "United States     318.523\n",
       "dtype: float64"
      ]
     },
     "execution_count": 270,
     "metadata": {},
     "output_type": "execute_result"
    }
   ],
   "source": [
    "g7_population"
   ]
  },
  {
   "cell_type": "code",
   "execution_count": 271,
   "id": "84eba672",
   "metadata": {},
   "outputs": [
    {
     "data": {
      "text/plain": [
       "Canada            False\n",
       "France            False\n",
       "Germany            True\n",
       "Italy             False\n",
       "Japan              True\n",
       "United Kingdom    False\n",
       "United States      True\n",
       "dtype: bool"
      ]
     },
     "execution_count": 271,
     "metadata": {},
     "output_type": "execute_result"
    }
   ],
   "source": [
    "g7_population > 70\n",
    "#Filtering the series using the boolean condition so that the elements that meets the condition only gets filtered out\n",
    "    # The twist here is that instead of filtering only the elements meeting the condition it passes the series with it value in the boolean     "
   ]
  },
  {
   "cell_type": "code",
   "execution_count": 272,
   "id": "213e5a4c",
   "metadata": {},
   "outputs": [
    {
     "data": {
      "text/plain": [
       "Germany           80.940\n",
       "Japan            127.061\n",
       "United States    318.523\n",
       "dtype: float64"
      ]
     },
     "execution_count": 272,
     "metadata": {},
     "output_type": "execute_result"
    }
   ],
   "source": [
    "g7_population[g7_population > 70]\n",
    "#Here iisntead of passing the values with boolean the elements satisfying the codition it only printed out\n",
    "#Its more like indexing using the boolean conditions"
   ]
  },
  {
   "cell_type": "code",
   "execution_count": 273,
   "id": "50611f10",
   "metadata": {},
   "outputs": [
    {
     "data": {
      "text/plain": [
       "np.float64(107.30114285714286)"
      ]
     },
     "execution_count": 273,
     "metadata": {},
     "output_type": "execute_result"
    }
   ],
   "source": [
    "g7_population.mean()"
   ]
  },
  {
   "cell_type": "code",
   "execution_count": 274,
   "id": "83b4f09f",
   "metadata": {},
   "outputs": [
    {
     "data": {
      "text/plain": [
       "Japan            127.061\n",
       "United States    318.523\n",
       "dtype: float64"
      ]
     },
     "execution_count": 274,
     "metadata": {},
     "output_type": "execute_result"
    }
   ],
   "source": [
    "g7_population[g7_population > g7_population.mean()]   \n",
    "#This shows the data that satisfies the condition that is the datas that has the population greater than the mean"
   ]
  },
  {
   "cell_type": "code",
   "execution_count": 275,
   "id": "c6f363e4",
   "metadata": {},
   "outputs": [
    {
     "data": {
      "text/plain": [
       "97.25071289957825"
      ]
     },
     "execution_count": 275,
     "metadata": {},
     "output_type": "execute_result"
    }
   ],
   "source": [
    "g7_population.std()\n",
    "#Std stands for the standard deviation"
   ]
  },
  {
   "cell_type": "markdown",
   "id": "fbe1aef8",
   "metadata": {},
   "source": [
    "Standard deviation is a measure of how spread out the data is from the average (mean). If the standard deviation is low, it means most of the data points are close to the mean, indicating the data is consistent and stable. On the other hand, if the standard deviation is high, it means the data points are widely spread from the mean, showing inconsistency or variability in the data.\n",
    "\n",
    "In data science and machine learning, standard deviation is very useful. For example, if you run the same model multiple times and the accuracy varies a lot, the standard deviation of the accuracy will be high. This means the model’s performance is unstable and unreliable. But if the accuracy stays close to the same value each time, the standard deviation will be low, indicating the model is performing consistently and is more trustworthy."
   ]
  },
  {
   "cell_type": "code",
   "execution_count": 276,
   "id": "efc62c6b",
   "metadata": {},
   "outputs": [
    {
     "data": {
      "text/plain": [
       "France             63.941\n",
       "Germany            80.940\n",
       "Italy              60.665\n",
       "Japan             127.061\n",
       "United Kingdom     64.511\n",
       "United States     318.523\n",
       "dtype: float64"
      ]
     },
     "execution_count": 276,
     "metadata": {},
     "output_type": "execute_result"
    }
   ],
   "source": [
    "g7_population[(g7_population > g7_population.mean() - g7_population.std() /2 )| (g7_population  > g7_population.mean() + g7_population.std() / 2 )]\n"
   ]
  },
  {
   "cell_type": "markdown",
   "id": "7a1adc23",
   "metadata": {},
   "source": [
    "The above formula is trying to find out the series whose population is greater than the average and greather than a certain below the average. In the above code any population above (mean - half of standard deviation) or greater than (mean + half of the standard deviation) are printed out. This means it will just give anything above the threshold (mean- half of standard deviation)"
   ]
  },
  {
   "cell_type": "code",
   "execution_count": 277,
   "id": "8e9359ea",
   "metadata": {},
   "outputs": [
    {
     "data": {
      "text/plain": [
       "Canada             35467000.0\n",
       "France             63941000.0\n",
       "Germany            80940000.0\n",
       "Italy              60665000.0\n",
       "Japan             127061000.0\n",
       "United Kingdom     64511000.0\n",
       "United States     318523000.0\n",
       "dtype: float64"
      ]
     },
     "execution_count": 277,
     "metadata": {},
     "output_type": "execute_result"
    }
   ],
   "source": [
    "g7_population * 1_000_000\n",
    "#The use of this \"_\" is just for the readibility of big numbers"
   ]
  },
  {
   "cell_type": "code",
   "execution_count": 278,
   "id": "79513a9e",
   "metadata": {},
   "outputs": [
    {
     "data": {
      "text/plain": [
       "Canada            3.568603\n",
       "France            4.157961\n",
       "Germany           4.393708\n",
       "Italy             4.105367\n",
       "Japan             4.844667\n",
       "United Kingdom    4.166836\n",
       "United States     5.763695\n",
       "dtype: float64"
      ]
     },
     "execution_count": 278,
     "metadata": {},
     "output_type": "execute_result"
    }
   ],
   "source": [
    "np.log(g7_population)"
   ]
  },
  {
   "cell_type": "markdown",
   "id": "636d6e7d",
   "metadata": {},
   "source": [
    "The use of the log is to reduce the skewness of the data and bringing it closer to the normal distribution.\n",
    "\n",
    "Skewness refers to the asymmetry in a dataset’s distribution. When data is right-skewed (positively skewed), it has a long tail on the right, meaning a few large values pull the average higher—common in things like income data. In left-skewed (negatively skewed) data, the tail is on the left, and a few low values pull the average lower. A dataset with no skew is symmetrical, meaning its values are evenly spread around the average.\n",
    "\n",
    "A normal distribution, also known as a bell curve or Gaussian distribution, is a special type of symmetrical data distribution where most values cluster around the mean, and fewer values appear as you move away from it. In this distribution, the mean, median, and mode are all the same. Many natural phenomena, like height, weight, and standardized test scores, tend to follow this pattern.\n",
    "\n",
    "These concepts are widely used in statistics, machine learning, economics, and healthcare. Many algorithms and statistical tests assume that the data is normally distributed. When data is highly skewed, transformations like logarithms are used to reduce skewness and bring the data closer to a normal distribution, which helps improve model accuracy and interpretability.\n",
    "\n",
    "If 80% of your sales are high and only 20% are low, and those few low sales are much lower than the rest, your data becomes left-skewed (not right-skewed). Why? Because the long tail of the data is on the left side — those very low sales pull the distribution in that direction.\n",
    "\n",
    "Conversely, if most of your sales are low, but a few sales are extremely high, it becomes right-skewed, with a long tail on the right (the high sales stretch the curve).\n",
    "\n",
    "A normal distribution would mean that most sales are around the average, and both low and high sales are relatively balanced — say, a 60/40 split, or even more balanced like 50/50, with symmetry around the mean.\n",
    "\n",
    "What about Standard Deviation?\n",
    "\n",
    "Standard deviation does not measure skewness, but instead measures spread — how far your data points are from the mean. In a normal distribution, standard deviation tells you things like:\n",
    "\t•\t~68% of values lie within ±1 standard deviation from the mean\n",
    "\t•\t~95% within ±2\n",
    "\t•\t~99.7% within ±3\n",
    "\n",
    "In skewed data, standard deviation can be misleading, because the mean itself is pulled by outliers. That’s why we often transform skewed data (e.g., with a log transform) to bring it closer to normal, making standard deviation and other statistical tools more meaningful.\n",
    "\n",
    "The tail is the key to skewness:\n",
    "\t•\tIf the tail is on the right side (towards the higher values), the data is right-skewed (positively skewed).\n",
    "\t•\tThis means most data points are low or moderate, but there are some very high values pulling the tail out to the right.\n",
    "\t•\tIf the tail is on the left side (towards the lower values), the data is left-skewed (negatively skewed).\n",
    "\t•\tThis means most data points are high or moderate, but there are some very low values pulling the tail out to the left.\n",
    "\n",
    "\n",
    "\n",
    "The extreme outliers—those data points that are far away from the average—play the biggest role in determining skewness."
   ]
  },
  {
   "cell_type": "code",
   "execution_count": 279,
   "id": "104b3605",
   "metadata": {},
   "outputs": [
    {
     "data": {
      "text/plain": [
       "np.float64(73.6148)"
      ]
     },
     "execution_count": 279,
     "metadata": {},
     "output_type": "execute_result"
    }
   ],
   "source": [
    "g7_population[\"Canada\":\"Japan\"].mean()\n",
    "#This is the use of slicing to calculate the mean among them"
   ]
  },
  {
   "cell_type": "markdown",
   "id": "ae77ec1a",
   "metadata": {},
   "source": [
    "Boolean Arrays"
   ]
  },
  {
   "cell_type": "code",
   "execution_count": 280,
   "id": "2edba706",
   "metadata": {},
   "outputs": [
    {
     "data": {
      "text/plain": [
       "Canada             35.467\n",
       "France             63.941\n",
       "Germany            80.940\n",
       "Italy              60.665\n",
       "Japan             127.061\n",
       "United Kingdom     64.511\n",
       "United States     318.523\n",
       "dtype: float64"
      ]
     },
     "execution_count": 280,
     "metadata": {},
     "output_type": "execute_result"
    }
   ],
   "source": [
    "g7_population\n"
   ]
  },
  {
   "cell_type": "code",
   "execution_count": 281,
   "id": "045e6196",
   "metadata": {},
   "outputs": [
    {
     "data": {
      "text/plain": [
       "Canada            False\n",
       "France            False\n",
       "Germany            True\n",
       "Italy             False\n",
       "Japan              True\n",
       "United Kingdom    False\n",
       "United States      True\n",
       "dtype: bool"
      ]
     },
     "execution_count": 281,
     "metadata": {},
     "output_type": "execute_result"
    }
   ],
   "source": [
    "g7_population > 80"
   ]
  },
  {
   "cell_type": "code",
   "execution_count": 282,
   "id": "a9521ca8",
   "metadata": {},
   "outputs": [
    {
     "data": {
      "text/plain": [
       "Germany           80.940\n",
       "Japan            127.061\n",
       "United States    318.523\n",
       "dtype: float64"
      ]
     },
     "execution_count": 282,
     "metadata": {},
     "output_type": "execute_result"
    }
   ],
   "source": [
    "g7_population[g7_population > 80]"
   ]
  },
  {
   "cell_type": "code",
   "execution_count": 283,
   "id": "e53efd80",
   "metadata": {},
   "outputs": [
    {
     "data": {
      "text/plain": [
       "Canada            35.467\n",
       "Germany           80.940\n",
       "Japan            127.061\n",
       "United States    318.523\n",
       "dtype: float64"
      ]
     },
     "execution_count": 283,
     "metadata": {},
     "output_type": "execute_result"
    }
   ],
   "source": [
    "g7_population[(g7_population > 80) | (g7_population <40)]\n",
    "# The datas that satisfies any one of them is filtered out "
   ]
  },
  {
   "cell_type": "code",
   "execution_count": 284,
   "id": "d630469e",
   "metadata": {},
   "outputs": [
    {
     "data": {
      "text/plain": [
       "Series([], dtype: float64)"
      ]
     },
     "execution_count": 284,
     "metadata": {},
     "output_type": "execute_result"
    }
   ],
   "source": [
    "g7_population[(g7_population > 80) & (g7_population < 40)]\n",
    "#The datas that satisfies both the conditions are filtered out\n"
   ]
  },
  {
   "cell_type": "markdown",
   "id": "b8b64cd9",
   "metadata": {},
   "source": [
    "Modifying a series"
   ]
  },
  {
   "cell_type": "code",
   "execution_count": 285,
   "id": "c72f7978",
   "metadata": {},
   "outputs": [],
   "source": [
    "g7_population[\"Canada\"] = 100"
   ]
  },
  {
   "cell_type": "code",
   "execution_count": 286,
   "id": "dbf66c3c",
   "metadata": {},
   "outputs": [
    {
     "data": {
      "text/plain": [
       "Canada            100.000\n",
       "France             63.941\n",
       "Germany            80.940\n",
       "Italy              60.665\n",
       "Japan             127.061\n",
       "United Kingdom     64.511\n",
       "United States     318.523\n",
       "dtype: float64"
      ]
     },
     "execution_count": 286,
     "metadata": {},
     "output_type": "execute_result"
    }
   ],
   "source": [
    "g7_population"
   ]
  },
  {
   "cell_type": "code",
   "execution_count": 287,
   "id": "45d3ba79",
   "metadata": {},
   "outputs": [],
   "source": [
    "g7_population.iloc[-1] = 200\n",
    "#Using iloc to access the data using the ordering"
   ]
  },
  {
   "cell_type": "code",
   "execution_count": 288,
   "id": "30dab4db",
   "metadata": {},
   "outputs": [
    {
     "data": {
      "text/plain": [
       "Canada            100.000\n",
       "France             63.941\n",
       "Germany            80.940\n",
       "Italy              60.665\n",
       "Japan             127.061\n",
       "United Kingdom     64.511\n",
       "United States     200.000\n",
       "dtype: float64"
      ]
     },
     "execution_count": 288,
     "metadata": {},
     "output_type": "execute_result"
    }
   ],
   "source": [
    "g7_population"
   ]
  },
  {
   "cell_type": "code",
   "execution_count": 289,
   "id": "39adc7e3",
   "metadata": {},
   "outputs": [],
   "source": [
    "g7_population[(g7_population <= 100)] = 20\n",
    "#Anything that satisfies the condition are changed accordingly using the condition"
   ]
  },
  {
   "cell_type": "code",
   "execution_count": 290,
   "id": "1aa7c6ac",
   "metadata": {},
   "outputs": [
    {
     "data": {
      "text/plain": [
       "Canada             20.000\n",
       "France             20.000\n",
       "Germany            20.000\n",
       "Italy              20.000\n",
       "Japan             127.061\n",
       "United Kingdom     20.000\n",
       "United States     200.000\n",
       "dtype: float64"
      ]
     },
     "execution_count": 290,
     "metadata": {},
     "output_type": "execute_result"
    }
   ],
   "source": [
    "g7_population"
   ]
  },
  {
   "cell_type": "markdown",
   "id": "07021475",
   "metadata": {},
   "source": [
    "All of the above procedures are very important in the data cleaning."
   ]
  },
  {
   "cell_type": "markdown",
   "id": "8ccbeaa5",
   "metadata": {},
   "source": [
    "Dataframes"
   ]
  },
  {
   "cell_type": "markdown",
   "id": "479047b4",
   "metadata": {},
   "source": [
    "A DataFrame in pandas is a two-dimensional, tabular data structure that resembles a table or spreadsheet, where data is organized in rows and columns. Each column in a DataFrame can hold different types of data (e.g., integers, floats, strings), and each column is essentially a Series, which is a one-dimensional labeled array. The key difference is that a Series represents a single column of data with an associated index, while a DataFrame is a collection of multiple Series sharing a common index, allowing for more complex data manipulation and analysis. In simpler terms, a Series is like a single column, and a DataFrame is like a full table made up of multiple such columns."
   ]
  },
  {
   "cell_type": "code",
   "execution_count": 291,
   "id": "54b5a2ff",
   "metadata": {},
   "outputs": [],
   "source": [
    "import pandas as pd\n",
    "\n",
    "g7_data = {\n",
    "    'Population': [37742154, 65273511, 83783942, 60461826, 126476461, 67886011, 331002651],\n",
    "    'GDP': [1736.4, 2715.5, 3845.6, 2001.2, 4971.8, 2829.1, 21433.2],  # in billions USD\n",
    "    'Continent': ['North America', 'Europe', 'Europe', 'Europe', 'Asia', 'Europe', 'North America'],\n",
    "    'HDI': [0.936, 0.901, 0.942, 0.895, 0.925, 0.929, 0.921]  # Approx HDI values\n",
    "}\n"
   ]
  },
  {
   "cell_type": "code",
   "execution_count": 292,
   "id": "064793d4",
   "metadata": {},
   "outputs": [],
   "source": [
    "df = pd.DataFrame(g7_data)\n",
    "#Since the above data is a dictionary we will be using the pandas to make it as a data frame"
   ]
  },
  {
   "cell_type": "code",
   "execution_count": 293,
   "id": "de5b3a53",
   "metadata": {},
   "outputs": [
    {
     "data": {
      "text/html": [
       "<div>\n",
       "<style scoped>\n",
       "    .dataframe tbody tr th:only-of-type {\n",
       "        vertical-align: middle;\n",
       "    }\n",
       "\n",
       "    .dataframe tbody tr th {\n",
       "        vertical-align: top;\n",
       "    }\n",
       "\n",
       "    .dataframe thead th {\n",
       "        text-align: right;\n",
       "    }\n",
       "</style>\n",
       "<table border=\"1\" class=\"dataframe\">\n",
       "  <thead>\n",
       "    <tr style=\"text-align: right;\">\n",
       "      <th></th>\n",
       "      <th>Population</th>\n",
       "      <th>GDP</th>\n",
       "      <th>Continent</th>\n",
       "      <th>HDI</th>\n",
       "    </tr>\n",
       "  </thead>\n",
       "  <tbody>\n",
       "    <tr>\n",
       "      <th>0</th>\n",
       "      <td>37742154</td>\n",
       "      <td>1736.4</td>\n",
       "      <td>North America</td>\n",
       "      <td>0.936</td>\n",
       "    </tr>\n",
       "    <tr>\n",
       "      <th>1</th>\n",
       "      <td>65273511</td>\n",
       "      <td>2715.5</td>\n",
       "      <td>Europe</td>\n",
       "      <td>0.901</td>\n",
       "    </tr>\n",
       "    <tr>\n",
       "      <th>2</th>\n",
       "      <td>83783942</td>\n",
       "      <td>3845.6</td>\n",
       "      <td>Europe</td>\n",
       "      <td>0.942</td>\n",
       "    </tr>\n",
       "    <tr>\n",
       "      <th>3</th>\n",
       "      <td>60461826</td>\n",
       "      <td>2001.2</td>\n",
       "      <td>Europe</td>\n",
       "      <td>0.895</td>\n",
       "    </tr>\n",
       "    <tr>\n",
       "      <th>4</th>\n",
       "      <td>126476461</td>\n",
       "      <td>4971.8</td>\n",
       "      <td>Asia</td>\n",
       "      <td>0.925</td>\n",
       "    </tr>\n",
       "    <tr>\n",
       "      <th>5</th>\n",
       "      <td>67886011</td>\n",
       "      <td>2829.1</td>\n",
       "      <td>Europe</td>\n",
       "      <td>0.929</td>\n",
       "    </tr>\n",
       "    <tr>\n",
       "      <th>6</th>\n",
       "      <td>331002651</td>\n",
       "      <td>21433.2</td>\n",
       "      <td>North America</td>\n",
       "      <td>0.921</td>\n",
       "    </tr>\n",
       "  </tbody>\n",
       "</table>\n",
       "</div>"
      ],
      "text/plain": [
       "   Population      GDP      Continent    HDI\n",
       "0    37742154   1736.4  North America  0.936\n",
       "1    65273511   2715.5         Europe  0.901\n",
       "2    83783942   3845.6         Europe  0.942\n",
       "3    60461826   2001.2         Europe  0.895\n",
       "4   126476461   4971.8           Asia  0.925\n",
       "5    67886011   2829.1         Europe  0.929\n",
       "6   331002651  21433.2  North America  0.921"
      ]
     },
     "execution_count": 293,
     "metadata": {},
     "output_type": "execute_result"
    }
   ],
   "source": [
    "df"
   ]
  },
  {
   "cell_type": "code",
   "execution_count": 294,
   "id": "76890b59",
   "metadata": {},
   "outputs": [],
   "source": [
    "df.index = ['Canada', 'France', 'Germany', 'Italy', 'Japan', 'United Kingdom', 'United States']"
   ]
  },
  {
   "cell_type": "code",
   "execution_count": 295,
   "id": "0fd4fb3b",
   "metadata": {},
   "outputs": [
    {
     "data": {
      "text/html": [
       "<div>\n",
       "<style scoped>\n",
       "    .dataframe tbody tr th:only-of-type {\n",
       "        vertical-align: middle;\n",
       "    }\n",
       "\n",
       "    .dataframe tbody tr th {\n",
       "        vertical-align: top;\n",
       "    }\n",
       "\n",
       "    .dataframe thead th {\n",
       "        text-align: right;\n",
       "    }\n",
       "</style>\n",
       "<table border=\"1\" class=\"dataframe\">\n",
       "  <thead>\n",
       "    <tr style=\"text-align: right;\">\n",
       "      <th></th>\n",
       "      <th>Population</th>\n",
       "      <th>GDP</th>\n",
       "      <th>Continent</th>\n",
       "      <th>HDI</th>\n",
       "    </tr>\n",
       "  </thead>\n",
       "  <tbody>\n",
       "    <tr>\n",
       "      <th>Canada</th>\n",
       "      <td>37742154</td>\n",
       "      <td>1736.4</td>\n",
       "      <td>North America</td>\n",
       "      <td>0.936</td>\n",
       "    </tr>\n",
       "    <tr>\n",
       "      <th>France</th>\n",
       "      <td>65273511</td>\n",
       "      <td>2715.5</td>\n",
       "      <td>Europe</td>\n",
       "      <td>0.901</td>\n",
       "    </tr>\n",
       "    <tr>\n",
       "      <th>Germany</th>\n",
       "      <td>83783942</td>\n",
       "      <td>3845.6</td>\n",
       "      <td>Europe</td>\n",
       "      <td>0.942</td>\n",
       "    </tr>\n",
       "    <tr>\n",
       "      <th>Italy</th>\n",
       "      <td>60461826</td>\n",
       "      <td>2001.2</td>\n",
       "      <td>Europe</td>\n",
       "      <td>0.895</td>\n",
       "    </tr>\n",
       "    <tr>\n",
       "      <th>Japan</th>\n",
       "      <td>126476461</td>\n",
       "      <td>4971.8</td>\n",
       "      <td>Asia</td>\n",
       "      <td>0.925</td>\n",
       "    </tr>\n",
       "    <tr>\n",
       "      <th>United Kingdom</th>\n",
       "      <td>67886011</td>\n",
       "      <td>2829.1</td>\n",
       "      <td>Europe</td>\n",
       "      <td>0.929</td>\n",
       "    </tr>\n",
       "    <tr>\n",
       "      <th>United States</th>\n",
       "      <td>331002651</td>\n",
       "      <td>21433.2</td>\n",
       "      <td>North America</td>\n",
       "      <td>0.921</td>\n",
       "    </tr>\n",
       "  </tbody>\n",
       "</table>\n",
       "</div>"
      ],
      "text/plain": [
       "                Population      GDP      Continent    HDI\n",
       "Canada            37742154   1736.4  North America  0.936\n",
       "France            65273511   2715.5         Europe  0.901\n",
       "Germany           83783942   3845.6         Europe  0.942\n",
       "Italy             60461826   2001.2         Europe  0.895\n",
       "Japan            126476461   4971.8           Asia  0.925\n",
       "United Kingdom    67886011   2829.1         Europe  0.929\n",
       "United States    331002651  21433.2  North America  0.921"
      ]
     },
     "execution_count": 295,
     "metadata": {},
     "output_type": "execute_result"
    }
   ],
   "source": [
    "df\n",
    "# Here now the country names are being used as the index "
   ]
  },
  {
   "cell_type": "code",
   "execution_count": 296,
   "id": "a53970e9",
   "metadata": {},
   "outputs": [
    {
     "data": {
      "text/plain": [
       "Index(['Population', 'GDP', 'Continent', 'HDI'], dtype='object')"
      ]
     },
     "execution_count": 296,
     "metadata": {},
     "output_type": "execute_result"
    }
   ],
   "source": [
    "df.columns    "
   ]
  },
  {
   "cell_type": "code",
   "execution_count": 297,
   "id": "3e1e5547",
   "metadata": {},
   "outputs": [
    {
     "data": {
      "text/plain": [
       "Index(['Canada', 'France', 'Germany', 'Italy', 'Japan', 'United Kingdom',\n",
       "       'United States'],\n",
       "      dtype='object')"
      ]
     },
     "execution_count": 297,
     "metadata": {},
     "output_type": "execute_result"
    }
   ],
   "source": [
    "df.index"
   ]
  },
  {
   "cell_type": "code",
   "execution_count": 298,
   "id": "17a4af3a",
   "metadata": {},
   "outputs": [
    {
     "name": "stdout",
     "output_type": "stream",
     "text": [
      "<class 'pandas.core.frame.DataFrame'>\n",
      "Index: 7 entries, Canada to United States\n",
      "Data columns (total 4 columns):\n",
      " #   Column      Non-Null Count  Dtype  \n",
      "---  ------      --------------  -----  \n",
      " 0   Population  7 non-null      int64  \n",
      " 1   GDP         7 non-null      float64\n",
      " 2   Continent   7 non-null      object \n",
      " 3   HDI         7 non-null      float64\n",
      "dtypes: float64(2), int64(1), object(1)\n",
      "memory usage: 280.0+ bytes\n"
     ]
    }
   ],
   "source": [
    "df.info()"
   ]
  },
  {
   "cell_type": "code",
   "execution_count": 299,
   "id": "d9e48f41",
   "metadata": {},
   "outputs": [
    {
     "data": {
      "text/plain": [
       "28"
      ]
     },
     "execution_count": 299,
     "metadata": {},
     "output_type": "execute_result"
    }
   ],
   "source": [
    "df.size"
   ]
  },
  {
   "cell_type": "code",
   "execution_count": 300,
   "id": "4781e993",
   "metadata": {},
   "outputs": [
    {
     "data": {
      "text/plain": [
       "(7, 4)"
      ]
     },
     "execution_count": 300,
     "metadata": {},
     "output_type": "execute_result"
    }
   ],
   "source": [
    "df.shape"
   ]
  },
  {
   "cell_type": "code",
   "execution_count": 301,
   "id": "daa97dcc",
   "metadata": {},
   "outputs": [
    {
     "data": {
      "text/html": [
       "<div>\n",
       "<style scoped>\n",
       "    .dataframe tbody tr th:only-of-type {\n",
       "        vertical-align: middle;\n",
       "    }\n",
       "\n",
       "    .dataframe tbody tr th {\n",
       "        vertical-align: top;\n",
       "    }\n",
       "\n",
       "    .dataframe thead th {\n",
       "        text-align: right;\n",
       "    }\n",
       "</style>\n",
       "<table border=\"1\" class=\"dataframe\">\n",
       "  <thead>\n",
       "    <tr style=\"text-align: right;\">\n",
       "      <th></th>\n",
       "      <th>Population</th>\n",
       "      <th>GDP</th>\n",
       "      <th>HDI</th>\n",
       "    </tr>\n",
       "  </thead>\n",
       "  <tbody>\n",
       "    <tr>\n",
       "      <th>count</th>\n",
       "      <td>7.000000e+00</td>\n",
       "      <td>7.000000</td>\n",
       "      <td>7.000000</td>\n",
       "    </tr>\n",
       "    <tr>\n",
       "      <th>mean</th>\n",
       "      <td>1.103752e+08</td>\n",
       "      <td>5647.542857</td>\n",
       "      <td>0.921286</td>\n",
       "    </tr>\n",
       "    <tr>\n",
       "      <th>std</th>\n",
       "      <td>1.010357e+08</td>\n",
       "      <td>7047.741341</td>\n",
       "      <td>0.017423</td>\n",
       "    </tr>\n",
       "    <tr>\n",
       "      <th>min</th>\n",
       "      <td>3.774215e+07</td>\n",
       "      <td>1736.400000</td>\n",
       "      <td>0.895000</td>\n",
       "    </tr>\n",
       "    <tr>\n",
       "      <th>25%</th>\n",
       "      <td>6.286767e+07</td>\n",
       "      <td>2358.350000</td>\n",
       "      <td>0.911000</td>\n",
       "    </tr>\n",
       "    <tr>\n",
       "      <th>50%</th>\n",
       "      <td>6.788601e+07</td>\n",
       "      <td>2829.100000</td>\n",
       "      <td>0.925000</td>\n",
       "    </tr>\n",
       "    <tr>\n",
       "      <th>75%</th>\n",
       "      <td>1.051302e+08</td>\n",
       "      <td>4408.700000</td>\n",
       "      <td>0.932500</td>\n",
       "    </tr>\n",
       "    <tr>\n",
       "      <th>max</th>\n",
       "      <td>3.310027e+08</td>\n",
       "      <td>21433.200000</td>\n",
       "      <td>0.942000</td>\n",
       "    </tr>\n",
       "  </tbody>\n",
       "</table>\n",
       "</div>"
      ],
      "text/plain": [
       "         Population           GDP       HDI\n",
       "count  7.000000e+00      7.000000  7.000000\n",
       "mean   1.103752e+08   5647.542857  0.921286\n",
       "std    1.010357e+08   7047.741341  0.017423\n",
       "min    3.774215e+07   1736.400000  0.895000\n",
       "25%    6.286767e+07   2358.350000  0.911000\n",
       "50%    6.788601e+07   2829.100000  0.925000\n",
       "75%    1.051302e+08   4408.700000  0.932500\n",
       "max    3.310027e+08  21433.200000  0.942000"
      ]
     },
     "execution_count": 301,
     "metadata": {},
     "output_type": "execute_result"
    }
   ],
   "source": [
    "df.describe()"
   ]
  },
  {
   "cell_type": "code",
   "execution_count": 302,
   "id": "6ffde2e4",
   "metadata": {},
   "outputs": [
    {
     "data": {
      "text/plain": [
       "Population      int64\n",
       "GDP           float64\n",
       "Continent      object\n",
       "HDI           float64\n",
       "dtype: object"
      ]
     },
     "execution_count": 302,
     "metadata": {},
     "output_type": "execute_result"
    }
   ],
   "source": [
    "df.dtypes"
   ]
  },
  {
   "cell_type": "code",
   "execution_count": 303,
   "id": "17c01732",
   "metadata": {},
   "outputs": [
    {
     "data": {
      "text/plain": [
       "<bound method IndexOpsMixin.value_counts of Population      int64\n",
       "GDP           float64\n",
       "Continent      object\n",
       "HDI           float64\n",
       "dtype: object>"
      ]
     },
     "execution_count": 303,
     "metadata": {},
     "output_type": "execute_result"
    }
   ],
   "source": [
    "df.dtypes.value_counts"
   ]
  },
  {
   "cell_type": "markdown",
   "id": "61c8aa81",
   "metadata": {},
   "source": [
    "In Pandas, .columns returns the list of column names in the DataFrame.\n",
    ".index displays the row index range or labels.\n",
    ".info() provides a concise summary including column data types, non-null counts, and memory usage.\n",
    ".describe() offers statistical summaries such as mean, min, max, and quartiles for numeric columns.\n",
    ".size gives the total number of elements in the DataFrame (rows × columns).\n",
    ".shape returns a tuple representing the number of rows and columns.\n",
    ".dtypes shows the data type of each column.\n",
    ".dtypes.value_counts() counts how many columns exist for each data type.\n"
   ]
  },
  {
   "cell_type": "markdown",
   "id": "9e27e6c3",
   "metadata": {},
   "source": [
    "Indexing, Selection and Slicing "
   ]
  },
  {
   "cell_type": "code",
   "execution_count": 304,
   "id": "cd7b7ab1",
   "metadata": {},
   "outputs": [
    {
     "data": {
      "text/html": [
       "<div>\n",
       "<style scoped>\n",
       "    .dataframe tbody tr th:only-of-type {\n",
       "        vertical-align: middle;\n",
       "    }\n",
       "\n",
       "    .dataframe tbody tr th {\n",
       "        vertical-align: top;\n",
       "    }\n",
       "\n",
       "    .dataframe thead th {\n",
       "        text-align: right;\n",
       "    }\n",
       "</style>\n",
       "<table border=\"1\" class=\"dataframe\">\n",
       "  <thead>\n",
       "    <tr style=\"text-align: right;\">\n",
       "      <th></th>\n",
       "      <th>Population</th>\n",
       "      <th>GDP</th>\n",
       "      <th>Continent</th>\n",
       "      <th>HDI</th>\n",
       "    </tr>\n",
       "  </thead>\n",
       "  <tbody>\n",
       "    <tr>\n",
       "      <th>Canada</th>\n",
       "      <td>37742154</td>\n",
       "      <td>1736.4</td>\n",
       "      <td>North America</td>\n",
       "      <td>0.936</td>\n",
       "    </tr>\n",
       "    <tr>\n",
       "      <th>France</th>\n",
       "      <td>65273511</td>\n",
       "      <td>2715.5</td>\n",
       "      <td>Europe</td>\n",
       "      <td>0.901</td>\n",
       "    </tr>\n",
       "    <tr>\n",
       "      <th>Germany</th>\n",
       "      <td>83783942</td>\n",
       "      <td>3845.6</td>\n",
       "      <td>Europe</td>\n",
       "      <td>0.942</td>\n",
       "    </tr>\n",
       "    <tr>\n",
       "      <th>Italy</th>\n",
       "      <td>60461826</td>\n",
       "      <td>2001.2</td>\n",
       "      <td>Europe</td>\n",
       "      <td>0.895</td>\n",
       "    </tr>\n",
       "    <tr>\n",
       "      <th>Japan</th>\n",
       "      <td>126476461</td>\n",
       "      <td>4971.8</td>\n",
       "      <td>Asia</td>\n",
       "      <td>0.925</td>\n",
       "    </tr>\n",
       "    <tr>\n",
       "      <th>United Kingdom</th>\n",
       "      <td>67886011</td>\n",
       "      <td>2829.1</td>\n",
       "      <td>Europe</td>\n",
       "      <td>0.929</td>\n",
       "    </tr>\n",
       "    <tr>\n",
       "      <th>United States</th>\n",
       "      <td>331002651</td>\n",
       "      <td>21433.2</td>\n",
       "      <td>North America</td>\n",
       "      <td>0.921</td>\n",
       "    </tr>\n",
       "  </tbody>\n",
       "</table>\n",
       "</div>"
      ],
      "text/plain": [
       "                Population      GDP      Continent    HDI\n",
       "Canada            37742154   1736.4  North America  0.936\n",
       "France            65273511   2715.5         Europe  0.901\n",
       "Germany           83783942   3845.6         Europe  0.942\n",
       "Italy             60461826   2001.2         Europe  0.895\n",
       "Japan            126476461   4971.8           Asia  0.925\n",
       "United Kingdom    67886011   2829.1         Europe  0.929\n",
       "United States    331002651  21433.2  North America  0.921"
      ]
     },
     "execution_count": 304,
     "metadata": {},
     "output_type": "execute_result"
    }
   ],
   "source": [
    "df "
   ]
  },
  {
   "cell_type": "code",
   "execution_count": 305,
   "id": "80699c7c",
   "metadata": {},
   "outputs": [
    {
     "data": {
      "text/plain": [
       "Population         37742154\n",
       "GDP                  1736.4\n",
       "Continent     North America\n",
       "HDI                   0.936\n",
       "Name: Canada, dtype: object"
      ]
     },
     "execution_count": 305,
     "metadata": {},
     "output_type": "execute_result"
    }
   ],
   "source": [
    "df.loc['Canada']\n",
    "#This selects the entire row using the indes"
   ]
  },
  {
   "cell_type": "code",
   "execution_count": 306,
   "id": "dfa4702d",
   "metadata": {},
   "outputs": [
    {
     "data": {
      "text/plain": [
       "Population         37742154\n",
       "GDP                  1736.4\n",
       "Continent     North America\n",
       "HDI                   0.936\n",
       "Name: Canada, dtype: object"
      ]
     },
     "execution_count": 306,
     "metadata": {},
     "output_type": "execute_result"
    }
   ],
   "source": [
    "df.iloc[0]\n",
    "#Whereas the iloc selects the row using the sequential order  "
   ]
  },
  {
   "cell_type": "code",
   "execution_count": 307,
   "id": "8561a044",
   "metadata": {},
   "outputs": [
    {
     "data": {
      "text/plain": [
       "Canada            North America\n",
       "France                   Europe\n",
       "Germany                  Europe\n",
       "Italy                    Europe\n",
       "Japan                      Asia\n",
       "United Kingdom           Europe\n",
       "United States     North America\n",
       "Name: Continent, dtype: object"
      ]
     },
     "execution_count": 307,
     "metadata": {},
     "output_type": "execute_result"
    }
   ],
   "source": [
    "df['Continent']\n",
    "#Where as this is used to access the given column"
   ]
  },
  {
   "cell_type": "markdown",
   "id": "e8bee12c",
   "metadata": {},
   "source": [
    "All the data that are being returned are series indeed.\n",
    "Sometimes the problem may arise when dataframe uses a numerical index which for now the country name is being used as a index. So during such times the loc and iloc will still use the label-based indexing no matter what index is being used by the dataframe.\n"
   ]
  },
  {
   "cell_type": "code",
   "execution_count": 308,
   "id": "353e8257",
   "metadata": {},
   "outputs": [
    {
     "data": {
      "text/html": [
       "<div>\n",
       "<style scoped>\n",
       "    .dataframe tbody tr th:only-of-type {\n",
       "        vertical-align: middle;\n",
       "    }\n",
       "\n",
       "    .dataframe tbody tr th {\n",
       "        vertical-align: top;\n",
       "    }\n",
       "\n",
       "    .dataframe thead th {\n",
       "        text-align: right;\n",
       "    }\n",
       "</style>\n",
       "<table border=\"1\" class=\"dataframe\">\n",
       "  <thead>\n",
       "    <tr style=\"text-align: right;\">\n",
       "      <th></th>\n",
       "      <th>Population</th>\n",
       "    </tr>\n",
       "  </thead>\n",
       "  <tbody>\n",
       "    <tr>\n",
       "      <th>Canada</th>\n",
       "      <td>37742154</td>\n",
       "    </tr>\n",
       "    <tr>\n",
       "      <th>France</th>\n",
       "      <td>65273511</td>\n",
       "    </tr>\n",
       "    <tr>\n",
       "      <th>Germany</th>\n",
       "      <td>83783942</td>\n",
       "    </tr>\n",
       "    <tr>\n",
       "      <th>Italy</th>\n",
       "      <td>60461826</td>\n",
       "    </tr>\n",
       "    <tr>\n",
       "      <th>Japan</th>\n",
       "      <td>126476461</td>\n",
       "    </tr>\n",
       "    <tr>\n",
       "      <th>United Kingdom</th>\n",
       "      <td>67886011</td>\n",
       "    </tr>\n",
       "    <tr>\n",
       "      <th>United States</th>\n",
       "      <td>331002651</td>\n",
       "    </tr>\n",
       "  </tbody>\n",
       "</table>\n",
       "</div>"
      ],
      "text/plain": [
       "                Population\n",
       "Canada            37742154\n",
       "France            65273511\n",
       "Germany           83783942\n",
       "Italy             60461826\n",
       "Japan            126476461\n",
       "United Kingdom    67886011\n",
       "United States    331002651"
      ]
     },
     "execution_count": 308,
     "metadata": {},
     "output_type": "execute_result"
    }
   ],
   "source": [
    "df[\"Population\"].to_frame()\n",
    "#The above function .to_frame is simply converting the series into a data frame so that we can pass this data as a 2D array if some function expects in that manner.\n"
   ]
  },
  {
   "cell_type": "code",
   "execution_count": 309,
   "id": "52537f88",
   "metadata": {},
   "outputs": [
    {
     "data": {
      "text/plain": [
       "Canada             37742154\n",
       "France             65273511\n",
       "Germany            83783942\n",
       "Italy              60461826\n",
       "Japan             126476461\n",
       "United Kingdom     67886011\n",
       "United States     331002651\n",
       "Name: Population, dtype: int64"
      ]
     },
     "execution_count": 309,
     "metadata": {},
     "output_type": "execute_result"
    }
   ],
   "source": [
    "df[\"Population\"]"
   ]
  },
  {
   "cell_type": "markdown",
   "id": "6f219f45",
   "metadata": {},
   "source": [
    "The differences here is that the first one is a data frame and second one is a series. How is it differentiated is that the first one has a column name which is the column and the country name which is the row and hence its now a 2D array. Sometimes proper shaping matter when doing different operations so to match those series are needed to be converrted to a dataframe using .to_frame()"
   ]
  },
  {
   "cell_type": "code",
   "execution_count": 310,
   "id": "9063f639",
   "metadata": {},
   "outputs": [
    {
     "data": {
      "text/html": [
       "<div>\n",
       "<style scoped>\n",
       "    .dataframe tbody tr th:only-of-type {\n",
       "        vertical-align: middle;\n",
       "    }\n",
       "\n",
       "    .dataframe tbody tr th {\n",
       "        vertical-align: top;\n",
       "    }\n",
       "\n",
       "    .dataframe thead th {\n",
       "        text-align: right;\n",
       "    }\n",
       "</style>\n",
       "<table border=\"1\" class=\"dataframe\">\n",
       "  <thead>\n",
       "    <tr style=\"text-align: right;\">\n",
       "      <th></th>\n",
       "      <th>Population</th>\n",
       "      <th>GDP</th>\n",
       "    </tr>\n",
       "  </thead>\n",
       "  <tbody>\n",
       "    <tr>\n",
       "      <th>Canada</th>\n",
       "      <td>37742154</td>\n",
       "      <td>1736.4</td>\n",
       "    </tr>\n",
       "    <tr>\n",
       "      <th>France</th>\n",
       "      <td>65273511</td>\n",
       "      <td>2715.5</td>\n",
       "    </tr>\n",
       "    <tr>\n",
       "      <th>Germany</th>\n",
       "      <td>83783942</td>\n",
       "      <td>3845.6</td>\n",
       "    </tr>\n",
       "    <tr>\n",
       "      <th>Italy</th>\n",
       "      <td>60461826</td>\n",
       "      <td>2001.2</td>\n",
       "    </tr>\n",
       "    <tr>\n",
       "      <th>Japan</th>\n",
       "      <td>126476461</td>\n",
       "      <td>4971.8</td>\n",
       "    </tr>\n",
       "    <tr>\n",
       "      <th>United Kingdom</th>\n",
       "      <td>67886011</td>\n",
       "      <td>2829.1</td>\n",
       "    </tr>\n",
       "    <tr>\n",
       "      <th>United States</th>\n",
       "      <td>331002651</td>\n",
       "      <td>21433.2</td>\n",
       "    </tr>\n",
       "  </tbody>\n",
       "</table>\n",
       "</div>"
      ],
      "text/plain": [
       "                Population      GDP\n",
       "Canada            37742154   1736.4\n",
       "France            65273511   2715.5\n",
       "Germany           83783942   3845.6\n",
       "Italy             60461826   2001.2\n",
       "Japan            126476461   4971.8\n",
       "United Kingdom    67886011   2829.1\n",
       "United States    331002651  21433.2"
      ]
     },
     "execution_count": 310,
     "metadata": {},
     "output_type": "execute_result"
    }
   ],
   "source": [
    "df[[\"Population\" , \"GDP\"]]\n",
    "#df[] this is how you access a data from a data frame and to pass two columns we pass inside another bracked and selects multiple columns"
   ]
  },
  {
   "cell_type": "code",
   "execution_count": 311,
   "id": "a857756d",
   "metadata": {},
   "outputs": [
    {
     "data": {
      "text/html": [
       "<div>\n",
       "<style scoped>\n",
       "    .dataframe tbody tr th:only-of-type {\n",
       "        vertical-align: middle;\n",
       "    }\n",
       "\n",
       "    .dataframe tbody tr th {\n",
       "        vertical-align: top;\n",
       "    }\n",
       "\n",
       "    .dataframe thead th {\n",
       "        text-align: right;\n",
       "    }\n",
       "</style>\n",
       "<table border=\"1\" class=\"dataframe\">\n",
       "  <thead>\n",
       "    <tr style=\"text-align: right;\">\n",
       "      <th></th>\n",
       "      <th>Population</th>\n",
       "      <th>GDP</th>\n",
       "      <th>Continent</th>\n",
       "      <th>HDI</th>\n",
       "    </tr>\n",
       "  </thead>\n",
       "  <tbody>\n",
       "    <tr>\n",
       "      <th>Canada</th>\n",
       "      <td>37742154</td>\n",
       "      <td>1736.4</td>\n",
       "      <td>North America</td>\n",
       "      <td>0.936</td>\n",
       "    </tr>\n",
       "    <tr>\n",
       "      <th>France</th>\n",
       "      <td>65273511</td>\n",
       "      <td>2715.5</td>\n",
       "      <td>Europe</td>\n",
       "      <td>0.901</td>\n",
       "    </tr>\n",
       "    <tr>\n",
       "      <th>Germany</th>\n",
       "      <td>83783942</td>\n",
       "      <td>3845.6</td>\n",
       "      <td>Europe</td>\n",
       "      <td>0.942</td>\n",
       "    </tr>\n",
       "    <tr>\n",
       "      <th>Italy</th>\n",
       "      <td>60461826</td>\n",
       "      <td>2001.2</td>\n",
       "      <td>Europe</td>\n",
       "      <td>0.895</td>\n",
       "    </tr>\n",
       "    <tr>\n",
       "      <th>Japan</th>\n",
       "      <td>126476461</td>\n",
       "      <td>4971.8</td>\n",
       "      <td>Asia</td>\n",
       "      <td>0.925</td>\n",
       "    </tr>\n",
       "  </tbody>\n",
       "</table>\n",
       "</div>"
      ],
      "text/plain": [
       "         Population     GDP      Continent    HDI\n",
       "Canada     37742154  1736.4  North America  0.936\n",
       "France     65273511  2715.5         Europe  0.901\n",
       "Germany    83783942  3845.6         Europe  0.942\n",
       "Italy      60461826  2001.2         Europe  0.895\n",
       "Japan     126476461  4971.8           Asia  0.925"
      ]
     },
     "execution_count": 311,
     "metadata": {},
     "output_type": "execute_result"
    }
   ],
   "source": [
    "df.loc['Canada': 'Japan']\n",
    "#Selecting datas using the slicing "
   ]
  },
  {
   "cell_type": "code",
   "execution_count": 312,
   "id": "fef36bcf",
   "metadata": {},
   "outputs": [
    {
     "data": {
      "text/plain": [
       "France     0.901\n",
       "Germany    0.942\n",
       "Name: HDI, dtype: float64"
      ]
     },
     "execution_count": 312,
     "metadata": {},
     "output_type": "execute_result"
    }
   ],
   "source": [
    "df.iloc[1:3,-1]\n",
    "#Filtering the data using the ordering or a label"
   ]
  },
  {
   "cell_type": "code",
   "execution_count": 313,
   "id": "354b9a34",
   "metadata": {},
   "outputs": [
    {
     "data": {
      "text/plain": [
       "Population    60461826\n",
       "GDP             2001.2\n",
       "Continent       Europe\n",
       "HDI              0.895\n",
       "Name: Italy, dtype: object"
      ]
     },
     "execution_count": 313,
     "metadata": {},
     "output_type": "execute_result"
    }
   ],
   "source": [
    "df.loc[\"Italy\"]"
   ]
  },
  {
   "cell_type": "code",
   "execution_count": 314,
   "id": "b34f5c69",
   "metadata": {},
   "outputs": [
    {
     "data": {
      "text/plain": [
       "Canada     37742154\n",
       "France     65273511\n",
       "Germany    83783942\n",
       "Name: Population, dtype: int64"
      ]
     },
     "execution_count": 314,
     "metadata": {},
     "output_type": "execute_result"
    }
   ],
   "source": [
    "df.loc[\"Canada\" : \"Germany\", \"Population\"]\n"
   ]
  },
  {
   "cell_type": "code",
   "execution_count": 315,
   "id": "74f3c629",
   "metadata": {},
   "outputs": [
    {
     "data": {
      "text/html": [
       "<div>\n",
       "<style scoped>\n",
       "    .dataframe tbody tr th:only-of-type {\n",
       "        vertical-align: middle;\n",
       "    }\n",
       "\n",
       "    .dataframe tbody tr th {\n",
       "        vertical-align: top;\n",
       "    }\n",
       "\n",
       "    .dataframe thead th {\n",
       "        text-align: right;\n",
       "    }\n",
       "</style>\n",
       "<table border=\"1\" class=\"dataframe\">\n",
       "  <thead>\n",
       "    <tr style=\"text-align: right;\">\n",
       "      <th></th>\n",
       "      <th>Population</th>\n",
       "    </tr>\n",
       "  </thead>\n",
       "  <tbody>\n",
       "    <tr>\n",
       "      <th>Canada</th>\n",
       "      <td>37742154</td>\n",
       "    </tr>\n",
       "    <tr>\n",
       "      <th>France</th>\n",
       "      <td>65273511</td>\n",
       "    </tr>\n",
       "    <tr>\n",
       "      <th>Germany</th>\n",
       "      <td>83783942</td>\n",
       "    </tr>\n",
       "  </tbody>\n",
       "</table>\n",
       "</div>"
      ],
      "text/plain": [
       "         Population\n",
       "Canada     37742154\n",
       "France     65273511\n",
       "Germany    83783942"
      ]
     },
     "execution_count": 315,
     "metadata": {},
     "output_type": "execute_result"
    }
   ],
   "source": [
    "df.loc[\"Canada\" : \"Germany\", \"Population\"].to_frame()"
   ]
  },
  {
   "cell_type": "markdown",
   "id": "43f3ce03",
   "metadata": {},
   "source": [
    "The one of the thing we should understand is that like in other slicing where the start: end , step were the params that a method would take. But the case is different when we use the loc and iloc instead of taking the step it is actually taking the column and filtering only the given column. loc and iloc are the method only used by the pandas. So now we can conclude that since series is a 1D array and doesnot have a column. We donot pass anything in place of a step. We can similarly pass multiple columns name to extract multiple datas as well."
   ]
  },
  {
   "cell_type": "code",
   "execution_count": 316,
   "id": "92a13e2f",
   "metadata": {},
   "outputs": [
    {
     "data": {
      "text/html": [
       "<div>\n",
       "<style scoped>\n",
       "    .dataframe tbody tr th:only-of-type {\n",
       "        vertical-align: middle;\n",
       "    }\n",
       "\n",
       "    .dataframe tbody tr th {\n",
       "        vertical-align: top;\n",
       "    }\n",
       "\n",
       "    .dataframe thead th {\n",
       "        text-align: right;\n",
       "    }\n",
       "</style>\n",
       "<table border=\"1\" class=\"dataframe\">\n",
       "  <thead>\n",
       "    <tr style=\"text-align: right;\">\n",
       "      <th></th>\n",
       "      <th>Population</th>\n",
       "      <th>GDP</th>\n",
       "    </tr>\n",
       "  </thead>\n",
       "  <tbody>\n",
       "    <tr>\n",
       "      <th>Canada</th>\n",
       "      <td>37742154</td>\n",
       "      <td>1736.4</td>\n",
       "    </tr>\n",
       "    <tr>\n",
       "      <th>France</th>\n",
       "      <td>65273511</td>\n",
       "      <td>2715.5</td>\n",
       "    </tr>\n",
       "    <tr>\n",
       "      <th>Germany</th>\n",
       "      <td>83783942</td>\n",
       "      <td>3845.6</td>\n",
       "    </tr>\n",
       "    <tr>\n",
       "      <th>Italy</th>\n",
       "      <td>60461826</td>\n",
       "      <td>2001.2</td>\n",
       "    </tr>\n",
       "    <tr>\n",
       "      <th>Japan</th>\n",
       "      <td>126476461</td>\n",
       "      <td>4971.8</td>\n",
       "    </tr>\n",
       "  </tbody>\n",
       "</table>\n",
       "</div>"
      ],
      "text/plain": [
       "         Population     GDP\n",
       "Canada     37742154  1736.4\n",
       "France     65273511  2715.5\n",
       "Germany    83783942  3845.6\n",
       "Italy      60461826  2001.2\n",
       "Japan     126476461  4971.8"
      ]
     },
     "execution_count": 316,
     "metadata": {},
     "output_type": "execute_result"
    }
   ],
   "source": [
    "df.loc[\"Canada\" : \"Japan\", [\"Population\" , \"GDP\"]]\n",
    "#Similarly since there are two columns we will have to keep it inside another bracket as well"
   ]
  },
  {
   "cell_type": "markdown",
   "id": "2d4d9e1a",
   "metadata": {},
   "source": [
    "iloc works with the numeric position of the index\n"
   ]
  },
  {
   "cell_type": "code",
   "execution_count": 317,
   "id": "faac351c",
   "metadata": {},
   "outputs": [
    {
     "data": {
      "text/plain": [
       "Population    65273511\n",
       "GDP             2715.5\n",
       "Continent       Europe\n",
       "HDI              0.901\n",
       "Name: France, dtype: object"
      ]
     },
     "execution_count": 317,
     "metadata": {},
     "output_type": "execute_result"
    }
   ],
   "source": [
    "df.iloc[1]"
   ]
  },
  {
   "cell_type": "code",
   "execution_count": 318,
   "id": "747ba419",
   "metadata": {},
   "outputs": [
    {
     "data": {
      "text/plain": [
       "Canada             1736.4\n",
       "France             2715.5\n",
       "Germany            3845.6\n",
       "Italy              2001.2\n",
       "Japan              4971.8\n",
       "United Kingdom     2829.1\n",
       "United States     21433.2\n",
       "Name: GDP, dtype: float64"
      ]
     },
     "execution_count": 318,
     "metadata": {},
     "output_type": "execute_result"
    }
   ],
   "source": [
    "df.iloc[:,1]\n",
    "#This gives all the rows of the mentioned column that is of the index 1"
   ]
  },
  {
   "cell_type": "code",
   "execution_count": 319,
   "id": "08864dec",
   "metadata": {},
   "outputs": [
    {
     "data": {
      "text/html": [
       "<div>\n",
       "<style scoped>\n",
       "    .dataframe tbody tr th:only-of-type {\n",
       "        vertical-align: middle;\n",
       "    }\n",
       "\n",
       "    .dataframe tbody tr th {\n",
       "        vertical-align: top;\n",
       "    }\n",
       "\n",
       "    .dataframe thead th {\n",
       "        text-align: right;\n",
       "    }\n",
       "</style>\n",
       "<table border=\"1\" class=\"dataframe\">\n",
       "  <thead>\n",
       "    <tr style=\"text-align: right;\">\n",
       "      <th></th>\n",
       "      <th>GDP</th>\n",
       "      <th>Continent</th>\n",
       "      <th>HDI</th>\n",
       "    </tr>\n",
       "  </thead>\n",
       "  <tbody>\n",
       "    <tr>\n",
       "      <th>Canada</th>\n",
       "      <td>1736.4</td>\n",
       "      <td>North America</td>\n",
       "      <td>0.936</td>\n",
       "    </tr>\n",
       "    <tr>\n",
       "      <th>France</th>\n",
       "      <td>2715.5</td>\n",
       "      <td>Europe</td>\n",
       "      <td>0.901</td>\n",
       "    </tr>\n",
       "  </tbody>\n",
       "</table>\n",
       "</div>"
      ],
      "text/plain": [
       "           GDP      Continent    HDI\n",
       "Canada  1736.4  North America  0.936\n",
       "France  2715.5         Europe  0.901"
      ]
     },
     "execution_count": 319,
     "metadata": {},
     "output_type": "execute_result"
    }
   ],
   "source": [
    "df.iloc[0:2, [1,2,3]]\n",
    "#Selecting multiple columns of a filtered row using the numeric indexing \n"
   ]
  },
  {
   "cell_type": "markdown",
   "id": "c982dfca",
   "metadata": {},
   "source": [
    "When your DataFrame uses numbers as index values, such as 0, 1, 2, and so on, it can become unclear whether you’re referring to the index label (like index 0) or the row’s position (the first row). This can lead to confusion or errors in your code. To avoid this ambiguity, it’s best to use .iloc[] when you want to select rows by their position (for example, the first, second, or third row), and .loc[] when you want to select rows by their index label (for example, the row that has an index of 0, even if it’s not the first row). This makes your code clearer and helps prevent mistakes."
   ]
  },
  {
   "cell_type": "markdown",
   "id": "7a7ac9ca",
   "metadata": {},
   "source": [
    "Conditional Selection (Boolean Arrays)"
   ]
  },
  {
   "cell_type": "code",
   "execution_count": 320,
   "id": "599b43b5",
   "metadata": {},
   "outputs": [
    {
     "data": {
      "text/html": [
       "<div>\n",
       "<style scoped>\n",
       "    .dataframe tbody tr th:only-of-type {\n",
       "        vertical-align: middle;\n",
       "    }\n",
       "\n",
       "    .dataframe tbody tr th {\n",
       "        vertical-align: top;\n",
       "    }\n",
       "\n",
       "    .dataframe thead th {\n",
       "        text-align: right;\n",
       "    }\n",
       "</style>\n",
       "<table border=\"1\" class=\"dataframe\">\n",
       "  <thead>\n",
       "    <tr style=\"text-align: right;\">\n",
       "      <th></th>\n",
       "      <th>Population</th>\n",
       "      <th>GDP</th>\n",
       "      <th>Continent</th>\n",
       "      <th>HDI</th>\n",
       "    </tr>\n",
       "  </thead>\n",
       "  <tbody>\n",
       "    <tr>\n",
       "      <th>Canada</th>\n",
       "      <td>37742154</td>\n",
       "      <td>1736.4</td>\n",
       "      <td>North America</td>\n",
       "      <td>0.936</td>\n",
       "    </tr>\n",
       "    <tr>\n",
       "      <th>France</th>\n",
       "      <td>65273511</td>\n",
       "      <td>2715.5</td>\n",
       "      <td>Europe</td>\n",
       "      <td>0.901</td>\n",
       "    </tr>\n",
       "    <tr>\n",
       "      <th>Germany</th>\n",
       "      <td>83783942</td>\n",
       "      <td>3845.6</td>\n",
       "      <td>Europe</td>\n",
       "      <td>0.942</td>\n",
       "    </tr>\n",
       "    <tr>\n",
       "      <th>Italy</th>\n",
       "      <td>60461826</td>\n",
       "      <td>2001.2</td>\n",
       "      <td>Europe</td>\n",
       "      <td>0.895</td>\n",
       "    </tr>\n",
       "    <tr>\n",
       "      <th>Japan</th>\n",
       "      <td>126476461</td>\n",
       "      <td>4971.8</td>\n",
       "      <td>Asia</td>\n",
       "      <td>0.925</td>\n",
       "    </tr>\n",
       "    <tr>\n",
       "      <th>United Kingdom</th>\n",
       "      <td>67886011</td>\n",
       "      <td>2829.1</td>\n",
       "      <td>Europe</td>\n",
       "      <td>0.929</td>\n",
       "    </tr>\n",
       "    <tr>\n",
       "      <th>United States</th>\n",
       "      <td>331002651</td>\n",
       "      <td>21433.2</td>\n",
       "      <td>North America</td>\n",
       "      <td>0.921</td>\n",
       "    </tr>\n",
       "  </tbody>\n",
       "</table>\n",
       "</div>"
      ],
      "text/plain": [
       "                Population      GDP      Continent    HDI\n",
       "Canada            37742154   1736.4  North America  0.936\n",
       "France            65273511   2715.5         Europe  0.901\n",
       "Germany           83783942   3845.6         Europe  0.942\n",
       "Italy             60461826   2001.2         Europe  0.895\n",
       "Japan            126476461   4971.8           Asia  0.925\n",
       "United Kingdom    67886011   2829.1         Europe  0.929\n",
       "United States    331002651  21433.2  North America  0.921"
      ]
     },
     "execution_count": 320,
     "metadata": {},
     "output_type": "execute_result"
    }
   ],
   "source": [
    "df"
   ]
  },
  {
   "cell_type": "code",
   "execution_count": 321,
   "id": "0f076fe8",
   "metadata": {},
   "outputs": [
    {
     "data": {
      "text/plain": [
       "Canada            True\n",
       "France            True\n",
       "Germany           True\n",
       "Italy             True\n",
       "Japan             True\n",
       "United Kingdom    True\n",
       "United States     True\n",
       "Name: Population, dtype: bool"
      ]
     },
     "execution_count": 321,
     "metadata": {},
     "output_type": "execute_result"
    }
   ],
   "source": [
    "df[\"Population\"] > 50"
   ]
  },
  {
   "cell_type": "code",
   "execution_count": 322,
   "id": "fe050f73",
   "metadata": {},
   "outputs": [
    {
     "data": {
      "text/html": [
       "<div>\n",
       "<style scoped>\n",
       "    .dataframe tbody tr th:only-of-type {\n",
       "        vertical-align: middle;\n",
       "    }\n",
       "\n",
       "    .dataframe tbody tr th {\n",
       "        vertical-align: top;\n",
       "    }\n",
       "\n",
       "    .dataframe thead th {\n",
       "        text-align: right;\n",
       "    }\n",
       "</style>\n",
       "<table border=\"1\" class=\"dataframe\">\n",
       "  <thead>\n",
       "    <tr style=\"text-align: right;\">\n",
       "      <th></th>\n",
       "      <th>Population</th>\n",
       "      <th>GDP</th>\n",
       "      <th>Continent</th>\n",
       "      <th>HDI</th>\n",
       "    </tr>\n",
       "  </thead>\n",
       "  <tbody>\n",
       "    <tr>\n",
       "      <th>Canada</th>\n",
       "      <td>37742154</td>\n",
       "      <td>1736.4</td>\n",
       "      <td>North America</td>\n",
       "      <td>0.936</td>\n",
       "    </tr>\n",
       "    <tr>\n",
       "      <th>France</th>\n",
       "      <td>65273511</td>\n",
       "      <td>2715.5</td>\n",
       "      <td>Europe</td>\n",
       "      <td>0.901</td>\n",
       "    </tr>\n",
       "    <tr>\n",
       "      <th>Germany</th>\n",
       "      <td>83783942</td>\n",
       "      <td>3845.6</td>\n",
       "      <td>Europe</td>\n",
       "      <td>0.942</td>\n",
       "    </tr>\n",
       "    <tr>\n",
       "      <th>Italy</th>\n",
       "      <td>60461826</td>\n",
       "      <td>2001.2</td>\n",
       "      <td>Europe</td>\n",
       "      <td>0.895</td>\n",
       "    </tr>\n",
       "    <tr>\n",
       "      <th>Japan</th>\n",
       "      <td>126476461</td>\n",
       "      <td>4971.8</td>\n",
       "      <td>Asia</td>\n",
       "      <td>0.925</td>\n",
       "    </tr>\n",
       "    <tr>\n",
       "      <th>United Kingdom</th>\n",
       "      <td>67886011</td>\n",
       "      <td>2829.1</td>\n",
       "      <td>Europe</td>\n",
       "      <td>0.929</td>\n",
       "    </tr>\n",
       "    <tr>\n",
       "      <th>United States</th>\n",
       "      <td>331002651</td>\n",
       "      <td>21433.2</td>\n",
       "      <td>North America</td>\n",
       "      <td>0.921</td>\n",
       "    </tr>\n",
       "  </tbody>\n",
       "</table>\n",
       "</div>"
      ],
      "text/plain": [
       "                Population      GDP      Continent    HDI\n",
       "Canada            37742154   1736.4  North America  0.936\n",
       "France            65273511   2715.5         Europe  0.901\n",
       "Germany           83783942   3845.6         Europe  0.942\n",
       "Italy             60461826   2001.2         Europe  0.895\n",
       "Japan            126476461   4971.8           Asia  0.925\n",
       "United Kingdom    67886011   2829.1         Europe  0.929\n",
       "United States    331002651  21433.2  North America  0.921"
      ]
     },
     "execution_count": 322,
     "metadata": {},
     "output_type": "execute_result"
    }
   ],
   "source": [
    "df"
   ]
  },
  {
   "cell_type": "code",
   "execution_count": 335,
   "id": "2ea432ae",
   "metadata": {},
   "outputs": [
    {
     "data": {
      "text/html": [
       "<div>\n",
       "<style scoped>\n",
       "    .dataframe tbody tr th:only-of-type {\n",
       "        vertical-align: middle;\n",
       "    }\n",
       "\n",
       "    .dataframe tbody tr th {\n",
       "        vertical-align: top;\n",
       "    }\n",
       "\n",
       "    .dataframe thead th {\n",
       "        text-align: right;\n",
       "    }\n",
       "</style>\n",
       "<table border=\"1\" class=\"dataframe\">\n",
       "  <thead>\n",
       "    <tr style=\"text-align: right;\">\n",
       "      <th></th>\n",
       "      <th>Population</th>\n",
       "      <th>GDP</th>\n",
       "      <th>Continent</th>\n",
       "      <th>HDI</th>\n",
       "    </tr>\n",
       "  </thead>\n",
       "  <tbody>\n",
       "    <tr>\n",
       "      <th>Canada</th>\n",
       "      <td>37742154</td>\n",
       "      <td>1736.4</td>\n",
       "      <td>North America</td>\n",
       "      <td>0.936</td>\n",
       "    </tr>\n",
       "    <tr>\n",
       "      <th>France</th>\n",
       "      <td>65273511</td>\n",
       "      <td>2715.5</td>\n",
       "      <td>Europe</td>\n",
       "      <td>0.901</td>\n",
       "    </tr>\n",
       "    <tr>\n",
       "      <th>Germany</th>\n",
       "      <td>83783942</td>\n",
       "      <td>3845.6</td>\n",
       "      <td>Europe</td>\n",
       "      <td>0.942</td>\n",
       "    </tr>\n",
       "    <tr>\n",
       "      <th>Italy</th>\n",
       "      <td>60461826</td>\n",
       "      <td>2001.2</td>\n",
       "      <td>Europe</td>\n",
       "      <td>0.895</td>\n",
       "    </tr>\n",
       "    <tr>\n",
       "      <th>United Kingdom</th>\n",
       "      <td>67886011</td>\n",
       "      <td>2829.1</td>\n",
       "      <td>Europe</td>\n",
       "      <td>0.929</td>\n",
       "    </tr>\n",
       "  </tbody>\n",
       "</table>\n",
       "</div>"
      ],
      "text/plain": [
       "                Population     GDP      Continent    HDI\n",
       "Canada            37742154  1736.4  North America  0.936\n",
       "France            65273511  2715.5         Europe  0.901\n",
       "Germany           83783942  3845.6         Europe  0.942\n",
       "Italy             60461826  2001.2         Europe  0.895\n",
       "United Kingdom    67886011  2829.1         Europe  0.929"
      ]
     },
     "execution_count": 335,
     "metadata": {},
     "output_type": "execute_result"
    }
   ],
   "source": [
    "df.loc[df[\"Population\"] < 100000000]"
   ]
  },
  {
   "cell_type": "code",
   "execution_count": null,
   "id": "6872ce3d",
   "metadata": {},
   "outputs": [
    {
     "data": {
      "text/html": [
       "<div>\n",
       "<style scoped>\n",
       "    .dataframe tbody tr th:only-of-type {\n",
       "        vertical-align: middle;\n",
       "    }\n",
       "\n",
       "    .dataframe tbody tr th {\n",
       "        vertical-align: top;\n",
       "    }\n",
       "\n",
       "    .dataframe thead th {\n",
       "        text-align: right;\n",
       "    }\n",
       "</style>\n",
       "<table border=\"1\" class=\"dataframe\">\n",
       "  <thead>\n",
       "    <tr style=\"text-align: right;\">\n",
       "      <th></th>\n",
       "      <th>Population</th>\n",
       "      <th>GDP</th>\n",
       "    </tr>\n",
       "  </thead>\n",
       "  <tbody>\n",
       "    <tr>\n",
       "      <th>Japan</th>\n",
       "      <td>126476461</td>\n",
       "      <td>4971.8</td>\n",
       "    </tr>\n",
       "    <tr>\n",
       "      <th>United States</th>\n",
       "      <td>331002651</td>\n",
       "      <td>21433.2</td>\n",
       "    </tr>\n",
       "  </tbody>\n",
       "</table>\n",
       "</div>"
      ],
      "text/plain": [
       "               Population      GDP\n",
       "Japan           126476461   4971.8\n",
       "United States   331002651  21433.2"
      ]
     },
     "execution_count": 337,
     "metadata": {},
     "output_type": "execute_result"
    }
   ],
   "source": [
    "df.loc[df[\"Population\"] > 100000000 , [\"Population\",\"GDP\"]]\n",
    "#Filtration of column based on the given condition"
   ]
  },
  {
   "cell_type": "markdown",
   "id": "a5068b8c",
   "metadata": {},
   "source": [
    "Dropping rows and columns using Pandas \n",
    "WHY to use .drop() in pandas:\n",
    "\t1.\tTo remove irrelevant columns that do not contribute to the analysis or model training.\n",
    "\t2.\tTo eliminate duplicate or redundant information that could cause noise in the dataset.\n",
    "\t3.\tTo simplify the dataset for better readability or visualization.\n",
    "\t4.\tTo remove sensitive or personal data for privacy or compliance purposes.\n",
    "\t5.\tTo prepare features for modeling by dropping the target column from the feature set (or vice versa).\n",
    "\t6.\tTo remove rows with invalid or corrupt data that may affect analysis.\n",
    "\t7.\tTo filter out outliers or unwanted data points based on business rules.\n",
    "\t8.\tTo clean up merged or joined datasets where some columns may be\n",
    "\n",
    "WHEN to use .drop() in pandas:\n",
    "\t1.\tWhen preparing data for visualization and only the necessary features are needed.\n",
    "\t2.\tWhen reducing dimensionality to avoid the curse of dimensionality or improve model performance.\n",
    "\t3.\tWhen data contains null or NaN values that you decide to remove instead of imputing.\n",
    "\t4.\tWhen exporting the dataset and you want to exclude internal or helper columns.\n",
    "\t5.\tWhen cleaning raw data before conducting statistical or machine learning tasks.\n",
    "\t6.\tWhen columns have high correlation and you want to drop one to reduce multicollinearity.\n",
    "\t7.\tWhen you’re performing feature engineering and need to remove outdated or unused features.\n",
    "\t8.\tWhen data violates data integrity or business logic, and the rows/columns must be discarded.\n",
    "\n",
    "\n",
    "📌 Multicollinearity — What is it?\n",
    "\n",
    "Multicollinearity occurs when two or more independent variables (features) in a dataset are highly correlated with each other — meaning they carry similar information.\n",
    "\n",
    "⸻\n",
    "\n",
    "🧠 Why is multicollinearity a problem?\n",
    "\t1.\tReduces model interpretability: If two features are highly correlated, it’s hard to tell which one is actually influencing the target.\n",
    "\t2.\tUnstable coefficient estimates: In models like linear regression, it can lead to inflated standard errors, making the model’s predictions unreliable.\n",
    "\t3.\tIncreases model complexity without adding much value.\n",
    "\n",
    "High corelation relates to directly proportional. "
   ]
  },
  {
   "cell_type": "code",
   "execution_count": 339,
   "id": "3a9af61e",
   "metadata": {},
   "outputs": [
    {
     "data": {
      "text/html": [
       "<div>\n",
       "<style scoped>\n",
       "    .dataframe tbody tr th:only-of-type {\n",
       "        vertical-align: middle;\n",
       "    }\n",
       "\n",
       "    .dataframe tbody tr th {\n",
       "        vertical-align: top;\n",
       "    }\n",
       "\n",
       "    .dataframe thead th {\n",
       "        text-align: right;\n",
       "    }\n",
       "</style>\n",
       "<table border=\"1\" class=\"dataframe\">\n",
       "  <thead>\n",
       "    <tr style=\"text-align: right;\">\n",
       "      <th></th>\n",
       "      <th>Population</th>\n",
       "      <th>GDP</th>\n",
       "      <th>Continent</th>\n",
       "      <th>HDI</th>\n",
       "    </tr>\n",
       "  </thead>\n",
       "  <tbody>\n",
       "    <tr>\n",
       "      <th>France</th>\n",
       "      <td>65273511</td>\n",
       "      <td>2715.5</td>\n",
       "      <td>Europe</td>\n",
       "      <td>0.901</td>\n",
       "    </tr>\n",
       "    <tr>\n",
       "      <th>Germany</th>\n",
       "      <td>83783942</td>\n",
       "      <td>3845.6</td>\n",
       "      <td>Europe</td>\n",
       "      <td>0.942</td>\n",
       "    </tr>\n",
       "    <tr>\n",
       "      <th>Italy</th>\n",
       "      <td>60461826</td>\n",
       "      <td>2001.2</td>\n",
       "      <td>Europe</td>\n",
       "      <td>0.895</td>\n",
       "    </tr>\n",
       "    <tr>\n",
       "      <th>Japan</th>\n",
       "      <td>126476461</td>\n",
       "      <td>4971.8</td>\n",
       "      <td>Asia</td>\n",
       "      <td>0.925</td>\n",
       "    </tr>\n",
       "    <tr>\n",
       "      <th>United Kingdom</th>\n",
       "      <td>67886011</td>\n",
       "      <td>2829.1</td>\n",
       "      <td>Europe</td>\n",
       "      <td>0.929</td>\n",
       "    </tr>\n",
       "    <tr>\n",
       "      <th>United States</th>\n",
       "      <td>331002651</td>\n",
       "      <td>21433.2</td>\n",
       "      <td>North America</td>\n",
       "      <td>0.921</td>\n",
       "    </tr>\n",
       "  </tbody>\n",
       "</table>\n",
       "</div>"
      ],
      "text/plain": [
       "                Population      GDP      Continent    HDI\n",
       "France            65273511   2715.5         Europe  0.901\n",
       "Germany           83783942   3845.6         Europe  0.942\n",
       "Italy             60461826   2001.2         Europe  0.895\n",
       "Japan            126476461   4971.8           Asia  0.925\n",
       "United Kingdom    67886011   2829.1         Europe  0.929\n",
       "United States    331002651  21433.2  North America  0.921"
      ]
     },
     "execution_count": 339,
     "metadata": {},
     "output_type": "execute_result"
    }
   ],
   "source": [
    "df.drop(\"Canada\")"
   ]
  },
  {
   "cell_type": "code",
   "execution_count": 341,
   "id": "cc422e9e",
   "metadata": {},
   "outputs": [
    {
     "data": {
      "text/html": [
       "<div>\n",
       "<style scoped>\n",
       "    .dataframe tbody tr th:only-of-type {\n",
       "        vertical-align: middle;\n",
       "    }\n",
       "\n",
       "    .dataframe tbody tr th {\n",
       "        vertical-align: top;\n",
       "    }\n",
       "\n",
       "    .dataframe thead th {\n",
       "        text-align: right;\n",
       "    }\n",
       "</style>\n",
       "<table border=\"1\" class=\"dataframe\">\n",
       "  <thead>\n",
       "    <tr style=\"text-align: right;\">\n",
       "      <th></th>\n",
       "      <th>Population</th>\n",
       "      <th>GDP</th>\n",
       "      <th>Continent</th>\n",
       "      <th>HDI</th>\n",
       "    </tr>\n",
       "  </thead>\n",
       "  <tbody>\n",
       "    <tr>\n",
       "      <th>France</th>\n",
       "      <td>65273511</td>\n",
       "      <td>2715.5</td>\n",
       "      <td>Europe</td>\n",
       "      <td>0.901</td>\n",
       "    </tr>\n",
       "    <tr>\n",
       "      <th>Germany</th>\n",
       "      <td>83783942</td>\n",
       "      <td>3845.6</td>\n",
       "      <td>Europe</td>\n",
       "      <td>0.942</td>\n",
       "    </tr>\n",
       "    <tr>\n",
       "      <th>Italy</th>\n",
       "      <td>60461826</td>\n",
       "      <td>2001.2</td>\n",
       "      <td>Europe</td>\n",
       "      <td>0.895</td>\n",
       "    </tr>\n",
       "    <tr>\n",
       "      <th>United Kingdom</th>\n",
       "      <td>67886011</td>\n",
       "      <td>2829.1</td>\n",
       "      <td>Europe</td>\n",
       "      <td>0.929</td>\n",
       "    </tr>\n",
       "    <tr>\n",
       "      <th>United States</th>\n",
       "      <td>331002651</td>\n",
       "      <td>21433.2</td>\n",
       "      <td>North America</td>\n",
       "      <td>0.921</td>\n",
       "    </tr>\n",
       "  </tbody>\n",
       "</table>\n",
       "</div>"
      ],
      "text/plain": [
       "                Population      GDP      Continent    HDI\n",
       "France            65273511   2715.5         Europe  0.901\n",
       "Germany           83783942   3845.6         Europe  0.942\n",
       "Italy             60461826   2001.2         Europe  0.895\n",
       "United Kingdom    67886011   2829.1         Europe  0.929\n",
       "United States    331002651  21433.2  North America  0.921"
      ]
     },
     "execution_count": 341,
     "metadata": {},
     "output_type": "execute_result"
    }
   ],
   "source": [
    "df.drop([\"Canada\", \"Japan\"])\n",
    "#If you are getting confused with the use of [] sometimes. You should know that we are passing a list as a parameter when two columns are together so we use this []"
   ]
  },
  {
   "cell_type": "code",
   "execution_count": 342,
   "id": "ef4c1d20",
   "metadata": {},
   "outputs": [
    {
     "data": {
      "text/html": [
       "<div>\n",
       "<style scoped>\n",
       "    .dataframe tbody tr th:only-of-type {\n",
       "        vertical-align: middle;\n",
       "    }\n",
       "\n",
       "    .dataframe tbody tr th {\n",
       "        vertical-align: top;\n",
       "    }\n",
       "\n",
       "    .dataframe thead th {\n",
       "        text-align: right;\n",
       "    }\n",
       "</style>\n",
       "<table border=\"1\" class=\"dataframe\">\n",
       "  <thead>\n",
       "    <tr style=\"text-align: right;\">\n",
       "      <th></th>\n",
       "      <th>Continent</th>\n",
       "      <th>HDI</th>\n",
       "    </tr>\n",
       "  </thead>\n",
       "  <tbody>\n",
       "    <tr>\n",
       "      <th>Canada</th>\n",
       "      <td>North America</td>\n",
       "      <td>0.936</td>\n",
       "    </tr>\n",
       "    <tr>\n",
       "      <th>France</th>\n",
       "      <td>Europe</td>\n",
       "      <td>0.901</td>\n",
       "    </tr>\n",
       "    <tr>\n",
       "      <th>Germany</th>\n",
       "      <td>Europe</td>\n",
       "      <td>0.942</td>\n",
       "    </tr>\n",
       "    <tr>\n",
       "      <th>Italy</th>\n",
       "      <td>Europe</td>\n",
       "      <td>0.895</td>\n",
       "    </tr>\n",
       "    <tr>\n",
       "      <th>Japan</th>\n",
       "      <td>Asia</td>\n",
       "      <td>0.925</td>\n",
       "    </tr>\n",
       "    <tr>\n",
       "      <th>United Kingdom</th>\n",
       "      <td>Europe</td>\n",
       "      <td>0.929</td>\n",
       "    </tr>\n",
       "    <tr>\n",
       "      <th>United States</th>\n",
       "      <td>North America</td>\n",
       "      <td>0.921</td>\n",
       "    </tr>\n",
       "  </tbody>\n",
       "</table>\n",
       "</div>"
      ],
      "text/plain": [
       "                    Continent    HDI\n",
       "Canada          North America  0.936\n",
       "France                 Europe  0.901\n",
       "Germany                Europe  0.942\n",
       "Italy                  Europe  0.895\n",
       "Japan                    Asia  0.925\n",
       "United Kingdom         Europe  0.929\n",
       "United States   North America  0.921"
      ]
     },
     "execution_count": 342,
     "metadata": {},
     "output_type": "execute_result"
    }
   ],
   "source": [
    "df.drop(columns = [\"Population\", \"GDP\"])"
   ]
  },
  {
   "cell_type": "code",
   "execution_count": 344,
   "id": "2c6c4473",
   "metadata": {},
   "outputs": [
    {
     "data": {
      "text/html": [
       "<div>\n",
       "<style scoped>\n",
       "    .dataframe tbody tr th:only-of-type {\n",
       "        vertical-align: middle;\n",
       "    }\n",
       "\n",
       "    .dataframe tbody tr th {\n",
       "        vertical-align: top;\n",
       "    }\n",
       "\n",
       "    .dataframe thead th {\n",
       "        text-align: right;\n",
       "    }\n",
       "</style>\n",
       "<table border=\"1\" class=\"dataframe\">\n",
       "  <thead>\n",
       "    <tr style=\"text-align: right;\">\n",
       "      <th></th>\n",
       "      <th>Population</th>\n",
       "      <th>GDP</th>\n",
       "      <th>Continent</th>\n",
       "      <th>HDI</th>\n",
       "    </tr>\n",
       "  </thead>\n",
       "  <tbody>\n",
       "    <tr>\n",
       "      <th>France</th>\n",
       "      <td>65273511</td>\n",
       "      <td>2715.5</td>\n",
       "      <td>Europe</td>\n",
       "      <td>0.901</td>\n",
       "    </tr>\n",
       "    <tr>\n",
       "      <th>Germany</th>\n",
       "      <td>83783942</td>\n",
       "      <td>3845.6</td>\n",
       "      <td>Europe</td>\n",
       "      <td>0.942</td>\n",
       "    </tr>\n",
       "    <tr>\n",
       "      <th>Japan</th>\n",
       "      <td>126476461</td>\n",
       "      <td>4971.8</td>\n",
       "      <td>Asia</td>\n",
       "      <td>0.925</td>\n",
       "    </tr>\n",
       "    <tr>\n",
       "      <th>United Kingdom</th>\n",
       "      <td>67886011</td>\n",
       "      <td>2829.1</td>\n",
       "      <td>Europe</td>\n",
       "      <td>0.929</td>\n",
       "    </tr>\n",
       "    <tr>\n",
       "      <th>United States</th>\n",
       "      <td>331002651</td>\n",
       "      <td>21433.2</td>\n",
       "      <td>North America</td>\n",
       "      <td>0.921</td>\n",
       "    </tr>\n",
       "  </tbody>\n",
       "</table>\n",
       "</div>"
      ],
      "text/plain": [
       "                Population      GDP      Continent    HDI\n",
       "France            65273511   2715.5         Europe  0.901\n",
       "Germany           83783942   3845.6         Europe  0.942\n",
       "Japan            126476461   4971.8           Asia  0.925\n",
       "United Kingdom    67886011   2829.1         Europe  0.929\n",
       "United States    331002651  21433.2  North America  0.921"
      ]
     },
     "execution_count": 344,
     "metadata": {},
     "output_type": "execute_result"
    }
   ],
   "source": [
    "df.drop([\"Italy\", \"Canada\"], axis=0)\n",
    "# This axis parameter tells us whether to drop rows or columns where 0 means row and 1 means column."
   ]
  },
  {
   "cell_type": "code",
   "execution_count": 347,
   "id": "e608b730",
   "metadata": {},
   "outputs": [
    {
     "data": {
      "text/html": [
       "<div>\n",
       "<style scoped>\n",
       "    .dataframe tbody tr th:only-of-type {\n",
       "        vertical-align: middle;\n",
       "    }\n",
       "\n",
       "    .dataframe tbody tr th {\n",
       "        vertical-align: top;\n",
       "    }\n",
       "\n",
       "    .dataframe thead th {\n",
       "        text-align: right;\n",
       "    }\n",
       "</style>\n",
       "<table border=\"1\" class=\"dataframe\">\n",
       "  <thead>\n",
       "    <tr style=\"text-align: right;\">\n",
       "      <th></th>\n",
       "      <th>GDP</th>\n",
       "      <th>Continent</th>\n",
       "    </tr>\n",
       "  </thead>\n",
       "  <tbody>\n",
       "    <tr>\n",
       "      <th>Canada</th>\n",
       "      <td>1736.4</td>\n",
       "      <td>North America</td>\n",
       "    </tr>\n",
       "    <tr>\n",
       "      <th>France</th>\n",
       "      <td>2715.5</td>\n",
       "      <td>Europe</td>\n",
       "    </tr>\n",
       "    <tr>\n",
       "      <th>Germany</th>\n",
       "      <td>3845.6</td>\n",
       "      <td>Europe</td>\n",
       "    </tr>\n",
       "    <tr>\n",
       "      <th>Italy</th>\n",
       "      <td>2001.2</td>\n",
       "      <td>Europe</td>\n",
       "    </tr>\n",
       "    <tr>\n",
       "      <th>Japan</th>\n",
       "      <td>4971.8</td>\n",
       "      <td>Asia</td>\n",
       "    </tr>\n",
       "    <tr>\n",
       "      <th>United Kingdom</th>\n",
       "      <td>2829.1</td>\n",
       "      <td>Europe</td>\n",
       "    </tr>\n",
       "    <tr>\n",
       "      <th>United States</th>\n",
       "      <td>21433.2</td>\n",
       "      <td>North America</td>\n",
       "    </tr>\n",
       "  </tbody>\n",
       "</table>\n",
       "</div>"
      ],
      "text/plain": [
       "                    GDP      Continent\n",
       "Canada           1736.4  North America\n",
       "France           2715.5         Europe\n",
       "Germany          3845.6         Europe\n",
       "Italy            2001.2         Europe\n",
       "Japan            4971.8           Asia\n",
       "United Kingdom   2829.1         Europe\n",
       "United States   21433.2  North America"
      ]
     },
     "execution_count": 347,
     "metadata": {},
     "output_type": "execute_result"
    }
   ],
   "source": [
    "df.drop([\"Population\", \"HDI\"], axis=1)\n",
    "#When dropping either row or columns the params should be passed based on the axis otherwise it will throw error"
   ]
  },
  {
   "cell_type": "markdown",
   "id": "d02a8b1a",
   "metadata": {},
   "source": [
    "The use of the axis is to mostly to remove the confusion in cases where the rows and column are same. So when both of them are same, we will have to pass axis to direct it"
   ]
  },
  {
   "cell_type": "code",
   "execution_count": 354,
   "id": "ee7676d3",
   "metadata": {},
   "outputs": [
    {
     "data": {
      "text/html": [
       "<div>\n",
       "<style scoped>\n",
       "    .dataframe tbody tr th:only-of-type {\n",
       "        vertical-align: middle;\n",
       "    }\n",
       "\n",
       "    .dataframe tbody tr th {\n",
       "        vertical-align: top;\n",
       "    }\n",
       "\n",
       "    .dataframe thead th {\n",
       "        text-align: right;\n",
       "    }\n",
       "</style>\n",
       "<table border=\"1\" class=\"dataframe\">\n",
       "  <thead>\n",
       "    <tr style=\"text-align: right;\">\n",
       "      <th></th>\n",
       "      <th>Continent</th>\n",
       "      <th>HDI</th>\n",
       "    </tr>\n",
       "  </thead>\n",
       "  <tbody>\n",
       "    <tr>\n",
       "      <th>Canada</th>\n",
       "      <td>North America</td>\n",
       "      <td>0.936</td>\n",
       "    </tr>\n",
       "    <tr>\n",
       "      <th>France</th>\n",
       "      <td>Europe</td>\n",
       "      <td>0.901</td>\n",
       "    </tr>\n",
       "    <tr>\n",
       "      <th>Germany</th>\n",
       "      <td>Europe</td>\n",
       "      <td>0.942</td>\n",
       "    </tr>\n",
       "    <tr>\n",
       "      <th>Italy</th>\n",
       "      <td>Europe</td>\n",
       "      <td>0.895</td>\n",
       "    </tr>\n",
       "    <tr>\n",
       "      <th>Japan</th>\n",
       "      <td>Asia</td>\n",
       "      <td>0.925</td>\n",
       "    </tr>\n",
       "    <tr>\n",
       "      <th>United Kingdom</th>\n",
       "      <td>Europe</td>\n",
       "      <td>0.929</td>\n",
       "    </tr>\n",
       "    <tr>\n",
       "      <th>United States</th>\n",
       "      <td>North America</td>\n",
       "      <td>0.921</td>\n",
       "    </tr>\n",
       "  </tbody>\n",
       "</table>\n",
       "</div>"
      ],
      "text/plain": [
       "                    Continent    HDI\n",
       "Canada          North America  0.936\n",
       "France                 Europe  0.901\n",
       "Germany                Europe  0.942\n",
       "Italy                  Europe  0.895\n",
       "Japan                    Asia  0.925\n",
       "United Kingdom         Europe  0.929\n",
       "United States   North America  0.921"
      ]
     },
     "execution_count": 354,
     "metadata": {},
     "output_type": "execute_result"
    }
   ],
   "source": [
    "df.drop([\"Population\", \"GDP\"], axis='columns')\n",
    "#We can pass the rows and columns as parameters for the axis as well."
   ]
  },
  {
   "cell_type": "code",
   "execution_count": 356,
   "id": "6a3cf220",
   "metadata": {},
   "outputs": [
    {
     "data": {
      "text/html": [
       "<div>\n",
       "<style scoped>\n",
       "    .dataframe tbody tr th:only-of-type {\n",
       "        vertical-align: middle;\n",
       "    }\n",
       "\n",
       "    .dataframe tbody tr th {\n",
       "        vertical-align: top;\n",
       "    }\n",
       "\n",
       "    .dataframe thead th {\n",
       "        text-align: right;\n",
       "    }\n",
       "</style>\n",
       "<table border=\"1\" class=\"dataframe\">\n",
       "  <thead>\n",
       "    <tr style=\"text-align: right;\">\n",
       "      <th></th>\n",
       "      <th>Population</th>\n",
       "      <th>GDP</th>\n",
       "      <th>Continent</th>\n",
       "      <th>HDI</th>\n",
       "    </tr>\n",
       "  </thead>\n",
       "  <tbody>\n",
       "    <tr>\n",
       "      <th>France</th>\n",
       "      <td>65273511</td>\n",
       "      <td>2715.5</td>\n",
       "      <td>Europe</td>\n",
       "      <td>0.901</td>\n",
       "    </tr>\n",
       "    <tr>\n",
       "      <th>Italy</th>\n",
       "      <td>60461826</td>\n",
       "      <td>2001.2</td>\n",
       "      <td>Europe</td>\n",
       "      <td>0.895</td>\n",
       "    </tr>\n",
       "    <tr>\n",
       "      <th>Japan</th>\n",
       "      <td>126476461</td>\n",
       "      <td>4971.8</td>\n",
       "      <td>Asia</td>\n",
       "      <td>0.925</td>\n",
       "    </tr>\n",
       "    <tr>\n",
       "      <th>United Kingdom</th>\n",
       "      <td>67886011</td>\n",
       "      <td>2829.1</td>\n",
       "      <td>Europe</td>\n",
       "      <td>0.929</td>\n",
       "    </tr>\n",
       "    <tr>\n",
       "      <th>United States</th>\n",
       "      <td>331002651</td>\n",
       "      <td>21433.2</td>\n",
       "      <td>North America</td>\n",
       "      <td>0.921</td>\n",
       "    </tr>\n",
       "  </tbody>\n",
       "</table>\n",
       "</div>"
      ],
      "text/plain": [
       "                Population      GDP      Continent    HDI\n",
       "France            65273511   2715.5         Europe  0.901\n",
       "Italy             60461826   2001.2         Europe  0.895\n",
       "Japan            126476461   4971.8           Asia  0.925\n",
       "United Kingdom    67886011   2829.1         Europe  0.929\n",
       "United States    331002651  21433.2  North America  0.921"
      ]
     },
     "execution_count": 356,
     "metadata": {},
     "output_type": "execute_result"
    }
   ],
   "source": [
    "df.drop([\"Canada\", \"Germany\"], axis = \"rows\")"
   ]
  },
  {
   "cell_type": "markdown",
   "id": "ddacdfa9",
   "metadata": {},
   "source": [
    "Broadcasting Operations"
   ]
  },
  {
   "cell_type": "code",
   "execution_count": null,
   "id": "2aa4f78d",
   "metadata": {},
   "outputs": [],
   "source": []
  }
 ],
 "metadata": {
  "kernelspec": {
   "display_name": "modelprep",
   "language": "python",
   "name": "python3"
  },
  "language_info": {
   "codemirror_mode": {
    "name": "ipython",
    "version": 3
   },
   "file_extension": ".py",
   "mimetype": "text/x-python",
   "name": "python",
   "nbconvert_exporter": "python",
   "pygments_lexer": "ipython3",
   "version": "3.10.18"
  }
 },
 "nbformat": 4,
 "nbformat_minor": 5
}
