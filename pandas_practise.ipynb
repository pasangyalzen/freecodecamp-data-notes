{
 "cells": [
  {
   "cell_type": "markdown",
   "id": "2801d089",
   "metadata": {},
   "source": [
    "Pandas\n",
    "Pandas is a Python tool that helps you work with data easily — like how Excel works with tables.\n",
    "\n",
    "It lets you:\n",
    "\t•\tRead data from files (like CSV or Excel)\n",
    "\t•\tLook at it in a table format\n",
    "\t•\tClean it if it’s messy\n",
    "\t•\tSort, filter, and analyze it\n",
    "\t•\tSave the clean data again\n",
    "\n",
    "Pandas is used a lot in data analysis, data science, and machine learning because most real-world data comes in table form — with rows and columns — and Pandas makes working with that kind of data super simple and powerful.\n",
    "\n",
    "\n",
    "\n",
    "Pandas gives you 2 main tools:\n",
    "\t1.\tSeries → a single column (like a list with labels)\n",
    "\t2.\tDataFrame → a full table (like an Excel sheet)\n",
    "\t•\tIt works on top of NumPy, meaning it uses NumPy under the hood to do fast calculations but adds labels (column names and row numbers) so it’s easier to understand and work with.\n",
    "\t•\tIt’s made for structured data (tables), which is the kind of data you usually get in the real world: CSVs, spreadsheets, databases, survey results, etc.\n",
    "\n",
    "Why Pandas is Important\n",
    "\t•\tIt’s the starting point for any data science or machine learning project\n",
    "\t•\tIt helps you explore and clean data before you can build charts or train models\n",
    "\t•\tIt’s much easier to use than raw Python or NumPy when working with tabular data\n",
    "\n",
    "\n",
    "🧮 NumPy (Numerical Python)\n",
    "\n",
    "NumPy is a Python library that focuses on numerical operations and high-performance computations using arrays.\n",
    "\t•\tIt works with n-dimensional arrays (like lists of numbers, grids, or even 3D arrays).\n",
    "\t•\tIt’s mainly used for mathematical operations, linear algebra, matrix multiplications, and scientific calculations.\n",
    "\t•\tIt’s extremely fast because it uses optimized C code underneath.\n",
    "\t•\tData in NumPy doesn’t have column or row labels — just index positions (like array[0][1]).\n",
    "\t•\tIt’s perfect when you need to work with large sets of numbers or mathematical modeling, such as building machine learning algorithms from scratch.\n",
    "\t•\tHowever, for real-world data like customer information or CSV files, NumPy alone is not very intuitive.\n",
    "\n",
    "⸻\n",
    "\n",
    "🐼 Pandas (Python Data Analysis Library)\n",
    "\n",
    "Pandas is a library built on top of NumPy that makes working with structured/tabular data much easier. Behind the scenes numpy is the one that is working as a engine for most of the cases. Pandas can be considered as a dashboard for now.\n",
    "\t•\tIt introduces two main data structures: Series (1D labeled array) and DataFrame (2D labeled table).\n",
    "\t•\tWith Pandas, you can easily read data from files like CSVs, Excel sheets, and databases.\n",
    "\t•\tIt allows you to filter, sort, group, and clean data using human-friendly row and column labels.\n",
    "\t•\tIt’s designed to make real-world data handling simple and efficient — especially when data is messy or unstructured.\n",
    "\t•\tWhile it’s not as fast at pure number crunching as NumPy, it makes data analysis workflows far more convenient.\n",
    "\t•\tIn most data science projects, Pandas is used first to clean and explore the data, and then NumPy may be used underneath for the calculations.\n",
    "\n",
    "\n",
    "Pandas is built using NumPy (for data handling and speed), Cython (for performance), and Python (for structure), and it wraps them into a simple, powerful toolkit for working with structured data."
   ]
  },
  {
   "cell_type": "code",
   "execution_count": 1,
   "id": "5fc2db75",
   "metadata": {},
   "outputs": [],
   "source": [
    "import pandas as pd \n",
    "import numpy as np\n",
    "#You do not need to import NumPy just because Pandas is built on top of it.\n",
    "#You only import NumPy when you plan to use NumPy directly in your own code."
   ]
  },
  {
   "cell_type": "markdown",
   "id": "a03cad97",
   "metadata": {},
   "source": [
    "Analyzing the Group of seven which is political formed by Canada, France, Germany,Italy, Japan , United Kingdom and United States . We will start analyzing the population and we will be initiating it with pandas.Series Object."
   ]
  },
  {
   "cell_type": "markdown",
   "id": "e22a0f02",
   "metadata": {},
   "source": [
    "Data Structue refer to the way of storing a data in a computer so that it can be used effeciently.\n",
    "Pandas has two types of data structures. \n",
    "1. pandas.Series\n",
    "2. pandas.DataFrame\n",
    "\n",
    "Think of data structures like containers:\n",
    "\t•\tA Series is like a single column of labeled data (e.g., a list of countries with their populations).\n",
    "\t•\tA DataFrame is like an Excel sheet — a table with rows and columns."
   ]
  },
  {
   "cell_type": "code",
   "execution_count": 2,
   "id": "7baa7e56",
   "metadata": {},
   "outputs": [],
   "source": [
    "# Population in Millions\n",
    "g7_population = pd.Series([35.467, 63.941, 80.940, 60.665, 127.061, 64.511, 318.523])"
   ]
  },
  {
   "cell_type": "markdown",
   "id": "9fa81740",
   "metadata": {},
   "source": [
    "pd.Series() is a function providecd by the Pandas Library that stores the data creating a Series Object that is one dimensional array. Its like a dictionary or Excel column."
   ]
  },
  {
   "cell_type": "code",
   "execution_count": 3,
   "id": "c568c9df",
   "metadata": {},
   "outputs": [
    {
     "data": {
      "text/plain": [
       "0     35.467\n",
       "1     63.941\n",
       "2     80.940\n",
       "3     60.665\n",
       "4    127.061\n",
       "5     64.511\n",
       "6    318.523\n",
       "dtype: float64"
      ]
     },
     "execution_count": 3,
     "metadata": {},
     "output_type": "execute_result"
    }
   ],
   "source": [
    "g7_population"
   ]
  },
  {
   "cell_type": "code",
   "execution_count": 4,
   "id": "649fe5cf",
   "metadata": {},
   "outputs": [],
   "source": [
    "g7_population.name = \"Group Seven Population in Millions\""
   ]
  },
  {
   "cell_type": "code",
   "execution_count": 5,
   "id": "e5bd0e4b",
   "metadata": {},
   "outputs": [
    {
     "data": {
      "text/plain": [
       "0     35.467\n",
       "1     63.941\n",
       "2     80.940\n",
       "3     60.665\n",
       "4    127.061\n",
       "5     64.511\n",
       "6    318.523\n",
       "Name: Group Seven Population in Millions, dtype: float64"
      ]
     },
     "execution_count": 5,
     "metadata": {},
     "output_type": "execute_result"
    }
   ],
   "source": [
    "g7_population\n",
    "#We can add a name to the pandas series"
   ]
  },
  {
   "cell_type": "markdown",
   "id": "12d984f7",
   "metadata": {},
   "source": [
    "Series are pretty similar to numpy arrays."
   ]
  },
  {
   "cell_type": "code",
   "execution_count": 6,
   "id": "2adcda7e",
   "metadata": {},
   "outputs": [
    {
     "data": {
      "text/plain": [
       "dtype('float64')"
      ]
     },
     "execution_count": 6,
     "metadata": {},
     "output_type": "execute_result"
    }
   ],
   "source": [
    "g7_population.dtype"
   ]
  },
  {
   "cell_type": "code",
   "execution_count": 7,
   "id": "e129e6a2",
   "metadata": {},
   "outputs": [
    {
     "data": {
      "text/plain": [
       "array([ 35.467,  63.941,  80.94 ,  60.665, 127.061,  64.511, 318.523])"
      ]
     },
     "execution_count": 7,
     "metadata": {},
     "output_type": "execute_result"
    }
   ],
   "source": [
    "g7_population.values\n",
    "#This shows the underlying datas in a Series"
   ]
  },
  {
   "cell_type": "code",
   "execution_count": 8,
   "id": "bd0a93da",
   "metadata": {},
   "outputs": [
    {
     "data": {
      "text/plain": [
       "numpy.ndarray"
      ]
     },
     "execution_count": 8,
     "metadata": {},
     "output_type": "execute_result"
    }
   ],
   "source": [
    "type(g7_population.values)\n",
    "#By this we can conclude that it is indeed a numpy array. So pandas series is a numpy array"
   ]
  },
  {
   "cell_type": "code",
   "execution_count": 9,
   "id": "aa41822d",
   "metadata": {},
   "outputs": [
    {
     "data": {
      "text/plain": [
       "np.float64(35.467)"
      ]
     },
     "execution_count": 9,
     "metadata": {},
     "output_type": "execute_result"
    }
   ],
   "source": [
    "#We can access its elements similar to extracting the elements in a python list\n",
    "g7_population[0]"
   ]
  },
  {
   "cell_type": "code",
   "execution_count": 10,
   "id": "a92dc92a",
   "metadata": {},
   "outputs": [
    {
     "data": {
      "text/plain": [
       "np.float64(63.941)"
      ]
     },
     "execution_count": 10,
     "metadata": {},
     "output_type": "execute_result"
    }
   ],
   "source": [
    "g7_population[1]"
   ]
  },
  {
   "cell_type": "code",
   "execution_count": 11,
   "id": "801385bd",
   "metadata": {},
   "outputs": [
    {
     "data": {
      "text/plain": [
       "RangeIndex(start=0, stop=7, step=1)"
      ]
     },
     "execution_count": 11,
     "metadata": {},
     "output_type": "execute_result"
    }
   ],
   "source": [
    "g7_population.index"
   ]
  },
  {
   "cell_type": "markdown",
   "id": "f97d8e39",
   "metadata": {},
   "source": [
    "We can see that a pandas series and a list both have their respective index. Index are metioned for the pandas if we look at them but for the list they are not mentioned but its there. The main difference is that the index of the pandas series are changable. We can add up our own index to it.\n",
    "\n",
    "These index are changable for a reason and that is what seperates a pandas library.Pandas allows changeable indexes so that data can be labeled, aligned, and analyzed in a smart and human-friendly way — which is essential for real-world data science and analytics."
   ]
  },
  {
   "cell_type": "code",
   "execution_count": 12,
   "id": "229e6ff2",
   "metadata": {},
   "outputs": [],
   "source": [
    "g7_population.index = [\n",
    "    \"Canada\",\n",
    "    \"France\",\n",
    "    \"Germany\",\n",
    "    \"Italy\",\n",
    "    \"Japan\",\n",
    "    \"United Kingdom\",\n",
    "    \"United States\",\n",
    "]"
   ]
  },
  {
   "cell_type": "code",
   "execution_count": 13,
   "id": "6a8ba1d1",
   "metadata": {},
   "outputs": [
    {
     "data": {
      "text/plain": [
       "Canada             35.467\n",
       "France             63.941\n",
       "Germany            80.940\n",
       "Italy              60.665\n",
       "Japan             127.061\n",
       "United Kingdom     64.511\n",
       "United States     318.523\n",
       "Name: Group Seven Population in Millions, dtype: float64"
      ]
     },
     "execution_count": 13,
     "metadata": {},
     "output_type": "execute_result"
    }
   ],
   "source": [
    "g7_population\n",
    "#This change of index helps us in reading the data in a more interactive way\n",
    "#So from now on we wont be labeling them using a certain index number , instead we will be using their respective meaningful names so that we can easily play with the data"
   ]
  },
  {
   "cell_type": "markdown",
   "id": "4f7da141",
   "metadata": {},
   "source": [
    "Now from the above data we can see that it looks similar to a dictionary that is a key value pair rather than a list with added features for data analysis. So, with that we can conclude that we can create series out of a dictionary.\n",
    "\n",
    "Key differences between a dictionary and pandas series\n",
    "\n",
    "Label-Based Access\n",
    "\n",
    "A Python dict allows access to values using keys. For example, my_dict[\"Canada\"] returns the value associated with the key “Canada”.\n",
    "\n",
    "Similarly, a pandas.Series allows access to values using custom index labels. For example, my_series[\"Canada\"] returns the corresponding value from the Series.\n",
    "\n",
    "⸻\n",
    "\n",
    "Order Preservation\n",
    "\n",
    "In Python, dictionaries preserve insertion order only from version 3.7 onwards. In earlier versions, the order of keys was not guaranteed.\n",
    "\n",
    "Pandas Series always preserves the order of elements. When you define values and labels in a specific order, that order is maintained throughout operations unless explicitly changed.\n",
    "\n",
    "⸻\n",
    "\n",
    "Vectorized Operations\n",
    "\n",
    "Dictionaries do not support vectorized operations. You cannot perform mathematical operations on all values of a dictionary at once. You would need to loop through or use comprehensions.\n",
    "\n",
    "Pandas Series support vectorized operations. You can perform operations like addition, subtraction, filtering, or applying mathematical functions directly on the entire Series without using loops.\n",
    "\n",
    "⸻\n",
    "\n",
    "Support for Missing Values (NaN)\n",
    "\n",
    "Dictionaries have no built-in support for representing or handling missing values. If a key is absent, accessing it raises a KeyError.\n",
    "\n",
    "Pandas Series can contain missing values using NaN (Not a Number), which makes it useful for real-world datasets that may have incomplete or missing entries.\n",
    "\n",
    "⸻\n",
    "\n",
    "Underlying Data Type\n",
    "\n",
    "A Python dictionary is a built-in data type and is part of the core Python language. It does not rely on external libraries.\n",
    "\n",
    "A Pandas Series is built on top of NumPy arrays. This gives it high performance and access to numerical operations that are not available in basic Python structures.\n",
    "\n",
    "\n",
    "Converting dictionaries or JSON into Pandas Series is a common step in data ingestion and preparation, enabling the analyst to move from raw data to a structured format that’s easy to analyze and manipulate."
   ]
  },
  {
   "cell_type": "markdown",
   "id": "b0c7a985",
   "metadata": {},
   "source": [
    "Ways to create a pandas series "
   ]
  },
  {
   "cell_type": "code",
   "execution_count": 14,
   "id": "9678b4c0",
   "metadata": {},
   "outputs": [
    {
     "name": "stdout",
     "output_type": "stream",
     "text": [
      "Canada             35.467\n",
      "France             63.941\n",
      "Germany            80.940\n",
      "Italy              60.665\n",
      "Japan             127.061\n",
      "United Kingdom     64.511\n",
      "United States     318.523\n",
      "dtype: float64\n"
     ]
    }
   ],
   "source": [
    "#1\n",
    "g7_population = pd.Series({\n",
    "    \"Canada\": 35.467,\n",
    "    \"France\": 63.941,\n",
    "    \"Germany\": 80.940,\n",
    "    \"Italy\": 60.665,\n",
    "    \"Japan\": 127.061,\n",
    "    \"United Kingdom\": 64.511,\n",
    "    \"United States\": 318.523\n",
    "})\n",
    "\n",
    "print(g7_population)"
   ]
  },
  {
   "cell_type": "code",
   "execution_count": 15,
   "id": "87cdc206",
   "metadata": {},
   "outputs": [
    {
     "name": "stdout",
     "output_type": "stream",
     "text": [
      "Canada             35.467\n",
      "France             63.941\n",
      "Germany            80.940\n",
      "Italy              60.665\n",
      "Japan             127.061\n",
      "United Kingdom     64.511\n",
      "United States     318.523\n",
      "dtype: float64\n"
     ]
    }
   ],
   "source": [
    "#2\n",
    "g7_population = pd.Series(\n",
    "    [35.467, 63.941, 80.940, 60.665, 127.061, 64.511, 318.523],\n",
    "    index=[\"Canada\", \"France\", \"Germany\", \"Italy\", \"Japan\", \"United Kingdom\", \"United States\"]\n",
    ")\n",
    "\n",
    "print(g7_population)"
   ]
  },
  {
   "cell_type": "code",
   "execution_count": 16,
   "id": "4fe1463e",
   "metadata": {},
   "outputs": [
    {
     "data": {
      "text/plain": [
       "France     63.941\n",
       "Germany    80.940\n",
       "Italy      60.665\n",
       "Spain         NaN\n",
       "dtype: float64"
      ]
     },
     "execution_count": 16,
     "metadata": {},
     "output_type": "execute_result"
    }
   ],
   "source": [
    "pd.Series(g7_population, index = [\"France\", \"Germany\", \"Italy\", \"Spain\"])\n",
    "#This line is:\n",
    "\t# •\tCreating a subset of the original Series,\n",
    "\t# •\tReordering the entries,\n",
    "\t# •\tFilling NaN for any index label not present in the original (like \"Spain\" in this case)."
   ]
  },
  {
   "cell_type": "markdown",
   "id": "adb3f19b",
   "metadata": {},
   "source": [
    "Above use of the given function\t\n",
    "    •\tpd.Series(original_series, index=[...]) creates a new Series.\n",
    "\t•\tIt is not assigned unless you do so manually.\n",
    "\t•\tIt’s useful for selecting, reordering, or introducing missing entries in a structured way."
   ]
  },
  {
   "cell_type": "markdown",
   "id": "de6a9ee5",
   "metadata": {},
   "source": [
    "Indexing "
   ]
  },
  {
   "cell_type": "code",
   "execution_count": 17,
   "id": "9a18fb78",
   "metadata": {},
   "outputs": [
    {
     "data": {
      "text/plain": [
       "Canada             35.467\n",
       "France             63.941\n",
       "Germany            80.940\n",
       "Italy              60.665\n",
       "Japan             127.061\n",
       "United Kingdom     64.511\n",
       "United States     318.523\n",
       "dtype: float64"
      ]
     },
     "execution_count": 17,
     "metadata": {},
     "output_type": "execute_result"
    }
   ],
   "source": [
    "g7_population"
   ]
  },
  {
   "cell_type": "code",
   "execution_count": 18,
   "id": "da8b6b24",
   "metadata": {},
   "outputs": [
    {
     "data": {
      "text/plain": [
       "np.float64(35.467)"
      ]
     },
     "execution_count": 18,
     "metadata": {},
     "output_type": "execute_result"
    }
   ],
   "source": [
    "#Accessing elements of different index in a panda series using key as a index\n",
    "g7_population[\"Canada\"]"
   ]
  },
  {
   "cell_type": "code",
   "execution_count": 19,
   "id": "433706f2",
   "metadata": {},
   "outputs": [
    {
     "data": {
      "text/plain": [
       "np.float64(127.061)"
      ]
     },
     "execution_count": 19,
     "metadata": {},
     "output_type": "execute_result"
    }
   ],
   "source": [
    "g7_population['Japan']"
   ]
  },
  {
   "cell_type": "code",
   "execution_count": 20,
   "id": "516c91d7",
   "metadata": {},
   "outputs": [
    {
     "name": "stderr",
     "output_type": "stream",
     "text": [
      "/var/folders/69/vt9s16nj1plcwqqsqytyf4l40000gn/T/ipykernel_21168/1635840347.py:1: FutureWarning: Series.__getitem__ treating keys as positions is deprecated. In a future version, integer keys will always be treated as labels (consistent with DataFrame behavior). To access a value by position, use `ser.iloc[pos]`\n",
      "  g7_population[0]\n"
     ]
    },
    {
     "data": {
      "text/plain": [
       "np.float64(35.467)"
      ]
     },
     "execution_count": 20,
     "metadata": {},
     "output_type": "execute_result"
    }
   ],
   "source": [
    "g7_population[0]\n",
    "#can be accesssed using the label or number index as well as the panda series are always in order"
   ]
  },
  {
   "cell_type": "code",
   "execution_count": 21,
   "id": "74524781",
   "metadata": {},
   "outputs": [
    {
     "data": {
      "text/plain": [
       "np.float64(35.467)"
      ]
     },
     "execution_count": 21,
     "metadata": {},
     "output_type": "execute_result"
    }
   ],
   "source": [
    "#iloc stands for integer-location based indexing.\n",
    "g7_population.iloc[0]"
   ]
  },
  {
   "cell_type": "code",
   "execution_count": 22,
   "id": "d48592f6",
   "metadata": {},
   "outputs": [
    {
     "data": {
      "text/plain": [
       "Canada    35.467\n",
       "France    63.941\n",
       "dtype: float64"
      ]
     },
     "execution_count": 22,
     "metadata": {},
     "output_type": "execute_result"
    }
   ],
   "source": [
    "g7_population.iloc[0:2]"
   ]
  },
  {
   "cell_type": "code",
   "execution_count": 23,
   "id": "e03be9cf",
   "metadata": {},
   "outputs": [
    {
     "data": {
      "text/plain": [
       "np.float64(35.467)"
      ]
     },
     "execution_count": 23,
     "metadata": {},
     "output_type": "execute_result"
    }
   ],
   "source": [
    "g7_population.iloc[0]"
   ]
  },
  {
   "cell_type": "code",
   "execution_count": 24,
   "id": "ff8058ac",
   "metadata": {},
   "outputs": [
    {
     "data": {
      "text/plain": [
       "np.float64(318.523)"
      ]
     },
     "execution_count": 24,
     "metadata": {},
     "output_type": "execute_result"
    }
   ],
   "source": [
    "g7_population.iloc[-1]"
   ]
  },
  {
   "cell_type": "code",
   "execution_count": 25,
   "id": "f172341c",
   "metadata": {},
   "outputs": [
    {
     "name": "stdout",
     "output_type": "stream",
     "text": [
      "Country       France\n",
      "Population      66.9\n",
      "Name: 1, dtype: object\n",
      "France\n",
      "0     35.5\n",
      "1     66.9\n",
      "2    127.3\n",
      "Name: Population, dtype: float64\n"
     ]
    }
   ],
   "source": [
    "data = {\n",
    "    \"Country\": [\"Canada\", \"France\", \"Japan\"],\n",
    "    \"Population\": [35.5, 66.9, 127.3]\n",
    "}\n",
    "\n",
    "df = pd.DataFrame(data)\n",
    "\n",
    "print(df.iloc[1])    \n",
    "print(df.iloc[1, 0])    \n",
    "print(df.iloc[:, 1])  "
   ]
  },
  {
   "cell_type": "markdown",
   "id": "132af32d",
   "metadata": {},
   "source": [
    "\t•\tdf.iloc[1] → Returns the entire second row of the DataFrame as a Series.\n",
    "\t•\tdf.iloc[1, 0] → Returns the value in the second row and first column (i.e., “France”).\n",
    "\t•\tdf.iloc[:, 1] → Returns the entire second column (Population) as a Series from the overall row. \":\" means all the row from the start to the end."
   ]
  },
  {
   "cell_type": "code",
   "execution_count": 31,
   "id": "9d3679d3",
   "metadata": {},
   "outputs": [
    {
     "data": {
      "text/plain": [
       "Canada      35.467\n",
       "France      63.941\n",
       "Germany     80.940\n",
       "Italy       60.665\n",
       "Japan      127.061\n",
       "dtype: float64"
      ]
     },
     "execution_count": 31,
     "metadata": {},
     "output_type": "execute_result"
    }
   ],
   "source": [
    "g7_population[\"Canada\": \"Japan\"]\n",
    "# Gives the data from Canada till Japan and its inclusive in case of series if you do indexing which is different from that of list "
   ]
  },
  {
   "cell_type": "markdown",
   "id": "ed1ba978",
   "metadata": {},
   "source": [
    "Conditional Selection using booleans\n",
    "Its very similar to that of numpys "
   ]
  },
  {
   "cell_type": "code",
   "execution_count": 33,
   "id": "59253ef9",
   "metadata": {},
   "outputs": [
    {
     "data": {
      "text/plain": [
       "Canada             35.467\n",
       "France             63.941\n",
       "Germany            80.940\n",
       "Italy              60.665\n",
       "Japan             127.061\n",
       "United Kingdom     64.511\n",
       "United States     318.523\n",
       "dtype: float64"
      ]
     },
     "execution_count": 33,
     "metadata": {},
     "output_type": "execute_result"
    }
   ],
   "source": [
    "g7_population"
   ]
  },
  {
   "cell_type": "code",
   "execution_count": null,
   "id": "84eba672",
   "metadata": {},
   "outputs": [
    {
     "data": {
      "text/plain": [
       "Canada            False\n",
       "France            False\n",
       "Germany            True\n",
       "Italy             False\n",
       "Japan              True\n",
       "United Kingdom    False\n",
       "United States      True\n",
       "dtype: bool"
      ]
     },
     "execution_count": 37,
     "metadata": {},
     "output_type": "execute_result"
    }
   ],
   "source": [
    "g7_population > 70\n",
    "#Filtering the series using the boolean condition so that the elements that meets the condition only gets filtered out\n",
    "    # The twist here is that instead of filtering only the elements meeting the condition it passes the series with it value in the boolean     "
   ]
  },
  {
   "cell_type": "code",
   "execution_count": 40,
   "id": "213e5a4c",
   "metadata": {},
   "outputs": [
    {
     "data": {
      "text/plain": [
       "Germany           80.940\n",
       "Japan            127.061\n",
       "United States    318.523\n",
       "dtype: float64"
      ]
     },
     "execution_count": 40,
     "metadata": {},
     "output_type": "execute_result"
    }
   ],
   "source": [
    "g7_population[g7_population > 70]\n",
    "#Here iisntead of passing the values with boolean the elements satisfying the codition it only printed out\n",
    "#Its more like indexing using the boolean conditions"
   ]
  },
  {
   "cell_type": "code",
   "execution_count": null,
   "id": "50611f10",
   "metadata": {},
   "outputs": [
    {
     "data": {
      "text/plain": [
       "np.float64(107.30114285714286)"
      ]
     },
     "execution_count": 41,
     "metadata": {},
     "output_type": "execute_result"
    }
   ],
   "source": [
    "g7_population.mean()"
   ]
  },
  {
   "cell_type": "code",
   "execution_count": 44,
   "id": "83b4f09f",
   "metadata": {},
   "outputs": [
    {
     "data": {
      "text/plain": [
       "Japan            127.061\n",
       "United States    318.523\n",
       "dtype: float64"
      ]
     },
     "execution_count": 44,
     "metadata": {},
     "output_type": "execute_result"
    }
   ],
   "source": [
    "g7_population[g7_population > g7_population.mean()]   \n",
    "#This shows the data that satisfies the condition that is the datas that has the population greater than the mean"
   ]
  },
  {
   "cell_type": "code",
   "execution_count": null,
   "id": "c6f363e4",
   "metadata": {},
   "outputs": [
    {
     "data": {
      "text/plain": [
       "97.25071289957825"
      ]
     },
     "execution_count": 46,
     "metadata": {},
     "output_type": "execute_result"
    }
   ],
   "source": [
    "g7_population.std()\n",
    "#Std stands for the standard deviation"
   ]
  },
  {
   "cell_type": "markdown",
   "id": "fbe1aef8",
   "metadata": {},
   "source": [
    "Standard deviation is a measure of how spread out the data is from the average (mean). If the standard deviation is low, it means most of the data points are close to the mean, indicating the data is consistent and stable. On the other hand, if the standard deviation is high, it means the data points are widely spread from the mean, showing inconsistency or variability in the data.\n",
    "\n",
    "In data science and machine learning, standard deviation is very useful. For example, if you run the same model multiple times and the accuracy varies a lot, the standard deviation of the accuracy will be high. This means the model’s performance is unstable and unreliable. But if the accuracy stays close to the same value each time, the standard deviation will be low, indicating the model is performing consistently and is more trustworthy."
   ]
  },
  {
   "cell_type": "code",
   "execution_count": 48,
   "id": "efc62c6b",
   "metadata": {},
   "outputs": [
    {
     "data": {
      "text/plain": [
       "France             63.941\n",
       "Germany            80.940\n",
       "Italy              60.665\n",
       "Japan             127.061\n",
       "United Kingdom     64.511\n",
       "United States     318.523\n",
       "dtype: float64"
      ]
     },
     "execution_count": 48,
     "metadata": {},
     "output_type": "execute_result"
    }
   ],
   "source": [
    "g7_population[(g7_population > g7_population.mean() - g7_population.std() /2 )| (g7_population  > g7_population.mean() + g7_population.std() / 2 )]\n"
   ]
  },
  {
   "cell_type": "markdown",
   "id": "7a1adc23",
   "metadata": {},
   "source": [
    "The above formula is trying to find out the series whose population is greater than the average and greather than a certain below the average. In the above code any population above (mean - half of standard deviation) or greater than (mean + half of the standard deviation) are printed out. This means it will just give anything above the threshold (mean- half of standard deviation)"
   ]
  },
  {
   "cell_type": "code",
   "execution_count": 50,
   "id": "8e9359ea",
   "metadata": {},
   "outputs": [
    {
     "data": {
      "text/plain": [
       "Canada             35467000.0\n",
       "France             63941000.0\n",
       "Germany            80940000.0\n",
       "Italy              60665000.0\n",
       "Japan             127061000.0\n",
       "United Kingdom     64511000.0\n",
       "United States     318523000.0\n",
       "dtype: float64"
      ]
     },
     "execution_count": 50,
     "metadata": {},
     "output_type": "execute_result"
    }
   ],
   "source": [
    "g7_population * 1_000_000\n",
    "#The use of this \"_\" is just for the readibility of big numbers"
   ]
  },
  {
   "cell_type": "code",
   "execution_count": 51,
   "id": "79513a9e",
   "metadata": {},
   "outputs": [
    {
     "data": {
      "text/plain": [
       "Canada            3.568603\n",
       "France            4.157961\n",
       "Germany           4.393708\n",
       "Italy             4.105367\n",
       "Japan             4.844667\n",
       "United Kingdom    4.166836\n",
       "United States     5.763695\n",
       "dtype: float64"
      ]
     },
     "execution_count": 51,
     "metadata": {},
     "output_type": "execute_result"
    }
   ],
   "source": [
    "np.log(g7_population)"
   ]
  },
  {
   "cell_type": "markdown",
   "id": "636d6e7d",
   "metadata": {},
   "source": [
    "The use of the log is to reduce the skewness of the data and bringing it closer to the normal distribution.\n",
    "\n",
    "Skewness refers to the asymmetry in a dataset’s distribution. When data is right-skewed (positively skewed), it has a long tail on the right, meaning a few large values pull the average higher—common in things like income data. In left-skewed (negatively skewed) data, the tail is on the left, and a few low values pull the average lower. A dataset with no skew is symmetrical, meaning its values are evenly spread around the average.\n",
    "\n",
    "A normal distribution, also known as a bell curve or Gaussian distribution, is a special type of symmetrical data distribution where most values cluster around the mean, and fewer values appear as you move away from it. In this distribution, the mean, median, and mode are all the same. Many natural phenomena, like height, weight, and standardized test scores, tend to follow this pattern.\n",
    "\n",
    "These concepts are widely used in statistics, machine learning, economics, and healthcare. Many algorithms and statistical tests assume that the data is normally distributed. When data is highly skewed, transformations like logarithms are used to reduce skewness and bring the data closer to a normal distribution, which helps improve model accuracy and interpretability.\n",
    "\n",
    "If 80% of your sales are high and only 20% are low, and those few low sales are much lower than the rest, your data becomes left-skewed (not right-skewed). Why? Because the long tail of the data is on the left side — those very low sales pull the distribution in that direction.\n",
    "\n",
    "Conversely, if most of your sales are low, but a few sales are extremely high, it becomes right-skewed, with a long tail on the right (the high sales stretch the curve).\n",
    "\n",
    "A normal distribution would mean that most sales are around the average, and both low and high sales are relatively balanced — say, a 60/40 split, or even more balanced like 50/50, with symmetry around the mean.\n",
    "\n",
    "What about Standard Deviation?\n",
    "\n",
    "Standard deviation does not measure skewness, but instead measures spread — how far your data points are from the mean. In a normal distribution, standard deviation tells you things like:\n",
    "\t•\t~68% of values lie within ±1 standard deviation from the mean\n",
    "\t•\t~95% within ±2\n",
    "\t•\t~99.7% within ±3\n",
    "\n",
    "In skewed data, standard deviation can be misleading, because the mean itself is pulled by outliers. That’s why we often transform skewed data (e.g., with a log transform) to bring it closer to normal, making standard deviation and other statistical tools more meaningful.\n",
    "\n",
    "The tail is the key to skewness:\n",
    "\t•\tIf the tail is on the right side (towards the higher values), the data is right-skewed (positively skewed).\n",
    "\t•\tThis means most data points are low or moderate, but there are some very high values pulling the tail out to the right.\n",
    "\t•\tIf the tail is on the left side (towards the lower values), the data is left-skewed (negatively skewed).\n",
    "\t•\tThis means most data points are high or moderate, but there are some very low values pulling the tail out to the left.\n",
    "\n",
    "\n",
    "\n",
    "The extreme outliers—those data points that are far away from the average—play the biggest role in determining skewness."
   ]
  },
  {
   "cell_type": "code",
   "execution_count": null,
   "id": "104b3605",
   "metadata": {},
   "outputs": [
    {
     "data": {
      "text/plain": [
       "np.float64(73.6148)"
      ]
     },
     "execution_count": 53,
     "metadata": {},
     "output_type": "execute_result"
    }
   ],
   "source": [
    "g7_population[\"Canada\":\"Japan\"].mean()\n",
    "#This is the use of slicing to calculate the mean among them"
   ]
  },
  {
   "cell_type": "markdown",
   "id": "ae77ec1a",
   "metadata": {},
   "source": [
    "Boolean Arrays"
   ]
  },
  {
   "cell_type": "code",
   "execution_count": 55,
   "id": "2edba706",
   "metadata": {},
   "outputs": [
    {
     "data": {
      "text/plain": [
       "Canada             35.467\n",
       "France             63.941\n",
       "Germany            80.940\n",
       "Italy              60.665\n",
       "Japan             127.061\n",
       "United Kingdom     64.511\n",
       "United States     318.523\n",
       "dtype: float64"
      ]
     },
     "execution_count": 55,
     "metadata": {},
     "output_type": "execute_result"
    }
   ],
   "source": [
    "g7_population\n"
   ]
  },
  {
   "cell_type": "code",
   "execution_count": 56,
   "id": "045e6196",
   "metadata": {},
   "outputs": [
    {
     "data": {
      "text/plain": [
       "Canada            False\n",
       "France            False\n",
       "Germany            True\n",
       "Italy             False\n",
       "Japan              True\n",
       "United Kingdom    False\n",
       "United States      True\n",
       "dtype: bool"
      ]
     },
     "execution_count": 56,
     "metadata": {},
     "output_type": "execute_result"
    }
   ],
   "source": [
    "g7_population > 80"
   ]
  },
  {
   "cell_type": "code",
   "execution_count": 58,
   "id": "a9521ca8",
   "metadata": {},
   "outputs": [
    {
     "data": {
      "text/plain": [
       "Germany           80.940\n",
       "Japan            127.061\n",
       "United States    318.523\n",
       "dtype: float64"
      ]
     },
     "execution_count": 58,
     "metadata": {},
     "output_type": "execute_result"
    }
   ],
   "source": [
    "g7_population[g7_population > 80]"
   ]
  },
  {
   "cell_type": "code",
   "execution_count": 60,
   "id": "e53efd80",
   "metadata": {},
   "outputs": [
    {
     "data": {
      "text/plain": [
       "Canada            35.467\n",
       "Germany           80.940\n",
       "Japan            127.061\n",
       "United States    318.523\n",
       "dtype: float64"
      ]
     },
     "execution_count": 60,
     "metadata": {},
     "output_type": "execute_result"
    }
   ],
   "source": [
    "g7_population[(g7_population > 80) | (g7_population <40)]\n",
    "# The datas that satisfies any one of them is filtered out "
   ]
  },
  {
   "cell_type": "code",
   "execution_count": 61,
   "id": "d630469e",
   "metadata": {},
   "outputs": [
    {
     "data": {
      "text/plain": [
       "Series([], dtype: float64)"
      ]
     },
     "execution_count": 61,
     "metadata": {},
     "output_type": "execute_result"
    }
   ],
   "source": [
    "g7_population[(g7_population > 80) & (g7_population < 40)]\n",
    "#The datas that satisfies both the conditions are filtered out\n"
   ]
  },
  {
   "cell_type": "markdown",
   "id": "b8b64cd9",
   "metadata": {},
   "source": [
    "Modifying a series"
   ]
  },
  {
   "cell_type": "code",
   "execution_count": 62,
   "id": "c72f7978",
   "metadata": {},
   "outputs": [],
   "source": [
    "g7_population[\"Canada\"] = 100"
   ]
  },
  {
   "cell_type": "code",
   "execution_count": 63,
   "id": "dbf66c3c",
   "metadata": {},
   "outputs": [
    {
     "data": {
      "text/plain": [
       "Canada            100.000\n",
       "France             63.941\n",
       "Germany            80.940\n",
       "Italy              60.665\n",
       "Japan             127.061\n",
       "United Kingdom     64.511\n",
       "United States     318.523\n",
       "dtype: float64"
      ]
     },
     "execution_count": 63,
     "metadata": {},
     "output_type": "execute_result"
    }
   ],
   "source": [
    "g7_population"
   ]
  },
  {
   "cell_type": "code",
   "execution_count": null,
   "id": "45d3ba79",
   "metadata": {},
   "outputs": [],
   "source": [
    "g7_population.iloc[-1] = 200\n",
    "#Using iloc to access the data using the ordering"
   ]
  },
  {
   "cell_type": "code",
   "execution_count": 67,
   "id": "30dab4db",
   "metadata": {},
   "outputs": [
    {
     "data": {
      "text/plain": [
       "Canada            100.000\n",
       "France             63.941\n",
       "Germany            80.940\n",
       "Italy              60.665\n",
       "Japan             127.061\n",
       "United Kingdom     64.511\n",
       "United States     200.000\n",
       "dtype: float64"
      ]
     },
     "execution_count": 67,
     "metadata": {},
     "output_type": "execute_result"
    }
   ],
   "source": [
    "g7_population"
   ]
  },
  {
   "cell_type": "code",
   "execution_count": null,
   "id": "39adc7e3",
   "metadata": {},
   "outputs": [],
   "source": [
    "g7_population[(g7_population <= 100)] = 20\n",
    "#Anything that satisfies the condition are changed accordingly using the condition"
   ]
  },
  {
   "cell_type": "code",
   "execution_count": 70,
   "id": "1aa7c6ac",
   "metadata": {},
   "outputs": [
    {
     "data": {
      "text/plain": [
       "Canada             20.000\n",
       "France             20.000\n",
       "Germany            20.000\n",
       "Italy              20.000\n",
       "Japan             127.061\n",
       "United Kingdom     20.000\n",
       "United States     200.000\n",
       "dtype: float64"
      ]
     },
     "execution_count": 70,
     "metadata": {},
     "output_type": "execute_result"
    }
   ],
   "source": [
    "g7_population"
   ]
  },
  {
   "cell_type": "markdown",
   "id": "07021475",
   "metadata": {},
   "source": [
    "All of the above procedures are very important in the data cleaning."
   ]
  },
  {
   "cell_type": "markdown",
   "id": "8ccbeaa5",
   "metadata": {},
   "source": [
    "Dataframes"
   ]
  },
  {
   "cell_type": "markdown",
   "id": "479047b4",
   "metadata": {},
   "source": []
  }
 ],
 "metadata": {
  "kernelspec": {
   "display_name": "modelprep",
   "language": "python",
   "name": "python3"
  },
  "language_info": {
   "codemirror_mode": {
    "name": "ipython",
    "version": 3
   },
   "file_extension": ".py",
   "mimetype": "text/x-python",
   "name": "python",
   "nbconvert_exporter": "python",
   "pygments_lexer": "ipython3",
   "version": "3.10.18"
  }
 },
 "nbformat": 4,
 "nbformat_minor": 5
}
