{
 "cells": [
  {
   "cell_type": "markdown",
   "id": "2801d089",
   "metadata": {},
   "source": [
    "## Pandas\n",
    "Pandas is a Python tool that helps you work with data easily — like how Excel works with tables.\n",
    "\n",
    "It lets you:\n",
    "\t•\tRead data from files (like CSV or Excel)\n",
    "\t•\tLook at it in a table format\n",
    "\t•\tClean it if it’s messy\n",
    "\t•\tSort, filter, and analyze it\n",
    "\t•\tSave the clean data again\n",
    "\n",
    "Pandas is used a lot in data analysis, data science, and machine learning because most real-world data comes in table form — with rows and columns — and Pandas makes working with that kind of data super simple and powerful.\n",
    "\n",
    "\n",
    "\n",
    "Pandas gives you 2 main tools:\n",
    "\t1.\tSeries → a single column (like a list with labels)\n",
    "\t2.\tDataFrame → a full table (like an Excel sheet)\n",
    "\t•\tIt works on top of NumPy, meaning it uses NumPy under the hood to do fast calculations but adds labels (column names and row numbers) so it’s easier to understand and work with.\n",
    "\t•\tIt’s made for structured data (tables), which is the kind of data you usually get in the real world: CSVs, spreadsheets, databases, survey results, etc.\n",
    "\n",
    "Why Pandas is Important\n",
    "\t•\tIt’s the starting point for any data science or machine learning project\n",
    "\t•\tIt helps you explore and clean data before you can build charts or train models\n",
    "\t•\tIt’s much easier to use than raw Python or NumPy when working with tabular data\n",
    "\n",
    "\n",
    "🧮 NumPy (Numerical Python)\n",
    "\n",
    "NumPy is a Python library that focuses on numerical operations and high-performance computations using arrays.\n",
    "\t•\tIt works with n-dimensional arrays (like lists of numbers, grids, or even 3D arrays).\n",
    "\t•\tIt’s mainly used for mathematical operations, linear algebra, matrix multiplications, and scientific calculations.\n",
    "\t•\tIt’s extremely fast because it uses optimized C code underneath.\n",
    "\t•\tData in NumPy doesn’t have column or row labels — just index positions (like array[0][1]).\n",
    "\t•\tIt’s perfect when you need to work with large sets of numbers or mathematical modeling, such as building machine learning algorithms from scratch.\n",
    "\t•\tHowever, for real-world data like customer information or CSV files, NumPy alone is not very intuitive.\n",
    "\n",
    "⸻\n",
    "\n",
    "🐼 Pandas (Python Data Analysis Library)\n",
    "\n",
    "Pandas is a library built on top of NumPy that makes working with structured/tabular data much easier. Behind the scenes numpy is the one that is working as a engine for most of the cases. Pandas can be considered as a dashboard for now.\n",
    "\t•\tIt introduces two main data structures: Series (1D labeled array) and DataFrame (2D labeled table).\n",
    "\t•\tWith Pandas, you can easily read data from files like CSVs, Excel sheets, and databases.\n",
    "\t•\tIt allows you to filter, sort, group, and clean data using human-friendly row and column labels.\n",
    "\t•\tIt’s designed to make real-world data handling simple and efficient — especially when data is messy or unstructured.\n",
    "\t•\tWhile it’s not as fast at pure number crunching as NumPy, it makes data analysis workflows far more convenient.\n",
    "\t•\tIn most data science projects, Pandas is used first to clean and explore the data, and then NumPy may be used underneath for the calculations.\n",
    "\n",
    "\n",
    "Pandas is built using NumPy (for data handling and speed), Cython (for performance), and Python (for structure), and it wraps them into a simple, powerful toolkit for working with structured data."
   ]
  },
  {
   "cell_type": "code",
   "execution_count": 1,
   "id": "5fc2db75",
   "metadata": {},
   "outputs": [],
   "source": [
    "import pandas as pd \n",
    "import numpy as np\n",
    "#You do not need to import NumPy just because Pandas is built on top of it.\n",
    "#You only import NumPy when you plan to use NumPy directly in your own code."
   ]
  },
  {
   "cell_type": "markdown",
   "id": "a03cad97",
   "metadata": {},
   "source": [
    "Analyzing the Group of seven which is political formed by Canada, France, Germany,Italy, Japan , United Kingdom and United States . We will start analyzing the population and we will be initiating it with pandas.Series Object."
   ]
  },
  {
   "cell_type": "markdown",
   "id": "e22a0f02",
   "metadata": {},
   "source": [
    "Data Structue refer to the way of storing a data in a computer so that it can be used effeciently.\n",
    "Pandas has two types of data structures. \n",
    "1. pandas.Series\n",
    "2. pandas.DataFrame\n",
    "\n",
    "Think of data structures like containers:\n",
    "\t•\tA Series is like a single column of labeled data (e.g., a list of countries with their populations).\n",
    "\t•\tA DataFrame is like an Excel sheet — a table with rows and columns."
   ]
  },
  {
   "cell_type": "code",
   "execution_count": 2,
   "id": "7baa7e56",
   "metadata": {},
   "outputs": [],
   "source": [
    "# Population in Millions\n",
    "g7_population = pd.Series([35.467, 63.941, 80.940, 60.665, 127.061, 64.511, 318.523])"
   ]
  },
  {
   "cell_type": "markdown",
   "id": "9fa81740",
   "metadata": {},
   "source": [
    "pd.Series() is a function providecd by the Pandas Library that stores the data creating a Series Object that is one dimensional array. Its like a dictionary or Excel column."
   ]
  },
  {
   "cell_type": "code",
   "execution_count": 3,
   "id": "c568c9df",
   "metadata": {},
   "outputs": [
    {
     "data": {
      "text/plain": [
       "0     35.467\n",
       "1     63.941\n",
       "2     80.940\n",
       "3     60.665\n",
       "4    127.061\n",
       "5     64.511\n",
       "6    318.523\n",
       "dtype: float64"
      ]
     },
     "execution_count": 3,
     "metadata": {},
     "output_type": "execute_result"
    }
   ],
   "source": [
    "g7_population"
   ]
  },
  {
   "cell_type": "code",
   "execution_count": 4,
   "id": "649fe5cf",
   "metadata": {},
   "outputs": [],
   "source": [
    "g7_population.name = \"Group Seven Population in Millions\""
   ]
  },
  {
   "cell_type": "code",
   "execution_count": 5,
   "id": "e5bd0e4b",
   "metadata": {},
   "outputs": [
    {
     "data": {
      "text/plain": [
       "0     35.467\n",
       "1     63.941\n",
       "2     80.940\n",
       "3     60.665\n",
       "4    127.061\n",
       "5     64.511\n",
       "6    318.523\n",
       "Name: Group Seven Population in Millions, dtype: float64"
      ]
     },
     "execution_count": 5,
     "metadata": {},
     "output_type": "execute_result"
    }
   ],
   "source": [
    "g7_population\n",
    "#We can add a name to the pandas series"
   ]
  },
  {
   "cell_type": "markdown",
   "id": "12d984f7",
   "metadata": {},
   "source": [
    "Series are pretty similar to numpy arrays."
   ]
  },
  {
   "cell_type": "code",
   "execution_count": 6,
   "id": "2adcda7e",
   "metadata": {},
   "outputs": [
    {
     "data": {
      "text/plain": [
       "dtype('float64')"
      ]
     },
     "execution_count": 6,
     "metadata": {},
     "output_type": "execute_result"
    }
   ],
   "source": [
    "g7_population.dtype"
   ]
  },
  {
   "cell_type": "code",
   "execution_count": 7,
   "id": "e129e6a2",
   "metadata": {},
   "outputs": [
    {
     "data": {
      "text/plain": [
       "array([ 35.467,  63.941,  80.94 ,  60.665, 127.061,  64.511, 318.523])"
      ]
     },
     "execution_count": 7,
     "metadata": {},
     "output_type": "execute_result"
    }
   ],
   "source": [
    "g7_population.values\n",
    "#This shows the underlying datas in a Series"
   ]
  },
  {
   "cell_type": "code",
   "execution_count": 8,
   "id": "bd0a93da",
   "metadata": {},
   "outputs": [
    {
     "data": {
      "text/plain": [
       "numpy.ndarray"
      ]
     },
     "execution_count": 8,
     "metadata": {},
     "output_type": "execute_result"
    }
   ],
   "source": [
    "type(g7_population.values)\n",
    "#By this we can conclude that it is indeed a numpy array. So pandas series is a numpy array"
   ]
  },
  {
   "cell_type": "code",
   "execution_count": 9,
   "id": "aa41822d",
   "metadata": {},
   "outputs": [
    {
     "data": {
      "text/plain": [
       "np.float64(35.467)"
      ]
     },
     "execution_count": 9,
     "metadata": {},
     "output_type": "execute_result"
    }
   ],
   "source": [
    "#We can access its elements similar to extracting the elements in a python list\n",
    "g7_population[0]"
   ]
  },
  {
   "cell_type": "code",
   "execution_count": 10,
   "id": "a92dc92a",
   "metadata": {},
   "outputs": [
    {
     "data": {
      "text/plain": [
       "np.float64(63.941)"
      ]
     },
     "execution_count": 10,
     "metadata": {},
     "output_type": "execute_result"
    }
   ],
   "source": [
    "g7_population[1]"
   ]
  },
  {
   "cell_type": "code",
   "execution_count": 11,
   "id": "801385bd",
   "metadata": {},
   "outputs": [
    {
     "data": {
      "text/plain": [
       "RangeIndex(start=0, stop=7, step=1)"
      ]
     },
     "execution_count": 11,
     "metadata": {},
     "output_type": "execute_result"
    }
   ],
   "source": [
    "g7_population.index"
   ]
  },
  {
   "cell_type": "markdown",
   "id": "f97d8e39",
   "metadata": {},
   "source": [
    "We can see that a pandas series and a list both have their respective index. Index are metioned for the pandas if we look at them but for the list they are not mentioned but its there. The main difference is that the index of the pandas series are changable. We can add up our own index to it.\n",
    "\n",
    "These index are changable for a reason and that is what seperates a pandas library.Pandas allows changeable indexes so that data can be labeled, aligned, and analyzed in a smart and human-friendly way — which is essential for real-world data science and analytics."
   ]
  },
  {
   "cell_type": "code",
   "execution_count": 12,
   "id": "229e6ff2",
   "metadata": {},
   "outputs": [],
   "source": [
    "g7_population.index = [\n",
    "    \"Canada\",\n",
    "    \"France\",\n",
    "    \"Germany\",\n",
    "    \"Italy\",\n",
    "    \"Japan\",\n",
    "    \"United Kingdom\",\n",
    "    \"United States\",\n",
    "]"
   ]
  },
  {
   "cell_type": "code",
   "execution_count": 13,
   "id": "6a8ba1d1",
   "metadata": {},
   "outputs": [
    {
     "data": {
      "text/plain": [
       "Canada             35.467\n",
       "France             63.941\n",
       "Germany            80.940\n",
       "Italy              60.665\n",
       "Japan             127.061\n",
       "United Kingdom     64.511\n",
       "United States     318.523\n",
       "Name: Group Seven Population in Millions, dtype: float64"
      ]
     },
     "execution_count": 13,
     "metadata": {},
     "output_type": "execute_result"
    }
   ],
   "source": [
    "g7_population\n",
    "#This change of index helps us in reading the data in a more interactive way\n",
    "#So from now on we wont be labeling them using a certain index number , instead we will be using their respective meaningful names so that we can easily play with the data"
   ]
  },
  {
   "cell_type": "markdown",
   "id": "4f7da141",
   "metadata": {},
   "source": [
    "Now from the above data we can see that it looks similar to a dictionary that is a key value pair rather than a list with added features for data analysis. So, with that we can conclude that we can create series out of a dictionary.\n",
    "\n",
    "Key differences between a dictionary and pandas series\n",
    "\n",
    "Label-Based Access\n",
    "\n",
    "A Python dict allows access to values using keys. For example, my_dict[\"Canada\"] returns the value associated with the key “Canada”.\n",
    "\n",
    "Similarly, a pandas.Series allows access to values using custom index labels. For example, my_series[\"Canada\"] returns the corresponding value from the Series.\n",
    "\n",
    "⸻\n",
    "\n",
    "Order Preservation\n",
    "\n",
    "In Python, dictionaries preserve insertion order only from version 3.7 onwards. In earlier versions, the order of keys was not guaranteed.\n",
    "\n",
    "Pandas Series always preserves the order of elements. When you define values and labels in a specific order, that order is maintained throughout operations unless explicitly changed.\n",
    "\n",
    "⸻\n",
    "\n",
    "Vectorized Operations\n",
    "\n",
    "Dictionaries do not support vectorized operations. You cannot perform mathematical operations on all values of a dictionary at once. You would need to loop through or use comprehensions.\n",
    "\n",
    "Pandas Series support vectorized operations. You can perform operations like addition, subtraction, filtering, or applying mathematical functions directly on the entire Series without using loops.\n",
    "\n",
    "⸻\n",
    "\n",
    "Support for Missing Values (NaN)\n",
    "\n",
    "Dictionaries have no built-in support for representing or handling missing values. If a key is absent, accessing it raises a KeyError.\n",
    "\n",
    "Pandas Series can contain missing values using NaN (Not a Number), which makes it useful for real-world datasets that may have incomplete or missing entries.\n",
    "\n",
    "⸻\n",
    "\n",
    "Underlying Data Type\n",
    "\n",
    "A Python dictionary is a built-in data type and is part of the core Python language. It does not rely on external libraries.\n",
    "\n",
    "A Pandas Series is built on top of NumPy arrays. This gives it high performance and access to numerical operations that are not available in basic Python structures.\n",
    "\n",
    "\n",
    "Converting dictionaries or JSON into Pandas Series is a common step in data ingestion and preparation, enabling the analyst to move from raw data to a structured format that’s easy to analyze and manipulate."
   ]
  },
  {
   "cell_type": "markdown",
   "id": "b0c7a985",
   "metadata": {},
   "source": [
    "Ways to create a pandas series "
   ]
  },
  {
   "cell_type": "code",
   "execution_count": 14,
   "id": "9678b4c0",
   "metadata": {},
   "outputs": [
    {
     "name": "stdout",
     "output_type": "stream",
     "text": [
      "Canada             35.467\n",
      "France             63.941\n",
      "Germany            80.940\n",
      "Italy              60.665\n",
      "Japan             127.061\n",
      "United Kingdom     64.511\n",
      "United States     318.523\n",
      "dtype: float64\n"
     ]
    }
   ],
   "source": [
    "#1\n",
    "g7_population = pd.Series({\n",
    "    \"Canada\": 35.467,\n",
    "    \"France\": 63.941,\n",
    "    \"Germany\": 80.940,\n",
    "    \"Italy\": 60.665,\n",
    "    \"Japan\": 127.061,\n",
    "    \"United Kingdom\": 64.511,\n",
    "    \"United States\": 318.523\n",
    "})\n",
    "\n",
    "print(g7_population)"
   ]
  },
  {
   "cell_type": "code",
   "execution_count": 15,
   "id": "87cdc206",
   "metadata": {},
   "outputs": [
    {
     "name": "stdout",
     "output_type": "stream",
     "text": [
      "Canada             35.467\n",
      "France             63.941\n",
      "Germany            80.940\n",
      "Italy              60.665\n",
      "Japan             127.061\n",
      "United Kingdom     64.511\n",
      "United States     318.523\n",
      "dtype: float64\n"
     ]
    }
   ],
   "source": [
    "#2\n",
    "g7_population = pd.Series(\n",
    "    [35.467, 63.941, 80.940, 60.665, 127.061, 64.511, 318.523],\n",
    "    index=[\"Canada\", \"France\", \"Germany\", \"Italy\", \"Japan\", \"United Kingdom\", \"United States\"]\n",
    ")\n",
    "\n",
    "print(g7_population)"
   ]
  },
  {
   "cell_type": "code",
   "execution_count": 16,
   "id": "4fe1463e",
   "metadata": {},
   "outputs": [
    {
     "data": {
      "text/plain": [
       "France     63.941\n",
       "Germany    80.940\n",
       "Italy      60.665\n",
       "Spain         NaN\n",
       "dtype: float64"
      ]
     },
     "execution_count": 16,
     "metadata": {},
     "output_type": "execute_result"
    }
   ],
   "source": [
    "pd.Series(g7_population, index = [\"France\", \"Germany\", \"Italy\", \"Spain\"])\n",
    "#This line is:\n",
    "\t# •\tCreating a subset of the original Series,\n",
    "\t# •\tReordering the entries,\n",
    "\t# •\tFilling NaN for any index label not present in the original (like \"Spain\" in this case)."
   ]
  },
  {
   "cell_type": "markdown",
   "id": "adb3f19b",
   "metadata": {},
   "source": [
    "Above use of the given function\t\n",
    "    •\tpd.Series(original_series, index=[...]) creates a new Series.\n",
    "\t•\tIt is not assigned unless you do so manually.\n",
    "\t•\tIt’s useful for selecting, reordering, or introducing missing entries in a structured way."
   ]
  },
  {
   "cell_type": "markdown",
   "id": "de6a9ee5",
   "metadata": {},
   "source": [
    "Indexing "
   ]
  },
  {
   "cell_type": "code",
   "execution_count": 17,
   "id": "9a18fb78",
   "metadata": {},
   "outputs": [
    {
     "data": {
      "text/plain": [
       "Canada             35.467\n",
       "France             63.941\n",
       "Germany            80.940\n",
       "Italy              60.665\n",
       "Japan             127.061\n",
       "United Kingdom     64.511\n",
       "United States     318.523\n",
       "dtype: float64"
      ]
     },
     "execution_count": 17,
     "metadata": {},
     "output_type": "execute_result"
    }
   ],
   "source": [
    "g7_population"
   ]
  },
  {
   "cell_type": "code",
   "execution_count": 18,
   "id": "da8b6b24",
   "metadata": {},
   "outputs": [
    {
     "data": {
      "text/plain": [
       "np.float64(35.467)"
      ]
     },
     "execution_count": 18,
     "metadata": {},
     "output_type": "execute_result"
    }
   ],
   "source": [
    "#Accessing elements of different index in a panda series using key as a index\n",
    "g7_population[\"Canada\"]"
   ]
  },
  {
   "cell_type": "code",
   "execution_count": 19,
   "id": "433706f2",
   "metadata": {},
   "outputs": [
    {
     "data": {
      "text/plain": [
       "np.float64(127.061)"
      ]
     },
     "execution_count": 19,
     "metadata": {},
     "output_type": "execute_result"
    }
   ],
   "source": [
    "g7_population['Japan']"
   ]
  },
  {
   "cell_type": "code",
   "execution_count": 20,
   "id": "516c91d7",
   "metadata": {},
   "outputs": [
    {
     "name": "stderr",
     "output_type": "stream",
     "text": [
      "/var/folders/69/vt9s16nj1plcwqqsqytyf4l40000gn/T/ipykernel_10563/1635840347.py:1: FutureWarning: Series.__getitem__ treating keys as positions is deprecated. In a future version, integer keys will always be treated as labels (consistent with DataFrame behavior). To access a value by position, use `ser.iloc[pos]`\n",
      "  g7_population[0]\n"
     ]
    },
    {
     "data": {
      "text/plain": [
       "np.float64(35.467)"
      ]
     },
     "execution_count": 20,
     "metadata": {},
     "output_type": "execute_result"
    }
   ],
   "source": [
    "g7_population[0]\n",
    "#can be accesssed using the label or number index as well as the panda series are always in order"
   ]
  },
  {
   "cell_type": "code",
   "execution_count": 21,
   "id": "74524781",
   "metadata": {},
   "outputs": [
    {
     "data": {
      "text/plain": [
       "np.float64(35.467)"
      ]
     },
     "execution_count": 21,
     "metadata": {},
     "output_type": "execute_result"
    }
   ],
   "source": [
    "#iloc stands for integer-location based indexing.\n",
    "g7_population.iloc[0]"
   ]
  },
  {
   "cell_type": "code",
   "execution_count": 22,
   "id": "d48592f6",
   "metadata": {},
   "outputs": [
    {
     "data": {
      "text/plain": [
       "Canada    35.467\n",
       "France    63.941\n",
       "dtype: float64"
      ]
     },
     "execution_count": 22,
     "metadata": {},
     "output_type": "execute_result"
    }
   ],
   "source": [
    "g7_population.iloc[0:2]"
   ]
  },
  {
   "cell_type": "code",
   "execution_count": 23,
   "id": "e03be9cf",
   "metadata": {},
   "outputs": [
    {
     "data": {
      "text/plain": [
       "np.float64(35.467)"
      ]
     },
     "execution_count": 23,
     "metadata": {},
     "output_type": "execute_result"
    }
   ],
   "source": [
    "g7_population.iloc[0]"
   ]
  },
  {
   "cell_type": "code",
   "execution_count": 24,
   "id": "ff8058ac",
   "metadata": {},
   "outputs": [
    {
     "data": {
      "text/plain": [
       "np.float64(318.523)"
      ]
     },
     "execution_count": 24,
     "metadata": {},
     "output_type": "execute_result"
    }
   ],
   "source": [
    "g7_population.iloc[-1]"
   ]
  },
  {
   "cell_type": "code",
   "execution_count": 25,
   "id": "f172341c",
   "metadata": {},
   "outputs": [
    {
     "name": "stdout",
     "output_type": "stream",
     "text": [
      "Country       France\n",
      "Population      66.9\n",
      "Name: 1, dtype: object\n",
      "France\n",
      "0     35.5\n",
      "1     66.9\n",
      "2    127.3\n",
      "Name: Population, dtype: float64\n"
     ]
    }
   ],
   "source": [
    "data = {\n",
    "    \"Country\": [\"Canada\", \"France\", \"Japan\"],\n",
    "    \"Population\": [35.5, 66.9, 127.3]\n",
    "}\n",
    "\n",
    "df = pd.DataFrame(data)\n",
    "\n",
    "print(df.iloc[1])    \n",
    "print(df.iloc[1, 0])    \n",
    "print(df.iloc[:, 1])  "
   ]
  },
  {
   "cell_type": "markdown",
   "id": "132af32d",
   "metadata": {},
   "source": [
    "\t•\tdf.iloc[1] → Returns the entire second row of the DataFrame as a Series.\n",
    "\t•\tdf.iloc[1, 0] → Returns the value in the second row and first column (i.e., “France”).\n",
    "\t•\tdf.iloc[:, 1] → Returns the entire second column (Population) as a Series from the overall row. \":\" means all the row from the start to the end."
   ]
  },
  {
   "cell_type": "code",
   "execution_count": 26,
   "id": "9d3679d3",
   "metadata": {},
   "outputs": [
    {
     "data": {
      "text/plain": [
       "Canada      35.467\n",
       "France      63.941\n",
       "Germany     80.940\n",
       "Italy       60.665\n",
       "Japan      127.061\n",
       "dtype: float64"
      ]
     },
     "execution_count": 26,
     "metadata": {},
     "output_type": "execute_result"
    }
   ],
   "source": [
    "g7_population[\"Canada\": \"Japan\"]\n",
    "# Gives the data from Canada till Japan and its inclusive in case of series if you do indexing which is different from that of list "
   ]
  },
  {
   "cell_type": "markdown",
   "id": "ed1ba978",
   "metadata": {},
   "source": [
    "Conditional Selection using booleans\n",
    "Its very similar to that of numpys "
   ]
  },
  {
   "cell_type": "code",
   "execution_count": 27,
   "id": "59253ef9",
   "metadata": {},
   "outputs": [
    {
     "data": {
      "text/plain": [
       "Canada             35.467\n",
       "France             63.941\n",
       "Germany            80.940\n",
       "Italy              60.665\n",
       "Japan             127.061\n",
       "United Kingdom     64.511\n",
       "United States     318.523\n",
       "dtype: float64"
      ]
     },
     "execution_count": 27,
     "metadata": {},
     "output_type": "execute_result"
    }
   ],
   "source": [
    "g7_population"
   ]
  },
  {
   "cell_type": "code",
   "execution_count": 28,
   "id": "84eba672",
   "metadata": {},
   "outputs": [
    {
     "data": {
      "text/plain": [
       "Canada            False\n",
       "France            False\n",
       "Germany            True\n",
       "Italy             False\n",
       "Japan              True\n",
       "United Kingdom    False\n",
       "United States      True\n",
       "dtype: bool"
      ]
     },
     "execution_count": 28,
     "metadata": {},
     "output_type": "execute_result"
    }
   ],
   "source": [
    "g7_population > 70\n",
    "#Filtering the series using the boolean condition so that the elements that meets the condition only gets filtered out\n",
    "    # The twist here is that instead of filtering only the elements meeting the condition it passes the series with it value in the boolean     "
   ]
  },
  {
   "cell_type": "code",
   "execution_count": 29,
   "id": "213e5a4c",
   "metadata": {},
   "outputs": [
    {
     "data": {
      "text/plain": [
       "Germany           80.940\n",
       "Japan            127.061\n",
       "United States    318.523\n",
       "dtype: float64"
      ]
     },
     "execution_count": 29,
     "metadata": {},
     "output_type": "execute_result"
    }
   ],
   "source": [
    "g7_population[g7_population > 70]\n",
    "#Here iisntead of passing the values with boolean the elements satisfying the codition it only printed out\n",
    "#Its more like indexing using the boolean conditions"
   ]
  },
  {
   "cell_type": "code",
   "execution_count": 30,
   "id": "50611f10",
   "metadata": {},
   "outputs": [
    {
     "data": {
      "text/plain": [
       "np.float64(107.30114285714286)"
      ]
     },
     "execution_count": 30,
     "metadata": {},
     "output_type": "execute_result"
    }
   ],
   "source": [
    "g7_population.mean()"
   ]
  },
  {
   "cell_type": "code",
   "execution_count": 31,
   "id": "83b4f09f",
   "metadata": {},
   "outputs": [
    {
     "data": {
      "text/plain": [
       "Japan            127.061\n",
       "United States    318.523\n",
       "dtype: float64"
      ]
     },
     "execution_count": 31,
     "metadata": {},
     "output_type": "execute_result"
    }
   ],
   "source": [
    "g7_population[g7_population > g7_population.mean()]   \n",
    "#This shows the data that satisfies the condition that is the datas that has the population greater than the mean"
   ]
  },
  {
   "cell_type": "code",
   "execution_count": 32,
   "id": "c6f363e4",
   "metadata": {},
   "outputs": [
    {
     "data": {
      "text/plain": [
       "97.25071289957825"
      ]
     },
     "execution_count": 32,
     "metadata": {},
     "output_type": "execute_result"
    }
   ],
   "source": [
    "g7_population.std()\n",
    "#Std stands for the standard deviation"
   ]
  },
  {
   "cell_type": "markdown",
   "id": "fbe1aef8",
   "metadata": {},
   "source": [
    "Standard deviation is a measure of how spread out the data is from the average (mean). If the standard deviation is low, it means most of the data points are close to the mean, indicating the data is consistent and stable. On the other hand, if the standard deviation is high, it means the data points are widely spread from the mean, showing inconsistency or variability in the data.\n",
    "\n",
    "In data science and machine learning, standard deviation is very useful. For example, if you run the same model multiple times and the accuracy varies a lot, the standard deviation of the accuracy will be high. This means the model’s performance is unstable and unreliable. But if the accuracy stays close to the same value each time, the standard deviation will be low, indicating the model is performing consistently and is more trustworthy."
   ]
  },
  {
   "cell_type": "code",
   "execution_count": 33,
   "id": "efc62c6b",
   "metadata": {},
   "outputs": [
    {
     "data": {
      "text/plain": [
       "France             63.941\n",
       "Germany            80.940\n",
       "Italy              60.665\n",
       "Japan             127.061\n",
       "United Kingdom     64.511\n",
       "United States     318.523\n",
       "dtype: float64"
      ]
     },
     "execution_count": 33,
     "metadata": {},
     "output_type": "execute_result"
    }
   ],
   "source": [
    "g7_population[(g7_population > g7_population.mean() - g7_population.std() /2 )| (g7_population  > g7_population.mean() + g7_population.std() / 2 )]\n"
   ]
  },
  {
   "cell_type": "markdown",
   "id": "7a1adc23",
   "metadata": {},
   "source": [
    "The above formula is trying to find out the series whose population is greater than the average and greather than a certain below the average. In the above code any population above (mean - half of standard deviation) or greater than (mean + half of the standard deviation) are printed out. This means it will just give anything above the threshold (mean- half of standard deviation)"
   ]
  },
  {
   "cell_type": "code",
   "execution_count": 34,
   "id": "8e9359ea",
   "metadata": {},
   "outputs": [
    {
     "data": {
      "text/plain": [
       "Canada             35467000.0\n",
       "France             63941000.0\n",
       "Germany            80940000.0\n",
       "Italy              60665000.0\n",
       "Japan             127061000.0\n",
       "United Kingdom     64511000.0\n",
       "United States     318523000.0\n",
       "dtype: float64"
      ]
     },
     "execution_count": 34,
     "metadata": {},
     "output_type": "execute_result"
    }
   ],
   "source": [
    "g7_population * 1_000_000\n",
    "#The use of this \"_\" is just for the readibility of big numbers"
   ]
  },
  {
   "cell_type": "code",
   "execution_count": 35,
   "id": "79513a9e",
   "metadata": {},
   "outputs": [
    {
     "data": {
      "text/plain": [
       "Canada            3.568603\n",
       "France            4.157961\n",
       "Germany           4.393708\n",
       "Italy             4.105367\n",
       "Japan             4.844667\n",
       "United Kingdom    4.166836\n",
       "United States     5.763695\n",
       "dtype: float64"
      ]
     },
     "execution_count": 35,
     "metadata": {},
     "output_type": "execute_result"
    }
   ],
   "source": [
    "np.log(g7_population)"
   ]
  },
  {
   "cell_type": "markdown",
   "id": "636d6e7d",
   "metadata": {},
   "source": [
    "The use of the log is to reduce the skewness of the data and bringing it closer to the normal distribution.\n",
    "\n",
    "Skewness refers to the asymmetry in a dataset’s distribution. When data is right-skewed (positively skewed), it has a long tail on the right, meaning a few large values pull the average higher—common in things like income data. In left-skewed (negatively skewed) data, the tail is on the left, and a few low values pull the average lower. A dataset with no skew is symmetrical, meaning its values are evenly spread around the average.\n",
    "\n",
    "A normal distribution, also known as a bell curve or Gaussian distribution, is a special type of symmetrical data distribution where most values cluster around the mean, and fewer values appear as you move away from it. In this distribution, the mean, median, and mode are all the same. Many natural phenomena, like height, weight, and standardized test scores, tend to follow this pattern.\n",
    "\n",
    "These concepts are widely used in statistics, machine learning, economics, and healthcare. Many algorithms and statistical tests assume that the data is normally distributed. When data is highly skewed, transformations like logarithms are used to reduce skewness and bring the data closer to a normal distribution, which helps improve model accuracy and interpretability.\n",
    "\n",
    "If 80% of your sales are high and only 20% are low, and those few low sales are much lower than the rest, your data becomes left-skewed (not right-skewed). Why? Because the long tail of the data is on the left side — those very low sales pull the distribution in that direction.\n",
    "\n",
    "Conversely, if most of your sales are low, but a few sales are extremely high, it becomes right-skewed, with a long tail on the right (the high sales stretch the curve).\n",
    "\n",
    "A normal distribution would mean that most sales are around the average, and both low and high sales are relatively balanced — say, a 60/40 split, or even more balanced like 50/50, with symmetry around the mean.\n",
    "\n",
    "What about Standard Deviation?\n",
    "\n",
    "Standard deviation does not measure skewness, but instead measures spread — how far your data points are from the mean. In a normal distribution, standard deviation tells you things like:\n",
    "\t•\t~68% of values lie within ±1 standard deviation from the mean\n",
    "\t•\t~95% within ±2\n",
    "\t•\t~99.7% within ±3\n",
    "\n",
    "In skewed data, standard deviation can be misleading, because the mean itself is pulled by outliers. That’s why we often transform skewed data (e.g., with a log transform) to bring it closer to normal, making standard deviation and other statistical tools more meaningful.\n",
    "\n",
    "The tail is the key to skewness:\n",
    "\t•\tIf the tail is on the right side (towards the higher values), the data is right-skewed (positively skewed).\n",
    "\t•\tThis means most data points are low or moderate, but there are some very high values pulling the tail out to the right.\n",
    "\t•\tIf the tail is on the left side (towards the lower values), the data is left-skewed (negatively skewed).\n",
    "\t•\tThis means most data points are high or moderate, but there are some very low values pulling the tail out to the left.\n",
    "\n",
    "\n",
    "\n",
    "The extreme outliers—those data points that are far away from the average—play the biggest role in determining skewness."
   ]
  },
  {
   "cell_type": "code",
   "execution_count": 36,
   "id": "104b3605",
   "metadata": {},
   "outputs": [
    {
     "data": {
      "text/plain": [
       "np.float64(73.6148)"
      ]
     },
     "execution_count": 36,
     "metadata": {},
     "output_type": "execute_result"
    }
   ],
   "source": [
    "g7_population[\"Canada\":\"Japan\"].mean()\n",
    "#This is the use of slicing to calculate the mean among them"
   ]
  },
  {
   "cell_type": "markdown",
   "id": "ae77ec1a",
   "metadata": {},
   "source": [
    "Boolean Arrays"
   ]
  },
  {
   "cell_type": "code",
   "execution_count": 37,
   "id": "2edba706",
   "metadata": {},
   "outputs": [
    {
     "data": {
      "text/plain": [
       "Canada             35.467\n",
       "France             63.941\n",
       "Germany            80.940\n",
       "Italy              60.665\n",
       "Japan             127.061\n",
       "United Kingdom     64.511\n",
       "United States     318.523\n",
       "dtype: float64"
      ]
     },
     "execution_count": 37,
     "metadata": {},
     "output_type": "execute_result"
    }
   ],
   "source": [
    "g7_population\n"
   ]
  },
  {
   "cell_type": "code",
   "execution_count": 38,
   "id": "045e6196",
   "metadata": {},
   "outputs": [
    {
     "data": {
      "text/plain": [
       "Canada            False\n",
       "France            False\n",
       "Germany            True\n",
       "Italy             False\n",
       "Japan              True\n",
       "United Kingdom    False\n",
       "United States      True\n",
       "dtype: bool"
      ]
     },
     "execution_count": 38,
     "metadata": {},
     "output_type": "execute_result"
    }
   ],
   "source": [
    "g7_population > 80"
   ]
  },
  {
   "cell_type": "code",
   "execution_count": 39,
   "id": "a9521ca8",
   "metadata": {},
   "outputs": [
    {
     "data": {
      "text/plain": [
       "Germany           80.940\n",
       "Japan            127.061\n",
       "United States    318.523\n",
       "dtype: float64"
      ]
     },
     "execution_count": 39,
     "metadata": {},
     "output_type": "execute_result"
    }
   ],
   "source": [
    "g7_population[g7_population > 80]"
   ]
  },
  {
   "cell_type": "code",
   "execution_count": 40,
   "id": "e53efd80",
   "metadata": {},
   "outputs": [
    {
     "data": {
      "text/plain": [
       "Canada            35.467\n",
       "Germany           80.940\n",
       "Japan            127.061\n",
       "United States    318.523\n",
       "dtype: float64"
      ]
     },
     "execution_count": 40,
     "metadata": {},
     "output_type": "execute_result"
    }
   ],
   "source": [
    "g7_population[(g7_population > 80) | (g7_population <40)]\n",
    "# The datas that satisfies any one of them is filtered out "
   ]
  },
  {
   "cell_type": "code",
   "execution_count": 41,
   "id": "d630469e",
   "metadata": {},
   "outputs": [
    {
     "data": {
      "text/plain": [
       "Series([], dtype: float64)"
      ]
     },
     "execution_count": 41,
     "metadata": {},
     "output_type": "execute_result"
    }
   ],
   "source": [
    "g7_population[(g7_population > 80) & (g7_population < 40)]\n",
    "#The datas that satisfies both the conditions are filtered out\n"
   ]
  },
  {
   "cell_type": "markdown",
   "id": "b8b64cd9",
   "metadata": {},
   "source": [
    "Modifying a series"
   ]
  },
  {
   "cell_type": "code",
   "execution_count": 42,
   "id": "c72f7978",
   "metadata": {},
   "outputs": [],
   "source": [
    "g7_population[\"Canada\"] = 100"
   ]
  },
  {
   "cell_type": "code",
   "execution_count": 43,
   "id": "dbf66c3c",
   "metadata": {},
   "outputs": [
    {
     "data": {
      "text/plain": [
       "Canada            100.000\n",
       "France             63.941\n",
       "Germany            80.940\n",
       "Italy              60.665\n",
       "Japan             127.061\n",
       "United Kingdom     64.511\n",
       "United States     318.523\n",
       "dtype: float64"
      ]
     },
     "execution_count": 43,
     "metadata": {},
     "output_type": "execute_result"
    }
   ],
   "source": [
    "g7_population"
   ]
  },
  {
   "cell_type": "code",
   "execution_count": 44,
   "id": "45d3ba79",
   "metadata": {},
   "outputs": [],
   "source": [
    "g7_population.iloc[-1] = 200\n",
    "#Using iloc to access the data using the ordering"
   ]
  },
  {
   "cell_type": "code",
   "execution_count": 45,
   "id": "30dab4db",
   "metadata": {},
   "outputs": [
    {
     "data": {
      "text/plain": [
       "Canada            100.000\n",
       "France             63.941\n",
       "Germany            80.940\n",
       "Italy              60.665\n",
       "Japan             127.061\n",
       "United Kingdom     64.511\n",
       "United States     200.000\n",
       "dtype: float64"
      ]
     },
     "execution_count": 45,
     "metadata": {},
     "output_type": "execute_result"
    }
   ],
   "source": [
    "g7_population"
   ]
  },
  {
   "cell_type": "code",
   "execution_count": 46,
   "id": "39adc7e3",
   "metadata": {},
   "outputs": [],
   "source": [
    "g7_population[(g7_population <= 100)] = 20\n",
    "#Anything that satisfies the condition are changed accordingly using the condition"
   ]
  },
  {
   "cell_type": "code",
   "execution_count": 47,
   "id": "1aa7c6ac",
   "metadata": {},
   "outputs": [
    {
     "data": {
      "text/plain": [
       "Canada             20.000\n",
       "France             20.000\n",
       "Germany            20.000\n",
       "Italy              20.000\n",
       "Japan             127.061\n",
       "United Kingdom     20.000\n",
       "United States     200.000\n",
       "dtype: float64"
      ]
     },
     "execution_count": 47,
     "metadata": {},
     "output_type": "execute_result"
    }
   ],
   "source": [
    "g7_population"
   ]
  },
  {
   "cell_type": "markdown",
   "id": "07021475",
   "metadata": {},
   "source": [
    "All of the above procedures are very important in the data cleaning."
   ]
  },
  {
   "cell_type": "markdown",
   "id": "8ccbeaa5",
   "metadata": {},
   "source": [
    "Dataframes"
   ]
  },
  {
   "cell_type": "markdown",
   "id": "479047b4",
   "metadata": {},
   "source": [
    "A DataFrame in pandas is a two-dimensional, tabular data structure that resembles a table or spreadsheet, where data is organized in rows and columns. Each column in a DataFrame can hold different types of data (e.g., integers, floats, strings), and each column is essentially a Series, which is a one-dimensional labeled array. The key difference is that a Series represents a single column of data with an associated index, while a DataFrame is a collection of multiple Series sharing a common index, allowing for more complex data manipulation and analysis. In simpler terms, a Series is like a single column, and a DataFrame is like a full table made up of multiple such columns."
   ]
  },
  {
   "cell_type": "code",
   "execution_count": 48,
   "id": "54b5a2ff",
   "metadata": {},
   "outputs": [],
   "source": [
    "import pandas as pd\n",
    "\n",
    "g7_data = {\n",
    "    'Population': [37742154, 65273511, 83783942, 60461826, 126476461, 67886011, 331002651],\n",
    "    'GDP': [1736.4, 2715.5, 3845.6, 2001.2, 4971.8, 2829.1, 21433.2],  # in billions USD\n",
    "    'Continent': ['North America', 'Europe', 'Europe', 'Europe', 'Asia', 'Europe', 'North America'],\n",
    "    'HDI': [0.936, 0.901, 0.942, 0.895, 0.925, 0.929, 0.921]  # Approx HDI values\n",
    "}\n"
   ]
  },
  {
   "cell_type": "code",
   "execution_count": 49,
   "id": "064793d4",
   "metadata": {},
   "outputs": [],
   "source": [
    "df = pd.DataFrame(g7_data)\n",
    "#Since the above data is a dictionary we will be using the pandas to make it as a data frame"
   ]
  },
  {
   "cell_type": "code",
   "execution_count": 50,
   "id": "de5b3a53",
   "metadata": {},
   "outputs": [
    {
     "data": {
      "text/html": [
       "<div>\n",
       "<style scoped>\n",
       "    .dataframe tbody tr th:only-of-type {\n",
       "        vertical-align: middle;\n",
       "    }\n",
       "\n",
       "    .dataframe tbody tr th {\n",
       "        vertical-align: top;\n",
       "    }\n",
       "\n",
       "    .dataframe thead th {\n",
       "        text-align: right;\n",
       "    }\n",
       "</style>\n",
       "<table border=\"1\" class=\"dataframe\">\n",
       "  <thead>\n",
       "    <tr style=\"text-align: right;\">\n",
       "      <th></th>\n",
       "      <th>Population</th>\n",
       "      <th>GDP</th>\n",
       "      <th>Continent</th>\n",
       "      <th>HDI</th>\n",
       "    </tr>\n",
       "  </thead>\n",
       "  <tbody>\n",
       "    <tr>\n",
       "      <th>0</th>\n",
       "      <td>37742154</td>\n",
       "      <td>1736.4</td>\n",
       "      <td>North America</td>\n",
       "      <td>0.936</td>\n",
       "    </tr>\n",
       "    <tr>\n",
       "      <th>1</th>\n",
       "      <td>65273511</td>\n",
       "      <td>2715.5</td>\n",
       "      <td>Europe</td>\n",
       "      <td>0.901</td>\n",
       "    </tr>\n",
       "    <tr>\n",
       "      <th>2</th>\n",
       "      <td>83783942</td>\n",
       "      <td>3845.6</td>\n",
       "      <td>Europe</td>\n",
       "      <td>0.942</td>\n",
       "    </tr>\n",
       "    <tr>\n",
       "      <th>3</th>\n",
       "      <td>60461826</td>\n",
       "      <td>2001.2</td>\n",
       "      <td>Europe</td>\n",
       "      <td>0.895</td>\n",
       "    </tr>\n",
       "    <tr>\n",
       "      <th>4</th>\n",
       "      <td>126476461</td>\n",
       "      <td>4971.8</td>\n",
       "      <td>Asia</td>\n",
       "      <td>0.925</td>\n",
       "    </tr>\n",
       "    <tr>\n",
       "      <th>5</th>\n",
       "      <td>67886011</td>\n",
       "      <td>2829.1</td>\n",
       "      <td>Europe</td>\n",
       "      <td>0.929</td>\n",
       "    </tr>\n",
       "    <tr>\n",
       "      <th>6</th>\n",
       "      <td>331002651</td>\n",
       "      <td>21433.2</td>\n",
       "      <td>North America</td>\n",
       "      <td>0.921</td>\n",
       "    </tr>\n",
       "  </tbody>\n",
       "</table>\n",
       "</div>"
      ],
      "text/plain": [
       "   Population      GDP      Continent    HDI\n",
       "0    37742154   1736.4  North America  0.936\n",
       "1    65273511   2715.5         Europe  0.901\n",
       "2    83783942   3845.6         Europe  0.942\n",
       "3    60461826   2001.2         Europe  0.895\n",
       "4   126476461   4971.8           Asia  0.925\n",
       "5    67886011   2829.1         Europe  0.929\n",
       "6   331002651  21433.2  North America  0.921"
      ]
     },
     "execution_count": 50,
     "metadata": {},
     "output_type": "execute_result"
    }
   ],
   "source": [
    "df"
   ]
  },
  {
   "cell_type": "code",
   "execution_count": 51,
   "id": "76890b59",
   "metadata": {},
   "outputs": [],
   "source": [
    "df.index = ['Canada', 'France', 'Germany', 'Italy', 'Japan', 'United Kingdom', 'United States']"
   ]
  },
  {
   "cell_type": "code",
   "execution_count": 52,
   "id": "0fd4fb3b",
   "metadata": {},
   "outputs": [
    {
     "data": {
      "text/html": [
       "<div>\n",
       "<style scoped>\n",
       "    .dataframe tbody tr th:only-of-type {\n",
       "        vertical-align: middle;\n",
       "    }\n",
       "\n",
       "    .dataframe tbody tr th {\n",
       "        vertical-align: top;\n",
       "    }\n",
       "\n",
       "    .dataframe thead th {\n",
       "        text-align: right;\n",
       "    }\n",
       "</style>\n",
       "<table border=\"1\" class=\"dataframe\">\n",
       "  <thead>\n",
       "    <tr style=\"text-align: right;\">\n",
       "      <th></th>\n",
       "      <th>Population</th>\n",
       "      <th>GDP</th>\n",
       "      <th>Continent</th>\n",
       "      <th>HDI</th>\n",
       "    </tr>\n",
       "  </thead>\n",
       "  <tbody>\n",
       "    <tr>\n",
       "      <th>Canada</th>\n",
       "      <td>37742154</td>\n",
       "      <td>1736.4</td>\n",
       "      <td>North America</td>\n",
       "      <td>0.936</td>\n",
       "    </tr>\n",
       "    <tr>\n",
       "      <th>France</th>\n",
       "      <td>65273511</td>\n",
       "      <td>2715.5</td>\n",
       "      <td>Europe</td>\n",
       "      <td>0.901</td>\n",
       "    </tr>\n",
       "    <tr>\n",
       "      <th>Germany</th>\n",
       "      <td>83783942</td>\n",
       "      <td>3845.6</td>\n",
       "      <td>Europe</td>\n",
       "      <td>0.942</td>\n",
       "    </tr>\n",
       "    <tr>\n",
       "      <th>Italy</th>\n",
       "      <td>60461826</td>\n",
       "      <td>2001.2</td>\n",
       "      <td>Europe</td>\n",
       "      <td>0.895</td>\n",
       "    </tr>\n",
       "    <tr>\n",
       "      <th>Japan</th>\n",
       "      <td>126476461</td>\n",
       "      <td>4971.8</td>\n",
       "      <td>Asia</td>\n",
       "      <td>0.925</td>\n",
       "    </tr>\n",
       "    <tr>\n",
       "      <th>United Kingdom</th>\n",
       "      <td>67886011</td>\n",
       "      <td>2829.1</td>\n",
       "      <td>Europe</td>\n",
       "      <td>0.929</td>\n",
       "    </tr>\n",
       "    <tr>\n",
       "      <th>United States</th>\n",
       "      <td>331002651</td>\n",
       "      <td>21433.2</td>\n",
       "      <td>North America</td>\n",
       "      <td>0.921</td>\n",
       "    </tr>\n",
       "  </tbody>\n",
       "</table>\n",
       "</div>"
      ],
      "text/plain": [
       "                Population      GDP      Continent    HDI\n",
       "Canada            37742154   1736.4  North America  0.936\n",
       "France            65273511   2715.5         Europe  0.901\n",
       "Germany           83783942   3845.6         Europe  0.942\n",
       "Italy             60461826   2001.2         Europe  0.895\n",
       "Japan            126476461   4971.8           Asia  0.925\n",
       "United Kingdom    67886011   2829.1         Europe  0.929\n",
       "United States    331002651  21433.2  North America  0.921"
      ]
     },
     "execution_count": 52,
     "metadata": {},
     "output_type": "execute_result"
    }
   ],
   "source": [
    "df\n",
    "# Here now the country names are being used as the index "
   ]
  },
  {
   "cell_type": "code",
   "execution_count": 53,
   "id": "a53970e9",
   "metadata": {},
   "outputs": [
    {
     "data": {
      "text/plain": [
       "Index(['Population', 'GDP', 'Continent', 'HDI'], dtype='object')"
      ]
     },
     "execution_count": 53,
     "metadata": {},
     "output_type": "execute_result"
    }
   ],
   "source": [
    "df.columns    "
   ]
  },
  {
   "cell_type": "code",
   "execution_count": 54,
   "id": "3e1e5547",
   "metadata": {},
   "outputs": [
    {
     "data": {
      "text/plain": [
       "Index(['Canada', 'France', 'Germany', 'Italy', 'Japan', 'United Kingdom',\n",
       "       'United States'],\n",
       "      dtype='object')"
      ]
     },
     "execution_count": 54,
     "metadata": {},
     "output_type": "execute_result"
    }
   ],
   "source": [
    "df.index"
   ]
  },
  {
   "cell_type": "code",
   "execution_count": 55,
   "id": "17a4af3a",
   "metadata": {},
   "outputs": [
    {
     "name": "stdout",
     "output_type": "stream",
     "text": [
      "<class 'pandas.core.frame.DataFrame'>\n",
      "Index: 7 entries, Canada to United States\n",
      "Data columns (total 4 columns):\n",
      " #   Column      Non-Null Count  Dtype  \n",
      "---  ------      --------------  -----  \n",
      " 0   Population  7 non-null      int64  \n",
      " 1   GDP         7 non-null      float64\n",
      " 2   Continent   7 non-null      object \n",
      " 3   HDI         7 non-null      float64\n",
      "dtypes: float64(2), int64(1), object(1)\n",
      "memory usage: 280.0+ bytes\n"
     ]
    }
   ],
   "source": [
    "df.info()"
   ]
  },
  {
   "cell_type": "code",
   "execution_count": 56,
   "id": "d9e48f41",
   "metadata": {},
   "outputs": [
    {
     "data": {
      "text/plain": [
       "28"
      ]
     },
     "execution_count": 56,
     "metadata": {},
     "output_type": "execute_result"
    }
   ],
   "source": [
    "df.size"
   ]
  },
  {
   "cell_type": "code",
   "execution_count": 57,
   "id": "4781e993",
   "metadata": {},
   "outputs": [
    {
     "data": {
      "text/plain": [
       "(7, 4)"
      ]
     },
     "execution_count": 57,
     "metadata": {},
     "output_type": "execute_result"
    }
   ],
   "source": [
    "df.shape"
   ]
  },
  {
   "cell_type": "code",
   "execution_count": 58,
   "id": "daa97dcc",
   "metadata": {},
   "outputs": [
    {
     "data": {
      "text/html": [
       "<div>\n",
       "<style scoped>\n",
       "    .dataframe tbody tr th:only-of-type {\n",
       "        vertical-align: middle;\n",
       "    }\n",
       "\n",
       "    .dataframe tbody tr th {\n",
       "        vertical-align: top;\n",
       "    }\n",
       "\n",
       "    .dataframe thead th {\n",
       "        text-align: right;\n",
       "    }\n",
       "</style>\n",
       "<table border=\"1\" class=\"dataframe\">\n",
       "  <thead>\n",
       "    <tr style=\"text-align: right;\">\n",
       "      <th></th>\n",
       "      <th>Population</th>\n",
       "      <th>GDP</th>\n",
       "      <th>HDI</th>\n",
       "    </tr>\n",
       "  </thead>\n",
       "  <tbody>\n",
       "    <tr>\n",
       "      <th>count</th>\n",
       "      <td>7.000000e+00</td>\n",
       "      <td>7.000000</td>\n",
       "      <td>7.000000</td>\n",
       "    </tr>\n",
       "    <tr>\n",
       "      <th>mean</th>\n",
       "      <td>1.103752e+08</td>\n",
       "      <td>5647.542857</td>\n",
       "      <td>0.921286</td>\n",
       "    </tr>\n",
       "    <tr>\n",
       "      <th>std</th>\n",
       "      <td>1.010357e+08</td>\n",
       "      <td>7047.741341</td>\n",
       "      <td>0.017423</td>\n",
       "    </tr>\n",
       "    <tr>\n",
       "      <th>min</th>\n",
       "      <td>3.774215e+07</td>\n",
       "      <td>1736.400000</td>\n",
       "      <td>0.895000</td>\n",
       "    </tr>\n",
       "    <tr>\n",
       "      <th>25%</th>\n",
       "      <td>6.286767e+07</td>\n",
       "      <td>2358.350000</td>\n",
       "      <td>0.911000</td>\n",
       "    </tr>\n",
       "    <tr>\n",
       "      <th>50%</th>\n",
       "      <td>6.788601e+07</td>\n",
       "      <td>2829.100000</td>\n",
       "      <td>0.925000</td>\n",
       "    </tr>\n",
       "    <tr>\n",
       "      <th>75%</th>\n",
       "      <td>1.051302e+08</td>\n",
       "      <td>4408.700000</td>\n",
       "      <td>0.932500</td>\n",
       "    </tr>\n",
       "    <tr>\n",
       "      <th>max</th>\n",
       "      <td>3.310027e+08</td>\n",
       "      <td>21433.200000</td>\n",
       "      <td>0.942000</td>\n",
       "    </tr>\n",
       "  </tbody>\n",
       "</table>\n",
       "</div>"
      ],
      "text/plain": [
       "         Population           GDP       HDI\n",
       "count  7.000000e+00      7.000000  7.000000\n",
       "mean   1.103752e+08   5647.542857  0.921286\n",
       "std    1.010357e+08   7047.741341  0.017423\n",
       "min    3.774215e+07   1736.400000  0.895000\n",
       "25%    6.286767e+07   2358.350000  0.911000\n",
       "50%    6.788601e+07   2829.100000  0.925000\n",
       "75%    1.051302e+08   4408.700000  0.932500\n",
       "max    3.310027e+08  21433.200000  0.942000"
      ]
     },
     "execution_count": 58,
     "metadata": {},
     "output_type": "execute_result"
    }
   ],
   "source": [
    "df.describe()"
   ]
  },
  {
   "cell_type": "code",
   "execution_count": 59,
   "id": "6ffde2e4",
   "metadata": {},
   "outputs": [
    {
     "data": {
      "text/plain": [
       "Population      int64\n",
       "GDP           float64\n",
       "Continent      object\n",
       "HDI           float64\n",
       "dtype: object"
      ]
     },
     "execution_count": 59,
     "metadata": {},
     "output_type": "execute_result"
    }
   ],
   "source": [
    "df.dtypes"
   ]
  },
  {
   "cell_type": "code",
   "execution_count": 60,
   "id": "17c01732",
   "metadata": {},
   "outputs": [
    {
     "data": {
      "text/plain": [
       "<bound method IndexOpsMixin.value_counts of Population      int64\n",
       "GDP           float64\n",
       "Continent      object\n",
       "HDI           float64\n",
       "dtype: object>"
      ]
     },
     "execution_count": 60,
     "metadata": {},
     "output_type": "execute_result"
    }
   ],
   "source": [
    "df.dtypes.value_counts"
   ]
  },
  {
   "cell_type": "markdown",
   "id": "61c8aa81",
   "metadata": {},
   "source": [
    "In Pandas, .columns returns the list of column names in the DataFrame.\n",
    ".index displays the row index range or labels.\n",
    ".info() provides a concise summary including column data types, non-null counts, and memory usage.\n",
    ".describe() offers statistical summaries such as mean, min, max, and quartiles for numeric columns.\n",
    ".size gives the total number of elements in the DataFrame (rows × columns).\n",
    ".shape returns a tuple representing the number of rows and columns.\n",
    ".dtypes shows the data type of each column.\n",
    ".dtypes.value_counts() counts how many columns exist for each data type.\n"
   ]
  },
  {
   "cell_type": "markdown",
   "id": "9e27e6c3",
   "metadata": {},
   "source": [
    "Indexing, Selection and Slicing "
   ]
  },
  {
   "cell_type": "code",
   "execution_count": 61,
   "id": "cd7b7ab1",
   "metadata": {},
   "outputs": [
    {
     "data": {
      "text/html": [
       "<div>\n",
       "<style scoped>\n",
       "    .dataframe tbody tr th:only-of-type {\n",
       "        vertical-align: middle;\n",
       "    }\n",
       "\n",
       "    .dataframe tbody tr th {\n",
       "        vertical-align: top;\n",
       "    }\n",
       "\n",
       "    .dataframe thead th {\n",
       "        text-align: right;\n",
       "    }\n",
       "</style>\n",
       "<table border=\"1\" class=\"dataframe\">\n",
       "  <thead>\n",
       "    <tr style=\"text-align: right;\">\n",
       "      <th></th>\n",
       "      <th>Population</th>\n",
       "      <th>GDP</th>\n",
       "      <th>Continent</th>\n",
       "      <th>HDI</th>\n",
       "    </tr>\n",
       "  </thead>\n",
       "  <tbody>\n",
       "    <tr>\n",
       "      <th>Canada</th>\n",
       "      <td>37742154</td>\n",
       "      <td>1736.4</td>\n",
       "      <td>North America</td>\n",
       "      <td>0.936</td>\n",
       "    </tr>\n",
       "    <tr>\n",
       "      <th>France</th>\n",
       "      <td>65273511</td>\n",
       "      <td>2715.5</td>\n",
       "      <td>Europe</td>\n",
       "      <td>0.901</td>\n",
       "    </tr>\n",
       "    <tr>\n",
       "      <th>Germany</th>\n",
       "      <td>83783942</td>\n",
       "      <td>3845.6</td>\n",
       "      <td>Europe</td>\n",
       "      <td>0.942</td>\n",
       "    </tr>\n",
       "    <tr>\n",
       "      <th>Italy</th>\n",
       "      <td>60461826</td>\n",
       "      <td>2001.2</td>\n",
       "      <td>Europe</td>\n",
       "      <td>0.895</td>\n",
       "    </tr>\n",
       "    <tr>\n",
       "      <th>Japan</th>\n",
       "      <td>126476461</td>\n",
       "      <td>4971.8</td>\n",
       "      <td>Asia</td>\n",
       "      <td>0.925</td>\n",
       "    </tr>\n",
       "    <tr>\n",
       "      <th>United Kingdom</th>\n",
       "      <td>67886011</td>\n",
       "      <td>2829.1</td>\n",
       "      <td>Europe</td>\n",
       "      <td>0.929</td>\n",
       "    </tr>\n",
       "    <tr>\n",
       "      <th>United States</th>\n",
       "      <td>331002651</td>\n",
       "      <td>21433.2</td>\n",
       "      <td>North America</td>\n",
       "      <td>0.921</td>\n",
       "    </tr>\n",
       "  </tbody>\n",
       "</table>\n",
       "</div>"
      ],
      "text/plain": [
       "                Population      GDP      Continent    HDI\n",
       "Canada            37742154   1736.4  North America  0.936\n",
       "France            65273511   2715.5         Europe  0.901\n",
       "Germany           83783942   3845.6         Europe  0.942\n",
       "Italy             60461826   2001.2         Europe  0.895\n",
       "Japan            126476461   4971.8           Asia  0.925\n",
       "United Kingdom    67886011   2829.1         Europe  0.929\n",
       "United States    331002651  21433.2  North America  0.921"
      ]
     },
     "execution_count": 61,
     "metadata": {},
     "output_type": "execute_result"
    }
   ],
   "source": [
    "df "
   ]
  },
  {
   "cell_type": "code",
   "execution_count": 62,
   "id": "80699c7c",
   "metadata": {},
   "outputs": [
    {
     "data": {
      "text/plain": [
       "Population         37742154\n",
       "GDP                  1736.4\n",
       "Continent     North America\n",
       "HDI                   0.936\n",
       "Name: Canada, dtype: object"
      ]
     },
     "execution_count": 62,
     "metadata": {},
     "output_type": "execute_result"
    }
   ],
   "source": [
    "df.loc['Canada']\n",
    "#This selects the entire row using the indes"
   ]
  },
  {
   "cell_type": "code",
   "execution_count": 63,
   "id": "dfa4702d",
   "metadata": {},
   "outputs": [
    {
     "data": {
      "text/plain": [
       "Population         37742154\n",
       "GDP                  1736.4\n",
       "Continent     North America\n",
       "HDI                   0.936\n",
       "Name: Canada, dtype: object"
      ]
     },
     "execution_count": 63,
     "metadata": {},
     "output_type": "execute_result"
    }
   ],
   "source": [
    "df.iloc[0]\n",
    "#Whereas the iloc selects the row using the sequential order  "
   ]
  },
  {
   "cell_type": "code",
   "execution_count": 64,
   "id": "8561a044",
   "metadata": {},
   "outputs": [
    {
     "data": {
      "text/plain": [
       "Canada            North America\n",
       "France                   Europe\n",
       "Germany                  Europe\n",
       "Italy                    Europe\n",
       "Japan                      Asia\n",
       "United Kingdom           Europe\n",
       "United States     North America\n",
       "Name: Continent, dtype: object"
      ]
     },
     "execution_count": 64,
     "metadata": {},
     "output_type": "execute_result"
    }
   ],
   "source": [
    "df['Continent']\n",
    "#Where as this is used to access the given column"
   ]
  },
  {
   "cell_type": "markdown",
   "id": "e8bee12c",
   "metadata": {},
   "source": [
    "All the data that are being returned are series indeed.\n",
    "Sometimes the problem may arise when dataframe uses a numerical index which for now the country name is being used as a index. So during such times the loc and iloc will still use the label-based indexing no matter what index is being used by the dataframe.\n"
   ]
  },
  {
   "cell_type": "code",
   "execution_count": 65,
   "id": "353e8257",
   "metadata": {},
   "outputs": [
    {
     "data": {
      "text/html": [
       "<div>\n",
       "<style scoped>\n",
       "    .dataframe tbody tr th:only-of-type {\n",
       "        vertical-align: middle;\n",
       "    }\n",
       "\n",
       "    .dataframe tbody tr th {\n",
       "        vertical-align: top;\n",
       "    }\n",
       "\n",
       "    .dataframe thead th {\n",
       "        text-align: right;\n",
       "    }\n",
       "</style>\n",
       "<table border=\"1\" class=\"dataframe\">\n",
       "  <thead>\n",
       "    <tr style=\"text-align: right;\">\n",
       "      <th></th>\n",
       "      <th>Population</th>\n",
       "    </tr>\n",
       "  </thead>\n",
       "  <tbody>\n",
       "    <tr>\n",
       "      <th>Canada</th>\n",
       "      <td>37742154</td>\n",
       "    </tr>\n",
       "    <tr>\n",
       "      <th>France</th>\n",
       "      <td>65273511</td>\n",
       "    </tr>\n",
       "    <tr>\n",
       "      <th>Germany</th>\n",
       "      <td>83783942</td>\n",
       "    </tr>\n",
       "    <tr>\n",
       "      <th>Italy</th>\n",
       "      <td>60461826</td>\n",
       "    </tr>\n",
       "    <tr>\n",
       "      <th>Japan</th>\n",
       "      <td>126476461</td>\n",
       "    </tr>\n",
       "    <tr>\n",
       "      <th>United Kingdom</th>\n",
       "      <td>67886011</td>\n",
       "    </tr>\n",
       "    <tr>\n",
       "      <th>United States</th>\n",
       "      <td>331002651</td>\n",
       "    </tr>\n",
       "  </tbody>\n",
       "</table>\n",
       "</div>"
      ],
      "text/plain": [
       "                Population\n",
       "Canada            37742154\n",
       "France            65273511\n",
       "Germany           83783942\n",
       "Italy             60461826\n",
       "Japan            126476461\n",
       "United Kingdom    67886011\n",
       "United States    331002651"
      ]
     },
     "execution_count": 65,
     "metadata": {},
     "output_type": "execute_result"
    }
   ],
   "source": [
    "df[\"Population\"].to_frame()\n",
    "#The above function .to_frame is simply converting the series into a data frame so that we can pass this data as a 2D array if some function expects in that manner.\n"
   ]
  },
  {
   "cell_type": "code",
   "execution_count": 66,
   "id": "52537f88",
   "metadata": {},
   "outputs": [
    {
     "data": {
      "text/plain": [
       "Canada             37742154\n",
       "France             65273511\n",
       "Germany            83783942\n",
       "Italy              60461826\n",
       "Japan             126476461\n",
       "United Kingdom     67886011\n",
       "United States     331002651\n",
       "Name: Population, dtype: int64"
      ]
     },
     "execution_count": 66,
     "metadata": {},
     "output_type": "execute_result"
    }
   ],
   "source": [
    "df[\"Population\"]"
   ]
  },
  {
   "cell_type": "markdown",
   "id": "6f219f45",
   "metadata": {},
   "source": [
    "The differences here is that the first one is a data frame and second one is a series. How is it differentiated is that the first one has a column name which is the column and the country name which is the row and hence its now a 2D array. Sometimes proper shaping matter when doing different operations so to match those series are needed to be converrted to a dataframe using .to_frame()"
   ]
  },
  {
   "cell_type": "code",
   "execution_count": 67,
   "id": "9063f639",
   "metadata": {},
   "outputs": [
    {
     "data": {
      "text/html": [
       "<div>\n",
       "<style scoped>\n",
       "    .dataframe tbody tr th:only-of-type {\n",
       "        vertical-align: middle;\n",
       "    }\n",
       "\n",
       "    .dataframe tbody tr th {\n",
       "        vertical-align: top;\n",
       "    }\n",
       "\n",
       "    .dataframe thead th {\n",
       "        text-align: right;\n",
       "    }\n",
       "</style>\n",
       "<table border=\"1\" class=\"dataframe\">\n",
       "  <thead>\n",
       "    <tr style=\"text-align: right;\">\n",
       "      <th></th>\n",
       "      <th>Population</th>\n",
       "      <th>GDP</th>\n",
       "    </tr>\n",
       "  </thead>\n",
       "  <tbody>\n",
       "    <tr>\n",
       "      <th>Canada</th>\n",
       "      <td>37742154</td>\n",
       "      <td>1736.4</td>\n",
       "    </tr>\n",
       "    <tr>\n",
       "      <th>France</th>\n",
       "      <td>65273511</td>\n",
       "      <td>2715.5</td>\n",
       "    </tr>\n",
       "    <tr>\n",
       "      <th>Germany</th>\n",
       "      <td>83783942</td>\n",
       "      <td>3845.6</td>\n",
       "    </tr>\n",
       "    <tr>\n",
       "      <th>Italy</th>\n",
       "      <td>60461826</td>\n",
       "      <td>2001.2</td>\n",
       "    </tr>\n",
       "    <tr>\n",
       "      <th>Japan</th>\n",
       "      <td>126476461</td>\n",
       "      <td>4971.8</td>\n",
       "    </tr>\n",
       "    <tr>\n",
       "      <th>United Kingdom</th>\n",
       "      <td>67886011</td>\n",
       "      <td>2829.1</td>\n",
       "    </tr>\n",
       "    <tr>\n",
       "      <th>United States</th>\n",
       "      <td>331002651</td>\n",
       "      <td>21433.2</td>\n",
       "    </tr>\n",
       "  </tbody>\n",
       "</table>\n",
       "</div>"
      ],
      "text/plain": [
       "                Population      GDP\n",
       "Canada            37742154   1736.4\n",
       "France            65273511   2715.5\n",
       "Germany           83783942   3845.6\n",
       "Italy             60461826   2001.2\n",
       "Japan            126476461   4971.8\n",
       "United Kingdom    67886011   2829.1\n",
       "United States    331002651  21433.2"
      ]
     },
     "execution_count": 67,
     "metadata": {},
     "output_type": "execute_result"
    }
   ],
   "source": [
    "df[[\"Population\" , \"GDP\"]]\n",
    "#df[] this is how you access a data from a data frame and to pass two columns we pass inside another bracked and selects multiple columns"
   ]
  },
  {
   "cell_type": "code",
   "execution_count": 68,
   "id": "a857756d",
   "metadata": {},
   "outputs": [
    {
     "data": {
      "text/html": [
       "<div>\n",
       "<style scoped>\n",
       "    .dataframe tbody tr th:only-of-type {\n",
       "        vertical-align: middle;\n",
       "    }\n",
       "\n",
       "    .dataframe tbody tr th {\n",
       "        vertical-align: top;\n",
       "    }\n",
       "\n",
       "    .dataframe thead th {\n",
       "        text-align: right;\n",
       "    }\n",
       "</style>\n",
       "<table border=\"1\" class=\"dataframe\">\n",
       "  <thead>\n",
       "    <tr style=\"text-align: right;\">\n",
       "      <th></th>\n",
       "      <th>Population</th>\n",
       "      <th>GDP</th>\n",
       "      <th>Continent</th>\n",
       "      <th>HDI</th>\n",
       "    </tr>\n",
       "  </thead>\n",
       "  <tbody>\n",
       "    <tr>\n",
       "      <th>Canada</th>\n",
       "      <td>37742154</td>\n",
       "      <td>1736.4</td>\n",
       "      <td>North America</td>\n",
       "      <td>0.936</td>\n",
       "    </tr>\n",
       "    <tr>\n",
       "      <th>France</th>\n",
       "      <td>65273511</td>\n",
       "      <td>2715.5</td>\n",
       "      <td>Europe</td>\n",
       "      <td>0.901</td>\n",
       "    </tr>\n",
       "    <tr>\n",
       "      <th>Germany</th>\n",
       "      <td>83783942</td>\n",
       "      <td>3845.6</td>\n",
       "      <td>Europe</td>\n",
       "      <td>0.942</td>\n",
       "    </tr>\n",
       "    <tr>\n",
       "      <th>Italy</th>\n",
       "      <td>60461826</td>\n",
       "      <td>2001.2</td>\n",
       "      <td>Europe</td>\n",
       "      <td>0.895</td>\n",
       "    </tr>\n",
       "    <tr>\n",
       "      <th>Japan</th>\n",
       "      <td>126476461</td>\n",
       "      <td>4971.8</td>\n",
       "      <td>Asia</td>\n",
       "      <td>0.925</td>\n",
       "    </tr>\n",
       "  </tbody>\n",
       "</table>\n",
       "</div>"
      ],
      "text/plain": [
       "         Population     GDP      Continent    HDI\n",
       "Canada     37742154  1736.4  North America  0.936\n",
       "France     65273511  2715.5         Europe  0.901\n",
       "Germany    83783942  3845.6         Europe  0.942\n",
       "Italy      60461826  2001.2         Europe  0.895\n",
       "Japan     126476461  4971.8           Asia  0.925"
      ]
     },
     "execution_count": 68,
     "metadata": {},
     "output_type": "execute_result"
    }
   ],
   "source": [
    "df.loc['Canada': 'Japan']\n",
    "#Selecting datas using the slicing "
   ]
  },
  {
   "cell_type": "code",
   "execution_count": 69,
   "id": "fef36bcf",
   "metadata": {},
   "outputs": [
    {
     "data": {
      "text/plain": [
       "France     0.901\n",
       "Germany    0.942\n",
       "Name: HDI, dtype: float64"
      ]
     },
     "execution_count": 69,
     "metadata": {},
     "output_type": "execute_result"
    }
   ],
   "source": [
    "df.iloc[1:3,-1]\n",
    "#Filtering the data using the ordering or a label"
   ]
  },
  {
   "cell_type": "code",
   "execution_count": 70,
   "id": "354b9a34",
   "metadata": {},
   "outputs": [
    {
     "data": {
      "text/plain": [
       "Population    60461826\n",
       "GDP             2001.2\n",
       "Continent       Europe\n",
       "HDI              0.895\n",
       "Name: Italy, dtype: object"
      ]
     },
     "execution_count": 70,
     "metadata": {},
     "output_type": "execute_result"
    }
   ],
   "source": [
    "df.loc[\"Italy\"]"
   ]
  },
  {
   "cell_type": "code",
   "execution_count": 71,
   "id": "b34f5c69",
   "metadata": {},
   "outputs": [
    {
     "data": {
      "text/plain": [
       "Canada     37742154\n",
       "France     65273511\n",
       "Germany    83783942\n",
       "Name: Population, dtype: int64"
      ]
     },
     "execution_count": 71,
     "metadata": {},
     "output_type": "execute_result"
    }
   ],
   "source": [
    "df.loc[\"Canada\" : \"Germany\", \"Population\"]\n"
   ]
  },
  {
   "cell_type": "code",
   "execution_count": 72,
   "id": "74f3c629",
   "metadata": {},
   "outputs": [
    {
     "data": {
      "text/html": [
       "<div>\n",
       "<style scoped>\n",
       "    .dataframe tbody tr th:only-of-type {\n",
       "        vertical-align: middle;\n",
       "    }\n",
       "\n",
       "    .dataframe tbody tr th {\n",
       "        vertical-align: top;\n",
       "    }\n",
       "\n",
       "    .dataframe thead th {\n",
       "        text-align: right;\n",
       "    }\n",
       "</style>\n",
       "<table border=\"1\" class=\"dataframe\">\n",
       "  <thead>\n",
       "    <tr style=\"text-align: right;\">\n",
       "      <th></th>\n",
       "      <th>Population</th>\n",
       "    </tr>\n",
       "  </thead>\n",
       "  <tbody>\n",
       "    <tr>\n",
       "      <th>Canada</th>\n",
       "      <td>37742154</td>\n",
       "    </tr>\n",
       "    <tr>\n",
       "      <th>France</th>\n",
       "      <td>65273511</td>\n",
       "    </tr>\n",
       "    <tr>\n",
       "      <th>Germany</th>\n",
       "      <td>83783942</td>\n",
       "    </tr>\n",
       "  </tbody>\n",
       "</table>\n",
       "</div>"
      ],
      "text/plain": [
       "         Population\n",
       "Canada     37742154\n",
       "France     65273511\n",
       "Germany    83783942"
      ]
     },
     "execution_count": 72,
     "metadata": {},
     "output_type": "execute_result"
    }
   ],
   "source": [
    "df.loc[\"Canada\" : \"Germany\", \"Population\"].to_frame()"
   ]
  },
  {
   "cell_type": "markdown",
   "id": "43f3ce03",
   "metadata": {},
   "source": [
    "The one of the thing we should understand is that like in other slicing where the start: end , step were the params that a method would take. But the case is different when we use the loc and iloc instead of taking the step it is actually taking the column and filtering only the given column. loc and iloc are the method only used by the pandas. So now we can conclude that since series is a 1D array and doesnot have a column. We donot pass anything in place of a step. We can similarly pass multiple columns name to extract multiple datas as well."
   ]
  },
  {
   "cell_type": "code",
   "execution_count": 73,
   "id": "92a13e2f",
   "metadata": {},
   "outputs": [
    {
     "data": {
      "text/html": [
       "<div>\n",
       "<style scoped>\n",
       "    .dataframe tbody tr th:only-of-type {\n",
       "        vertical-align: middle;\n",
       "    }\n",
       "\n",
       "    .dataframe tbody tr th {\n",
       "        vertical-align: top;\n",
       "    }\n",
       "\n",
       "    .dataframe thead th {\n",
       "        text-align: right;\n",
       "    }\n",
       "</style>\n",
       "<table border=\"1\" class=\"dataframe\">\n",
       "  <thead>\n",
       "    <tr style=\"text-align: right;\">\n",
       "      <th></th>\n",
       "      <th>Population</th>\n",
       "      <th>GDP</th>\n",
       "    </tr>\n",
       "  </thead>\n",
       "  <tbody>\n",
       "    <tr>\n",
       "      <th>Canada</th>\n",
       "      <td>37742154</td>\n",
       "      <td>1736.4</td>\n",
       "    </tr>\n",
       "    <tr>\n",
       "      <th>France</th>\n",
       "      <td>65273511</td>\n",
       "      <td>2715.5</td>\n",
       "    </tr>\n",
       "    <tr>\n",
       "      <th>Germany</th>\n",
       "      <td>83783942</td>\n",
       "      <td>3845.6</td>\n",
       "    </tr>\n",
       "    <tr>\n",
       "      <th>Italy</th>\n",
       "      <td>60461826</td>\n",
       "      <td>2001.2</td>\n",
       "    </tr>\n",
       "    <tr>\n",
       "      <th>Japan</th>\n",
       "      <td>126476461</td>\n",
       "      <td>4971.8</td>\n",
       "    </tr>\n",
       "  </tbody>\n",
       "</table>\n",
       "</div>"
      ],
      "text/plain": [
       "         Population     GDP\n",
       "Canada     37742154  1736.4\n",
       "France     65273511  2715.5\n",
       "Germany    83783942  3845.6\n",
       "Italy      60461826  2001.2\n",
       "Japan     126476461  4971.8"
      ]
     },
     "execution_count": 73,
     "metadata": {},
     "output_type": "execute_result"
    }
   ],
   "source": [
    "df.loc[\"Canada\" : \"Japan\", [\"Population\" , \"GDP\"]]\n",
    "#Similarly since there are two columns we will have to keep it inside another bracket as well"
   ]
  },
  {
   "cell_type": "markdown",
   "id": "2d4d9e1a",
   "metadata": {},
   "source": [
    "iloc works with the numeric position of the index\n"
   ]
  },
  {
   "cell_type": "code",
   "execution_count": 74,
   "id": "faac351c",
   "metadata": {},
   "outputs": [
    {
     "data": {
      "text/plain": [
       "Population    65273511\n",
       "GDP             2715.5\n",
       "Continent       Europe\n",
       "HDI              0.901\n",
       "Name: France, dtype: object"
      ]
     },
     "execution_count": 74,
     "metadata": {},
     "output_type": "execute_result"
    }
   ],
   "source": [
    "df.iloc[1]"
   ]
  },
  {
   "cell_type": "code",
   "execution_count": 75,
   "id": "747ba419",
   "metadata": {},
   "outputs": [
    {
     "data": {
      "text/plain": [
       "Canada             1736.4\n",
       "France             2715.5\n",
       "Germany            3845.6\n",
       "Italy              2001.2\n",
       "Japan              4971.8\n",
       "United Kingdom     2829.1\n",
       "United States     21433.2\n",
       "Name: GDP, dtype: float64"
      ]
     },
     "execution_count": 75,
     "metadata": {},
     "output_type": "execute_result"
    }
   ],
   "source": [
    "df.iloc[:,1]\n",
    "#This gives all the rows of the mentioned column that is of the index 1"
   ]
  },
  {
   "cell_type": "code",
   "execution_count": 76,
   "id": "08864dec",
   "metadata": {},
   "outputs": [
    {
     "data": {
      "text/html": [
       "<div>\n",
       "<style scoped>\n",
       "    .dataframe tbody tr th:only-of-type {\n",
       "        vertical-align: middle;\n",
       "    }\n",
       "\n",
       "    .dataframe tbody tr th {\n",
       "        vertical-align: top;\n",
       "    }\n",
       "\n",
       "    .dataframe thead th {\n",
       "        text-align: right;\n",
       "    }\n",
       "</style>\n",
       "<table border=\"1\" class=\"dataframe\">\n",
       "  <thead>\n",
       "    <tr style=\"text-align: right;\">\n",
       "      <th></th>\n",
       "      <th>GDP</th>\n",
       "      <th>Continent</th>\n",
       "      <th>HDI</th>\n",
       "    </tr>\n",
       "  </thead>\n",
       "  <tbody>\n",
       "    <tr>\n",
       "      <th>Canada</th>\n",
       "      <td>1736.4</td>\n",
       "      <td>North America</td>\n",
       "      <td>0.936</td>\n",
       "    </tr>\n",
       "    <tr>\n",
       "      <th>France</th>\n",
       "      <td>2715.5</td>\n",
       "      <td>Europe</td>\n",
       "      <td>0.901</td>\n",
       "    </tr>\n",
       "  </tbody>\n",
       "</table>\n",
       "</div>"
      ],
      "text/plain": [
       "           GDP      Continent    HDI\n",
       "Canada  1736.4  North America  0.936\n",
       "France  2715.5         Europe  0.901"
      ]
     },
     "execution_count": 76,
     "metadata": {},
     "output_type": "execute_result"
    }
   ],
   "source": [
    "df.iloc[0:2, [1,2,3]]\n",
    "#Selecting multiple columns of a filtered row using the numeric indexing \n"
   ]
  },
  {
   "cell_type": "markdown",
   "id": "c982dfca",
   "metadata": {},
   "source": [
    "When your DataFrame uses numbers as index values, such as 0, 1, 2, and so on, it can become unclear whether you’re referring to the index label (like index 0) or the row’s position (the first row). This can lead to confusion or errors in your code. To avoid this ambiguity, it’s best to use .iloc[] when you want to select rows by their position (for example, the first, second, or third row), and .loc[] when you want to select rows by their index label (for example, the row that has an index of 0, even if it’s not the first row). This makes your code clearer and helps prevent mistakes."
   ]
  },
  {
   "cell_type": "markdown",
   "id": "7a7ac9ca",
   "metadata": {},
   "source": [
    "Conditional Selection (Boolean Arrays)"
   ]
  },
  {
   "cell_type": "code",
   "execution_count": 77,
   "id": "599b43b5",
   "metadata": {},
   "outputs": [
    {
     "data": {
      "text/html": [
       "<div>\n",
       "<style scoped>\n",
       "    .dataframe tbody tr th:only-of-type {\n",
       "        vertical-align: middle;\n",
       "    }\n",
       "\n",
       "    .dataframe tbody tr th {\n",
       "        vertical-align: top;\n",
       "    }\n",
       "\n",
       "    .dataframe thead th {\n",
       "        text-align: right;\n",
       "    }\n",
       "</style>\n",
       "<table border=\"1\" class=\"dataframe\">\n",
       "  <thead>\n",
       "    <tr style=\"text-align: right;\">\n",
       "      <th></th>\n",
       "      <th>Population</th>\n",
       "      <th>GDP</th>\n",
       "      <th>Continent</th>\n",
       "      <th>HDI</th>\n",
       "    </tr>\n",
       "  </thead>\n",
       "  <tbody>\n",
       "    <tr>\n",
       "      <th>Canada</th>\n",
       "      <td>37742154</td>\n",
       "      <td>1736.4</td>\n",
       "      <td>North America</td>\n",
       "      <td>0.936</td>\n",
       "    </tr>\n",
       "    <tr>\n",
       "      <th>France</th>\n",
       "      <td>65273511</td>\n",
       "      <td>2715.5</td>\n",
       "      <td>Europe</td>\n",
       "      <td>0.901</td>\n",
       "    </tr>\n",
       "    <tr>\n",
       "      <th>Germany</th>\n",
       "      <td>83783942</td>\n",
       "      <td>3845.6</td>\n",
       "      <td>Europe</td>\n",
       "      <td>0.942</td>\n",
       "    </tr>\n",
       "    <tr>\n",
       "      <th>Italy</th>\n",
       "      <td>60461826</td>\n",
       "      <td>2001.2</td>\n",
       "      <td>Europe</td>\n",
       "      <td>0.895</td>\n",
       "    </tr>\n",
       "    <tr>\n",
       "      <th>Japan</th>\n",
       "      <td>126476461</td>\n",
       "      <td>4971.8</td>\n",
       "      <td>Asia</td>\n",
       "      <td>0.925</td>\n",
       "    </tr>\n",
       "    <tr>\n",
       "      <th>United Kingdom</th>\n",
       "      <td>67886011</td>\n",
       "      <td>2829.1</td>\n",
       "      <td>Europe</td>\n",
       "      <td>0.929</td>\n",
       "    </tr>\n",
       "    <tr>\n",
       "      <th>United States</th>\n",
       "      <td>331002651</td>\n",
       "      <td>21433.2</td>\n",
       "      <td>North America</td>\n",
       "      <td>0.921</td>\n",
       "    </tr>\n",
       "  </tbody>\n",
       "</table>\n",
       "</div>"
      ],
      "text/plain": [
       "                Population      GDP      Continent    HDI\n",
       "Canada            37742154   1736.4  North America  0.936\n",
       "France            65273511   2715.5         Europe  0.901\n",
       "Germany           83783942   3845.6         Europe  0.942\n",
       "Italy             60461826   2001.2         Europe  0.895\n",
       "Japan            126476461   4971.8           Asia  0.925\n",
       "United Kingdom    67886011   2829.1         Europe  0.929\n",
       "United States    331002651  21433.2  North America  0.921"
      ]
     },
     "execution_count": 77,
     "metadata": {},
     "output_type": "execute_result"
    }
   ],
   "source": [
    "df"
   ]
  },
  {
   "cell_type": "code",
   "execution_count": 78,
   "id": "0f076fe8",
   "metadata": {},
   "outputs": [
    {
     "data": {
      "text/plain": [
       "Canada            True\n",
       "France            True\n",
       "Germany           True\n",
       "Italy             True\n",
       "Japan             True\n",
       "United Kingdom    True\n",
       "United States     True\n",
       "Name: Population, dtype: bool"
      ]
     },
     "execution_count": 78,
     "metadata": {},
     "output_type": "execute_result"
    }
   ],
   "source": [
    "df[\"Population\"] > 50"
   ]
  },
  {
   "cell_type": "code",
   "execution_count": 79,
   "id": "fe050f73",
   "metadata": {},
   "outputs": [
    {
     "data": {
      "text/html": [
       "<div>\n",
       "<style scoped>\n",
       "    .dataframe tbody tr th:only-of-type {\n",
       "        vertical-align: middle;\n",
       "    }\n",
       "\n",
       "    .dataframe tbody tr th {\n",
       "        vertical-align: top;\n",
       "    }\n",
       "\n",
       "    .dataframe thead th {\n",
       "        text-align: right;\n",
       "    }\n",
       "</style>\n",
       "<table border=\"1\" class=\"dataframe\">\n",
       "  <thead>\n",
       "    <tr style=\"text-align: right;\">\n",
       "      <th></th>\n",
       "      <th>Population</th>\n",
       "      <th>GDP</th>\n",
       "      <th>Continent</th>\n",
       "      <th>HDI</th>\n",
       "    </tr>\n",
       "  </thead>\n",
       "  <tbody>\n",
       "    <tr>\n",
       "      <th>Canada</th>\n",
       "      <td>37742154</td>\n",
       "      <td>1736.4</td>\n",
       "      <td>North America</td>\n",
       "      <td>0.936</td>\n",
       "    </tr>\n",
       "    <tr>\n",
       "      <th>France</th>\n",
       "      <td>65273511</td>\n",
       "      <td>2715.5</td>\n",
       "      <td>Europe</td>\n",
       "      <td>0.901</td>\n",
       "    </tr>\n",
       "    <tr>\n",
       "      <th>Germany</th>\n",
       "      <td>83783942</td>\n",
       "      <td>3845.6</td>\n",
       "      <td>Europe</td>\n",
       "      <td>0.942</td>\n",
       "    </tr>\n",
       "    <tr>\n",
       "      <th>Italy</th>\n",
       "      <td>60461826</td>\n",
       "      <td>2001.2</td>\n",
       "      <td>Europe</td>\n",
       "      <td>0.895</td>\n",
       "    </tr>\n",
       "    <tr>\n",
       "      <th>Japan</th>\n",
       "      <td>126476461</td>\n",
       "      <td>4971.8</td>\n",
       "      <td>Asia</td>\n",
       "      <td>0.925</td>\n",
       "    </tr>\n",
       "    <tr>\n",
       "      <th>United Kingdom</th>\n",
       "      <td>67886011</td>\n",
       "      <td>2829.1</td>\n",
       "      <td>Europe</td>\n",
       "      <td>0.929</td>\n",
       "    </tr>\n",
       "    <tr>\n",
       "      <th>United States</th>\n",
       "      <td>331002651</td>\n",
       "      <td>21433.2</td>\n",
       "      <td>North America</td>\n",
       "      <td>0.921</td>\n",
       "    </tr>\n",
       "  </tbody>\n",
       "</table>\n",
       "</div>"
      ],
      "text/plain": [
       "                Population      GDP      Continent    HDI\n",
       "Canada            37742154   1736.4  North America  0.936\n",
       "France            65273511   2715.5         Europe  0.901\n",
       "Germany           83783942   3845.6         Europe  0.942\n",
       "Italy             60461826   2001.2         Europe  0.895\n",
       "Japan            126476461   4971.8           Asia  0.925\n",
       "United Kingdom    67886011   2829.1         Europe  0.929\n",
       "United States    331002651  21433.2  North America  0.921"
      ]
     },
     "execution_count": 79,
     "metadata": {},
     "output_type": "execute_result"
    }
   ],
   "source": [
    "df"
   ]
  },
  {
   "cell_type": "code",
   "execution_count": 80,
   "id": "2ea432ae",
   "metadata": {},
   "outputs": [
    {
     "data": {
      "text/html": [
       "<div>\n",
       "<style scoped>\n",
       "    .dataframe tbody tr th:only-of-type {\n",
       "        vertical-align: middle;\n",
       "    }\n",
       "\n",
       "    .dataframe tbody tr th {\n",
       "        vertical-align: top;\n",
       "    }\n",
       "\n",
       "    .dataframe thead th {\n",
       "        text-align: right;\n",
       "    }\n",
       "</style>\n",
       "<table border=\"1\" class=\"dataframe\">\n",
       "  <thead>\n",
       "    <tr style=\"text-align: right;\">\n",
       "      <th></th>\n",
       "      <th>Population</th>\n",
       "      <th>GDP</th>\n",
       "      <th>Continent</th>\n",
       "      <th>HDI</th>\n",
       "    </tr>\n",
       "  </thead>\n",
       "  <tbody>\n",
       "    <tr>\n",
       "      <th>Canada</th>\n",
       "      <td>37742154</td>\n",
       "      <td>1736.4</td>\n",
       "      <td>North America</td>\n",
       "      <td>0.936</td>\n",
       "    </tr>\n",
       "    <tr>\n",
       "      <th>France</th>\n",
       "      <td>65273511</td>\n",
       "      <td>2715.5</td>\n",
       "      <td>Europe</td>\n",
       "      <td>0.901</td>\n",
       "    </tr>\n",
       "    <tr>\n",
       "      <th>Germany</th>\n",
       "      <td>83783942</td>\n",
       "      <td>3845.6</td>\n",
       "      <td>Europe</td>\n",
       "      <td>0.942</td>\n",
       "    </tr>\n",
       "    <tr>\n",
       "      <th>Italy</th>\n",
       "      <td>60461826</td>\n",
       "      <td>2001.2</td>\n",
       "      <td>Europe</td>\n",
       "      <td>0.895</td>\n",
       "    </tr>\n",
       "    <tr>\n",
       "      <th>United Kingdom</th>\n",
       "      <td>67886011</td>\n",
       "      <td>2829.1</td>\n",
       "      <td>Europe</td>\n",
       "      <td>0.929</td>\n",
       "    </tr>\n",
       "  </tbody>\n",
       "</table>\n",
       "</div>"
      ],
      "text/plain": [
       "                Population     GDP      Continent    HDI\n",
       "Canada            37742154  1736.4  North America  0.936\n",
       "France            65273511  2715.5         Europe  0.901\n",
       "Germany           83783942  3845.6         Europe  0.942\n",
       "Italy             60461826  2001.2         Europe  0.895\n",
       "United Kingdom    67886011  2829.1         Europe  0.929"
      ]
     },
     "execution_count": 80,
     "metadata": {},
     "output_type": "execute_result"
    }
   ],
   "source": [
    "df.loc[df[\"Population\"] < 100000000]"
   ]
  },
  {
   "cell_type": "code",
   "execution_count": 81,
   "id": "6872ce3d",
   "metadata": {},
   "outputs": [
    {
     "data": {
      "text/html": [
       "<div>\n",
       "<style scoped>\n",
       "    .dataframe tbody tr th:only-of-type {\n",
       "        vertical-align: middle;\n",
       "    }\n",
       "\n",
       "    .dataframe tbody tr th {\n",
       "        vertical-align: top;\n",
       "    }\n",
       "\n",
       "    .dataframe thead th {\n",
       "        text-align: right;\n",
       "    }\n",
       "</style>\n",
       "<table border=\"1\" class=\"dataframe\">\n",
       "  <thead>\n",
       "    <tr style=\"text-align: right;\">\n",
       "      <th></th>\n",
       "      <th>Population</th>\n",
       "      <th>GDP</th>\n",
       "    </tr>\n",
       "  </thead>\n",
       "  <tbody>\n",
       "    <tr>\n",
       "      <th>Japan</th>\n",
       "      <td>126476461</td>\n",
       "      <td>4971.8</td>\n",
       "    </tr>\n",
       "    <tr>\n",
       "      <th>United States</th>\n",
       "      <td>331002651</td>\n",
       "      <td>21433.2</td>\n",
       "    </tr>\n",
       "  </tbody>\n",
       "</table>\n",
       "</div>"
      ],
      "text/plain": [
       "               Population      GDP\n",
       "Japan           126476461   4971.8\n",
       "United States   331002651  21433.2"
      ]
     },
     "execution_count": 81,
     "metadata": {},
     "output_type": "execute_result"
    }
   ],
   "source": [
    "df.loc[df[\"Population\"] > 100000000 , [\"Population\",\"GDP\"]]\n",
    "#Filtration of column based on the given condition"
   ]
  },
  {
   "cell_type": "markdown",
   "id": "709a3cab",
   "metadata": {},
   "source": [
    "Dropping Stuff"
   ]
  },
  {
   "cell_type": "markdown",
   "id": "a5068b8c",
   "metadata": {},
   "source": [
    "Dropping rows and columns using Pandas \n",
    "WHY to use .drop() in pandas:\n",
    "\t1.\tTo remove irrelevant columns that do not contribute to the analysis or model training.\n",
    "\t2.\tTo eliminate duplicate or redundant information that could cause noise in the dataset.\n",
    "\t3.\tTo simplify the dataset for better readability or visualization.\n",
    "\t4.\tTo remove sensitive or personal data for privacy or compliance purposes.\n",
    "\t5.\tTo prepare features for modeling by dropping the target column from the feature set (or vice versa).\n",
    "\t6.\tTo remove rows with invalid or corrupt data that may affect analysis.\n",
    "\t7.\tTo filter out outliers or unwanted data points based on business rules.\n",
    "\t8.\tTo clean up merged or joined datasets where some columns may be\n",
    "\n",
    "WHEN to use .drop() in pandas:\n",
    "\t1.\tWhen preparing data for visualization and only the necessary features are needed.\n",
    "\t2.\tWhen reducing dimensionality to avoid the curse of dimensionality or improve model performance.\n",
    "\t3.\tWhen data contains null or NaN values that you decide to remove instead of imputing.\n",
    "\t4.\tWhen exporting the dataset and you want to exclude internal or helper columns.\n",
    "\t5.\tWhen cleaning raw data before conducting statistical or machine learning tasks.\n",
    "\t6.\tWhen columns have high correlation and you want to drop one to reduce multicollinearity.\n",
    "\t7.\tWhen you’re performing feature engineering and need to remove outdated or unused features.\n",
    "\t8.\tWhen data violates data integrity or business logic, and the rows/columns must be discarded.\n",
    "\n",
    "\n",
    "📌 Multicollinearity — What is it?\n",
    "\n",
    "Multicollinearity occurs when two or more independent variables (features) in a dataset are highly correlated with each other — meaning they carry similar information.\n",
    "\n",
    "⸻\n",
    "\n",
    "🧠 Why is multicollinearity a problem?\n",
    "\t1.\tReduces model interpretability: If two features are highly correlated, it’s hard to tell which one is actually influencing the target.\n",
    "\t2.\tUnstable coefficient estimates: In models like linear regression, it can lead to inflated standard errors, making the model’s predictions unreliable.\n",
    "\t3.\tIncreases model complexity without adding much value.\n",
    "\n",
    "High corelation relates to directly proportional. "
   ]
  },
  {
   "cell_type": "code",
   "execution_count": 82,
   "id": "3a9af61e",
   "metadata": {},
   "outputs": [
    {
     "data": {
      "text/html": [
       "<div>\n",
       "<style scoped>\n",
       "    .dataframe tbody tr th:only-of-type {\n",
       "        vertical-align: middle;\n",
       "    }\n",
       "\n",
       "    .dataframe tbody tr th {\n",
       "        vertical-align: top;\n",
       "    }\n",
       "\n",
       "    .dataframe thead th {\n",
       "        text-align: right;\n",
       "    }\n",
       "</style>\n",
       "<table border=\"1\" class=\"dataframe\">\n",
       "  <thead>\n",
       "    <tr style=\"text-align: right;\">\n",
       "      <th></th>\n",
       "      <th>Population</th>\n",
       "      <th>GDP</th>\n",
       "      <th>Continent</th>\n",
       "      <th>HDI</th>\n",
       "    </tr>\n",
       "  </thead>\n",
       "  <tbody>\n",
       "    <tr>\n",
       "      <th>France</th>\n",
       "      <td>65273511</td>\n",
       "      <td>2715.5</td>\n",
       "      <td>Europe</td>\n",
       "      <td>0.901</td>\n",
       "    </tr>\n",
       "    <tr>\n",
       "      <th>Germany</th>\n",
       "      <td>83783942</td>\n",
       "      <td>3845.6</td>\n",
       "      <td>Europe</td>\n",
       "      <td>0.942</td>\n",
       "    </tr>\n",
       "    <tr>\n",
       "      <th>Italy</th>\n",
       "      <td>60461826</td>\n",
       "      <td>2001.2</td>\n",
       "      <td>Europe</td>\n",
       "      <td>0.895</td>\n",
       "    </tr>\n",
       "    <tr>\n",
       "      <th>Japan</th>\n",
       "      <td>126476461</td>\n",
       "      <td>4971.8</td>\n",
       "      <td>Asia</td>\n",
       "      <td>0.925</td>\n",
       "    </tr>\n",
       "    <tr>\n",
       "      <th>United Kingdom</th>\n",
       "      <td>67886011</td>\n",
       "      <td>2829.1</td>\n",
       "      <td>Europe</td>\n",
       "      <td>0.929</td>\n",
       "    </tr>\n",
       "    <tr>\n",
       "      <th>United States</th>\n",
       "      <td>331002651</td>\n",
       "      <td>21433.2</td>\n",
       "      <td>North America</td>\n",
       "      <td>0.921</td>\n",
       "    </tr>\n",
       "  </tbody>\n",
       "</table>\n",
       "</div>"
      ],
      "text/plain": [
       "                Population      GDP      Continent    HDI\n",
       "France            65273511   2715.5         Europe  0.901\n",
       "Germany           83783942   3845.6         Europe  0.942\n",
       "Italy             60461826   2001.2         Europe  0.895\n",
       "Japan            126476461   4971.8           Asia  0.925\n",
       "United Kingdom    67886011   2829.1         Europe  0.929\n",
       "United States    331002651  21433.2  North America  0.921"
      ]
     },
     "execution_count": 82,
     "metadata": {},
     "output_type": "execute_result"
    }
   ],
   "source": [
    "df.drop(\"Canada\")"
   ]
  },
  {
   "cell_type": "code",
   "execution_count": 83,
   "id": "cc422e9e",
   "metadata": {},
   "outputs": [
    {
     "data": {
      "text/html": [
       "<div>\n",
       "<style scoped>\n",
       "    .dataframe tbody tr th:only-of-type {\n",
       "        vertical-align: middle;\n",
       "    }\n",
       "\n",
       "    .dataframe tbody tr th {\n",
       "        vertical-align: top;\n",
       "    }\n",
       "\n",
       "    .dataframe thead th {\n",
       "        text-align: right;\n",
       "    }\n",
       "</style>\n",
       "<table border=\"1\" class=\"dataframe\">\n",
       "  <thead>\n",
       "    <tr style=\"text-align: right;\">\n",
       "      <th></th>\n",
       "      <th>Population</th>\n",
       "      <th>GDP</th>\n",
       "      <th>Continent</th>\n",
       "      <th>HDI</th>\n",
       "    </tr>\n",
       "  </thead>\n",
       "  <tbody>\n",
       "    <tr>\n",
       "      <th>France</th>\n",
       "      <td>65273511</td>\n",
       "      <td>2715.5</td>\n",
       "      <td>Europe</td>\n",
       "      <td>0.901</td>\n",
       "    </tr>\n",
       "    <tr>\n",
       "      <th>Germany</th>\n",
       "      <td>83783942</td>\n",
       "      <td>3845.6</td>\n",
       "      <td>Europe</td>\n",
       "      <td>0.942</td>\n",
       "    </tr>\n",
       "    <tr>\n",
       "      <th>Italy</th>\n",
       "      <td>60461826</td>\n",
       "      <td>2001.2</td>\n",
       "      <td>Europe</td>\n",
       "      <td>0.895</td>\n",
       "    </tr>\n",
       "    <tr>\n",
       "      <th>United Kingdom</th>\n",
       "      <td>67886011</td>\n",
       "      <td>2829.1</td>\n",
       "      <td>Europe</td>\n",
       "      <td>0.929</td>\n",
       "    </tr>\n",
       "    <tr>\n",
       "      <th>United States</th>\n",
       "      <td>331002651</td>\n",
       "      <td>21433.2</td>\n",
       "      <td>North America</td>\n",
       "      <td>0.921</td>\n",
       "    </tr>\n",
       "  </tbody>\n",
       "</table>\n",
       "</div>"
      ],
      "text/plain": [
       "                Population      GDP      Continent    HDI\n",
       "France            65273511   2715.5         Europe  0.901\n",
       "Germany           83783942   3845.6         Europe  0.942\n",
       "Italy             60461826   2001.2         Europe  0.895\n",
       "United Kingdom    67886011   2829.1         Europe  0.929\n",
       "United States    331002651  21433.2  North America  0.921"
      ]
     },
     "execution_count": 83,
     "metadata": {},
     "output_type": "execute_result"
    }
   ],
   "source": [
    "df.drop([\"Canada\", \"Japan\"])\n",
    "#If you are getting confused with the use of [] sometimes. You should know that we are passing a list as a parameter when two columns are together so we use this []"
   ]
  },
  {
   "cell_type": "code",
   "execution_count": 84,
   "id": "ef4c1d20",
   "metadata": {},
   "outputs": [
    {
     "data": {
      "text/html": [
       "<div>\n",
       "<style scoped>\n",
       "    .dataframe tbody tr th:only-of-type {\n",
       "        vertical-align: middle;\n",
       "    }\n",
       "\n",
       "    .dataframe tbody tr th {\n",
       "        vertical-align: top;\n",
       "    }\n",
       "\n",
       "    .dataframe thead th {\n",
       "        text-align: right;\n",
       "    }\n",
       "</style>\n",
       "<table border=\"1\" class=\"dataframe\">\n",
       "  <thead>\n",
       "    <tr style=\"text-align: right;\">\n",
       "      <th></th>\n",
       "      <th>Continent</th>\n",
       "      <th>HDI</th>\n",
       "    </tr>\n",
       "  </thead>\n",
       "  <tbody>\n",
       "    <tr>\n",
       "      <th>Canada</th>\n",
       "      <td>North America</td>\n",
       "      <td>0.936</td>\n",
       "    </tr>\n",
       "    <tr>\n",
       "      <th>France</th>\n",
       "      <td>Europe</td>\n",
       "      <td>0.901</td>\n",
       "    </tr>\n",
       "    <tr>\n",
       "      <th>Germany</th>\n",
       "      <td>Europe</td>\n",
       "      <td>0.942</td>\n",
       "    </tr>\n",
       "    <tr>\n",
       "      <th>Italy</th>\n",
       "      <td>Europe</td>\n",
       "      <td>0.895</td>\n",
       "    </tr>\n",
       "    <tr>\n",
       "      <th>Japan</th>\n",
       "      <td>Asia</td>\n",
       "      <td>0.925</td>\n",
       "    </tr>\n",
       "    <tr>\n",
       "      <th>United Kingdom</th>\n",
       "      <td>Europe</td>\n",
       "      <td>0.929</td>\n",
       "    </tr>\n",
       "    <tr>\n",
       "      <th>United States</th>\n",
       "      <td>North America</td>\n",
       "      <td>0.921</td>\n",
       "    </tr>\n",
       "  </tbody>\n",
       "</table>\n",
       "</div>"
      ],
      "text/plain": [
       "                    Continent    HDI\n",
       "Canada          North America  0.936\n",
       "France                 Europe  0.901\n",
       "Germany                Europe  0.942\n",
       "Italy                  Europe  0.895\n",
       "Japan                    Asia  0.925\n",
       "United Kingdom         Europe  0.929\n",
       "United States   North America  0.921"
      ]
     },
     "execution_count": 84,
     "metadata": {},
     "output_type": "execute_result"
    }
   ],
   "source": [
    "df.drop(columns = [\"Population\", \"GDP\"])"
   ]
  },
  {
   "cell_type": "code",
   "execution_count": 85,
   "id": "2c6c4473",
   "metadata": {},
   "outputs": [
    {
     "data": {
      "text/html": [
       "<div>\n",
       "<style scoped>\n",
       "    .dataframe tbody tr th:only-of-type {\n",
       "        vertical-align: middle;\n",
       "    }\n",
       "\n",
       "    .dataframe tbody tr th {\n",
       "        vertical-align: top;\n",
       "    }\n",
       "\n",
       "    .dataframe thead th {\n",
       "        text-align: right;\n",
       "    }\n",
       "</style>\n",
       "<table border=\"1\" class=\"dataframe\">\n",
       "  <thead>\n",
       "    <tr style=\"text-align: right;\">\n",
       "      <th></th>\n",
       "      <th>Population</th>\n",
       "      <th>GDP</th>\n",
       "      <th>Continent</th>\n",
       "      <th>HDI</th>\n",
       "    </tr>\n",
       "  </thead>\n",
       "  <tbody>\n",
       "    <tr>\n",
       "      <th>France</th>\n",
       "      <td>65273511</td>\n",
       "      <td>2715.5</td>\n",
       "      <td>Europe</td>\n",
       "      <td>0.901</td>\n",
       "    </tr>\n",
       "    <tr>\n",
       "      <th>Germany</th>\n",
       "      <td>83783942</td>\n",
       "      <td>3845.6</td>\n",
       "      <td>Europe</td>\n",
       "      <td>0.942</td>\n",
       "    </tr>\n",
       "    <tr>\n",
       "      <th>Japan</th>\n",
       "      <td>126476461</td>\n",
       "      <td>4971.8</td>\n",
       "      <td>Asia</td>\n",
       "      <td>0.925</td>\n",
       "    </tr>\n",
       "    <tr>\n",
       "      <th>United Kingdom</th>\n",
       "      <td>67886011</td>\n",
       "      <td>2829.1</td>\n",
       "      <td>Europe</td>\n",
       "      <td>0.929</td>\n",
       "    </tr>\n",
       "    <tr>\n",
       "      <th>United States</th>\n",
       "      <td>331002651</td>\n",
       "      <td>21433.2</td>\n",
       "      <td>North America</td>\n",
       "      <td>0.921</td>\n",
       "    </tr>\n",
       "  </tbody>\n",
       "</table>\n",
       "</div>"
      ],
      "text/plain": [
       "                Population      GDP      Continent    HDI\n",
       "France            65273511   2715.5         Europe  0.901\n",
       "Germany           83783942   3845.6         Europe  0.942\n",
       "Japan            126476461   4971.8           Asia  0.925\n",
       "United Kingdom    67886011   2829.1         Europe  0.929\n",
       "United States    331002651  21433.2  North America  0.921"
      ]
     },
     "execution_count": 85,
     "metadata": {},
     "output_type": "execute_result"
    }
   ],
   "source": [
    "df.drop([\"Italy\", \"Canada\"], axis=0)\n",
    "# This axis parameter tells us whether to drop rows or columns where 0 means row and 1 means column."
   ]
  },
  {
   "cell_type": "code",
   "execution_count": 86,
   "id": "e608b730",
   "metadata": {},
   "outputs": [
    {
     "data": {
      "text/html": [
       "<div>\n",
       "<style scoped>\n",
       "    .dataframe tbody tr th:only-of-type {\n",
       "        vertical-align: middle;\n",
       "    }\n",
       "\n",
       "    .dataframe tbody tr th {\n",
       "        vertical-align: top;\n",
       "    }\n",
       "\n",
       "    .dataframe thead th {\n",
       "        text-align: right;\n",
       "    }\n",
       "</style>\n",
       "<table border=\"1\" class=\"dataframe\">\n",
       "  <thead>\n",
       "    <tr style=\"text-align: right;\">\n",
       "      <th></th>\n",
       "      <th>GDP</th>\n",
       "      <th>Continent</th>\n",
       "    </tr>\n",
       "  </thead>\n",
       "  <tbody>\n",
       "    <tr>\n",
       "      <th>Canada</th>\n",
       "      <td>1736.4</td>\n",
       "      <td>North America</td>\n",
       "    </tr>\n",
       "    <tr>\n",
       "      <th>France</th>\n",
       "      <td>2715.5</td>\n",
       "      <td>Europe</td>\n",
       "    </tr>\n",
       "    <tr>\n",
       "      <th>Germany</th>\n",
       "      <td>3845.6</td>\n",
       "      <td>Europe</td>\n",
       "    </tr>\n",
       "    <tr>\n",
       "      <th>Italy</th>\n",
       "      <td>2001.2</td>\n",
       "      <td>Europe</td>\n",
       "    </tr>\n",
       "    <tr>\n",
       "      <th>Japan</th>\n",
       "      <td>4971.8</td>\n",
       "      <td>Asia</td>\n",
       "    </tr>\n",
       "    <tr>\n",
       "      <th>United Kingdom</th>\n",
       "      <td>2829.1</td>\n",
       "      <td>Europe</td>\n",
       "    </tr>\n",
       "    <tr>\n",
       "      <th>United States</th>\n",
       "      <td>21433.2</td>\n",
       "      <td>North America</td>\n",
       "    </tr>\n",
       "  </tbody>\n",
       "</table>\n",
       "</div>"
      ],
      "text/plain": [
       "                    GDP      Continent\n",
       "Canada           1736.4  North America\n",
       "France           2715.5         Europe\n",
       "Germany          3845.6         Europe\n",
       "Italy            2001.2         Europe\n",
       "Japan            4971.8           Asia\n",
       "United Kingdom   2829.1         Europe\n",
       "United States   21433.2  North America"
      ]
     },
     "execution_count": 86,
     "metadata": {},
     "output_type": "execute_result"
    }
   ],
   "source": [
    "df.drop([\"Population\", \"HDI\"], axis=1)\n",
    "#When dropping either row or columns the params should be passed based on the axis otherwise it will throw error"
   ]
  },
  {
   "cell_type": "markdown",
   "id": "d02a8b1a",
   "metadata": {},
   "source": [
    "The use of the axis is to mostly to remove the confusion in cases where the rows and column are same. So when both of them are same, we will have to pass axis to direct it"
   ]
  },
  {
   "cell_type": "code",
   "execution_count": 87,
   "id": "ee7676d3",
   "metadata": {},
   "outputs": [
    {
     "data": {
      "text/html": [
       "<div>\n",
       "<style scoped>\n",
       "    .dataframe tbody tr th:only-of-type {\n",
       "        vertical-align: middle;\n",
       "    }\n",
       "\n",
       "    .dataframe tbody tr th {\n",
       "        vertical-align: top;\n",
       "    }\n",
       "\n",
       "    .dataframe thead th {\n",
       "        text-align: right;\n",
       "    }\n",
       "</style>\n",
       "<table border=\"1\" class=\"dataframe\">\n",
       "  <thead>\n",
       "    <tr style=\"text-align: right;\">\n",
       "      <th></th>\n",
       "      <th>Continent</th>\n",
       "      <th>HDI</th>\n",
       "    </tr>\n",
       "  </thead>\n",
       "  <tbody>\n",
       "    <tr>\n",
       "      <th>Canada</th>\n",
       "      <td>North America</td>\n",
       "      <td>0.936</td>\n",
       "    </tr>\n",
       "    <tr>\n",
       "      <th>France</th>\n",
       "      <td>Europe</td>\n",
       "      <td>0.901</td>\n",
       "    </tr>\n",
       "    <tr>\n",
       "      <th>Germany</th>\n",
       "      <td>Europe</td>\n",
       "      <td>0.942</td>\n",
       "    </tr>\n",
       "    <tr>\n",
       "      <th>Italy</th>\n",
       "      <td>Europe</td>\n",
       "      <td>0.895</td>\n",
       "    </tr>\n",
       "    <tr>\n",
       "      <th>Japan</th>\n",
       "      <td>Asia</td>\n",
       "      <td>0.925</td>\n",
       "    </tr>\n",
       "    <tr>\n",
       "      <th>United Kingdom</th>\n",
       "      <td>Europe</td>\n",
       "      <td>0.929</td>\n",
       "    </tr>\n",
       "    <tr>\n",
       "      <th>United States</th>\n",
       "      <td>North America</td>\n",
       "      <td>0.921</td>\n",
       "    </tr>\n",
       "  </tbody>\n",
       "</table>\n",
       "</div>"
      ],
      "text/plain": [
       "                    Continent    HDI\n",
       "Canada          North America  0.936\n",
       "France                 Europe  0.901\n",
       "Germany                Europe  0.942\n",
       "Italy                  Europe  0.895\n",
       "Japan                    Asia  0.925\n",
       "United Kingdom         Europe  0.929\n",
       "United States   North America  0.921"
      ]
     },
     "execution_count": 87,
     "metadata": {},
     "output_type": "execute_result"
    }
   ],
   "source": [
    "df.drop([\"Population\", \"GDP\"], axis='columns')\n",
    "#We can pass the rows and columns as parameters for the axis as well."
   ]
  },
  {
   "cell_type": "code",
   "execution_count": 88,
   "id": "6a3cf220",
   "metadata": {},
   "outputs": [
    {
     "data": {
      "text/html": [
       "<div>\n",
       "<style scoped>\n",
       "    .dataframe tbody tr th:only-of-type {\n",
       "        vertical-align: middle;\n",
       "    }\n",
       "\n",
       "    .dataframe tbody tr th {\n",
       "        vertical-align: top;\n",
       "    }\n",
       "\n",
       "    .dataframe thead th {\n",
       "        text-align: right;\n",
       "    }\n",
       "</style>\n",
       "<table border=\"1\" class=\"dataframe\">\n",
       "  <thead>\n",
       "    <tr style=\"text-align: right;\">\n",
       "      <th></th>\n",
       "      <th>Population</th>\n",
       "      <th>GDP</th>\n",
       "      <th>Continent</th>\n",
       "      <th>HDI</th>\n",
       "    </tr>\n",
       "  </thead>\n",
       "  <tbody>\n",
       "    <tr>\n",
       "      <th>France</th>\n",
       "      <td>65273511</td>\n",
       "      <td>2715.5</td>\n",
       "      <td>Europe</td>\n",
       "      <td>0.901</td>\n",
       "    </tr>\n",
       "    <tr>\n",
       "      <th>Italy</th>\n",
       "      <td>60461826</td>\n",
       "      <td>2001.2</td>\n",
       "      <td>Europe</td>\n",
       "      <td>0.895</td>\n",
       "    </tr>\n",
       "    <tr>\n",
       "      <th>Japan</th>\n",
       "      <td>126476461</td>\n",
       "      <td>4971.8</td>\n",
       "      <td>Asia</td>\n",
       "      <td>0.925</td>\n",
       "    </tr>\n",
       "    <tr>\n",
       "      <th>United Kingdom</th>\n",
       "      <td>67886011</td>\n",
       "      <td>2829.1</td>\n",
       "      <td>Europe</td>\n",
       "      <td>0.929</td>\n",
       "    </tr>\n",
       "    <tr>\n",
       "      <th>United States</th>\n",
       "      <td>331002651</td>\n",
       "      <td>21433.2</td>\n",
       "      <td>North America</td>\n",
       "      <td>0.921</td>\n",
       "    </tr>\n",
       "  </tbody>\n",
       "</table>\n",
       "</div>"
      ],
      "text/plain": [
       "                Population      GDP      Continent    HDI\n",
       "France            65273511   2715.5         Europe  0.901\n",
       "Italy             60461826   2001.2         Europe  0.895\n",
       "Japan            126476461   4971.8           Asia  0.925\n",
       "United Kingdom    67886011   2829.1         Europe  0.929\n",
       "United States    331002651  21433.2  North America  0.921"
      ]
     },
     "execution_count": 88,
     "metadata": {},
     "output_type": "execute_result"
    }
   ],
   "source": [
    "df.drop([\"Canada\", \"Germany\"], axis = \"rows\")"
   ]
  },
  {
   "cell_type": "markdown",
   "id": "ddacdfa9",
   "metadata": {},
   "source": [
    "Broadcasting Operations"
   ]
  },
  {
   "cell_type": "code",
   "execution_count": 89,
   "id": "2aa4f78d",
   "metadata": {},
   "outputs": [
    {
     "data": {
      "text/html": [
       "<div>\n",
       "<style scoped>\n",
       "    .dataframe tbody tr th:only-of-type {\n",
       "        vertical-align: middle;\n",
       "    }\n",
       "\n",
       "    .dataframe tbody tr th {\n",
       "        vertical-align: top;\n",
       "    }\n",
       "\n",
       "    .dataframe thead th {\n",
       "        text-align: right;\n",
       "    }\n",
       "</style>\n",
       "<table border=\"1\" class=\"dataframe\">\n",
       "  <thead>\n",
       "    <tr style=\"text-align: right;\">\n",
       "      <th></th>\n",
       "      <th>Population</th>\n",
       "      <th>GDP</th>\n",
       "    </tr>\n",
       "  </thead>\n",
       "  <tbody>\n",
       "    <tr>\n",
       "      <th>Canada</th>\n",
       "      <td>37742154</td>\n",
       "      <td>1736.4</td>\n",
       "    </tr>\n",
       "    <tr>\n",
       "      <th>France</th>\n",
       "      <td>65273511</td>\n",
       "      <td>2715.5</td>\n",
       "    </tr>\n",
       "    <tr>\n",
       "      <th>Germany</th>\n",
       "      <td>83783942</td>\n",
       "      <td>3845.6</td>\n",
       "    </tr>\n",
       "    <tr>\n",
       "      <th>Italy</th>\n",
       "      <td>60461826</td>\n",
       "      <td>2001.2</td>\n",
       "    </tr>\n",
       "    <tr>\n",
       "      <th>Japan</th>\n",
       "      <td>126476461</td>\n",
       "      <td>4971.8</td>\n",
       "    </tr>\n",
       "    <tr>\n",
       "      <th>United Kingdom</th>\n",
       "      <td>67886011</td>\n",
       "      <td>2829.1</td>\n",
       "    </tr>\n",
       "    <tr>\n",
       "      <th>United States</th>\n",
       "      <td>331002651</td>\n",
       "      <td>21433.2</td>\n",
       "    </tr>\n",
       "  </tbody>\n",
       "</table>\n",
       "</div>"
      ],
      "text/plain": [
       "                Population      GDP\n",
       "Canada            37742154   1736.4\n",
       "France            65273511   2715.5\n",
       "Germany           83783942   3845.6\n",
       "Italy             60461826   2001.2\n",
       "Japan            126476461   4971.8\n",
       "United Kingdom    67886011   2829.1\n",
       "United States    331002651  21433.2"
      ]
     },
     "execution_count": 89,
     "metadata": {},
     "output_type": "execute_result"
    }
   ],
   "source": [
    "df[[\"Population\", \"GDP\"]]"
   ]
  },
  {
   "cell_type": "code",
   "execution_count": 90,
   "id": "001c5630",
   "metadata": {},
   "outputs": [
    {
     "data": {
      "text/html": [
       "<div>\n",
       "<style scoped>\n",
       "    .dataframe tbody tr th:only-of-type {\n",
       "        vertical-align: middle;\n",
       "    }\n",
       "\n",
       "    .dataframe tbody tr th {\n",
       "        vertical-align: top;\n",
       "    }\n",
       "\n",
       "    .dataframe thead th {\n",
       "        text-align: right;\n",
       "    }\n",
       "</style>\n",
       "<table border=\"1\" class=\"dataframe\">\n",
       "  <thead>\n",
       "    <tr style=\"text-align: right;\">\n",
       "      <th></th>\n",
       "      <th>Population</th>\n",
       "      <th>GDP</th>\n",
       "    </tr>\n",
       "  </thead>\n",
       "  <tbody>\n",
       "    <tr>\n",
       "      <th>Canada</th>\n",
       "      <td>377421.54</td>\n",
       "      <td>17.364</td>\n",
       "    </tr>\n",
       "    <tr>\n",
       "      <th>France</th>\n",
       "      <td>652735.11</td>\n",
       "      <td>27.155</td>\n",
       "    </tr>\n",
       "    <tr>\n",
       "      <th>Germany</th>\n",
       "      <td>837839.42</td>\n",
       "      <td>38.456</td>\n",
       "    </tr>\n",
       "    <tr>\n",
       "      <th>Italy</th>\n",
       "      <td>604618.26</td>\n",
       "      <td>20.012</td>\n",
       "    </tr>\n",
       "    <tr>\n",
       "      <th>Japan</th>\n",
       "      <td>1264764.61</td>\n",
       "      <td>49.718</td>\n",
       "    </tr>\n",
       "    <tr>\n",
       "      <th>United Kingdom</th>\n",
       "      <td>678860.11</td>\n",
       "      <td>28.291</td>\n",
       "    </tr>\n",
       "    <tr>\n",
       "      <th>United States</th>\n",
       "      <td>3310026.51</td>\n",
       "      <td>214.332</td>\n",
       "    </tr>\n",
       "  </tbody>\n",
       "</table>\n",
       "</div>"
      ],
      "text/plain": [
       "                Population      GDP\n",
       "Canada           377421.54   17.364\n",
       "France           652735.11   27.155\n",
       "Germany          837839.42   38.456\n",
       "Italy            604618.26   20.012\n",
       "Japan           1264764.61   49.718\n",
       "United Kingdom   678860.11   28.291\n",
       "United States   3310026.51  214.332"
      ]
     },
     "execution_count": 90,
     "metadata": {},
     "output_type": "execute_result"
    }
   ],
   "source": [
    "df[[\"Population\", \"GDP\"]] / 100\n",
    "#Applying the division among the Columns as once.\n",
    "#Operation at a series work at a column level"
   ]
  },
  {
   "cell_type": "code",
   "execution_count": 91,
   "id": "10919212",
   "metadata": {},
   "outputs": [
    {
     "data": {
      "text/plain": [
       "GDP   -1000.0\n",
       "HDI      -0.3\n",
       "dtype: float64"
      ]
     },
     "execution_count": 91,
     "metadata": {},
     "output_type": "execute_result"
    }
   ],
   "source": [
    "crisis = pd.Series([-1_000,-0.3], index=['GDP','HDI'])\n",
    "crisis"
   ]
  },
  {
   "cell_type": "markdown",
   "id": "38a9f0ff",
   "metadata": {},
   "source": [
    "In the above code we are simply defining a metric for the crisis. It simply represents the metric of a crisis.\n",
    "The above code is simply adding a series with index named crisis and its mentioned values so we can use it when needed to determine wheter there was a crisis or not\n",
    "You might:\n",
    "\t•\tCompare it with normal times\n",
    "\t•\tPlot it\n",
    "\t•\tAnalyze how big the drop was\n",
    "\t•\tUse it in reports or dashboards"
   ]
  },
  {
   "cell_type": "code",
   "execution_count": 92,
   "id": "66ce6fd6",
   "metadata": {},
   "outputs": [
    {
     "data": {
      "text/html": [
       "<div>\n",
       "<style scoped>\n",
       "    .dataframe tbody tr th:only-of-type {\n",
       "        vertical-align: middle;\n",
       "    }\n",
       "\n",
       "    .dataframe tbody tr th {\n",
       "        vertical-align: top;\n",
       "    }\n",
       "\n",
       "    .dataframe thead th {\n",
       "        text-align: right;\n",
       "    }\n",
       "</style>\n",
       "<table border=\"1\" class=\"dataframe\">\n",
       "  <thead>\n",
       "    <tr style=\"text-align: right;\">\n",
       "      <th></th>\n",
       "      <th>GDP</th>\n",
       "      <th>HDI</th>\n",
       "    </tr>\n",
       "  </thead>\n",
       "  <tbody>\n",
       "    <tr>\n",
       "      <th>Canada</th>\n",
       "      <td>1736.4</td>\n",
       "      <td>0.936</td>\n",
       "    </tr>\n",
       "    <tr>\n",
       "      <th>France</th>\n",
       "      <td>2715.5</td>\n",
       "      <td>0.901</td>\n",
       "    </tr>\n",
       "    <tr>\n",
       "      <th>Germany</th>\n",
       "      <td>3845.6</td>\n",
       "      <td>0.942</td>\n",
       "    </tr>\n",
       "    <tr>\n",
       "      <th>Italy</th>\n",
       "      <td>2001.2</td>\n",
       "      <td>0.895</td>\n",
       "    </tr>\n",
       "    <tr>\n",
       "      <th>Japan</th>\n",
       "      <td>4971.8</td>\n",
       "      <td>0.925</td>\n",
       "    </tr>\n",
       "    <tr>\n",
       "      <th>United Kingdom</th>\n",
       "      <td>2829.1</td>\n",
       "      <td>0.929</td>\n",
       "    </tr>\n",
       "    <tr>\n",
       "      <th>United States</th>\n",
       "      <td>21433.2</td>\n",
       "      <td>0.921</td>\n",
       "    </tr>\n",
       "  </tbody>\n",
       "</table>\n",
       "</div>"
      ],
      "text/plain": [
       "                    GDP    HDI\n",
       "Canada           1736.4  0.936\n",
       "France           2715.5  0.901\n",
       "Germany          3845.6  0.942\n",
       "Italy            2001.2  0.895\n",
       "Japan            4971.8  0.925\n",
       "United Kingdom   2829.1  0.929\n",
       "United States   21433.2  0.921"
      ]
     },
     "execution_count": 92,
     "metadata": {},
     "output_type": "execute_result"
    }
   ],
   "source": [
    "df[[\"GDP\", \"HDI\"]]"
   ]
  },
  {
   "cell_type": "code",
   "execution_count": 93,
   "id": "ae251466",
   "metadata": {},
   "outputs": [
    {
     "data": {
      "text/html": [
       "<div>\n",
       "<style scoped>\n",
       "    .dataframe tbody tr th:only-of-type {\n",
       "        vertical-align: middle;\n",
       "    }\n",
       "\n",
       "    .dataframe tbody tr th {\n",
       "        vertical-align: top;\n",
       "    }\n",
       "\n",
       "    .dataframe thead th {\n",
       "        text-align: right;\n",
       "    }\n",
       "</style>\n",
       "<table border=\"1\" class=\"dataframe\">\n",
       "  <thead>\n",
       "    <tr style=\"text-align: right;\">\n",
       "      <th></th>\n",
       "      <th>GDP</th>\n",
       "      <th>HDI</th>\n",
       "    </tr>\n",
       "  </thead>\n",
       "  <tbody>\n",
       "    <tr>\n",
       "      <th>Canada</th>\n",
       "      <td>736.4</td>\n",
       "      <td>0.636</td>\n",
       "    </tr>\n",
       "    <tr>\n",
       "      <th>France</th>\n",
       "      <td>1715.5</td>\n",
       "      <td>0.601</td>\n",
       "    </tr>\n",
       "    <tr>\n",
       "      <th>Germany</th>\n",
       "      <td>2845.6</td>\n",
       "      <td>0.642</td>\n",
       "    </tr>\n",
       "    <tr>\n",
       "      <th>Italy</th>\n",
       "      <td>1001.2</td>\n",
       "      <td>0.595</td>\n",
       "    </tr>\n",
       "    <tr>\n",
       "      <th>Japan</th>\n",
       "      <td>3971.8</td>\n",
       "      <td>0.625</td>\n",
       "    </tr>\n",
       "    <tr>\n",
       "      <th>United Kingdom</th>\n",
       "      <td>1829.1</td>\n",
       "      <td>0.629</td>\n",
       "    </tr>\n",
       "    <tr>\n",
       "      <th>United States</th>\n",
       "      <td>20433.2</td>\n",
       "      <td>0.621</td>\n",
       "    </tr>\n",
       "  </tbody>\n",
       "</table>\n",
       "</div>"
      ],
      "text/plain": [
       "                    GDP    HDI\n",
       "Canada            736.4  0.636\n",
       "France           1715.5  0.601\n",
       "Germany          2845.6  0.642\n",
       "Italy            1001.2  0.595\n",
       "Japan            3971.8  0.625\n",
       "United Kingdom   1829.1  0.629\n",
       "United States   20433.2  0.621"
      ]
     },
     "execution_count": 93,
     "metadata": {},
     "output_type": "execute_result"
    }
   ],
   "source": [
    "df[[\"GDP\", \"HDI\"]] + crisis"
   ]
  },
  {
   "cell_type": "markdown",
   "id": "6c04e001",
   "metadata": {},
   "source": [
    "The above adding of the crisis series to the given dataframe is to see how our data behaves on a crisis or stress."
   ]
  },
  {
   "cell_type": "markdown",
   "id": "ac6ba4bc",
   "metadata": {},
   "source": [
    "Modifying a dataframe \n",
    "\n",
    "Previously when we were dropping different rows and columns, we were not modifying the dataset.\n",
    "99 percent of the operation in the pandas are immutable. It simply means that the operation in the pandas are mostly unchangable. This simply means that the most operations return a new object and donot modify the original dataframe or a series. There are ways to change it or to make the changes permanent."
   ]
  },
  {
   "cell_type": "code",
   "execution_count": 94,
   "id": "ea9f104f",
   "metadata": {},
   "outputs": [],
   "source": [
    "lang = pd.Series(\n",
    "    [\"French\", \"German\", \"Italian\"],\n",
    "    index = [\"France\",\"Germany\",\"Italy\"],\n",
    "    name = \"Language\"\n",
    "    )\n",
    "\n",
    "#Adding a comma in pandas is very important for the seperation of the arguments in the function"
   ]
  },
  {
   "cell_type": "code",
   "execution_count": 95,
   "id": "2c269816",
   "metadata": {},
   "outputs": [],
   "source": [
    "df[\"Language\"] = lang"
   ]
  },
  {
   "cell_type": "code",
   "execution_count": 96,
   "id": "35562eb7",
   "metadata": {},
   "outputs": [
    {
     "data": {
      "text/html": [
       "<div>\n",
       "<style scoped>\n",
       "    .dataframe tbody tr th:only-of-type {\n",
       "        vertical-align: middle;\n",
       "    }\n",
       "\n",
       "    .dataframe tbody tr th {\n",
       "        vertical-align: top;\n",
       "    }\n",
       "\n",
       "    .dataframe thead th {\n",
       "        text-align: right;\n",
       "    }\n",
       "</style>\n",
       "<table border=\"1\" class=\"dataframe\">\n",
       "  <thead>\n",
       "    <tr style=\"text-align: right;\">\n",
       "      <th></th>\n",
       "      <th>Population</th>\n",
       "      <th>GDP</th>\n",
       "      <th>Continent</th>\n",
       "      <th>HDI</th>\n",
       "      <th>Language</th>\n",
       "    </tr>\n",
       "  </thead>\n",
       "  <tbody>\n",
       "    <tr>\n",
       "      <th>Canada</th>\n",
       "      <td>37742154</td>\n",
       "      <td>1736.4</td>\n",
       "      <td>North America</td>\n",
       "      <td>0.936</td>\n",
       "      <td>NaN</td>\n",
       "    </tr>\n",
       "    <tr>\n",
       "      <th>France</th>\n",
       "      <td>65273511</td>\n",
       "      <td>2715.5</td>\n",
       "      <td>Europe</td>\n",
       "      <td>0.901</td>\n",
       "      <td>French</td>\n",
       "    </tr>\n",
       "    <tr>\n",
       "      <th>Germany</th>\n",
       "      <td>83783942</td>\n",
       "      <td>3845.6</td>\n",
       "      <td>Europe</td>\n",
       "      <td>0.942</td>\n",
       "      <td>German</td>\n",
       "    </tr>\n",
       "    <tr>\n",
       "      <th>Italy</th>\n",
       "      <td>60461826</td>\n",
       "      <td>2001.2</td>\n",
       "      <td>Europe</td>\n",
       "      <td>0.895</td>\n",
       "      <td>Italian</td>\n",
       "    </tr>\n",
       "    <tr>\n",
       "      <th>Japan</th>\n",
       "      <td>126476461</td>\n",
       "      <td>4971.8</td>\n",
       "      <td>Asia</td>\n",
       "      <td>0.925</td>\n",
       "      <td>NaN</td>\n",
       "    </tr>\n",
       "    <tr>\n",
       "      <th>United Kingdom</th>\n",
       "      <td>67886011</td>\n",
       "      <td>2829.1</td>\n",
       "      <td>Europe</td>\n",
       "      <td>0.929</td>\n",
       "      <td>NaN</td>\n",
       "    </tr>\n",
       "    <tr>\n",
       "      <th>United States</th>\n",
       "      <td>331002651</td>\n",
       "      <td>21433.2</td>\n",
       "      <td>North America</td>\n",
       "      <td>0.921</td>\n",
       "      <td>NaN</td>\n",
       "    </tr>\n",
       "  </tbody>\n",
       "</table>\n",
       "</div>"
      ],
      "text/plain": [
       "                Population      GDP      Continent    HDI Language\n",
       "Canada            37742154   1736.4  North America  0.936      NaN\n",
       "France            65273511   2715.5         Europe  0.901   French\n",
       "Germany           83783942   3845.6         Europe  0.942   German\n",
       "Italy             60461826   2001.2         Europe  0.895  Italian\n",
       "Japan            126476461   4971.8           Asia  0.925      NaN\n",
       "United Kingdom    67886011   2829.1         Europe  0.929      NaN\n",
       "United States    331002651  21433.2  North America  0.921      NaN"
      ]
     },
     "execution_count": 96,
     "metadata": {},
     "output_type": "execute_result"
    }
   ],
   "source": [
    "df\n",
    "# Here we can see that the series we made and added that is the Language is created and the values that were not passed are labelled with NaN\n",
    "# NaN refer to \"Not a Number\""
   ]
  },
  {
   "cell_type": "markdown",
   "id": "3710492e",
   "metadata": {},
   "source": [
    "Replacing the values per column"
   ]
  },
  {
   "cell_type": "code",
   "execution_count": 97,
   "id": "ae1aa094",
   "metadata": {},
   "outputs": [],
   "source": [
    "df[\"Language\"] = \"English\""
   ]
  },
  {
   "cell_type": "code",
   "execution_count": 98,
   "id": "662075b3",
   "metadata": {},
   "outputs": [
    {
     "data": {
      "text/html": [
       "<div>\n",
       "<style scoped>\n",
       "    .dataframe tbody tr th:only-of-type {\n",
       "        vertical-align: middle;\n",
       "    }\n",
       "\n",
       "    .dataframe tbody tr th {\n",
       "        vertical-align: top;\n",
       "    }\n",
       "\n",
       "    .dataframe thead th {\n",
       "        text-align: right;\n",
       "    }\n",
       "</style>\n",
       "<table border=\"1\" class=\"dataframe\">\n",
       "  <thead>\n",
       "    <tr style=\"text-align: right;\">\n",
       "      <th></th>\n",
       "      <th>Population</th>\n",
       "      <th>GDP</th>\n",
       "      <th>Continent</th>\n",
       "      <th>HDI</th>\n",
       "      <th>Language</th>\n",
       "    </tr>\n",
       "  </thead>\n",
       "  <tbody>\n",
       "    <tr>\n",
       "      <th>Canada</th>\n",
       "      <td>37742154</td>\n",
       "      <td>1736.4</td>\n",
       "      <td>North America</td>\n",
       "      <td>0.936</td>\n",
       "      <td>English</td>\n",
       "    </tr>\n",
       "    <tr>\n",
       "      <th>France</th>\n",
       "      <td>65273511</td>\n",
       "      <td>2715.5</td>\n",
       "      <td>Europe</td>\n",
       "      <td>0.901</td>\n",
       "      <td>English</td>\n",
       "    </tr>\n",
       "    <tr>\n",
       "      <th>Germany</th>\n",
       "      <td>83783942</td>\n",
       "      <td>3845.6</td>\n",
       "      <td>Europe</td>\n",
       "      <td>0.942</td>\n",
       "      <td>English</td>\n",
       "    </tr>\n",
       "    <tr>\n",
       "      <th>Italy</th>\n",
       "      <td>60461826</td>\n",
       "      <td>2001.2</td>\n",
       "      <td>Europe</td>\n",
       "      <td>0.895</td>\n",
       "      <td>English</td>\n",
       "    </tr>\n",
       "    <tr>\n",
       "      <th>Japan</th>\n",
       "      <td>126476461</td>\n",
       "      <td>4971.8</td>\n",
       "      <td>Asia</td>\n",
       "      <td>0.925</td>\n",
       "      <td>English</td>\n",
       "    </tr>\n",
       "    <tr>\n",
       "      <th>United Kingdom</th>\n",
       "      <td>67886011</td>\n",
       "      <td>2829.1</td>\n",
       "      <td>Europe</td>\n",
       "      <td>0.929</td>\n",
       "      <td>English</td>\n",
       "    </tr>\n",
       "    <tr>\n",
       "      <th>United States</th>\n",
       "      <td>331002651</td>\n",
       "      <td>21433.2</td>\n",
       "      <td>North America</td>\n",
       "      <td>0.921</td>\n",
       "      <td>English</td>\n",
       "    </tr>\n",
       "  </tbody>\n",
       "</table>\n",
       "</div>"
      ],
      "text/plain": [
       "                Population      GDP      Continent    HDI Language\n",
       "Canada            37742154   1736.4  North America  0.936  English\n",
       "France            65273511   2715.5         Europe  0.901  English\n",
       "Germany           83783942   3845.6         Europe  0.942  English\n",
       "Italy             60461826   2001.2         Europe  0.895  English\n",
       "Japan            126476461   4971.8           Asia  0.925  English\n",
       "United Kingdom    67886011   2829.1         Europe  0.929  English\n",
       "United States    331002651  21433.2  North America  0.921  English"
      ]
     },
     "execution_count": 98,
     "metadata": {},
     "output_type": "execute_result"
    }
   ],
   "source": [
    "df\n",
    "#Here we can see that the values of all the elements in the column Language has changed to English for now"
   ]
  },
  {
   "cell_type": "markdown",
   "id": "b9b1bb3c",
   "metadata": {},
   "source": [
    "The way to know if we are modifying the underlined dataframe is just by seeing the use of the \"=\" in the code. The underlined dataframe refers to the original dataframe.\n"
   ]
  },
  {
   "cell_type": "markdown",
   "id": "d87d61fe",
   "metadata": {},
   "source": [
    "Renaming Columns"
   ]
  },
  {
   "cell_type": "code",
   "execution_count": 99,
   "id": "a3d4a24c",
   "metadata": {},
   "outputs": [
    {
     "data": {
      "text/html": [
       "<div>\n",
       "<style scoped>\n",
       "    .dataframe tbody tr th:only-of-type {\n",
       "        vertical-align: middle;\n",
       "    }\n",
       "\n",
       "    .dataframe tbody tr th {\n",
       "        vertical-align: top;\n",
       "    }\n",
       "\n",
       "    .dataframe thead th {\n",
       "        text-align: right;\n",
       "    }\n",
       "</style>\n",
       "<table border=\"1\" class=\"dataframe\">\n",
       "  <thead>\n",
       "    <tr style=\"text-align: right;\">\n",
       "      <th></th>\n",
       "      <th>Population</th>\n",
       "      <th>GDP</th>\n",
       "      <th>Continent</th>\n",
       "      <th>Human Development Index</th>\n",
       "      <th>Language</th>\n",
       "    </tr>\n",
       "  </thead>\n",
       "  <tbody>\n",
       "    <tr>\n",
       "      <th>Canada</th>\n",
       "      <td>37742154</td>\n",
       "      <td>1736.4</td>\n",
       "      <td>North America</td>\n",
       "      <td>0.936</td>\n",
       "      <td>English</td>\n",
       "    </tr>\n",
       "    <tr>\n",
       "      <th>France</th>\n",
       "      <td>65273511</td>\n",
       "      <td>2715.5</td>\n",
       "      <td>Europe</td>\n",
       "      <td>0.901</td>\n",
       "      <td>English</td>\n",
       "    </tr>\n",
       "    <tr>\n",
       "      <th>Germany</th>\n",
       "      <td>83783942</td>\n",
       "      <td>3845.6</td>\n",
       "      <td>Europe</td>\n",
       "      <td>0.942</td>\n",
       "      <td>English</td>\n",
       "    </tr>\n",
       "    <tr>\n",
       "      <th>Italy</th>\n",
       "      <td>60461826</td>\n",
       "      <td>2001.2</td>\n",
       "      <td>Europe</td>\n",
       "      <td>0.895</td>\n",
       "      <td>English</td>\n",
       "    </tr>\n",
       "    <tr>\n",
       "      <th>Japan</th>\n",
       "      <td>126476461</td>\n",
       "      <td>4971.8</td>\n",
       "      <td>Asia</td>\n",
       "      <td>0.925</td>\n",
       "      <td>English</td>\n",
       "    </tr>\n",
       "    <tr>\n",
       "      <th>UK</th>\n",
       "      <td>67886011</td>\n",
       "      <td>2829.1</td>\n",
       "      <td>Europe</td>\n",
       "      <td>0.929</td>\n",
       "      <td>English</td>\n",
       "    </tr>\n",
       "    <tr>\n",
       "      <th>USA</th>\n",
       "      <td>331002651</td>\n",
       "      <td>21433.2</td>\n",
       "      <td>North America</td>\n",
       "      <td>0.921</td>\n",
       "      <td>English</td>\n",
       "    </tr>\n",
       "  </tbody>\n",
       "</table>\n",
       "</div>"
      ],
      "text/plain": [
       "         Population      GDP      Continent  Human Development Index Language\n",
       "Canada     37742154   1736.4  North America                    0.936  English\n",
       "France     65273511   2715.5         Europe                    0.901  English\n",
       "Germany    83783942   3845.6         Europe                    0.942  English\n",
       "Italy      60461826   2001.2         Europe                    0.895  English\n",
       "Japan     126476461   4971.8           Asia                    0.925  English\n",
       "UK         67886011   2829.1         Europe                    0.929  English\n",
       "USA       331002651  21433.2  North America                    0.921  English"
      ]
     },
     "execution_count": 99,
     "metadata": {},
     "output_type": "execute_result"
    }
   ],
   "source": [
    "df.rename(\n",
    "    columns = {\n",
    "     \"HDI\" : \"Human Development Index\",\n",
    "     \"Annual Popcorn Consumption\" : \"APC\"\n",
    "    }, index = {\n",
    "        \"United States\" : \"USA\",\n",
    "        \"United Kingdom\" : \"UK\",\n",
    "        \"Argentina\" : \"AR\"\n",
    "    }\n",
    "    \n",
    ")\n",
    "\n",
    "# The passing of values that are not in the data frame is not a problem as we can see above where we passed Annual Popcorn Consumption and the index Argentina"
   ]
  },
  {
   "cell_type": "code",
   "execution_count": 100,
   "id": "90d3c997",
   "metadata": {},
   "outputs": [
    {
     "data": {
      "text/html": [
       "<div>\n",
       "<style scoped>\n",
       "    .dataframe tbody tr th:only-of-type {\n",
       "        vertical-align: middle;\n",
       "    }\n",
       "\n",
       "    .dataframe tbody tr th {\n",
       "        vertical-align: top;\n",
       "    }\n",
       "\n",
       "    .dataframe thead th {\n",
       "        text-align: right;\n",
       "    }\n",
       "</style>\n",
       "<table border=\"1\" class=\"dataframe\">\n",
       "  <thead>\n",
       "    <tr style=\"text-align: right;\">\n",
       "      <th></th>\n",
       "      <th>Population</th>\n",
       "      <th>GDP</th>\n",
       "      <th>Continent</th>\n",
       "      <th>HDI</th>\n",
       "      <th>Language</th>\n",
       "    </tr>\n",
       "  </thead>\n",
       "  <tbody>\n",
       "    <tr>\n",
       "      <th>Canada</th>\n",
       "      <td>37742154</td>\n",
       "      <td>1736.4</td>\n",
       "      <td>North America</td>\n",
       "      <td>0.936</td>\n",
       "      <td>English</td>\n",
       "    </tr>\n",
       "    <tr>\n",
       "      <th>France</th>\n",
       "      <td>65273511</td>\n",
       "      <td>2715.5</td>\n",
       "      <td>Europe</td>\n",
       "      <td>0.901</td>\n",
       "      <td>English</td>\n",
       "    </tr>\n",
       "    <tr>\n",
       "      <th>Germany</th>\n",
       "      <td>83783942</td>\n",
       "      <td>3845.6</td>\n",
       "      <td>Europe</td>\n",
       "      <td>0.942</td>\n",
       "      <td>English</td>\n",
       "    </tr>\n",
       "    <tr>\n",
       "      <th>Italy</th>\n",
       "      <td>60461826</td>\n",
       "      <td>2001.2</td>\n",
       "      <td>Europe</td>\n",
       "      <td>0.895</td>\n",
       "      <td>English</td>\n",
       "    </tr>\n",
       "    <tr>\n",
       "      <th>Japan</th>\n",
       "      <td>126476461</td>\n",
       "      <td>4971.8</td>\n",
       "      <td>Asia</td>\n",
       "      <td>0.925</td>\n",
       "      <td>English</td>\n",
       "    </tr>\n",
       "    <tr>\n",
       "      <th>United Kingdom</th>\n",
       "      <td>67886011</td>\n",
       "      <td>2829.1</td>\n",
       "      <td>Europe</td>\n",
       "      <td>0.929</td>\n",
       "      <td>English</td>\n",
       "    </tr>\n",
       "    <tr>\n",
       "      <th>United States</th>\n",
       "      <td>331002651</td>\n",
       "      <td>21433.2</td>\n",
       "      <td>North America</td>\n",
       "      <td>0.921</td>\n",
       "      <td>English</td>\n",
       "    </tr>\n",
       "  </tbody>\n",
       "</table>\n",
       "</div>"
      ],
      "text/plain": [
       "                Population      GDP      Continent    HDI Language\n",
       "Canada            37742154   1736.4  North America  0.936  English\n",
       "France            65273511   2715.5         Europe  0.901  English\n",
       "Germany           83783942   3845.6         Europe  0.942  English\n",
       "Italy             60461826   2001.2         Europe  0.895  English\n",
       "Japan            126476461   4971.8           Asia  0.925  English\n",
       "United Kingdom    67886011   2829.1         Europe  0.929  English\n",
       "United States    331002651  21433.2  North America  0.921  English"
      ]
     },
     "execution_count": 100,
     "metadata": {},
     "output_type": "execute_result"
    }
   ],
   "source": [
    "df\n",
    "# Even after renaming the Columns and rows , the dataframe has not changed which proves that the dataframe is immutable unless we reassign it to another df. This is not referencing its reassignment."
   ]
  },
  {
   "cell_type": "code",
   "execution_count": 101,
   "id": "23130752",
   "metadata": {},
   "outputs": [
    {
     "data": {
      "text/html": [
       "<div>\n",
       "<style scoped>\n",
       "    .dataframe tbody tr th:only-of-type {\n",
       "        vertical-align: middle;\n",
       "    }\n",
       "\n",
       "    .dataframe tbody tr th {\n",
       "        vertical-align: top;\n",
       "    }\n",
       "\n",
       "    .dataframe thead th {\n",
       "        text-align: right;\n",
       "    }\n",
       "</style>\n",
       "<table border=\"1\" class=\"dataframe\">\n",
       "  <thead>\n",
       "    <tr style=\"text-align: right;\">\n",
       "      <th></th>\n",
       "      <th>Population</th>\n",
       "      <th>GDP</th>\n",
       "      <th>Continent</th>\n",
       "      <th>HDI</th>\n",
       "      <th>Language</th>\n",
       "    </tr>\n",
       "  </thead>\n",
       "  <tbody>\n",
       "    <tr>\n",
       "      <th>CANADA</th>\n",
       "      <td>37742154</td>\n",
       "      <td>1736.4</td>\n",
       "      <td>North America</td>\n",
       "      <td>0.936</td>\n",
       "      <td>English</td>\n",
       "    </tr>\n",
       "    <tr>\n",
       "      <th>FRANCE</th>\n",
       "      <td>65273511</td>\n",
       "      <td>2715.5</td>\n",
       "      <td>Europe</td>\n",
       "      <td>0.901</td>\n",
       "      <td>English</td>\n",
       "    </tr>\n",
       "    <tr>\n",
       "      <th>GERMANY</th>\n",
       "      <td>83783942</td>\n",
       "      <td>3845.6</td>\n",
       "      <td>Europe</td>\n",
       "      <td>0.942</td>\n",
       "      <td>English</td>\n",
       "    </tr>\n",
       "    <tr>\n",
       "      <th>ITALY</th>\n",
       "      <td>60461826</td>\n",
       "      <td>2001.2</td>\n",
       "      <td>Europe</td>\n",
       "      <td>0.895</td>\n",
       "      <td>English</td>\n",
       "    </tr>\n",
       "    <tr>\n",
       "      <th>JAPAN</th>\n",
       "      <td>126476461</td>\n",
       "      <td>4971.8</td>\n",
       "      <td>Asia</td>\n",
       "      <td>0.925</td>\n",
       "      <td>English</td>\n",
       "    </tr>\n",
       "    <tr>\n",
       "      <th>UNITED KINGDOM</th>\n",
       "      <td>67886011</td>\n",
       "      <td>2829.1</td>\n",
       "      <td>Europe</td>\n",
       "      <td>0.929</td>\n",
       "      <td>English</td>\n",
       "    </tr>\n",
       "    <tr>\n",
       "      <th>UNITED STATES</th>\n",
       "      <td>331002651</td>\n",
       "      <td>21433.2</td>\n",
       "      <td>North America</td>\n",
       "      <td>0.921</td>\n",
       "      <td>English</td>\n",
       "    </tr>\n",
       "  </tbody>\n",
       "</table>\n",
       "</div>"
      ],
      "text/plain": [
       "                Population      GDP      Continent    HDI Language\n",
       "CANADA            37742154   1736.4  North America  0.936  English\n",
       "FRANCE            65273511   2715.5         Europe  0.901  English\n",
       "GERMANY           83783942   3845.6         Europe  0.942  English\n",
       "ITALY             60461826   2001.2         Europe  0.895  English\n",
       "JAPAN            126476461   4971.8           Asia  0.925  English\n",
       "UNITED KINGDOM    67886011   2829.1         Europe  0.929  English\n",
       "UNITED STATES    331002651  21433.2  North America  0.921  English"
      ]
     },
     "execution_count": 101,
     "metadata": {},
     "output_type": "execute_result"
    }
   ],
   "source": [
    "df.rename(index = str.upper)\n",
    "#This simply changes the index to Uppercase\n",
    "#str.upper is a function reference. We are passing the function itself, not calling it \n",
    "#pandas will call it internally on each index"
   ]
  },
  {
   "cell_type": "code",
   "execution_count": 102,
   "id": "f5bbde59",
   "metadata": {},
   "outputs": [
    {
     "data": {
      "text/html": [
       "<div>\n",
       "<style scoped>\n",
       "    .dataframe tbody tr th:only-of-type {\n",
       "        vertical-align: middle;\n",
       "    }\n",
       "\n",
       "    .dataframe tbody tr th {\n",
       "        vertical-align: top;\n",
       "    }\n",
       "\n",
       "    .dataframe thead th {\n",
       "        text-align: right;\n",
       "    }\n",
       "</style>\n",
       "<table border=\"1\" class=\"dataframe\">\n",
       "  <thead>\n",
       "    <tr style=\"text-align: right;\">\n",
       "      <th></th>\n",
       "      <th>Population</th>\n",
       "      <th>GDP</th>\n",
       "      <th>Continent</th>\n",
       "      <th>HDI</th>\n",
       "      <th>Language</th>\n",
       "    </tr>\n",
       "  </thead>\n",
       "  <tbody>\n",
       "    <tr>\n",
       "      <th>canada</th>\n",
       "      <td>37742154</td>\n",
       "      <td>1736.4</td>\n",
       "      <td>North America</td>\n",
       "      <td>0.936</td>\n",
       "      <td>English</td>\n",
       "    </tr>\n",
       "    <tr>\n",
       "      <th>france</th>\n",
       "      <td>65273511</td>\n",
       "      <td>2715.5</td>\n",
       "      <td>Europe</td>\n",
       "      <td>0.901</td>\n",
       "      <td>English</td>\n",
       "    </tr>\n",
       "    <tr>\n",
       "      <th>germany</th>\n",
       "      <td>83783942</td>\n",
       "      <td>3845.6</td>\n",
       "      <td>Europe</td>\n",
       "      <td>0.942</td>\n",
       "      <td>English</td>\n",
       "    </tr>\n",
       "    <tr>\n",
       "      <th>italy</th>\n",
       "      <td>60461826</td>\n",
       "      <td>2001.2</td>\n",
       "      <td>Europe</td>\n",
       "      <td>0.895</td>\n",
       "      <td>English</td>\n",
       "    </tr>\n",
       "    <tr>\n",
       "      <th>japan</th>\n",
       "      <td>126476461</td>\n",
       "      <td>4971.8</td>\n",
       "      <td>Asia</td>\n",
       "      <td>0.925</td>\n",
       "      <td>English</td>\n",
       "    </tr>\n",
       "    <tr>\n",
       "      <th>united kingdom</th>\n",
       "      <td>67886011</td>\n",
       "      <td>2829.1</td>\n",
       "      <td>Europe</td>\n",
       "      <td>0.929</td>\n",
       "      <td>English</td>\n",
       "    </tr>\n",
       "    <tr>\n",
       "      <th>united states</th>\n",
       "      <td>331002651</td>\n",
       "      <td>21433.2</td>\n",
       "      <td>North America</td>\n",
       "      <td>0.921</td>\n",
       "      <td>English</td>\n",
       "    </tr>\n",
       "  </tbody>\n",
       "</table>\n",
       "</div>"
      ],
      "text/plain": [
       "                Population      GDP      Continent    HDI Language\n",
       "canada            37742154   1736.4  North America  0.936  English\n",
       "france            65273511   2715.5         Europe  0.901  English\n",
       "germany           83783942   3845.6         Europe  0.942  English\n",
       "italy             60461826   2001.2         Europe  0.895  English\n",
       "japan            126476461   4971.8           Asia  0.925  English\n",
       "united kingdom    67886011   2829.1         Europe  0.929  English\n",
       "united states    331002651  21433.2  North America  0.921  English"
      ]
     },
     "execution_count": 102,
     "metadata": {},
     "output_type": "execute_result"
    }
   ],
   "source": [
    "df.rename(index = lambda x : x.lower())\n",
    "#lambda x: x.lower() is an anonymous function.\n",
    "#It takes each index value (x) and calls .lowe() on it  \n",
    "#We need paranthesis here because we are actually calling .lower() inside the lambda which is equivalent to \n",
    "# def lower_func(x):\n",
    "#     return x.lower()\n",
    "# df.rename(index=lower_func)\n",
    " "
   ]
  },
  {
   "cell_type": "markdown",
   "id": "9d44a2c7",
   "metadata": {},
   "source": [
    "lambda is just a way to create anonymous (unnamed) function that you define on the fly without using def.\n",
    "A shortcut way to define function on the go\n",
    "\n",
    "Syntax : \n",
    "\n",
    "lambda arguments : expression\n",
    "\n",
    "Example : \n",
    "\n",
    "\n",
    "square = lambda x : x ** 2 \n",
    "\n",
    "    print(square(4))\n",
    "\n",
    "\n",
    "which is same as \n",
    "\n",
    "\n",
    "def square(x):\n",
    "\n",
    "    return x ** 2\n",
    "\n",
    "\n",
    "Why is it used ? \n",
    "\n",
    "One-liners that replace def functions \n",
    "No naming, no identions \n",
    "Used in functional programming like with functions like map() , filter(), sort() and apply() in pandas \n"
   ]
  },
  {
   "cell_type": "markdown",
   "id": "d905759f",
   "metadata": {},
   "source": [
    "Dropping Columns "
   ]
  },
  {
   "cell_type": "code",
   "execution_count": 103,
   "id": "cdffae51",
   "metadata": {},
   "outputs": [],
   "source": [
    "df.drop([\"Language\"], inplace = True , axis =1)\n",
    "#In here if the axis is not passed it will take rows by default so we will need to specify the axis"
   ]
  },
  {
   "cell_type": "code",
   "execution_count": 104,
   "id": "64c8c34e",
   "metadata": {},
   "outputs": [
    {
     "data": {
      "text/html": [
       "<div>\n",
       "<style scoped>\n",
       "    .dataframe tbody tr th:only-of-type {\n",
       "        vertical-align: middle;\n",
       "    }\n",
       "\n",
       "    .dataframe tbody tr th {\n",
       "        vertical-align: top;\n",
       "    }\n",
       "\n",
       "    .dataframe thead th {\n",
       "        text-align: right;\n",
       "    }\n",
       "</style>\n",
       "<table border=\"1\" class=\"dataframe\">\n",
       "  <thead>\n",
       "    <tr style=\"text-align: right;\">\n",
       "      <th></th>\n",
       "      <th>Population</th>\n",
       "      <th>GDP</th>\n",
       "      <th>Continent</th>\n",
       "      <th>HDI</th>\n",
       "    </tr>\n",
       "  </thead>\n",
       "  <tbody>\n",
       "    <tr>\n",
       "      <th>Canada</th>\n",
       "      <td>37742154</td>\n",
       "      <td>1736.4</td>\n",
       "      <td>North America</td>\n",
       "      <td>0.936</td>\n",
       "    </tr>\n",
       "    <tr>\n",
       "      <th>France</th>\n",
       "      <td>65273511</td>\n",
       "      <td>2715.5</td>\n",
       "      <td>Europe</td>\n",
       "      <td>0.901</td>\n",
       "    </tr>\n",
       "    <tr>\n",
       "      <th>Germany</th>\n",
       "      <td>83783942</td>\n",
       "      <td>3845.6</td>\n",
       "      <td>Europe</td>\n",
       "      <td>0.942</td>\n",
       "    </tr>\n",
       "    <tr>\n",
       "      <th>Italy</th>\n",
       "      <td>60461826</td>\n",
       "      <td>2001.2</td>\n",
       "      <td>Europe</td>\n",
       "      <td>0.895</td>\n",
       "    </tr>\n",
       "    <tr>\n",
       "      <th>Japan</th>\n",
       "      <td>126476461</td>\n",
       "      <td>4971.8</td>\n",
       "      <td>Asia</td>\n",
       "      <td>0.925</td>\n",
       "    </tr>\n",
       "    <tr>\n",
       "      <th>United Kingdom</th>\n",
       "      <td>67886011</td>\n",
       "      <td>2829.1</td>\n",
       "      <td>Europe</td>\n",
       "      <td>0.929</td>\n",
       "    </tr>\n",
       "    <tr>\n",
       "      <th>United States</th>\n",
       "      <td>331002651</td>\n",
       "      <td>21433.2</td>\n",
       "      <td>North America</td>\n",
       "      <td>0.921</td>\n",
       "    </tr>\n",
       "  </tbody>\n",
       "</table>\n",
       "</div>"
      ],
      "text/plain": [
       "                Population      GDP      Continent    HDI\n",
       "Canada            37742154   1736.4  North America  0.936\n",
       "France            65273511   2715.5         Europe  0.901\n",
       "Germany           83783942   3845.6         Europe  0.942\n",
       "Italy             60461826   2001.2         Europe  0.895\n",
       "Japan            126476461   4971.8           Asia  0.925\n",
       "United Kingdom    67886011   2829.1         Europe  0.929\n",
       "United States    331002651  21433.2  North America  0.921"
      ]
     },
     "execution_count": 104,
     "metadata": {},
     "output_type": "execute_result"
    }
   ],
   "source": [
    "df"
   ]
  },
  {
   "cell_type": "markdown",
   "id": "5c82ec5b",
   "metadata": {},
   "source": [
    "Now we dive into two core ideas that is immutability and inplace = True. The use of the inplace = True is that it says to directly change the original dataframe instead of returning a new dataframe. This argument overides the default immutability"
   ]
  },
  {
   "cell_type": "code",
   "execution_count": 105,
   "id": "76f18fc6",
   "metadata": {},
   "outputs": [
    {
     "data": {
      "text/html": [
       "<div>\n",
       "<style scoped>\n",
       "    .dataframe tbody tr th:only-of-type {\n",
       "        vertical-align: middle;\n",
       "    }\n",
       "\n",
       "    .dataframe tbody tr th {\n",
       "        vertical-align: top;\n",
       "    }\n",
       "\n",
       "    .dataframe thead th {\n",
       "        text-align: right;\n",
       "    }\n",
       "</style>\n",
       "<table border=\"1\" class=\"dataframe\">\n",
       "  <thead>\n",
       "    <tr style=\"text-align: right;\">\n",
       "      <th></th>\n",
       "      <th>Population</th>\n",
       "      <th>GDP</th>\n",
       "      <th>Continent</th>\n",
       "      <th>HDI</th>\n",
       "    </tr>\n",
       "  </thead>\n",
       "  <tbody>\n",
       "    <tr>\n",
       "      <th>Canada</th>\n",
       "      <td>37742154</td>\n",
       "      <td>1736.4</td>\n",
       "      <td>North America</td>\n",
       "      <td>0.936</td>\n",
       "    </tr>\n",
       "    <tr>\n",
       "      <th>France</th>\n",
       "      <td>65273511</td>\n",
       "      <td>2715.5</td>\n",
       "      <td>Europe</td>\n",
       "      <td>0.901</td>\n",
       "    </tr>\n",
       "    <tr>\n",
       "      <th>Germany</th>\n",
       "      <td>83783942</td>\n",
       "      <td>3845.6</td>\n",
       "      <td>Europe</td>\n",
       "      <td>0.942</td>\n",
       "    </tr>\n",
       "    <tr>\n",
       "      <th>Italy</th>\n",
       "      <td>60461826</td>\n",
       "      <td>2001.2</td>\n",
       "      <td>Europe</td>\n",
       "      <td>0.895</td>\n",
       "    </tr>\n",
       "    <tr>\n",
       "      <th>Japan</th>\n",
       "      <td>126476461</td>\n",
       "      <td>4971.8</td>\n",
       "      <td>Asia</td>\n",
       "      <td>0.925</td>\n",
       "    </tr>\n",
       "    <tr>\n",
       "      <th>United Kingdom</th>\n",
       "      <td>67886011</td>\n",
       "      <td>2829.1</td>\n",
       "      <td>Europe</td>\n",
       "      <td>0.929</td>\n",
       "    </tr>\n",
       "    <tr>\n",
       "      <th>United States</th>\n",
       "      <td>331002651</td>\n",
       "      <td>21433.2</td>\n",
       "      <td>North America</td>\n",
       "      <td>0.921</td>\n",
       "    </tr>\n",
       "  </tbody>\n",
       "</table>\n",
       "</div>"
      ],
      "text/plain": [
       "                Population      GDP      Continent    HDI\n",
       "Canada            37742154   1736.4  North America  0.936\n",
       "France            65273511   2715.5         Europe  0.901\n",
       "Germany           83783942   3845.6         Europe  0.942\n",
       "Italy             60461826   2001.2         Europe  0.895\n",
       "Japan            126476461   4971.8           Asia  0.925\n",
       "United Kingdom    67886011   2829.1         Europe  0.929\n",
       "United States    331002651  21433.2  North America  0.921"
      ]
     },
     "execution_count": 105,
     "metadata": {},
     "output_type": "execute_result"
    }
   ],
   "source": [
    "df"
   ]
  },
  {
   "cell_type": "markdown",
   "id": "c789080d",
   "metadata": {},
   "source": [
    "Chaining \n",
    "\n",
    "Chaining means combining multiple operation on one line "
   ]
  },
  {
   "cell_type": "markdown",
   "id": "969dd668",
   "metadata": {},
   "source": [
    "Good Chaining"
   ]
  },
  {
   "cell_type": "code",
   "execution_count": 106,
   "id": "98b96b57",
   "metadata": {},
   "outputs": [
    {
     "data": {
      "text/html": [
       "<div>\n",
       "<style scoped>\n",
       "    .dataframe tbody tr th:only-of-type {\n",
       "        vertical-align: middle;\n",
       "    }\n",
       "\n",
       "    .dataframe tbody tr th {\n",
       "        vertical-align: top;\n",
       "    }\n",
       "\n",
       "    .dataframe thead th {\n",
       "        text-align: right;\n",
       "    }\n",
       "</style>\n",
       "<table border=\"1\" class=\"dataframe\">\n",
       "  <thead>\n",
       "    <tr style=\"text-align: right;\">\n",
       "      <th></th>\n",
       "      <th>Population</th>\n",
       "      <th>Continent</th>\n",
       "      <th>HDI</th>\n",
       "    </tr>\n",
       "  </thead>\n",
       "  <tbody>\n",
       "    <tr>\n",
       "      <th>Canada</th>\n",
       "      <td>37742154</td>\n",
       "      <td>North America</td>\n",
       "      <td>0.936</td>\n",
       "    </tr>\n",
       "    <tr>\n",
       "      <th>France</th>\n",
       "      <td>65273511</td>\n",
       "      <td>Europe</td>\n",
       "      <td>0.901</td>\n",
       "    </tr>\n",
       "    <tr>\n",
       "      <th>Germany</th>\n",
       "      <td>83783942</td>\n",
       "      <td>Europe</td>\n",
       "      <td>0.942</td>\n",
       "    </tr>\n",
       "    <tr>\n",
       "      <th>Italy</th>\n",
       "      <td>60461826</td>\n",
       "      <td>Europe</td>\n",
       "      <td>0.895</td>\n",
       "    </tr>\n",
       "    <tr>\n",
       "      <th>Japan</th>\n",
       "      <td>126476461</td>\n",
       "      <td>Asia</td>\n",
       "      <td>0.925</td>\n",
       "    </tr>\n",
       "  </tbody>\n",
       "</table>\n",
       "</div>"
      ],
      "text/plain": [
       "         Population      Continent    HDI\n",
       "Canada     37742154  North America  0.936\n",
       "France     65273511         Europe  0.901\n",
       "Germany    83783942         Europe  0.942\n",
       "Italy      60461826         Europe  0.895\n",
       "Japan     126476461           Asia  0.925"
      ]
     },
     "execution_count": 106,
     "metadata": {},
     "output_type": "execute_result"
    }
   ],
   "source": [
    "#This is called Chaining\n",
    "df.drop(\"GDP\", axis=1).head()\n",
    "#The .head() function is beign called on a new dataframe."
   ]
  },
  {
   "cell_type": "markdown",
   "id": "3c050bc2",
   "metadata": {},
   "source": [
    "Bad Chaining \n"
   ]
  },
  {
   "cell_type": "code",
   "execution_count": 107,
   "id": "9c33f327",
   "metadata": {},
   "outputs": [],
   "source": [
    "# Bad: this will break\n",
    "# Here since inplace arguments make the change in the df directly , it does not create a new dataframe and hence .head() function cant be called.\n",
    "\n",
    "# df.drop(\"HDI\", axis=1, inplace=True).head()\n",
    "\n",
    "#But the problem is that it will still make changes in the dataframe and only the .head() function will not be called"
   ]
  },
  {
   "cell_type": "code",
   "execution_count": 108,
   "id": "f6bee20c",
   "metadata": {},
   "outputs": [
    {
     "data": {
      "text/html": [
       "<div>\n",
       "<style scoped>\n",
       "    .dataframe tbody tr th:only-of-type {\n",
       "        vertical-align: middle;\n",
       "    }\n",
       "\n",
       "    .dataframe tbody tr th {\n",
       "        vertical-align: top;\n",
       "    }\n",
       "\n",
       "    .dataframe thead th {\n",
       "        text-align: right;\n",
       "    }\n",
       "</style>\n",
       "<table border=\"1\" class=\"dataframe\">\n",
       "  <thead>\n",
       "    <tr style=\"text-align: right;\">\n",
       "      <th></th>\n",
       "      <th>Population</th>\n",
       "      <th>GDP</th>\n",
       "      <th>Continent</th>\n",
       "      <th>HDI</th>\n",
       "    </tr>\n",
       "  </thead>\n",
       "  <tbody>\n",
       "    <tr>\n",
       "      <th>Canada</th>\n",
       "      <td>37742154</td>\n",
       "      <td>1736.4</td>\n",
       "      <td>North America</td>\n",
       "      <td>0.936</td>\n",
       "    </tr>\n",
       "    <tr>\n",
       "      <th>France</th>\n",
       "      <td>65273511</td>\n",
       "      <td>2715.5</td>\n",
       "      <td>Europe</td>\n",
       "      <td>0.901</td>\n",
       "    </tr>\n",
       "    <tr>\n",
       "      <th>Germany</th>\n",
       "      <td>83783942</td>\n",
       "      <td>3845.6</td>\n",
       "      <td>Europe</td>\n",
       "      <td>0.942</td>\n",
       "    </tr>\n",
       "    <tr>\n",
       "      <th>Italy</th>\n",
       "      <td>60461826</td>\n",
       "      <td>2001.2</td>\n",
       "      <td>Europe</td>\n",
       "      <td>0.895</td>\n",
       "    </tr>\n",
       "    <tr>\n",
       "      <th>Japan</th>\n",
       "      <td>126476461</td>\n",
       "      <td>4971.8</td>\n",
       "      <td>Asia</td>\n",
       "      <td>0.925</td>\n",
       "    </tr>\n",
       "    <tr>\n",
       "      <th>United Kingdom</th>\n",
       "      <td>67886011</td>\n",
       "      <td>2829.1</td>\n",
       "      <td>Europe</td>\n",
       "      <td>0.929</td>\n",
       "    </tr>\n",
       "    <tr>\n",
       "      <th>United States</th>\n",
       "      <td>331002651</td>\n",
       "      <td>21433.2</td>\n",
       "      <td>North America</td>\n",
       "      <td>0.921</td>\n",
       "    </tr>\n",
       "  </tbody>\n",
       "</table>\n",
       "</div>"
      ],
      "text/plain": [
       "                Population      GDP      Continent    HDI\n",
       "Canada            37742154   1736.4  North America  0.936\n",
       "France            65273511   2715.5         Europe  0.901\n",
       "Germany           83783942   3845.6         Europe  0.942\n",
       "Italy             60461826   2001.2         Europe  0.895\n",
       "Japan            126476461   4971.8           Asia  0.925\n",
       "United Kingdom    67886011   2829.1         Europe  0.929\n",
       "United States    331002651  21433.2  North America  0.921"
      ]
     },
     "execution_count": 108,
     "metadata": {},
     "output_type": "execute_result"
    }
   ],
   "source": [
    "df"
   ]
  },
  {
   "cell_type": "markdown",
   "id": "700d062e",
   "metadata": {},
   "source": [
    "Adding Values"
   ]
  },
  {
   "cell_type": "code",
   "execution_count": 109,
   "id": "9e163a27",
   "metadata": {},
   "outputs": [],
   "source": [
    "# df.append(pd.Series({\n",
    "#     \"Population\" : 3000000000,\n",
    "#     \"GDP\" : 5\n",
    "# }, name = \"China\"))\n",
    "\n",
    "#This is the deprecated in the newest version of pandas\n",
    "#The newest version of pandas use .concat instead because it created new dataframe instead of modifying the original one \n",
    "#append internally uses concat anyway\n",
    "#repeated append() calls inside loops are very slow because each call creates a new dataframe.\n",
    "#pd.concat is more efficient when appending multiple rows at once"
   ]
  },
  {
   "cell_type": "markdown",
   "id": "7c560d47",
   "metadata": {},
   "source": [
    "Basic syntax of .concat with the arguments it take.\n",
    "pd.concat(objs, axis=0, join='outer', ignore_index=False, keys=None, ...)"
   ]
  },
  {
   "cell_type": "code",
   "execution_count": 110,
   "id": "9bf5cb7e",
   "metadata": {},
   "outputs": [],
   "source": [
    "df = pd.concat(\n",
    "    [\n",
    "        df,\n",
    "        pd.DataFrame({\n",
    "            \"Population\" : [3000000000],\n",
    "            \"GDP\" : [3],\n",
    "            \"Continent\" : \"Asia\"\n",
    "        }, index = [\"China\"])\n",
    "    ])"
   ]
  },
  {
   "cell_type": "code",
   "execution_count": 111,
   "id": "9b8bf016",
   "metadata": {},
   "outputs": [
    {
     "data": {
      "text/html": [
       "<div>\n",
       "<style scoped>\n",
       "    .dataframe tbody tr th:only-of-type {\n",
       "        vertical-align: middle;\n",
       "    }\n",
       "\n",
       "    .dataframe tbody tr th {\n",
       "        vertical-align: top;\n",
       "    }\n",
       "\n",
       "    .dataframe thead th {\n",
       "        text-align: right;\n",
       "    }\n",
       "</style>\n",
       "<table border=\"1\" class=\"dataframe\">\n",
       "  <thead>\n",
       "    <tr style=\"text-align: right;\">\n",
       "      <th></th>\n",
       "      <th>Population</th>\n",
       "      <th>GDP</th>\n",
       "      <th>Continent</th>\n",
       "      <th>HDI</th>\n",
       "    </tr>\n",
       "  </thead>\n",
       "  <tbody>\n",
       "    <tr>\n",
       "      <th>Canada</th>\n",
       "      <td>37742154</td>\n",
       "      <td>1736.4</td>\n",
       "      <td>North America</td>\n",
       "      <td>0.936</td>\n",
       "    </tr>\n",
       "    <tr>\n",
       "      <th>France</th>\n",
       "      <td>65273511</td>\n",
       "      <td>2715.5</td>\n",
       "      <td>Europe</td>\n",
       "      <td>0.901</td>\n",
       "    </tr>\n",
       "    <tr>\n",
       "      <th>Germany</th>\n",
       "      <td>83783942</td>\n",
       "      <td>3845.6</td>\n",
       "      <td>Europe</td>\n",
       "      <td>0.942</td>\n",
       "    </tr>\n",
       "    <tr>\n",
       "      <th>Italy</th>\n",
       "      <td>60461826</td>\n",
       "      <td>2001.2</td>\n",
       "      <td>Europe</td>\n",
       "      <td>0.895</td>\n",
       "    </tr>\n",
       "    <tr>\n",
       "      <th>Japan</th>\n",
       "      <td>126476461</td>\n",
       "      <td>4971.8</td>\n",
       "      <td>Asia</td>\n",
       "      <td>0.925</td>\n",
       "    </tr>\n",
       "    <tr>\n",
       "      <th>United Kingdom</th>\n",
       "      <td>67886011</td>\n",
       "      <td>2829.1</td>\n",
       "      <td>Europe</td>\n",
       "      <td>0.929</td>\n",
       "    </tr>\n",
       "    <tr>\n",
       "      <th>United States</th>\n",
       "      <td>331002651</td>\n",
       "      <td>21433.2</td>\n",
       "      <td>North America</td>\n",
       "      <td>0.921</td>\n",
       "    </tr>\n",
       "    <tr>\n",
       "      <th>China</th>\n",
       "      <td>3000000000</td>\n",
       "      <td>3.0</td>\n",
       "      <td>Asia</td>\n",
       "      <td>NaN</td>\n",
       "    </tr>\n",
       "  </tbody>\n",
       "</table>\n",
       "</div>"
      ],
      "text/plain": [
       "                Population      GDP      Continent    HDI\n",
       "Canada            37742154   1736.4  North America  0.936\n",
       "France            65273511   2715.5         Europe  0.901\n",
       "Germany           83783942   3845.6         Europe  0.942\n",
       "Italy             60461826   2001.2         Europe  0.895\n",
       "Japan            126476461   4971.8           Asia  0.925\n",
       "United Kingdom    67886011   2829.1         Europe  0.929\n",
       "United States    331002651  21433.2  North America  0.921\n",
       "China           3000000000      3.0           Asia    NaN"
      ]
     },
     "execution_count": 111,
     "metadata": {},
     "output_type": "execute_result"
    }
   ],
   "source": [
    "df"
   ]
  },
  {
   "cell_type": "markdown",
   "id": "38db3b36",
   "metadata": {},
   "source": [
    "In the above code we use square brackets because Pandas expects each column’s values to be in a list-like structure. This ensures the DataFrame knows how many rows to create.Even if you’re adding just one row, it still has to be wrapped in a list — Pandas builds DataFrames row-by-row based on list items. Just like values, the index expects a list of row labels, not just a string:\n",
    "\n",
    "Importance\n",
    "\n",
    "\n",
    "•Consistency: \n",
    "Lists ensure consistent structure across columns.\n",
    "\n",
    "•Scalability: \n",
    "You can easily add multiple rows later by extending the list.\n",
    "\n",
    "•Avoids errors: \n",
    "Single strings or scalars might cause unexpected behavior or shape mismatch."
   ]
  },
  {
   "cell_type": "code",
   "execution_count": 112,
   "id": "42f8172f",
   "metadata": {},
   "outputs": [],
   "source": [
    "df.loc[\"China\"] = pd.Series({\"Population\" : 1_400_000_000, \"Continent\" : \"Asia\"})\n",
    "#Created a series of China and added its population and continent"
   ]
  },
  {
   "cell_type": "code",
   "execution_count": 113,
   "id": "d0d282e9",
   "metadata": {},
   "outputs": [
    {
     "data": {
      "text/html": [
       "<div>\n",
       "<style scoped>\n",
       "    .dataframe tbody tr th:only-of-type {\n",
       "        vertical-align: middle;\n",
       "    }\n",
       "\n",
       "    .dataframe tbody tr th {\n",
       "        vertical-align: top;\n",
       "    }\n",
       "\n",
       "    .dataframe thead th {\n",
       "        text-align: right;\n",
       "    }\n",
       "</style>\n",
       "<table border=\"1\" class=\"dataframe\">\n",
       "  <thead>\n",
       "    <tr style=\"text-align: right;\">\n",
       "      <th></th>\n",
       "      <th>Population</th>\n",
       "      <th>GDP</th>\n",
       "      <th>Continent</th>\n",
       "      <th>HDI</th>\n",
       "    </tr>\n",
       "  </thead>\n",
       "  <tbody>\n",
       "    <tr>\n",
       "      <th>Canada</th>\n",
       "      <td>37742154</td>\n",
       "      <td>1736.4</td>\n",
       "      <td>North America</td>\n",
       "      <td>0.936</td>\n",
       "    </tr>\n",
       "    <tr>\n",
       "      <th>France</th>\n",
       "      <td>65273511</td>\n",
       "      <td>2715.5</td>\n",
       "      <td>Europe</td>\n",
       "      <td>0.901</td>\n",
       "    </tr>\n",
       "    <tr>\n",
       "      <th>Germany</th>\n",
       "      <td>83783942</td>\n",
       "      <td>3845.6</td>\n",
       "      <td>Europe</td>\n",
       "      <td>0.942</td>\n",
       "    </tr>\n",
       "    <tr>\n",
       "      <th>Italy</th>\n",
       "      <td>60461826</td>\n",
       "      <td>2001.2</td>\n",
       "      <td>Europe</td>\n",
       "      <td>0.895</td>\n",
       "    </tr>\n",
       "    <tr>\n",
       "      <th>Japan</th>\n",
       "      <td>126476461</td>\n",
       "      <td>4971.8</td>\n",
       "      <td>Asia</td>\n",
       "      <td>0.925</td>\n",
       "    </tr>\n",
       "    <tr>\n",
       "      <th>United Kingdom</th>\n",
       "      <td>67886011</td>\n",
       "      <td>2829.1</td>\n",
       "      <td>Europe</td>\n",
       "      <td>0.929</td>\n",
       "    </tr>\n",
       "    <tr>\n",
       "      <th>United States</th>\n",
       "      <td>331002651</td>\n",
       "      <td>21433.2</td>\n",
       "      <td>North America</td>\n",
       "      <td>0.921</td>\n",
       "    </tr>\n",
       "    <tr>\n",
       "      <th>China</th>\n",
       "      <td>1400000000</td>\n",
       "      <td>NaN</td>\n",
       "      <td>Asia</td>\n",
       "      <td>NaN</td>\n",
       "    </tr>\n",
       "  </tbody>\n",
       "</table>\n",
       "</div>"
      ],
      "text/plain": [
       "                Population      GDP      Continent    HDI\n",
       "Canada            37742154   1736.4  North America  0.936\n",
       "France            65273511   2715.5         Europe  0.901\n",
       "Germany           83783942   3845.6         Europe  0.942\n",
       "Italy             60461826   2001.2         Europe  0.895\n",
       "Japan            126476461   4971.8           Asia  0.925\n",
       "United Kingdom    67886011   2829.1         Europe  0.929\n",
       "United States    331002651  21433.2  North America  0.921\n",
       "China           1400000000      NaN           Asia    NaN"
      ]
     },
     "execution_count": 113,
     "metadata": {},
     "output_type": "execute_result"
    }
   ],
   "source": [
    "df\n",
    "#The newly added series is not shown in the dataframe, since we didnt pass the GDP, its NaN\n"
   ]
  },
  {
   "cell_type": "code",
   "execution_count": 114,
   "id": "7e8de1ef",
   "metadata": {},
   "outputs": [],
   "source": [
    "df.drop([\"China\"], inplace = True)\n",
    "#Dropping the column China from the dataframe"
   ]
  },
  {
   "cell_type": "code",
   "execution_count": 115,
   "id": "fde4e199",
   "metadata": {},
   "outputs": [
    {
     "data": {
      "text/html": [
       "<div>\n",
       "<style scoped>\n",
       "    .dataframe tbody tr th:only-of-type {\n",
       "        vertical-align: middle;\n",
       "    }\n",
       "\n",
       "    .dataframe tbody tr th {\n",
       "        vertical-align: top;\n",
       "    }\n",
       "\n",
       "    .dataframe thead th {\n",
       "        text-align: right;\n",
       "    }\n",
       "</style>\n",
       "<table border=\"1\" class=\"dataframe\">\n",
       "  <thead>\n",
       "    <tr style=\"text-align: right;\">\n",
       "      <th></th>\n",
       "      <th>Population</th>\n",
       "      <th>GDP</th>\n",
       "      <th>Continent</th>\n",
       "      <th>HDI</th>\n",
       "    </tr>\n",
       "  </thead>\n",
       "  <tbody>\n",
       "    <tr>\n",
       "      <th>Canada</th>\n",
       "      <td>37742154</td>\n",
       "      <td>1736.4</td>\n",
       "      <td>North America</td>\n",
       "      <td>0.936</td>\n",
       "    </tr>\n",
       "    <tr>\n",
       "      <th>France</th>\n",
       "      <td>65273511</td>\n",
       "      <td>2715.5</td>\n",
       "      <td>Europe</td>\n",
       "      <td>0.901</td>\n",
       "    </tr>\n",
       "    <tr>\n",
       "      <th>Germany</th>\n",
       "      <td>83783942</td>\n",
       "      <td>3845.6</td>\n",
       "      <td>Europe</td>\n",
       "      <td>0.942</td>\n",
       "    </tr>\n",
       "    <tr>\n",
       "      <th>Italy</th>\n",
       "      <td>60461826</td>\n",
       "      <td>2001.2</td>\n",
       "      <td>Europe</td>\n",
       "      <td>0.895</td>\n",
       "    </tr>\n",
       "    <tr>\n",
       "      <th>Japan</th>\n",
       "      <td>126476461</td>\n",
       "      <td>4971.8</td>\n",
       "      <td>Asia</td>\n",
       "      <td>0.925</td>\n",
       "    </tr>\n",
       "    <tr>\n",
       "      <th>United Kingdom</th>\n",
       "      <td>67886011</td>\n",
       "      <td>2829.1</td>\n",
       "      <td>Europe</td>\n",
       "      <td>0.929</td>\n",
       "    </tr>\n",
       "    <tr>\n",
       "      <th>United States</th>\n",
       "      <td>331002651</td>\n",
       "      <td>21433.2</td>\n",
       "      <td>North America</td>\n",
       "      <td>0.921</td>\n",
       "    </tr>\n",
       "  </tbody>\n",
       "</table>\n",
       "</div>"
      ],
      "text/plain": [
       "                Population      GDP      Continent    HDI\n",
       "Canada            37742154   1736.4  North America  0.936\n",
       "France            65273511   2715.5         Europe  0.901\n",
       "Germany           83783942   3845.6         Europe  0.942\n",
       "Italy             60461826   2001.2         Europe  0.895\n",
       "Japan            126476461   4971.8           Asia  0.925\n",
       "United Kingdom    67886011   2829.1         Europe  0.929\n",
       "United States    331002651  21433.2  North America  0.921"
      ]
     },
     "execution_count": 115,
     "metadata": {},
     "output_type": "execute_result"
    }
   ],
   "source": [
    "df"
   ]
  },
  {
   "cell_type": "markdown",
   "id": "a3e08987",
   "metadata": {},
   "source": [
    "More Radical Index Changes"
   ]
  },
  {
   "cell_type": "code",
   "execution_count": 116,
   "id": "ea3bf745",
   "metadata": {},
   "outputs": [
    {
     "data": {
      "text/html": [
       "<div>\n",
       "<style scoped>\n",
       "    .dataframe tbody tr th:only-of-type {\n",
       "        vertical-align: middle;\n",
       "    }\n",
       "\n",
       "    .dataframe tbody tr th {\n",
       "        vertical-align: top;\n",
       "    }\n",
       "\n",
       "    .dataframe thead th {\n",
       "        text-align: right;\n",
       "    }\n",
       "</style>\n",
       "<table border=\"1\" class=\"dataframe\">\n",
       "  <thead>\n",
       "    <tr style=\"text-align: right;\">\n",
       "      <th></th>\n",
       "      <th>index</th>\n",
       "      <th>Population</th>\n",
       "      <th>GDP</th>\n",
       "      <th>Continent</th>\n",
       "      <th>HDI</th>\n",
       "    </tr>\n",
       "  </thead>\n",
       "  <tbody>\n",
       "    <tr>\n",
       "      <th>0</th>\n",
       "      <td>Canada</td>\n",
       "      <td>37742154</td>\n",
       "      <td>1736.4</td>\n",
       "      <td>North America</td>\n",
       "      <td>0.936</td>\n",
       "    </tr>\n",
       "    <tr>\n",
       "      <th>1</th>\n",
       "      <td>France</td>\n",
       "      <td>65273511</td>\n",
       "      <td>2715.5</td>\n",
       "      <td>Europe</td>\n",
       "      <td>0.901</td>\n",
       "    </tr>\n",
       "    <tr>\n",
       "      <th>2</th>\n",
       "      <td>Germany</td>\n",
       "      <td>83783942</td>\n",
       "      <td>3845.6</td>\n",
       "      <td>Europe</td>\n",
       "      <td>0.942</td>\n",
       "    </tr>\n",
       "    <tr>\n",
       "      <th>3</th>\n",
       "      <td>Italy</td>\n",
       "      <td>60461826</td>\n",
       "      <td>2001.2</td>\n",
       "      <td>Europe</td>\n",
       "      <td>0.895</td>\n",
       "    </tr>\n",
       "    <tr>\n",
       "      <th>4</th>\n",
       "      <td>Japan</td>\n",
       "      <td>126476461</td>\n",
       "      <td>4971.8</td>\n",
       "      <td>Asia</td>\n",
       "      <td>0.925</td>\n",
       "    </tr>\n",
       "    <tr>\n",
       "      <th>5</th>\n",
       "      <td>United Kingdom</td>\n",
       "      <td>67886011</td>\n",
       "      <td>2829.1</td>\n",
       "      <td>Europe</td>\n",
       "      <td>0.929</td>\n",
       "    </tr>\n",
       "    <tr>\n",
       "      <th>6</th>\n",
       "      <td>United States</td>\n",
       "      <td>331002651</td>\n",
       "      <td>21433.2</td>\n",
       "      <td>North America</td>\n",
       "      <td>0.921</td>\n",
       "    </tr>\n",
       "  </tbody>\n",
       "</table>\n",
       "</div>"
      ],
      "text/plain": [
       "            index  Population      GDP      Continent    HDI\n",
       "0          Canada    37742154   1736.4  North America  0.936\n",
       "1          France    65273511   2715.5         Europe  0.901\n",
       "2         Germany    83783942   3845.6         Europe  0.942\n",
       "3           Italy    60461826   2001.2         Europe  0.895\n",
       "4           Japan   126476461   4971.8           Asia  0.925\n",
       "5  United Kingdom    67886011   2829.1         Europe  0.929\n",
       "6   United States   331002651  21433.2  North America  0.921"
      ]
     },
     "execution_count": 116,
     "metadata": {},
     "output_type": "execute_result"
    }
   ],
   "source": [
    "df.reset_index()\n",
    "#This simply keeps the ordering as the index when reset which is default indexing"
   ]
  },
  {
   "cell_type": "markdown",
   "id": "dc32e5f6",
   "metadata": {},
   "source": [
    "1.Restore default integer index\n",
    "\n",
    "•Converts a custom index back to a simple 0-based index (0, 1, 2, ...).\n",
    "\n",
    "2.Turn index into a column\n",
    "\n",
    "•Moves the current index into a regular column (if drop=False, which is default).\n",
    "\n",
    "3.Clean up after groupby() or multi-index operations\n",
    "\n",
    "•Useful after operations like groupby() or pivot_table() that return hierarchical/multi-level indexes.\n",
    "\n",
    "4.Prepare for exporting to CSV or Excel\n",
    "\n",
    "•Ensures index values are part of the data and not lost when exporting.\n",
    "\n",
    "5.Simplify DataFrame structure\n",
    "\n",
    "•Removes complex index formats (like datetime index or multi-index) to make the DataFrame easier to work with.\n",
    "\n",
    "6.Facilitate merging or joining\n",
    "\n",
    "•Helps reset the structure so you can merge with other DataFrames on standard columns.\n",
    "\n",
    "7.Make filtering output more readable\n",
    "\n",
    "•After filtering or slicing where index gets messy, resetting can make the result clean and readable.\n",
    "\n",
    "8.In-place restructuring\n",
    "\n",
    "•With inplace=True, you can directly apply changes to the original DataFrame without creating a new one.\n",
    "\n",
    "    \n",
    "•drop=True: Removes the index completely instead of adding it as a column.\n",
    "•inplace=True: Applies the change directly to the DataFrame without returning a new one.\n"
   ]
  },
  {
   "cell_type": "code",
   "execution_count": 117,
   "id": "11404394",
   "metadata": {},
   "outputs": [
    {
     "data": {
      "text/html": [
       "<div>\n",
       "<style scoped>\n",
       "    .dataframe tbody tr th:only-of-type {\n",
       "        vertical-align: middle;\n",
       "    }\n",
       "\n",
       "    .dataframe tbody tr th {\n",
       "        vertical-align: top;\n",
       "    }\n",
       "\n",
       "    .dataframe thead th {\n",
       "        text-align: right;\n",
       "    }\n",
       "</style>\n",
       "<table border=\"1\" class=\"dataframe\">\n",
       "  <thead>\n",
       "    <tr style=\"text-align: right;\">\n",
       "      <th></th>\n",
       "      <th>GDP</th>\n",
       "      <th>Continent</th>\n",
       "      <th>HDI</th>\n",
       "    </tr>\n",
       "    <tr>\n",
       "      <th>Population</th>\n",
       "      <th></th>\n",
       "      <th></th>\n",
       "      <th></th>\n",
       "    </tr>\n",
       "  </thead>\n",
       "  <tbody>\n",
       "    <tr>\n",
       "      <th>37742154</th>\n",
       "      <td>1736.4</td>\n",
       "      <td>North America</td>\n",
       "      <td>0.936</td>\n",
       "    </tr>\n",
       "    <tr>\n",
       "      <th>65273511</th>\n",
       "      <td>2715.5</td>\n",
       "      <td>Europe</td>\n",
       "      <td>0.901</td>\n",
       "    </tr>\n",
       "    <tr>\n",
       "      <th>83783942</th>\n",
       "      <td>3845.6</td>\n",
       "      <td>Europe</td>\n",
       "      <td>0.942</td>\n",
       "    </tr>\n",
       "    <tr>\n",
       "      <th>60461826</th>\n",
       "      <td>2001.2</td>\n",
       "      <td>Europe</td>\n",
       "      <td>0.895</td>\n",
       "    </tr>\n",
       "    <tr>\n",
       "      <th>126476461</th>\n",
       "      <td>4971.8</td>\n",
       "      <td>Asia</td>\n",
       "      <td>0.925</td>\n",
       "    </tr>\n",
       "    <tr>\n",
       "      <th>67886011</th>\n",
       "      <td>2829.1</td>\n",
       "      <td>Europe</td>\n",
       "      <td>0.929</td>\n",
       "    </tr>\n",
       "    <tr>\n",
       "      <th>331002651</th>\n",
       "      <td>21433.2</td>\n",
       "      <td>North America</td>\n",
       "      <td>0.921</td>\n",
       "    </tr>\n",
       "  </tbody>\n",
       "</table>\n",
       "</div>"
      ],
      "text/plain": [
       "                GDP      Continent    HDI\n",
       "Population                               \n",
       "37742154     1736.4  North America  0.936\n",
       "65273511     2715.5         Europe  0.901\n",
       "83783942     3845.6         Europe  0.942\n",
       "60461826     2001.2         Europe  0.895\n",
       "126476461    4971.8           Asia  0.925\n",
       "67886011     2829.1         Europe  0.929\n",
       "331002651   21433.2  North America  0.921"
      ]
     },
     "execution_count": 117,
     "metadata": {},
     "output_type": "execute_result"
    }
   ],
   "source": [
    "df.set_index(\"Population\")\n",
    "#This will set the index as Population"
   ]
  },
  {
   "cell_type": "markdown",
   "id": "85f33f5a",
   "metadata": {},
   "source": [
    "Creating Columns from other Columns"
   ]
  },
  {
   "cell_type": "markdown",
   "id": "719b6e14",
   "metadata": {},
   "source": [
    "Altering a dataframe often involves combining different columns into another. For example in our country analysis, we could try to calculate the \"GDP per capita\", which is just GDP / Population"
   ]
  },
  {
   "cell_type": "code",
   "execution_count": 118,
   "id": "7233a557",
   "metadata": {},
   "outputs": [
    {
     "data": {
      "text/html": [
       "<div>\n",
       "<style scoped>\n",
       "    .dataframe tbody tr th:only-of-type {\n",
       "        vertical-align: middle;\n",
       "    }\n",
       "\n",
       "    .dataframe tbody tr th {\n",
       "        vertical-align: top;\n",
       "    }\n",
       "\n",
       "    .dataframe thead th {\n",
       "        text-align: right;\n",
       "    }\n",
       "</style>\n",
       "<table border=\"1\" class=\"dataframe\">\n",
       "  <thead>\n",
       "    <tr style=\"text-align: right;\">\n",
       "      <th></th>\n",
       "      <th>Population</th>\n",
       "      <th>GDP</th>\n",
       "    </tr>\n",
       "  </thead>\n",
       "  <tbody>\n",
       "    <tr>\n",
       "      <th>Canada</th>\n",
       "      <td>37742154</td>\n",
       "      <td>1736.4</td>\n",
       "    </tr>\n",
       "    <tr>\n",
       "      <th>France</th>\n",
       "      <td>65273511</td>\n",
       "      <td>2715.5</td>\n",
       "    </tr>\n",
       "    <tr>\n",
       "      <th>Germany</th>\n",
       "      <td>83783942</td>\n",
       "      <td>3845.6</td>\n",
       "    </tr>\n",
       "    <tr>\n",
       "      <th>Italy</th>\n",
       "      <td>60461826</td>\n",
       "      <td>2001.2</td>\n",
       "    </tr>\n",
       "    <tr>\n",
       "      <th>Japan</th>\n",
       "      <td>126476461</td>\n",
       "      <td>4971.8</td>\n",
       "    </tr>\n",
       "    <tr>\n",
       "      <th>United Kingdom</th>\n",
       "      <td>67886011</td>\n",
       "      <td>2829.1</td>\n",
       "    </tr>\n",
       "    <tr>\n",
       "      <th>United States</th>\n",
       "      <td>331002651</td>\n",
       "      <td>21433.2</td>\n",
       "    </tr>\n",
       "  </tbody>\n",
       "</table>\n",
       "</div>"
      ],
      "text/plain": [
       "                Population      GDP\n",
       "Canada            37742154   1736.4\n",
       "France            65273511   2715.5\n",
       "Germany           83783942   3845.6\n",
       "Italy             60461826   2001.2\n",
       "Japan            126476461   4971.8\n",
       "United Kingdom    67886011   2829.1\n",
       "United States    331002651  21433.2"
      ]
     },
     "execution_count": 118,
     "metadata": {},
     "output_type": "execute_result"
    }
   ],
   "source": [
    "df[[\"Population\", \"GDP\"]]"
   ]
  },
  {
   "cell_type": "code",
   "execution_count": 119,
   "id": "13498c53",
   "metadata": {},
   "outputs": [
    {
     "data": {
      "text/plain": [
       "Canada            0.000046\n",
       "France            0.000042\n",
       "Germany           0.000046\n",
       "Italy             0.000033\n",
       "Japan             0.000039\n",
       "United Kingdom    0.000042\n",
       "United States     0.000065\n",
       "dtype: float64"
      ]
     },
     "execution_count": 119,
     "metadata": {},
     "output_type": "execute_result"
    }
   ],
   "source": [
    "df[\"GDP\"] / df[\"Population\"]\n"
   ]
  },
  {
   "cell_type": "code",
   "execution_count": 120,
   "id": "f3f2ce91",
   "metadata": {},
   "outputs": [],
   "source": [
    "df[\"GDP Per Capita\"] = df[\"GDP\"] / df[\"Population\"]"
   ]
  },
  {
   "cell_type": "code",
   "execution_count": 121,
   "id": "bf13688e",
   "metadata": {},
   "outputs": [
    {
     "data": {
      "text/html": [
       "<div>\n",
       "<style scoped>\n",
       "    .dataframe tbody tr th:only-of-type {\n",
       "        vertical-align: middle;\n",
       "    }\n",
       "\n",
       "    .dataframe tbody tr th {\n",
       "        vertical-align: top;\n",
       "    }\n",
       "\n",
       "    .dataframe thead th {\n",
       "        text-align: right;\n",
       "    }\n",
       "</style>\n",
       "<table border=\"1\" class=\"dataframe\">\n",
       "  <thead>\n",
       "    <tr style=\"text-align: right;\">\n",
       "      <th></th>\n",
       "      <th>Population</th>\n",
       "      <th>GDP</th>\n",
       "      <th>Continent</th>\n",
       "      <th>HDI</th>\n",
       "      <th>GDP Per Capita</th>\n",
       "    </tr>\n",
       "  </thead>\n",
       "  <tbody>\n",
       "    <tr>\n",
       "      <th>Canada</th>\n",
       "      <td>37742154</td>\n",
       "      <td>1736.4</td>\n",
       "      <td>North America</td>\n",
       "      <td>0.936</td>\n",
       "      <td>0.000046</td>\n",
       "    </tr>\n",
       "    <tr>\n",
       "      <th>France</th>\n",
       "      <td>65273511</td>\n",
       "      <td>2715.5</td>\n",
       "      <td>Europe</td>\n",
       "      <td>0.901</td>\n",
       "      <td>0.000042</td>\n",
       "    </tr>\n",
       "    <tr>\n",
       "      <th>Germany</th>\n",
       "      <td>83783942</td>\n",
       "      <td>3845.6</td>\n",
       "      <td>Europe</td>\n",
       "      <td>0.942</td>\n",
       "      <td>0.000046</td>\n",
       "    </tr>\n",
       "    <tr>\n",
       "      <th>Italy</th>\n",
       "      <td>60461826</td>\n",
       "      <td>2001.2</td>\n",
       "      <td>Europe</td>\n",
       "      <td>0.895</td>\n",
       "      <td>0.000033</td>\n",
       "    </tr>\n",
       "    <tr>\n",
       "      <th>Japan</th>\n",
       "      <td>126476461</td>\n",
       "      <td>4971.8</td>\n",
       "      <td>Asia</td>\n",
       "      <td>0.925</td>\n",
       "      <td>0.000039</td>\n",
       "    </tr>\n",
       "    <tr>\n",
       "      <th>United Kingdom</th>\n",
       "      <td>67886011</td>\n",
       "      <td>2829.1</td>\n",
       "      <td>Europe</td>\n",
       "      <td>0.929</td>\n",
       "      <td>0.000042</td>\n",
       "    </tr>\n",
       "    <tr>\n",
       "      <th>United States</th>\n",
       "      <td>331002651</td>\n",
       "      <td>21433.2</td>\n",
       "      <td>North America</td>\n",
       "      <td>0.921</td>\n",
       "      <td>0.000065</td>\n",
       "    </tr>\n",
       "  </tbody>\n",
       "</table>\n",
       "</div>"
      ],
      "text/plain": [
       "                Population      GDP      Continent    HDI  GDP Per Capita\n",
       "Canada            37742154   1736.4  North America  0.936        0.000046\n",
       "France            65273511   2715.5         Europe  0.901        0.000042\n",
       "Germany           83783942   3845.6         Europe  0.942        0.000046\n",
       "Italy             60461826   2001.2         Europe  0.895        0.000033\n",
       "Japan            126476461   4971.8           Asia  0.925        0.000039\n",
       "United Kingdom    67886011   2829.1         Europe  0.929        0.000042\n",
       "United States    331002651  21433.2  North America  0.921        0.000065"
      ]
     },
     "execution_count": 121,
     "metadata": {},
     "output_type": "execute_result"
    }
   ],
   "source": [
    "df\n",
    "#Here new Column name GDP Per Capita is created using other two columns"
   ]
  },
  {
   "cell_type": "markdown",
   "id": "d3f4eb18",
   "metadata": {},
   "source": [
    "Statical Info"
   ]
  },
  {
   "cell_type": "markdown",
   "id": "230adbe1",
   "metadata": {},
   "source": [
    "We have already seen the describe method which shows us a good summary of the dataframe. There are other methods as well"
   ]
  },
  {
   "cell_type": "code",
   "execution_count": 122,
   "id": "0e8aac13",
   "metadata": {},
   "outputs": [
    {
     "data": {
      "text/html": [
       "<div>\n",
       "<style scoped>\n",
       "    .dataframe tbody tr th:only-of-type {\n",
       "        vertical-align: middle;\n",
       "    }\n",
       "\n",
       "    .dataframe tbody tr th {\n",
       "        vertical-align: top;\n",
       "    }\n",
       "\n",
       "    .dataframe thead th {\n",
       "        text-align: right;\n",
       "    }\n",
       "</style>\n",
       "<table border=\"1\" class=\"dataframe\">\n",
       "  <thead>\n",
       "    <tr style=\"text-align: right;\">\n",
       "      <th></th>\n",
       "      <th>Population</th>\n",
       "      <th>GDP</th>\n",
       "      <th>Continent</th>\n",
       "      <th>HDI</th>\n",
       "      <th>GDP Per Capita</th>\n",
       "    </tr>\n",
       "  </thead>\n",
       "  <tbody>\n",
       "    <tr>\n",
       "      <th>Canada</th>\n",
       "      <td>37742154</td>\n",
       "      <td>1736.4</td>\n",
       "      <td>North America</td>\n",
       "      <td>0.936</td>\n",
       "      <td>0.000046</td>\n",
       "    </tr>\n",
       "    <tr>\n",
       "      <th>France</th>\n",
       "      <td>65273511</td>\n",
       "      <td>2715.5</td>\n",
       "      <td>Europe</td>\n",
       "      <td>0.901</td>\n",
       "      <td>0.000042</td>\n",
       "    </tr>\n",
       "    <tr>\n",
       "      <th>Germany</th>\n",
       "      <td>83783942</td>\n",
       "      <td>3845.6</td>\n",
       "      <td>Europe</td>\n",
       "      <td>0.942</td>\n",
       "      <td>0.000046</td>\n",
       "    </tr>\n",
       "    <tr>\n",
       "      <th>Italy</th>\n",
       "      <td>60461826</td>\n",
       "      <td>2001.2</td>\n",
       "      <td>Europe</td>\n",
       "      <td>0.895</td>\n",
       "      <td>0.000033</td>\n",
       "    </tr>\n",
       "    <tr>\n",
       "      <th>Japan</th>\n",
       "      <td>126476461</td>\n",
       "      <td>4971.8</td>\n",
       "      <td>Asia</td>\n",
       "      <td>0.925</td>\n",
       "      <td>0.000039</td>\n",
       "    </tr>\n",
       "  </tbody>\n",
       "</table>\n",
       "</div>"
      ],
      "text/plain": [
       "         Population     GDP      Continent    HDI  GDP Per Capita\n",
       "Canada     37742154  1736.4  North America  0.936        0.000046\n",
       "France     65273511  2715.5         Europe  0.901        0.000042\n",
       "Germany    83783942  3845.6         Europe  0.942        0.000046\n",
       "Italy      60461826  2001.2         Europe  0.895        0.000033\n",
       "Japan     126476461  4971.8           Asia  0.925        0.000039"
      ]
     },
     "execution_count": 122,
     "metadata": {},
     "output_type": "execute_result"
    }
   ],
   "source": [
    "df.head()"
   ]
  },
  {
   "cell_type": "code",
   "execution_count": 123,
   "id": "2e49c336",
   "metadata": {},
   "outputs": [
    {
     "data": {
      "text/html": [
       "<div>\n",
       "<style scoped>\n",
       "    .dataframe tbody tr th:only-of-type {\n",
       "        vertical-align: middle;\n",
       "    }\n",
       "\n",
       "    .dataframe tbody tr th {\n",
       "        vertical-align: top;\n",
       "    }\n",
       "\n",
       "    .dataframe thead th {\n",
       "        text-align: right;\n",
       "    }\n",
       "</style>\n",
       "<table border=\"1\" class=\"dataframe\">\n",
       "  <thead>\n",
       "    <tr style=\"text-align: right;\">\n",
       "      <th></th>\n",
       "      <th>Population</th>\n",
       "      <th>GDP</th>\n",
       "      <th>HDI</th>\n",
       "      <th>GDP Per Capita</th>\n",
       "    </tr>\n",
       "  </thead>\n",
       "  <tbody>\n",
       "    <tr>\n",
       "      <th>count</th>\n",
       "      <td>7.000000e+00</td>\n",
       "      <td>7.000000</td>\n",
       "      <td>7.000000</td>\n",
       "      <td>7.000000</td>\n",
       "    </tr>\n",
       "    <tr>\n",
       "      <th>mean</th>\n",
       "      <td>1.103752e+08</td>\n",
       "      <td>5647.542857</td>\n",
       "      <td>0.921286</td>\n",
       "      <td>0.000045</td>\n",
       "    </tr>\n",
       "    <tr>\n",
       "      <th>std</th>\n",
       "      <td>1.010357e+08</td>\n",
       "      <td>7047.741341</td>\n",
       "      <td>0.017423</td>\n",
       "      <td>0.000010</td>\n",
       "    </tr>\n",
       "    <tr>\n",
       "      <th>min</th>\n",
       "      <td>3.774215e+07</td>\n",
       "      <td>1736.400000</td>\n",
       "      <td>0.895000</td>\n",
       "      <td>0.000033</td>\n",
       "    </tr>\n",
       "    <tr>\n",
       "      <th>25%</th>\n",
       "      <td>6.286767e+07</td>\n",
       "      <td>2358.350000</td>\n",
       "      <td>0.911000</td>\n",
       "      <td>0.000040</td>\n",
       "    </tr>\n",
       "    <tr>\n",
       "      <th>50%</th>\n",
       "      <td>6.788601e+07</td>\n",
       "      <td>2829.100000</td>\n",
       "      <td>0.925000</td>\n",
       "      <td>0.000042</td>\n",
       "    </tr>\n",
       "    <tr>\n",
       "      <th>75%</th>\n",
       "      <td>1.051302e+08</td>\n",
       "      <td>4408.700000</td>\n",
       "      <td>0.932500</td>\n",
       "      <td>0.000046</td>\n",
       "    </tr>\n",
       "    <tr>\n",
       "      <th>max</th>\n",
       "      <td>3.310027e+08</td>\n",
       "      <td>21433.200000</td>\n",
       "      <td>0.942000</td>\n",
       "      <td>0.000065</td>\n",
       "    </tr>\n",
       "  </tbody>\n",
       "</table>\n",
       "</div>"
      ],
      "text/plain": [
       "         Population           GDP       HDI  GDP Per Capita\n",
       "count  7.000000e+00      7.000000  7.000000        7.000000\n",
       "mean   1.103752e+08   5647.542857  0.921286        0.000045\n",
       "std    1.010357e+08   7047.741341  0.017423        0.000010\n",
       "min    3.774215e+07   1736.400000  0.895000        0.000033\n",
       "25%    6.286767e+07   2358.350000  0.911000        0.000040\n",
       "50%    6.788601e+07   2829.100000  0.925000        0.000042\n",
       "75%    1.051302e+08   4408.700000  0.932500        0.000046\n",
       "max    3.310027e+08  21433.200000  0.942000        0.000065"
      ]
     },
     "execution_count": 123,
     "metadata": {},
     "output_type": "execute_result"
    }
   ],
   "source": [
    "df.describe()"
   ]
  },
  {
   "cell_type": "code",
   "execution_count": 124,
   "id": "3473f773",
   "metadata": {},
   "outputs": [],
   "source": [
    "population = df[\"Population\"]"
   ]
  },
  {
   "cell_type": "code",
   "execution_count": 125,
   "id": "8ee6c087",
   "metadata": {},
   "outputs": [
    {
     "data": {
      "text/plain": [
       "(37742154, 331002651)"
      ]
     },
     "execution_count": 125,
     "metadata": {},
     "output_type": "execute_result"
    }
   ],
   "source": [
    "population.min(), population.max()"
   ]
  },
  {
   "cell_type": "code",
   "execution_count": 126,
   "id": "4a48f2af",
   "metadata": {},
   "outputs": [
    {
     "data": {
      "text/plain": [
       "np.int64(772626556)"
      ]
     },
     "execution_count": 126,
     "metadata": {},
     "output_type": "execute_result"
    }
   ],
   "source": [
    "population.sum()\n"
   ]
  },
  {
   "cell_type": "code",
   "execution_count": 127,
   "id": "74b74c0d",
   "metadata": {},
   "outputs": [
    {
     "data": {
      "text/plain": [
       "np.float64(110375222.28571428)"
      ]
     },
     "execution_count": 127,
     "metadata": {},
     "output_type": "execute_result"
    }
   ],
   "source": [
    "population.sum() / len(population)"
   ]
  },
  {
   "cell_type": "code",
   "execution_count": 128,
   "id": "f6d3875f",
   "metadata": {},
   "outputs": [
    {
     "data": {
      "text/plain": [
       "np.float64(110375222.28571428)"
      ]
     },
     "execution_count": 128,
     "metadata": {},
     "output_type": "execute_result"
    }
   ],
   "source": [
    "population.mean()\n"
   ]
  },
  {
   "cell_type": "code",
   "execution_count": 129,
   "id": "855be34a",
   "metadata": {},
   "outputs": [
    {
     "data": {
      "text/plain": [
       "101035650.10298678"
      ]
     },
     "execution_count": 129,
     "metadata": {},
     "output_type": "execute_result"
    }
   ],
   "source": [
    "population.std()"
   ]
  },
  {
   "cell_type": "code",
   "execution_count": 130,
   "id": "48b185da",
   "metadata": {},
   "outputs": [
    {
     "data": {
      "text/plain": [
       "67886011.0"
      ]
     },
     "execution_count": 130,
     "metadata": {},
     "output_type": "execute_result"
    }
   ],
   "source": [
    "population.median()"
   ]
  },
  {
   "cell_type": "code",
   "execution_count": 131,
   "id": "6f1c6f67",
   "metadata": {},
   "outputs": [
    {
     "data": {
      "text/plain": [
       "count    7.000000e+00\n",
       "mean     1.103752e+08\n",
       "std      1.010357e+08\n",
       "min      3.774215e+07\n",
       "25%      6.286767e+07\n",
       "50%      6.788601e+07\n",
       "75%      1.051302e+08\n",
       "max      3.310027e+08\n",
       "Name: Population, dtype: float64"
      ]
     },
     "execution_count": 131,
     "metadata": {},
     "output_type": "execute_result"
    }
   ],
   "source": [
    "population.describe()"
   ]
  },
  {
   "cell_type": "code",
   "execution_count": 132,
   "id": "94588a41",
   "metadata": {},
   "outputs": [
    {
     "data": {
      "text/plain": [
       "np.float64(62867668.5)"
      ]
     },
     "execution_count": 132,
     "metadata": {},
     "output_type": "execute_result"
    }
   ],
   "source": [
    "population.quantile(.25)"
   ]
  },
  {
   "cell_type": "code",
   "execution_count": 133,
   "id": "b8ba3905",
   "metadata": {},
   "outputs": [
    {
     "data": {
      "text/plain": [
       "0.2     61424163.0\n",
       "0.4     66318511.0\n",
       "0.6     77424769.6\n",
       "0.8    117937957.2\n",
       "1.0    331002651.0\n",
       "Name: Population, dtype: float64"
      ]
     },
     "execution_count": 133,
     "metadata": {},
     "output_type": "execute_result"
    }
   ],
   "source": [
    "population.quantile([.2,.4,.6,.8,1])"
   ]
  }
 ],
 "metadata": {
  "kernelspec": {
   "display_name": "modelprep",
   "language": "python",
   "name": "python3"
  },
  "language_info": {
   "codemirror_mode": {
    "name": "ipython",
    "version": 3
   },
   "file_extension": ".py",
   "mimetype": "text/x-python",
   "name": "python",
   "nbconvert_exporter": "python",
   "pygments_lexer": "ipython3",
   "version": "3.10.18"
  }
 },
 "nbformat": 4,
 "nbformat_minor": 5
}
