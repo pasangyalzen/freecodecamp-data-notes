{
 "cells": [
  {
   "cell_type": "markdown",
   "id": "2801d089",
   "metadata": {},
   "source": [
    "Pandas\n",
    "Pandas is a Python tool that helps you work with data easily — like how Excel works with tables.\n",
    "\n",
    "It lets you:\n",
    "\t•\tRead data from files (like CSV or Excel)\n",
    "\t•\tLook at it in a table format\n",
    "\t•\tClean it if it’s messy\n",
    "\t•\tSort, filter, and analyze it\n",
    "\t•\tSave the clean data again\n",
    "\n",
    "Pandas is used a lot in data analysis, data science, and machine learning because most real-world data comes in table form — with rows and columns — and Pandas makes working with that kind of data super simple and powerful.\n",
    "\n",
    "\n",
    "\n",
    "Pandas gives you 2 main tools:\n",
    "\t1.\tSeries → a single column (like a list with labels)\n",
    "\t2.\tDataFrame → a full table (like an Excel sheet)\n",
    "\t•\tIt works on top of NumPy, meaning it uses NumPy under the hood to do fast calculations but adds labels (column names and row numbers) so it’s easier to understand and work with.\n",
    "\t•\tIt’s made for structured data (tables), which is the kind of data you usually get in the real world: CSVs, spreadsheets, databases, survey results, etc.\n",
    "\n",
    "Why Pandas is Important\n",
    "\t•\tIt’s the starting point for any data science or machine learning project\n",
    "\t•\tIt helps you explore and clean data before you can build charts or train models\n",
    "\t•\tIt’s much easier to use than raw Python or NumPy when working with tabular data\n",
    "\n",
    "\n",
    "🧮 NumPy (Numerical Python)\n",
    "\n",
    "NumPy is a Python library that focuses on numerical operations and high-performance computations using arrays.\n",
    "\t•\tIt works with n-dimensional arrays (like lists of numbers, grids, or even 3D arrays).\n",
    "\t•\tIt’s mainly used for mathematical operations, linear algebra, matrix multiplications, and scientific calculations.\n",
    "\t•\tIt’s extremely fast because it uses optimized C code underneath.\n",
    "\t•\tData in NumPy doesn’t have column or row labels — just index positions (like array[0][1]).\n",
    "\t•\tIt’s perfect when you need to work with large sets of numbers or mathematical modeling, such as building machine learning algorithms from scratch.\n",
    "\t•\tHowever, for real-world data like customer information or CSV files, NumPy alone is not very intuitive.\n",
    "\n",
    "⸻\n",
    "\n",
    "🐼 Pandas (Python Data Analysis Library)\n",
    "\n",
    "Pandas is a library built on top of NumPy that makes working with structured/tabular data much easier. Behind the scenes numpy is the one that is working as a engine for most of the cases. Pandas can be considered as a dashboard for now.\n",
    "\t•\tIt introduces two main data structures: Series (1D labeled array) and DataFrame (2D labeled table).\n",
    "\t•\tWith Pandas, you can easily read data from files like CSVs, Excel sheets, and databases.\n",
    "\t•\tIt allows you to filter, sort, group, and clean data using human-friendly row and column labels.\n",
    "\t•\tIt’s designed to make real-world data handling simple and efficient — especially when data is messy or unstructured.\n",
    "\t•\tWhile it’s not as fast at pure number crunching as NumPy, it makes data analysis workflows far more convenient.\n",
    "\t•\tIn most data science projects, Pandas is used first to clean and explore the data, and then NumPy may be used underneath for the calculations.\n",
    "\n",
    "\n",
    "Pandas is built using NumPy (for data handling and speed), Cython (for performance), and Python (for structure), and it wraps them into a simple, powerful toolkit for working with structured data."
   ]
  },
  {
   "cell_type": "code",
   "execution_count": null,
   "id": "5fc2db75",
   "metadata": {},
   "outputs": [],
   "source": [
    "import pandas as pd \n",
    "import numpy as np\n",
    "#You do not need to import NumPy just because Pandas is built on top of it.\n",
    "#You only import NumPy when you plan to use NumPy directly in your own code."
   ]
  },
  {
   "cell_type": "markdown",
   "id": "a03cad97",
   "metadata": {},
   "source": [
    "Analyzing the Group of seven which is political formed by Canada, France, Germany,Italy, Japan , United Kingdom and United States . We will start analyzing the population and we will be initiating it with pandas.Series Object."
   ]
  },
  {
   "cell_type": "markdown",
   "id": "e22a0f02",
   "metadata": {},
   "source": [
    "Data Structue refer to the way of storing a data in a computer so that it can be used effeciently.\n",
    "Pandas has two types of data structures. \n",
    "1. pandas.Series\n",
    "2. pandas.DataFrame\n",
    "\n",
    "Think of data structures like containers:\n",
    "\t•\tA Series is like a single column of labeled data (e.g., a list of countries with their populations).\n",
    "\t•\tA DataFrame is like an Excel sheet — a table with rows and columns."
   ]
  },
  {
   "cell_type": "code",
   "execution_count": 2,
   "id": "7baa7e56",
   "metadata": {},
   "outputs": [],
   "source": [
    "# Population in Millions\n",
    "g7_population = pd.Series([35.467, 63.941, 80.940, 60.665, 127.061, 64.511, 318.523])"
   ]
  },
  {
   "cell_type": "markdown",
   "id": "9fa81740",
   "metadata": {},
   "source": [
    "pd.Series() is a function providecd by the Pandas Library that stores the data creating a Series Object that is one dimensional array. Its like a dictionary or Excel column."
   ]
  },
  {
   "cell_type": "code",
   "execution_count": 3,
   "id": "c568c9df",
   "metadata": {},
   "outputs": [
    {
     "data": {
      "text/plain": [
       "0     35.467\n",
       "1     63.941\n",
       "2     80.940\n",
       "3     60.665\n",
       "4    127.061\n",
       "5     64.511\n",
       "6    318.523\n",
       "dtype: float64"
      ]
     },
     "execution_count": 3,
     "metadata": {},
     "output_type": "execute_result"
    }
   ],
   "source": [
    "g7_population"
   ]
  },
  {
   "cell_type": "code",
   "execution_count": 4,
   "id": "649fe5cf",
   "metadata": {},
   "outputs": [],
   "source": [
    "g7_population.name = \"Group Seven Population in Millions\""
   ]
  },
  {
   "cell_type": "code",
   "execution_count": null,
   "id": "e5bd0e4b",
   "metadata": {},
   "outputs": [
    {
     "data": {
      "text/plain": [
       "0     35.467\n",
       "1     63.941\n",
       "2     80.940\n",
       "3     60.665\n",
       "4    127.061\n",
       "5     64.511\n",
       "6    318.523\n",
       "Name: Group Seven Population in Millions, dtype: float64"
      ]
     },
     "execution_count": 5,
     "metadata": {},
     "output_type": "execute_result"
    }
   ],
   "source": [
    "g7_population\n",
    "#We can add a name to the pandas series"
   ]
  },
  {
   "cell_type": "markdown",
   "id": "12d984f7",
   "metadata": {},
   "source": [
    "Series are pretty similar to numpy arrays."
   ]
  },
  {
   "cell_type": "code",
   "execution_count": 6,
   "id": "2adcda7e",
   "metadata": {},
   "outputs": [
    {
     "data": {
      "text/plain": [
       "dtype('float64')"
      ]
     },
     "execution_count": 6,
     "metadata": {},
     "output_type": "execute_result"
    }
   ],
   "source": [
    "g7_population.dtype"
   ]
  },
  {
   "cell_type": "code",
   "execution_count": null,
   "id": "e129e6a2",
   "metadata": {},
   "outputs": [
    {
     "data": {
      "text/plain": [
       "array([ 35.467,  63.941,  80.94 ,  60.665, 127.061,  64.511, 318.523])"
      ]
     },
     "execution_count": 7,
     "metadata": {},
     "output_type": "execute_result"
    }
   ],
   "source": [
    "g7_population.values\n",
    "#This shows the underlying datas in a Series"
   ]
  },
  {
   "cell_type": "code",
   "execution_count": null,
   "id": "bd0a93da",
   "metadata": {},
   "outputs": [
    {
     "data": {
      "text/plain": [
       "numpy.ndarray"
      ]
     },
     "execution_count": 8,
     "metadata": {},
     "output_type": "execute_result"
    }
   ],
   "source": [
    "type(g7_population.values)\n",
    "#By this we can conclude that it is indeed a numpy array. So pandas series is a numpy array"
   ]
  },
  {
   "cell_type": "code",
   "execution_count": 9,
   "id": "aa41822d",
   "metadata": {},
   "outputs": [
    {
     "data": {
      "text/plain": [
       "np.float64(35.467)"
      ]
     },
     "execution_count": 9,
     "metadata": {},
     "output_type": "execute_result"
    }
   ],
   "source": [
    "#We can access its elements similar to extracting the elements in a python list\n",
    "g7_population[0]"
   ]
  },
  {
   "cell_type": "code",
   "execution_count": 10,
   "id": "a92dc92a",
   "metadata": {},
   "outputs": [
    {
     "data": {
      "text/plain": [
       "np.float64(63.941)"
      ]
     },
     "execution_count": 10,
     "metadata": {},
     "output_type": "execute_result"
    }
   ],
   "source": [
    "g7_population[1]"
   ]
  },
  {
   "cell_type": "code",
   "execution_count": 12,
   "id": "801385bd",
   "metadata": {},
   "outputs": [
    {
     "data": {
      "text/plain": [
       "RangeIndex(start=0, stop=7, step=1)"
      ]
     },
     "execution_count": 12,
     "metadata": {},
     "output_type": "execute_result"
    }
   ],
   "source": [
    "g7_population.index"
   ]
  },
  {
   "cell_type": "markdown",
   "id": "f97d8e39",
   "metadata": {},
   "source": [
    "We can see that a pandas series and a list both have their respective index. Index are metioned for the pandas if we look at them but for the list they are not mentioned but its there. The main difference is that the index of the pandas series are changable. We can add up our own index to it.\n",
    "\n",
    "These index are changable for a reason and that is what seperates a pandas library.Pandas allows changeable indexes so that data can be labeled, aligned, and analyzed in a smart and human-friendly way — which is essential for real-world data science and analytics."
   ]
  },
  {
   "cell_type": "code",
   "execution_count": null,
   "id": "229e6ff2",
   "metadata": {},
   "outputs": [],
   "source": [
    "g7_population.index = [\n",
    "    \"Canada\",\n",
    "    \"France\",\n",
    "    \"Germany\",\n",
    "    \"Italy\",\n",
    "    \"Japan\",\n",
    "    \"United Kingdom\",\n",
    "    \"United States\",\n",
    "]"
   ]
  },
  {
   "cell_type": "code",
   "execution_count": null,
   "id": "6a8ba1d1",
   "metadata": {},
   "outputs": [
    {
     "data": {
      "text/plain": [
       "Canada             35.467\n",
       "France             63.941\n",
       "Germany            80.940\n",
       "Italy              60.665\n",
       "Japan             127.061\n",
       "United Kingdom     64.511\n",
       "United States     318.523\n",
       "Name: Group Seven Population in Millions, dtype: float64"
      ]
     },
     "execution_count": 15,
     "metadata": {},
     "output_type": "execute_result"
    }
   ],
   "source": [
    "g7_population\n",
    "#This change of index helps us in reading the data in a more interactive way\n",
    "#So from now on we wont be labeling them using a certain index number , instead we will be using their respective meaningful names so that we can easily play with the data"
   ]
  },
  {
   "cell_type": "markdown",
   "id": "4f7da141",
   "metadata": {},
   "source": [
    "Now from the above data we can see that it looks similar to a dictionary that is a key value pair rather than a list with added features for data analysis. So, with that we can conclude that we can create series out of a dictionary.\n",
    "\n",
    "Key differences between a dictionary and pandas series\n",
    "\n",
    "Label-Based Access\n",
    "\n",
    "A Python dict allows access to values using keys. For example, my_dict[\"Canada\"] returns the value associated with the key “Canada”.\n",
    "\n",
    "Similarly, a pandas.Series allows access to values using custom index labels. For example, my_series[\"Canada\"] returns the corresponding value from the Series.\n",
    "\n",
    "⸻\n",
    "\n",
    "Order Preservation\n",
    "\n",
    "In Python, dictionaries preserve insertion order only from version 3.7 onwards. In earlier versions, the order of keys was not guaranteed.\n",
    "\n",
    "Pandas Series always preserves the order of elements. When you define values and labels in a specific order, that order is maintained throughout operations unless explicitly changed.\n",
    "\n",
    "⸻\n",
    "\n",
    "Vectorized Operations\n",
    "\n",
    "Dictionaries do not support vectorized operations. You cannot perform mathematical operations on all values of a dictionary at once. You would need to loop through or use comprehensions.\n",
    "\n",
    "Pandas Series support vectorized operations. You can perform operations like addition, subtraction, filtering, or applying mathematical functions directly on the entire Series without using loops.\n",
    "\n",
    "⸻\n",
    "\n",
    "Support for Missing Values (NaN)\n",
    "\n",
    "Dictionaries have no built-in support for representing or handling missing values. If a key is absent, accessing it raises a KeyError.\n",
    "\n",
    "Pandas Series can contain missing values using NaN (Not a Number), which makes it useful for real-world datasets that may have incomplete or missing entries.\n",
    "\n",
    "⸻\n",
    "\n",
    "Underlying Data Type\n",
    "\n",
    "A Python dictionary is a built-in data type and is part of the core Python language. It does not rely on external libraries.\n",
    "\n",
    "A Pandas Series is built on top of NumPy arrays. This gives it high performance and access to numerical operations that are not available in basic Python structures.\n",
    "\n",
    "\n",
    "Converting dictionaries or JSON into Pandas Series is a common step in data ingestion and preparation, enabling the analyst to move from raw data to a structured format that’s easy to analyze and manipulate."
   ]
  },
  {
   "cell_type": "markdown",
   "id": "b0c7a985",
   "metadata": {},
   "source": [
    "Ways to create a pandas series "
   ]
  },
  {
   "cell_type": "code",
   "execution_count": null,
   "id": "9678b4c0",
   "metadata": {},
   "outputs": [
    {
     "name": "stdout",
     "output_type": "stream",
     "text": [
      "Canada             35.467\n",
      "France             63.941\n",
      "Germany            80.940\n",
      "Italy              60.665\n",
      "Japan             127.061\n",
      "United Kingdom     64.511\n",
      "United States     318.523\n",
      "dtype: float64\n"
     ]
    }
   ],
   "source": [
    "#1\n",
    "g7_population = pd.Series({\n",
    "    \"Canada\": 35.467,\n",
    "    \"France\": 63.941,\n",
    "    \"Germany\": 80.940,\n",
    "    \"Italy\": 60.665,\n",
    "    \"Japan\": 127.061,\n",
    "    \"United Kingdom\": 64.511,\n",
    "    \"United States\": 318.523\n",
    "})\n",
    "\n",
    "print(g7_population)"
   ]
  },
  {
   "cell_type": "code",
   "execution_count": 17,
   "id": "87cdc206",
   "metadata": {},
   "outputs": [
    {
     "name": "stdout",
     "output_type": "stream",
     "text": [
      "Canada             35.467\n",
      "France             63.941\n",
      "Germany            80.940\n",
      "Italy              60.665\n",
      "Japan             127.061\n",
      "United Kingdom     64.511\n",
      "United States     318.523\n",
      "dtype: float64\n"
     ]
    }
   ],
   "source": [
    "#2\n",
    "g7_population = pd.Series(\n",
    "    [35.467, 63.941, 80.940, 60.665, 127.061, 64.511, 318.523],\n",
    "    index=[\"Canada\", \"France\", \"Germany\", \"Italy\", \"Japan\", \"United Kingdom\", \"United States\"]\n",
    ")\n",
    "\n",
    "print(g7_population)"
   ]
  },
  {
   "cell_type": "code",
   "execution_count": null,
   "id": "4fe1463e",
   "metadata": {},
   "outputs": [
    {
     "data": {
      "text/plain": [
       "France     63.941\n",
       "Germany    80.940\n",
       "Italy      60.665\n",
       "Spain         NaN\n",
       "dtype: float64"
      ]
     },
     "execution_count": 19,
     "metadata": {},
     "output_type": "execute_result"
    }
   ],
   "source": [
    "pd.Series(g7_population, index = [\"France\", \"Germany\", \"Italy\", \"Spain\"])\n",
    "#This line is:\n",
    "\t# •\tCreating a subset of the original Series,\n",
    "\t# •\tReordering the entries,\n",
    "\t# •\tFilling NaN for any index label not present in the original (like \"Spain\" in this case)."
   ]
  },
  {
   "cell_type": "markdown",
   "id": "adb3f19b",
   "metadata": {},
   "source": [
    "Above use of the given function\t\n",
    "    •\tpd.Series(original_series, index=[...]) creates a new Series.\n",
    "\t•\tIt is not assigned unless you do so manually.\n",
    "\t•\tIt’s useful for selecting, reordering, or introducing missing entries in a structured way."
   ]
  }
 ],
 "metadata": {
  "kernelspec": {
   "display_name": "modelprep",
   "language": "python",
   "name": "python3"
  },
  "language_info": {
   "codemirror_mode": {
    "name": "ipython",
    "version": 3
   },
   "file_extension": ".py",
   "mimetype": "text/x-python",
   "name": "python",
   "nbconvert_exporter": "python",
   "pygments_lexer": "ipython3",
   "version": "3.10.18"
  }
 },
 "nbformat": 4,
 "nbformat_minor": 5
}
