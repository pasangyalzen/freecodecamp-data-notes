{
 "cells": [
  {
   "cell_type": "code",
   "execution_count": null,
   "id": "28f58f99",
   "metadata": {},
   "outputs": [],
   "source": []
  },
  {
   "cell_type": "markdown",
   "id": "5e3c34da",
   "metadata": {},
   "source": [
    "Numpy Arrays"
   ]
  },
  {
   "cell_type": "code",
   "execution_count": 92,
   "id": "9f5a2731",
   "metadata": {},
   "outputs": [],
   "source": [
    "import numpy as np \n"
   ]
  },
  {
   "cell_type": "code",
   "execution_count": 93,
   "id": "263e3037",
   "metadata": {},
   "outputs": [
    {
     "data": {
      "text/plain": [
       "array([1, 2, 3, 4])"
      ]
     },
     "execution_count": 93,
     "metadata": {},
     "output_type": "execute_result"
    }
   ],
   "source": [
    "np.array([1,2,3,4])"
   ]
  },
  {
   "cell_type": "code",
   "execution_count": 94,
   "id": "456300d0",
   "metadata": {},
   "outputs": [],
   "source": [
    "a = np.array([1,2,3,4])"
   ]
  },
  {
   "cell_type": "code",
   "execution_count": 95,
   "id": "873ad7b4",
   "metadata": {},
   "outputs": [],
   "source": [
    "b = np.array([1 , 0.5, 5.1, 6])"
   ]
  },
  {
   "cell_type": "code",
   "execution_count": 96,
   "id": "1ef31e95",
   "metadata": {},
   "outputs": [
    {
     "data": {
      "text/plain": [
       "(np.int64(1), np.int64(2))"
      ]
     },
     "execution_count": 96,
     "metadata": {},
     "output_type": "execute_result"
    }
   ],
   "source": [
    "a[0], a[1]\n",
    "\n"
   ]
  },
  {
   "cell_type": "code",
   "execution_count": 97,
   "id": "d4e45891",
   "metadata": {},
   "outputs": [
    {
     "data": {
      "text/plain": [
       "array([1, 2, 3, 4])"
      ]
     },
     "execution_count": 97,
     "metadata": {},
     "output_type": "execute_result"
    }
   ],
   "source": [
    "a[0:]\n"
   ]
  },
  {
   "cell_type": "code",
   "execution_count": 98,
   "id": "ca5dde81",
   "metadata": {},
   "outputs": [
    {
     "data": {
      "text/plain": [
       "array([1, 2])"
      ]
     },
     "execution_count": 98,
     "metadata": {},
     "output_type": "execute_result"
    }
   ],
   "source": [
    "a[0:2]"
   ]
  },
  {
   "cell_type": "code",
   "execution_count": 99,
   "id": "f9b13da5",
   "metadata": {},
   "outputs": [
    {
     "data": {
      "text/plain": [
       "array([], dtype=int64)"
      ]
     },
     "execution_count": 99,
     "metadata": {},
     "output_type": "execute_result"
    }
   ],
   "source": [
    "a[2:-2]\n",
    "#This states that start from two index and stop before last two elements \n"
   ]
  },
  {
   "cell_type": "code",
   "execution_count": 100,
   "id": "6ab26baf",
   "metadata": {},
   "outputs": [
    {
     "data": {
      "text/plain": [
       "array([3, 4])"
      ]
     },
     "execution_count": 100,
     "metadata": {},
     "output_type": "execute_result"
    }
   ],
   "source": [
    "a[2:]\n"
   ]
  },
  {
   "cell_type": "code",
   "execution_count": 101,
   "id": "1f4f72cf",
   "metadata": {},
   "outputs": [
    {
     "data": {
      "text/plain": [
       "array([1, 2, 3])"
      ]
     },
     "execution_count": 101,
     "metadata": {},
     "output_type": "execute_result"
    }
   ],
   "source": [
    "a[:3]\n"
   ]
  },
  {
   "cell_type": "code",
   "execution_count": 102,
   "id": "30b6ac96",
   "metadata": {},
   "outputs": [
    {
     "data": {
      "text/plain": [
       "array([1, 3])"
      ]
     },
     "execution_count": 102,
     "metadata": {},
     "output_type": "execute_result"
    }
   ],
   "source": [
    "a[::2\n",
    "  ]"
   ]
  },
  {
   "cell_type": "code",
   "execution_count": 103,
   "id": "5afca66f",
   "metadata": {},
   "outputs": [
    {
     "data": {
      "text/plain": [
       "np.float64(1.0)"
      ]
     },
     "execution_count": 103,
     "metadata": {},
     "output_type": "execute_result"
    }
   ],
   "source": [
    "b[0]\n"
   ]
  },
  {
   "cell_type": "markdown",
   "id": "cdca7181",
   "metadata": {},
   "source": [
    "The differences between the two arrays is that one is of int and the other is of float. Numpy automatically terms the array a float if any of its element is an array.\n"
   ]
  },
  {
   "cell_type": "code",
   "execution_count": 104,
   "id": "a856342c",
   "metadata": {},
   "outputs": [
    {
     "data": {
      "text/plain": [
       "(np.float64(1.0), np.float64(0.5), np.float64(6.0))"
      ]
     },
     "execution_count": 104,
     "metadata": {},
     "output_type": "execute_result"
    }
   ],
   "source": [
    "b[0], b[1], b[-1]"
   ]
  },
  {
   "cell_type": "code",
   "execution_count": 105,
   "id": "16e1b677",
   "metadata": {},
   "outputs": [
    {
     "data": {
      "text/plain": [
       "array([1. , 0.5, 6. ])"
      ]
     },
     "execution_count": 105,
     "metadata": {},
     "output_type": "execute_result"
    }
   ],
   "source": [
    "b[[0,1,-1]]"
   ]
  },
  {
   "cell_type": "markdown",
   "id": "c7e9b104",
   "metadata": {},
   "source": [
    "The above two does the same thing. Its all about extracting the right index element from the array.\n"
   ]
  },
  {
   "cell_type": "markdown",
   "id": "49f8bc54",
   "metadata": {},
   "source": [
    "Array Types"
   ]
  },
  {
   "cell_type": "code",
   "execution_count": 106,
   "id": "caa4dcc0",
   "metadata": {},
   "outputs": [
    {
     "data": {
      "text/plain": [
       "array([1, 2, 3, 4])"
      ]
     },
     "execution_count": 106,
     "metadata": {},
     "output_type": "execute_result"
    }
   ],
   "source": [
    "a"
   ]
  },
  {
   "cell_type": "code",
   "execution_count": 107,
   "id": "cbdabd06",
   "metadata": {},
   "outputs": [
    {
     "data": {
      "text/plain": [
       "dtype('int64')"
      ]
     },
     "execution_count": 107,
     "metadata": {},
     "output_type": "execute_result"
    }
   ],
   "source": [
    "a.dtype\n"
   ]
  },
  {
   "cell_type": "code",
   "execution_count": 108,
   "id": "126c13ab",
   "metadata": {},
   "outputs": [
    {
     "data": {
      "text/plain": [
       "dtype('float64')"
      ]
     },
     "execution_count": 108,
     "metadata": {},
     "output_type": "execute_result"
    }
   ],
   "source": [
    "b.dtype"
   ]
  },
  {
   "cell_type": "code",
   "execution_count": 109,
   "id": "8a5050cf",
   "metadata": {},
   "outputs": [
    {
     "data": {
      "text/plain": [
       "array([1. , 0.5, 5.1, 6. ])"
      ]
     },
     "execution_count": 109,
     "metadata": {},
     "output_type": "execute_result"
    }
   ],
   "source": [
    "b"
   ]
  },
  {
   "cell_type": "code",
   "execution_count": 110,
   "id": "82d9ecbe",
   "metadata": {},
   "outputs": [
    {
     "data": {
      "text/plain": [
       "array([1., 2., 3., 4.])"
      ]
     },
     "execution_count": 110,
     "metadata": {},
     "output_type": "execute_result"
    }
   ],
   "source": [
    "np.array([1,2,3,4],dtype=np.float64)\n",
    "# NOTE: np.float is deprecated as of NumPy 1.20.\n",
    "# It was just an alias for the built-in float, not a true NumPy type.\n",
    "# Use `float` or `np.float64` instead to avoid errors and ensure clarity.\n",
    "# This cleanup was done to reduce confusion and align with Python's native types."
   ]
  },
  {
   "cell_type": "code",
   "execution_count": 111,
   "id": "cc6c3193",
   "metadata": {},
   "outputs": [],
   "source": [
    "c = np.array([\"a\",\"b\",\"c\"])"
   ]
  },
  {
   "cell_type": "code",
   "execution_count": 112,
   "id": "4ab413b1",
   "metadata": {},
   "outputs": [
    {
     "data": {
      "text/plain": [
       "dtype('<U1')"
      ]
     },
     "execution_count": 112,
     "metadata": {},
     "output_type": "execute_result"
    }
   ],
   "source": [
    "c.dtype"
   ]
  },
  {
   "cell_type": "markdown",
   "id": "d348258e",
   "metadata": {},
   "source": [
    "Numpy stores data that is homogeneous that is of the similar type. We can store data in a structured array that stores structured records that mimics a key value pair like array. Its only preffered when you want to achieve the numpys speed."
   ]
  },
  {
   "cell_type": "code",
   "execution_count": 113,
   "id": "50188cce",
   "metadata": {},
   "outputs": [],
   "source": [
    "#Dimensions and Shapes \n",
    "d = np.array([[1,2,3],\n",
    "             [4,5,6]])\n",
    "#Simply creating a numpy array with 2 rows and three columns"
   ]
  },
  {
   "cell_type": "code",
   "execution_count": 114,
   "id": "c746f977",
   "metadata": {},
   "outputs": [
    {
     "name": "stdout",
     "output_type": "stream",
     "text": [
      "[[1 2 3]\n",
      " [4 5 6]]\n"
     ]
    }
   ],
   "source": [
    "print(d)"
   ]
  },
  {
   "cell_type": "markdown",
   "id": "fa38dad2",
   "metadata": {},
   "source": [
    "Why do we need arrays with different dimensions?\n",
    "\n",
    "1. To represent different types of data structures naturally\n",
    "\t•\t1D arrays — like lists or vectors\n",
    "Example: A list of temperatures for a week [23, 25, 20, 22]\n",
    "\t•\t2D arrays — like tables or matrices\n",
    "Example: A spreadsheet of students’ grades (rows = students, columns = subjects)\n",
    "\t•\t3D arrays and higher — more complex data like:\n",
    "\t•\tA video (sequence of images: time × height × width × color channels)\n",
    "\t•\tA stack of images or 3D medical scans (height × width × depth)\n",
    "\t•\tMulti-channel sensor data collected over time\n",
    "\n",
    "2. To match real-world data complexity\n",
    "\n",
    "Many real-world datasets are inherently multidimensional:\n",
    "\t•\tImages: 2D (height × width) or 3D with color channels (height × width × 3)\n",
    "\t•\tVideos: 4D (frames × height × width × channels)\n",
    "\t•\tGeospatial data: latitude × longitude × time\n",
    "\t•\tScientific measurements: sensors × time × trials\n",
    "\n",
    "3. Efficient computation and memory layout\n",
    "\n",
    "Multidimensional arrays allow libraries like NumPy to:\n",
    "\t•\tStore data compactly in memory\n",
    "\t•\tPerform vectorized operations efficiently (e.g., matrix multiplication, convolutions)\n",
    "\t•\tUse specialized algorithms that rely on data structure shape\n",
    "\n",
    "\n",
    "4. To use mathematical models and algorithms\n",
    "\n",
    "Many algorithms require data in specific dimensions:\n",
    "\t•\tLinear algebra uses matrices (2D arrays)\n",
    "\t•\tMachine learning models often expect tensors (3D or higher)\n",
    "\t•\tDeep learning frameworks use high-dimensional arrays (tensors) for input/output\n",
    "\n",
    "\n",
    "Notes : Tensor refers to multidimensional arrays of any shape. It is also reffered as ranks or orders\n",
    "\t•\tA scalar (single number) is a 0D tensor.\n",
    "\t•\tA vector (1D array) is a 1D tensor.\n",
    "\t•\tA matrix (2D array) is a 2D tensor.\n",
    "\t•\tA 3D array is a 3D tensor.\n",
    "\t•\tAnd so on…"
   ]
  },
  {
   "cell_type": "markdown",
   "id": "8206cf04",
   "metadata": {},
   "source": [
    "Understanding how numpy works with real world data \n",
    "\n",
    "How natural data gets represented as arrays (vectors, matrices, tensors):\n",
    "\n",
    "1. Everything gets digitized and broken down into numeric components\n",
    "\n",
    "Computers don’t “see” images or videos like we do — they only understand numbers. So, to represent real-world data:\n",
    "\t•\tImages are broken down into pixels — each pixel is a numeric value (e.g., grayscale brightness from 0 to 255, or RGB color channels)\n",
    "\t•\tVideos are sequences of images (frames), so they become stacks of matrices (frames × height × width × color channels)\n",
    "\t•\tAudio is sampled at discrete points in time — turning sound waves into sequences of numbers (1D arrays or 2D if stereo)\n",
    "\t•\tText is converted into numbers via encoding schemes (e.g., ASCII codes or embeddings)\n",
    "\n",
    "\n",
    "2. Dimensions arise naturally from the structure of the data\n",
    "\t•\tVectors (1D arrays): Single lists of numbers — like a list of temperatures, or audio samples over time\n",
    "\t•\tMatrices (2D arrays): Tables or grids — like images (height × width), spreadsheets (rows × columns)\n",
    "\t•\tTensors (3D+ arrays): Data with more complex structure — color images have 3 channels (height × width × 3), videos add a time dimension (frames × height × width × channels)\n",
    "\n",
    "\n",
    "3. Why numbers? Because numbers are the universal language of computation\n",
    "\t•\tNumbers allow us to represent intensity, color, frequency, or any measurable attribute precisely\n",
    "\t•\tComputers manipulate numbers quickly and accurately\n",
    "\t•\tUsing arrays (vectors, matrices, tensors) lets us model relationships and patterns in data efficiently (e.g., neighbor pixels in images)\n",
    "\n",
    "\n",
    "4. How this mapping actually works — a simple example\n",
    "\n",
    "Image → digital photo:\n",
    "\t•\tA 100×100 pixel grayscale image becomes a 2D array with shape (100, 100)\n",
    "\t•\tEach element is a number between 0 (black) and 255 (white)\n",
    "\n",
    "Video:\n",
    "\t•\tA 30-second video at 30 frames per second is 900 frames\n",
    "\t•\tEach frame is a 2D (grayscale) or 3D (color) array\n",
    "\t•\tSo the video is a 4D tensor (900, height, width, channels)\n",
    "\n",
    "\n",
    "5. Advanced numeric representations\n",
    "\t•\tFor text, techniques like word embeddings convert words into numeric vectors in high-dimensional space\n",
    "\t•\tFor sound, spectrograms transform audio into 2D images representing frequency over time"
   ]
  },
  {
   "cell_type": "code",
   "execution_count": 115,
   "id": "81d611b1",
   "metadata": {},
   "outputs": [
    {
     "data": {
      "text/plain": [
       "(2, 3)"
      ]
     },
     "execution_count": 115,
     "metadata": {},
     "output_type": "execute_result"
    }
   ],
   "source": [
    "#numpy attributes and function \n",
    "d.shape"
   ]
  },
  {
   "cell_type": "code",
   "execution_count": 116,
   "id": "d0940747",
   "metadata": {},
   "outputs": [
    {
     "data": {
      "text/plain": [
       "2"
      ]
     },
     "execution_count": 116,
     "metadata": {},
     "output_type": "execute_result"
    }
   ],
   "source": [
    "d.ndim\n",
    "#If you call something that is not a function it will give you with an error that says the object is not callable which was returned when I called d.ndim() which is not right"
   ]
  },
  {
   "cell_type": "code",
   "execution_count": 117,
   "id": "3f378168",
   "metadata": {},
   "outputs": [
    {
     "data": {
      "text/plain": [
       "6"
      ]
     },
     "execution_count": 117,
     "metadata": {},
     "output_type": "execute_result"
    }
   ],
   "source": [
    "d.size\n",
    "#return you with the total number of elements \n"
   ]
  },
  {
   "cell_type": "markdown",
   "id": "6de41b11",
   "metadata": {},
   "source": []
  },
  {
   "cell_type": "code",
   "execution_count": 118,
   "id": "c1e97351",
   "metadata": {},
   "outputs": [],
   "source": [
    "e = np.array(\n",
    "    [[[1,2,3],[4,5,6]],\n",
    "     [[7,8,9], [0,1,2]]])\n",
    "\n",
    "#What i figured out here is that to know the dimensions of an array, you can see the total number of \"[\" this bracket in the front two know its dimension\n",
    "#Its not a perfect way but it works for me."
   ]
  },
  {
   "cell_type": "markdown",
   "id": "75774467",
   "metadata": {},
   "source": [
    "In NumPy, the shape of an array tells you how many elements exist along each dimension. It’s written as a tuple like (x, y, z) where:\n",
    "\t•\tx → number of blocks (1st dimension)\n",
    "\t•\ty → number of rows in each block (2nd dimension)\n",
    "\t•\tz → number of columns in each row (3rd dimension)\n"
   ]
  },
  {
   "cell_type": "code",
   "execution_count": 119,
   "id": "5a1ae347",
   "metadata": {},
   "outputs": [
    {
     "data": {
      "text/plain": [
       "array([[[1, 2, 3],\n",
       "        [4, 5, 6]],\n",
       "\n",
       "       [[7, 8, 9],\n",
       "        [0, 1, 2]]])"
      ]
     },
     "execution_count": 119,
     "metadata": {},
     "output_type": "execute_result"
    }
   ],
   "source": [
    "e  "
   ]
  },
  {
   "cell_type": "code",
   "execution_count": 120,
   "id": "95514f1a",
   "metadata": {},
   "outputs": [
    {
     "ename": "ValueError",
     "evalue": "setting an array element with a sequence. The requested array has an inhomogeneous shape after 1 dimensions. The detected shape was (2,) + inhomogeneous part.",
     "output_type": "error",
     "traceback": [
      "\u001b[0;31m---------------------------------------------------------------------------\u001b[0m",
      "\u001b[0;31mValueError\u001b[0m                                Traceback (most recent call last)",
      "Cell \u001b[0;32mIn[120], line 1\u001b[0m\n\u001b[0;32m----> 1\u001b[0m f \u001b[38;5;241m=\u001b[39m \u001b[43mnp\u001b[49m\u001b[38;5;241;43m.\u001b[39;49m\u001b[43marray\u001b[49m\u001b[43m(\u001b[49m\u001b[43m[\u001b[49m\n\u001b[1;32m      2\u001b[0m \u001b[43m    \u001b[49m\u001b[43m[\u001b[49m\u001b[43m[\u001b[49m\u001b[38;5;241;43m2\u001b[39;49m\u001b[43m,\u001b[49m\u001b[43m \u001b[49m\u001b[38;5;241;43m4\u001b[39;49m\u001b[43m]\u001b[49m\u001b[43m,\u001b[49m\n\u001b[1;32m      3\u001b[0m \u001b[43m     \u001b[49m\u001b[43m[\u001b[49m\u001b[38;5;241;43m5\u001b[39;49m\u001b[43m,\u001b[49m\u001b[43m \u001b[49m\u001b[38;5;241;43m6\u001b[39;49m\u001b[43m]\u001b[49m\u001b[43m]\u001b[49m\u001b[43m,\u001b[49m\n\u001b[1;32m      4\u001b[0m \u001b[43m    \u001b[49m\u001b[43m[\u001b[49m\u001b[43m[\u001b[49m\u001b[38;5;241;43m6\u001b[39;49m\u001b[43m,\u001b[49m\u001b[43m \u001b[49m\u001b[38;5;241;43m7\u001b[39;49m\u001b[43m]\u001b[49m\u001b[43m]\u001b[49m\n\u001b[1;32m      5\u001b[0m \u001b[43m]\u001b[49m\u001b[43m)\u001b[49m\n",
      "\u001b[0;31mValueError\u001b[0m: setting an array element with a sequence. The requested array has an inhomogeneous shape after 1 dimensions. The detected shape was (2,) + inhomogeneous part."
     ]
    }
   ],
   "source": [
    "f = np.array([\n",
    "    [[2, 4],\n",
    "     [5, 6]],\n",
    "    [[6, 7]]\n",
    "])\n",
    "\n",
    "#Matching the shape consistent is very important other wise it will result us with an error. \n",
    "#error: setting an array element with a sequence. The requested array has an inhomogeneous shape after 1 dimensions. The detected shape was (2,) + inhomogeneous part."
   ]
  },
  {
   "cell_type": "code",
   "execution_count": 121,
   "id": "beabf11b",
   "metadata": {},
   "outputs": [],
   "source": [
    "#Indexing and slicing matrix\n",
    "h = np.array([[1,2,3],\n",
    "               [4,5,6],\n",
    "               [7,8,9]])"
   ]
  },
  {
   "cell_type": "code",
   "execution_count": 122,
   "id": "d4df9fe0",
   "metadata": {},
   "outputs": [
    {
     "data": {
      "text/plain": [
       "np.int64(9)"
      ]
     },
     "execution_count": 122,
     "metadata": {},
     "output_type": "execute_result"
    }
   ],
   "source": [
    "#Indexing\n",
    "h[2,2]\n",
    "#Give me the element at row index 2 and column index 2 from the array h."
   ]
  },
  {
   "cell_type": "code",
   "execution_count": 123,
   "id": "7ad2549b",
   "metadata": {},
   "outputs": [
    {
     "data": {
      "text/plain": [
       "array([[5, 6],\n",
       "       [8, 9]])"
      ]
     },
     "execution_count": 123,
     "metadata": {},
     "output_type": "execute_result"
    }
   ],
   "source": [
    "#Slicing\n",
    "h[1:,1:]\n"
   ]
  },
  {
   "cell_type": "markdown",
   "id": "2b4d228f",
   "metadata": {},
   "source": [
    "When slicing you can slice it based on the dimension of it. So. what I meant is that a 2D array is a matrix having two axis. One is for the rows and other is for the columns. So when you slice it. First slices the rows other slcies the column so at last you end up with what has been sliced. When slicing it is differntiated using the sign \":\". The left hand side represents the start and right hand represents the end.If omitted or no values are passed, it defaults to the beginning (start) or the end (stop) The start is inclusive and the end is exclusive. So in the above code what i am doing is that start at the row that is 1 inclusively till last. If the end is not given it refers all. And for the columns as well start at 1 inclusively till last. SO this will result the sliced array."
   ]
  },
  {
   "cell_type": "code",
   "execution_count": 125,
   "id": "c938a285",
   "metadata": {},
   "outputs": [],
   "source": [
    "#Indexing and slicing multiodimensional array\n",
    "g = np.array([[\n",
    "                [1,2,3],\n",
    "                [4,5,6],\n",
    "                [7,8,9]\n",
    "                ],\n",
    "               [\n",
    "                [1,2,3],\n",
    "                [4,5,6],\n",
    "                [9,8,0]\n",
    "               ],\n",
    "               [\n",
    "                [4,5,6],\n",
    "                [7,8,9],\n",
    "                [8,4,3]\n",
    "                ]\n",
    "                ])"
   ]
  },
  {
   "cell_type": "code",
   "execution_count": 126,
   "id": "cf570980",
   "metadata": {},
   "outputs": [
    {
     "data": {
      "text/plain": [
       "(3, 3, 3)"
      ]
     },
     "execution_count": 126,
     "metadata": {},
     "output_type": "execute_result"
    }
   ],
   "source": [
    "g.shape"
   ]
  },
  {
   "cell_type": "code",
   "execution_count": 127,
   "id": "9ffce6e9",
   "metadata": {},
   "outputs": [
    {
     "data": {
      "text/plain": [
       "array([[[8, 4, 3]]])"
      ]
     },
     "execution_count": 127,
     "metadata": {},
     "output_type": "execute_result"
    }
   ],
   "source": [
    "#Slicing of a multidimensional array\n",
    "g[2:,2:,:]\n",
    "# \"Give me all elements from:\n",
    "#  • Layer 2 onwards (axis 0),\n",
    "#  • Row 2 onwards within those layers (axis 1),\n",
    "#  • And all columns of those rows (axis 2).\""
   ]
  },
  {
   "cell_type": "code",
   "execution_count": 128,
   "id": "f54cb419",
   "metadata": {},
   "outputs": [
    {
     "data": {
      "text/plain": [
       "np.int64(8)"
      ]
     },
     "execution_count": 128,
     "metadata": {},
     "output_type": "execute_result"
    }
   ],
   "source": [
    "#Indexing of a multidimensional array\n",
    "g[1][2][1]"
   ]
  },
  {
   "cell_type": "markdown",
   "id": "b85fc8a0",
   "metadata": {},
   "source": [
    "Now, through my research what i have found is that the generalized term for all the things we have been learning here in our numpy session are called tensor. \n",
    "Scalar is a 0D tensor. When scalar is stacked then we form a vector that is a 1D tensor. And when a vector is stacked we form a matrix that is a 2D tensor. And when matrix is stacked we form a 3D tensor that is referred as a multidimensional array. And stacking n dimensional tensor forms another tensor of the shape (n,b,r,c) where n is the dimension, b is blocks, r is row and c is column. If dimensions seems confusing then you can refer dimensions as a number of axes or level of indexing. So to get a certain elements in a 3D array. We will have to access it with indexing like A[1,2,3] to get that specific element. So to get that very element we had to go through 3 levels of indexing. First for the block, second for the rows and last for the columns. So this level of indexing can be termed as a dimension. If axes is what confuses you then axes is simply a collection of axis. And axis refer to the one direction. So simply putting all together axes is a colletion of different directions. 2D arrays has two direction one for the row other for the column. And 3D arrays has three direction that is rows, columns and the depth that refers to layers. And layers are simply total stacks of the lower tensors. "
   ]
  },
  {
   "cell_type": "code",
   "execution_count": 129,
   "id": "8526fc44",
   "metadata": {},
   "outputs": [
    {
     "data": {
      "text/plain": [
       "array([[[1, 2, 3],\n",
       "        [4, 5, 6],\n",
       "        [7, 8, 9]],\n",
       "\n",
       "       [[1, 2, 3],\n",
       "        [4, 5, 6],\n",
       "        [9, 8, 0]],\n",
       "\n",
       "       [[4, 5, 6],\n",
       "        [7, 8, 9],\n",
       "        [8, 4, 3]]])"
      ]
     },
     "execution_count": 129,
     "metadata": {},
     "output_type": "execute_result"
    }
   ],
   "source": [
    "g"
   ]
  },
  {
   "cell_type": "code",
   "execution_count": 130,
   "id": "af74cd49",
   "metadata": {},
   "outputs": [],
   "source": [
    "g[1] = [[4,5,6],\n",
    "        [7,8,9],\n",
    "        [1,2,3]]\n",
    "#If the shapes match then we can replcae the layers or any rows or columns in need"
   ]
  },
  {
   "cell_type": "code",
   "execution_count": 131,
   "id": "139a361f",
   "metadata": {},
   "outputs": [
    {
     "data": {
      "text/plain": [
       "array([[[1, 2, 3],\n",
       "        [4, 5, 6],\n",
       "        [7, 8, 9]],\n",
       "\n",
       "       [[4, 5, 6],\n",
       "        [7, 8, 9],\n",
       "        [1, 2, 3]],\n",
       "\n",
       "       [[4, 5, 6],\n",
       "        [7, 8, 9],\n",
       "        [8, 4, 3]]])"
      ]
     },
     "execution_count": 131,
     "metadata": {},
     "output_type": "execute_result"
    }
   ],
   "source": [
    "g"
   ]
  },
  {
   "cell_type": "code",
   "execution_count": 132,
   "id": "efc00748",
   "metadata": {},
   "outputs": [],
   "source": [
    "g[1,2] = [0,0,0]"
   ]
  },
  {
   "cell_type": "code",
   "execution_count": 133,
   "id": "7b37fef8",
   "metadata": {},
   "outputs": [
    {
     "data": {
      "text/plain": [
       "array([[[1, 2, 3],\n",
       "        [4, 5, 6],\n",
       "        [7, 8, 9]],\n",
       "\n",
       "       [[4, 5, 6],\n",
       "        [7, 8, 9],\n",
       "        [0, 0, 0]],\n",
       "\n",
       "       [[4, 5, 6],\n",
       "        [7, 8, 9],\n",
       "        [8, 4, 3]]])"
      ]
     },
     "execution_count": 133,
     "metadata": {},
     "output_type": "execute_result"
    }
   ],
   "source": [
    "g"
   ]
  },
  {
   "cell_type": "code",
   "execution_count": 134,
   "id": "423eb2fa",
   "metadata": {},
   "outputs": [],
   "source": [
    "g[2] = 1\n",
    "#This changes the overall elements of the respective index to  1. For now the index 2 layers elements will all be 1\n",
    "\n"
   ]
  },
  {
   "cell_type": "code",
   "execution_count": 135,
   "id": "a85e8018",
   "metadata": {},
   "outputs": [
    {
     "data": {
      "text/plain": [
       "array([[[1, 2, 3],\n",
       "        [4, 5, 6],\n",
       "        [7, 8, 9]],\n",
       "\n",
       "       [[4, 5, 6],\n",
       "        [7, 8, 9],\n",
       "        [0, 0, 0]],\n",
       "\n",
       "       [[1, 1, 1],\n",
       "        [1, 1, 1],\n",
       "        [1, 1, 1]]])"
      ]
     },
     "execution_count": 135,
     "metadata": {},
     "output_type": "execute_result"
    }
   ],
   "source": [
    "g"
   ]
  },
  {
   "cell_type": "code",
   "execution_count": 136,
   "id": "869289cf",
   "metadata": {},
   "outputs": [
    {
     "data": {
      "text/plain": [
       "np.int64(93)"
      ]
     },
     "execution_count": 136,
     "metadata": {},
     "output_type": "execute_result"
    }
   ],
   "source": [
    "#Summary statistics we can do with numpy\n",
    "#This works for every tensors\n",
    "g.sum()"
   ]
  },
  {
   "cell_type": "code",
   "execution_count": 137,
   "id": "94c6b973",
   "metadata": {},
   "outputs": [
    {
     "data": {
      "text/plain": [
       "np.float64(3.4444444444444446)"
      ]
     },
     "execution_count": 137,
     "metadata": {},
     "output_type": "execute_result"
    }
   ],
   "source": [
    "g.mean()"
   ]
  },
  {
   "cell_type": "code",
   "execution_count": 138,
   "id": "1be8d6ec",
   "metadata": {},
   "outputs": [
    {
     "data": {
      "text/plain": [
       "np.float64(3.010270485365348)"
      ]
     },
     "execution_count": 138,
     "metadata": {},
     "output_type": "execute_result"
    }
   ],
   "source": [
    "g.std()"
   ]
  },
  {
   "cell_type": "code",
   "execution_count": 139,
   "id": "e4c350f8",
   "metadata": {},
   "outputs": [
    {
     "data": {
      "text/plain": [
       "np.float64(9.06172839506173)"
      ]
     },
     "execution_count": 139,
     "metadata": {},
     "output_type": "execute_result"
    }
   ],
   "source": [
    "g.var()"
   ]
  },
  {
   "cell_type": "code",
   "execution_count": 140,
   "id": "32c758e7",
   "metadata": {},
   "outputs": [
    {
     "data": {
      "text/plain": [
       "array([[ 6,  8, 10],\n",
       "       [12, 14, 16],\n",
       "       [ 8,  9, 10]])"
      ]
     },
     "execution_count": 140,
     "metadata": {},
     "output_type": "execute_result"
    }
   ],
   "source": [
    "g.sum(axis=0)"
   ]
  },
  {
   "cell_type": "code",
   "execution_count": 141,
   "id": "60bf43ae",
   "metadata": {},
   "outputs": [
    {
     "data": {
      "text/plain": [
       "array([[12, 15, 18],\n",
       "       [11, 13, 15],\n",
       "       [ 3,  3,  3]])"
      ]
     },
     "execution_count": 141,
     "metadata": {},
     "output_type": "execute_result"
    }
   ],
   "source": [
    "g.sum(axis=1)"
   ]
  },
  {
   "cell_type": "code",
   "execution_count": 142,
   "id": "7ffda31c",
   "metadata": {},
   "outputs": [
    {
     "data": {
      "text/plain": [
       "array([[ 6, 15, 24],\n",
       "       [15, 24,  0],\n",
       "       [ 3,  3,  3]])"
      ]
     },
     "execution_count": 142,
     "metadata": {},
     "output_type": "execute_result"
    }
   ],
   "source": [
    "g.sum(axis=2)"
   ]
  },
  {
   "cell_type": "code",
   "execution_count": 143,
   "id": "abd37320",
   "metadata": {},
   "outputs": [
    {
     "data": {
      "text/plain": [
       "np.int64(9)"
      ]
     },
     "execution_count": 143,
     "metadata": {},
     "output_type": "execute_result"
    }
   ],
   "source": [
    "g.max()"
   ]
  },
  {
   "cell_type": "code",
   "execution_count": 144,
   "id": "5d5fb39f",
   "metadata": {},
   "outputs": [
    {
     "data": {
      "text/plain": [
       "np.int64(9)"
      ]
     },
     "execution_count": 144,
     "metadata": {},
     "output_type": "execute_result"
    }
   ],
   "source": [
    "g[1].max()"
   ]
  },
  {
   "cell_type": "code",
   "execution_count": 145,
   "id": "f4890cf2",
   "metadata": {},
   "outputs": [
    {
     "data": {
      "text/plain": [
       "np.int64(0)"
      ]
     },
     "execution_count": 145,
     "metadata": {},
     "output_type": "execute_result"
    }
   ],
   "source": [
    "g.min()"
   ]
  },
  {
   "cell_type": "markdown",
   "id": "f431f5d3",
   "metadata": {},
   "source": [
    "Broadcasting and Vectorized Operations\n",
    "\n",
    "Vectorization\n",
    "\n",
    "Vectorization is the process of replacing explicit loops with array operations for faster and clear execution. \n",
    "Numpy uses C code behind the scenes to perform operations on a large numbers of data at once compared to python which relies on loop. \n",
    "Numpys backend is written in C.\n",
    "\n",
    "Broadcasting \n",
    "Broadcasting refers to the process of performing math operation on array of different shape where the smaller arrays are automatically matched in shape to perform different operation. For example if you have one big array with 5 elements of 2 and one small array with only one element that is 2. If you want to add these arrays. Numpy considers the single element array to be a array with 5 elements like that of the bigger array so that operations become faster. It will automatically stretch the smaller array to match the bigger ones."
   ]
  },
  {
   "cell_type": "code",
   "execution_count": 146,
   "id": "3244a6e7",
   "metadata": {},
   "outputs": [
    {
     "data": {
      "text/plain": [
       "array([0, 1, 2, 3])"
      ]
     },
     "execution_count": 146,
     "metadata": {},
     "output_type": "execute_result"
    }
   ],
   "source": [
    "A = np.arange(4)\n",
    "A"
   ]
  },
  {
   "cell_type": "markdown",
   "id": "fa84e5c5",
   "metadata": {},
   "source": [
    "arange is a function that takes four params that is start,stop,step and dtypes. So when a single params is passed its considered as a stop and the number starts from 0. If you want to reshape to a different dimension then first you create a !D array and later reshape it to the respective shape giving the rows and column parameters to the reshape function."
   ]
  },
  {
   "cell_type": "code",
   "execution_count": null,
   "id": "39656fc9",
   "metadata": {},
   "outputs": [
    {
     "data": {
      "text/plain": [
       "array([[115, 116],\n",
       "       [117, 118]])"
      ]
     },
     "execution_count": 191,
     "metadata": {},
     "output_type": "execute_result"
    }
   ],
   "source": [
    "reshaped = A.reshape(2,2)\n",
    "reshaped\n",
    "#The values of A were updated when i run the code below since i added this info later the value has changed but the logic of reshaping remains the same."
   ]
  },
  {
   "cell_type": "code",
   "execution_count": 147,
   "id": "85cb9d8d",
   "metadata": {},
   "outputs": [
    {
     "data": {
      "text/plain": [
       "array([10, 11, 12, 13])"
      ]
     },
     "execution_count": 147,
     "metadata": {},
     "output_type": "execute_result"
    }
   ],
   "source": [
    "A + 10\n",
    "#Example of Vectorized addition using broadcasting  \n",
    "#Same 10 is added to all the elements of the A without the use of loop. Shape are matched to the bigger one."
   ]
  },
  {
   "cell_type": "code",
   "execution_count": null,
   "id": "beb81c22",
   "metadata": {},
   "outputs": [
    {
     "data": {
      "text/plain": [
       "array([ 0, 10, 20, 30])"
      ]
     },
     "execution_count": 148,
     "metadata": {},
     "output_type": "execute_result"
    }
   ],
   "source": [
    "A * 10\n",
    "#This wont update the A at all because we are not assigning the value at all"
   ]
  },
  {
   "cell_type": "code",
   "execution_count": null,
   "id": "3b569945",
   "metadata": {},
   "outputs": [],
   "source": [
    "A += 10\n",
    "# This is what updates the A and its element because its the short form of A = A + 10 which reassigns the A\n",
    "#The cool part of numpy is that it does not create a new array instead it gets changed in the previous location where it was saved and help preserve memory"
   ]
  },
  {
   "cell_type": "code",
   "execution_count": 150,
   "id": "46f66eb3",
   "metadata": {},
   "outputs": [],
   "source": [
    "A += 100"
   ]
  },
  {
   "cell_type": "code",
   "execution_count": 151,
   "id": "1665650e",
   "metadata": {},
   "outputs": [
    {
     "data": {
      "text/plain": [
       "array([110, 111, 112, 113])"
      ]
     },
     "execution_count": 151,
     "metadata": {},
     "output_type": "execute_result"
    }
   ],
   "source": [
    "A"
   ]
  },
  {
   "cell_type": "code",
   "execution_count": null,
   "id": "446e2c40",
   "metadata": {},
   "outputs": [],
   "source": [
    "A += 5"
   ]
  },
  {
   "cell_type": "code",
   "execution_count": 153,
   "id": "7f1c640e",
   "metadata": {},
   "outputs": [
    {
     "data": {
      "text/plain": [
       "array([115, 116, 117, 118])"
      ]
     },
     "execution_count": 153,
     "metadata": {},
     "output_type": "execute_result"
    }
   ],
   "source": [
    "A"
   ]
  },
  {
   "cell_type": "markdown",
   "id": "0822ef8c",
   "metadata": {},
   "source": [
    "In-place operations like +=, *=, etc. are very common in NumPy when you’re working with big data or want to avoid unnecessary memory usage.\n"
   ]
  },
  {
   "cell_type": "code",
   "execution_count": 154,
   "id": "dc2d8484",
   "metadata": {},
   "outputs": [
    {
     "name": "stdout",
     "output_type": "stream",
     "text": [
      "[10, 20, 30, 40]\n"
     ]
    }
   ],
   "source": [
    "l = [1, 2, 3, 4]\n",
    "result = []\n",
    "for i in l:\n",
    "    result.append(i * 10)\n",
    "print(result)\n",
    "\n",
    "#Each value that passes through the for loop is added to the empty list."
   ]
  },
  {
   "cell_type": "code",
   "execution_count": 155,
   "id": "b0b7352d",
   "metadata": {},
   "outputs": [
    {
     "data": {
      "text/plain": [
       "[10, 20, 30, 40]"
      ]
     },
     "execution_count": 155,
     "metadata": {},
     "output_type": "execute_result"
    }
   ],
   "source": [
    "result"
   ]
  },
  {
   "cell_type": "code",
   "execution_count": 156,
   "id": "dd9d2a07",
   "metadata": {},
   "outputs": [
    {
     "data": {
      "text/plain": [
       "[1, 2, 3, 4]"
      ]
     },
     "execution_count": 156,
     "metadata": {},
     "output_type": "execute_result"
    }
   ],
   "source": [
    "l"
   ]
  },
  {
   "cell_type": "code",
   "execution_count": null,
   "id": "0dcea592",
   "metadata": {},
   "outputs": [
    {
     "ename": "TypeError",
     "evalue": "'int' object is not iterable",
     "output_type": "error",
     "traceback": [
      "\u001b[0;31m---------------------------------------------------------------------------\u001b[0m",
      "\u001b[0;31mTypeError\u001b[0m                                 Traceback (most recent call last)",
      "Cell \u001b[0;32mIn[157], line 1\u001b[0m\n\u001b[0;32m----> 1\u001b[0m l \u001b[38;5;241m+\u001b[39m\u001b[38;5;241m=\u001b[39m \u001b[38;5;241m10\u001b[39m\n",
      "\u001b[0;31mTypeError\u001b[0m: 'int' object is not iterable"
     ]
    }
   ],
   "source": [
    "l += 10\n",
    "#l += something means: “add each element from something into l”. Python wants it to be a list or a tuple so that it can add the corresponding elements one by one by iterating on it one by one but 10 is not iterable."
   ]
  },
  {
   "cell_type": "code",
   "execution_count": 158,
   "id": "9471b9d2",
   "metadata": {},
   "outputs": [
    {
     "name": "stdout",
     "output_type": "stream",
     "text": [
      "[11, 12, 13, 14]\n"
     ]
    }
   ],
   "source": [
    "l = [i + 10 for i in l]\n",
    "print(l)"
   ]
  },
  {
   "cell_type": "code",
   "execution_count": null,
   "id": "cbed329f",
   "metadata": {},
   "outputs": [
    {
     "ename": "TypeError",
     "evalue": "can only concatenate list (not \"int\") to list",
     "output_type": "error",
     "traceback": [
      "\u001b[0;31m---------------------------------------------------------------------------\u001b[0m",
      "\u001b[0;31mTypeError\u001b[0m                                 Traceback (most recent call last)",
      "Cell \u001b[0;32mIn[160], line 1\u001b[0m\n\u001b[0;32m----> 1\u001b[0m \u001b[43ml\u001b[49m\u001b[43m \u001b[49m\u001b[38;5;241;43m+\u001b[39;49m\u001b[43m \u001b[49m\u001b[38;5;241;43m10\u001b[39;49m\n",
      "\u001b[0;31mTypeError\u001b[0m: can only concatenate list (not \"int\") to list"
     ]
    }
   ],
   "source": [
    "l + 10\n",
    "#Only list can be added to a list. Since 10 is just a number it cannot be concatenated"
   ]
  },
  {
   "cell_type": "code",
   "execution_count": null,
   "id": "b83f78cc",
   "metadata": {},
   "outputs": [
    {
     "data": {
      "text/plain": [
       "[1, 2, 3, 4, 5, 6]"
      ]
     },
     "execution_count": 161,
     "metadata": {},
     "output_type": "execute_result"
    }
   ],
   "source": [
    "l1 = [1,2,3,4]\n",
    "l2 = [5,6]\n",
    "l1+l2\n",
    "#example of a concatenation between two lists "
   ]
  },
  {
   "cell_type": "markdown",
   "id": "03641c36",
   "metadata": {},
   "source": [
    "When we added 10 to a NumPy array, it added 10 to each element using vectorized addition enabled by broadcasting. But for the above list its not possible because although it looks like a numpy array it is a list of a python."
   ]
  },
  {
   "cell_type": "code",
   "execution_count": 164,
   "id": "5e388d4c",
   "metadata": {},
   "outputs": [],
   "source": [
    "B = np.array([10,10,10,10])"
   ]
  },
  {
   "cell_type": "code",
   "execution_count": 165,
   "id": "4911fa52",
   "metadata": {},
   "outputs": [
    {
     "data": {
      "text/plain": [
       "array([125, 126, 127, 128])"
      ]
     },
     "execution_count": 165,
     "metadata": {},
     "output_type": "execute_result"
    }
   ],
   "source": [
    "A + B"
   ]
  },
  {
   "cell_type": "code",
   "execution_count": 166,
   "id": "c408cf47",
   "metadata": {},
   "outputs": [
    {
     "data": {
      "text/plain": [
       "array([1150, 1160, 1170, 1180])"
      ]
     },
     "execution_count": 166,
     "metadata": {},
     "output_type": "execute_result"
    }
   ],
   "source": [
    "A * B"
   ]
  },
  {
   "cell_type": "code",
   "execution_count": 178,
   "id": "ebc880f0",
   "metadata": {},
   "outputs": [],
   "source": [
    "a = np.arange(5)"
   ]
  },
  {
   "cell_type": "code",
   "execution_count": 179,
   "id": "31488c8f",
   "metadata": {},
   "outputs": [
    {
     "data": {
      "text/plain": [
       "array([5, 6, 7, 8, 9])"
      ]
     },
     "execution_count": 179,
     "metadata": {},
     "output_type": "execute_result"
    }
   ],
   "source": [
    "a+5"
   ]
  },
  {
   "cell_type": "markdown",
   "id": "9bd9df02",
   "metadata": {},
   "source": [
    "Boolean Arrays (Very very important)"
   ]
  },
  {
   "cell_type": "code",
   "execution_count": 182,
   "id": "99ce2d4c",
   "metadata": {},
   "outputs": [],
   "source": [
    "C = np.arange(5)"
   ]
  },
  {
   "cell_type": "code",
   "execution_count": 184,
   "id": "cd58d1a9",
   "metadata": {},
   "outputs": [
    {
     "data": {
      "text/plain": [
       "array([0, 1, 2, 3, 4])"
      ]
     },
     "execution_count": 184,
     "metadata": {},
     "output_type": "execute_result"
    }
   ],
   "source": [
    "C"
   ]
  },
  {
   "cell_type": "code",
   "execution_count": null,
   "id": "535a2449",
   "metadata": {},
   "outputs": [
    {
     "data": {
      "text/plain": [
       "array([0, 4])"
      ]
     },
     "execution_count": 188,
     "metadata": {},
     "output_type": "execute_result"
    }
   ],
   "source": [
    "C[[0,-1]]\n",
    "#Accesing the specific index elements(multi index way)"
   ]
  },
  {
   "cell_type": "code",
   "execution_count": null,
   "id": "2ad01bd7",
   "metadata": {},
   "outputs": [
    {
     "data": {
      "text/plain": [
       "(np.int64(0), np.int64(4))"
      ]
     },
     "execution_count": 192,
     "metadata": {},
     "output_type": "execute_result"
    }
   ],
   "source": [
    "C[0],C[-1]\n",
    "#Second way to access specific index elements (regular python way)"
   ]
  },
  {
   "cell_type": "code",
   "execution_count": null,
   "id": "963efced",
   "metadata": {},
   "outputs": [
    {
     "data": {
      "text/plain": [
       "array([0, 4])"
      ]
     },
     "execution_count": 194,
     "metadata": {},
     "output_type": "execute_result"
    }
   ],
   "source": [
    "#This is a new way than the above using boolean param (boolean way)\n",
    "C[[True,False,False,False,True]]"
   ]
  },
  {
   "cell_type": "markdown",
   "id": "73dfac9b",
   "metadata": {},
   "source": [
    "All of the above accesses the specific index elements but in their own ways."
   ]
  },
  {
   "cell_type": "code",
   "execution_count": null,
   "id": "0366cbcc",
   "metadata": {},
   "outputs": [
    {
     "data": {
      "text/plain": [
       "array([2])"
      ]
     },
     "execution_count": 190,
     "metadata": {},
     "output_type": "execute_result"
    }
   ],
   "source": [
    "D = np.arange(2,3)\n",
    "#Here 2 and 3 are not the rows and columns but are the start and the stop where stop is exclusive\n",
    "D"
   ]
  },
  {
   "cell_type": "code",
   "execution_count": null,
   "id": "804a3e43",
   "metadata": {},
   "outputs": [
    {
     "data": {
      "text/plain": [
       "array([ True,  True,  True, False, False])"
      ]
     },
     "execution_count": 195,
     "metadata": {},
     "output_type": "execute_result"
    }
   ],
   "source": [
    "C <= 2\n",
    "#Broadcating boolean operators \n",
    "#[0, 1, 2, 3, 4] <= [2, 2, 2, 2, 2]  this is what happens during the broadcasting\n"
   ]
  },
  {
   "cell_type": "code",
   "execution_count": null,
   "id": "7e6843e7",
   "metadata": {},
   "outputs": [
    {
     "data": {
      "text/plain": [
       "array([0, 1, 2])"
      ]
     },
     "execution_count": 196,
     "metadata": {},
     "output_type": "execute_result"
    }
   ],
   "source": [
    "#Combining these operations now we get\n",
    "C[C<=2]\n",
    "#Read this as: From array C, give me only the elements that are less than or equal to 2.\n",
    "#The advantage we get out of this is filtering numerous datas."
   ]
  },
  {
   "cell_type": "code",
   "execution_count": 197,
   "id": "7a7349cc",
   "metadata": {},
   "outputs": [
    {
     "data": {
      "text/plain": [
       "np.float64(2.0)"
      ]
     },
     "execution_count": 197,
     "metadata": {},
     "output_type": "execute_result"
    }
   ],
   "source": [
    "C.mean()\n",
    "#This gives us the mean of all the data."
   ]
  },
  {
   "cell_type": "code",
   "execution_count": 198,
   "id": "d46c0e41",
   "metadata": {},
   "outputs": [
    {
     "data": {
      "text/plain": [
       "array([0, 1, 2])"
      ]
     },
     "execution_count": 198,
     "metadata": {},
     "output_type": "execute_result"
    }
   ],
   "source": [
    "#Now with this boolean arrays filtration we can extract different datas that matches our condition\n",
    "C[C <= C.mean()]"
   ]
  },
  {
   "cell_type": "code",
   "execution_count": null,
   "id": "39d03ab4",
   "metadata": {},
   "outputs": [
    {
     "data": {
      "text/plain": [
       "array([3, 4])"
      ]
     },
     "execution_count": 199,
     "metadata": {},
     "output_type": "execute_result"
    }
   ],
   "source": [
    "C[~(C <= C.mean())]\n",
    "# \"~\" this acts as a not operator"
   ]
  },
  {
   "cell_type": "code",
   "execution_count": null,
   "id": "4e515fc3",
   "metadata": {},
   "outputs": [
    {
     "data": {
      "text/plain": [
       "array([0, 1])"
      ]
     },
     "execution_count": 200,
     "metadata": {},
     "output_type": "execute_result"
    }
   ],
   "source": [
    "C[(C == 0) | (C == 1)]\n",
    "# \"|\" this acts as an OR operator which gives elements that satisfies one of the condition"
   ]
  },
  {
   "cell_type": "code",
   "execution_count": null,
   "id": "6a4c0e6e",
   "metadata": {},
   "outputs": [
    {
     "data": {
      "text/plain": [
       "array([0])"
      ]
     },
     "execution_count": 202,
     "metadata": {},
     "output_type": "execute_result"
    }
   ],
   "source": [
    "C[(C == 0) & (C < 1)]\n",
    "# \"&\" this AND Operator which gives the elements that satisfies both the condition"
   ]
  },
  {
   "cell_type": "code",
   "execution_count": 203,
   "id": "c15b1e60",
   "metadata": {},
   "outputs": [
    {
     "data": {
      "text/plain": [
       "array([0, 2])"
      ]
     },
     "execution_count": 203,
     "metadata": {},
     "output_type": "execute_result"
    }
   ],
   "source": [
    "#Another use of the AND Operator\n",
    "C[(C <= 2) & (C % 2 == 0)]"
   ]
  },
  {
   "cell_type": "code",
   "execution_count": 207,
   "id": "22fce716",
   "metadata": {},
   "outputs": [
    {
     "data": {
      "text/plain": [
       "array([[98, 49, 26],\n",
       "       [ 7, 77, 89],\n",
       "       [33, 27, 14]])"
      ]
     },
     "execution_count": 207,
     "metadata": {},
     "output_type": "execute_result"
    }
   ],
   "source": [
    "A = np.random.randint(100, size = (3,3))\n",
    "A"
   ]
  },
  {
   "cell_type": "markdown",
   "id": "ff858470",
   "metadata": {},
   "source": [
    "Numpys randint function \n",
    "np.random.randint(low, high=None, size=None, dtype=int)\n",
    "These are the parametes that randint function accepts. \n",
    "\n",
    "If only one number is passed to np.random.randint(), it’s treated as the high value, and low defaults to 0. If size is not provided, it returns a single random integer instead of an array. Although randint implies the output is integers, the dtype lets you control the exact integer type (like int32, int64, etc.) for memory or precision needs — the int in randint just means “generate integers”, not a fixed type.\n",
    "\n",
    "As a data scientist, you often need to test things before using real-world data. Random data helps you practice, test models, or fill in gaps when data is missing or unbalanced. For example, if you have 1,000 happy customers and only 50 unhappy ones, you can create more “fake” unhappy ones using random patterns to help your model learn better. It’s like using a realistic dummy for training before handling the real thing — it makes your models more reliable and fair.\n",
    "\n",
    "Its very important because it lets you quickly generate realistic test data, simulate different scenarios, or balance datasets — all without needing real data at first.\n"
   ]
  },
  {
   "cell_type": "code",
   "execution_count": 208,
   "id": "3ae116aa",
   "metadata": {},
   "outputs": [
    {
     "ename": "IndexError",
     "evalue": "too many indices for array: array is 2-dimensional, but 3 were indexed",
     "output_type": "error",
     "traceback": [
      "\u001b[0;31m---------------------------------------------------------------------------\u001b[0m",
      "\u001b[0;31mIndexError\u001b[0m                                Traceback (most recent call last)",
      "Cell \u001b[0;32mIn[208], line 1\u001b[0m\n\u001b[0;32m----> 1\u001b[0m \u001b[43mA\u001b[49m\u001b[43m[\u001b[49m\u001b[43m[\u001b[49m\u001b[38;5;28;43;01mTrue\u001b[39;49;00m\u001b[43m,\u001b[49m\u001b[43m \u001b[49m\u001b[38;5;28;43;01mFalse\u001b[39;49;00m\u001b[43m \u001b[49m\u001b[43m,\u001b[49m\u001b[43m \u001b[49m\u001b[38;5;28;43;01mTrue\u001b[39;49;00m\u001b[43m]\u001b[49m\u001b[43m,\u001b[49m\n\u001b[1;32m      2\u001b[0m \u001b[43m  \u001b[49m\u001b[43m[\u001b[49m\u001b[38;5;28;43;01mTrue\u001b[39;49;00m\u001b[43m,\u001b[49m\u001b[43m \u001b[49m\u001b[38;5;28;43;01mFalse\u001b[39;49;00m\u001b[43m \u001b[49m\u001b[43m,\u001b[49m\u001b[43m \u001b[49m\u001b[38;5;28;43;01mTrue\u001b[39;49;00m\u001b[43m]\u001b[49m\u001b[43m,\u001b[49m\n\u001b[1;32m      3\u001b[0m \u001b[43m  \u001b[49m\u001b[43m[\u001b[49m\u001b[38;5;28;43;01mTrue\u001b[39;49;00m\u001b[43m,\u001b[49m\u001b[43m \u001b[49m\u001b[38;5;28;43;01mFalse\u001b[39;49;00m\u001b[43m \u001b[49m\u001b[43m,\u001b[49m\u001b[43m \u001b[49m\u001b[38;5;28;43;01mTrue\u001b[39;49;00m\u001b[43m]\u001b[49m\u001b[43m]\u001b[49m\n",
      "\u001b[0;31mIndexError\u001b[0m: too many indices for array: array is 2-dimensional, but 3 were indexed"
     ]
    }
   ],
   "source": [
    "A[[True, False , True],\n",
    "  [True, False , True],\n",
    "  [True, False , True]]"
   ]
  },
  {
   "cell_type": "markdown",
   "id": "f8a8c4d1",
   "metadata": {},
   "source": [
    "In the above code the problem is that we are multiindexing the values so that is why since it is a 2D array we are indexing a 3D array for now. So it return Index error"
   ]
  },
  {
   "cell_type": "code",
   "execution_count": null,
   "id": "c8f09e76",
   "metadata": {},
   "outputs": [
    {
     "name": "stdout",
     "output_type": "stream",
     "text": [
      "[[98 26]\n",
      " [33 14]]\n"
     ]
    }
   ],
   "source": [
    "row_mask = [True , False, True]\n",
    "column_mask = [True, False, True]\n",
    "\n",
    "selected = A[np.ix_(row_mask,column_mask)]\n",
    "print(selected)\n"
   ]
  },
  {
   "cell_type": "markdown",
   "id": "92dcaa33",
   "metadata": {},
   "source": [
    "np.ix_() is used to combine row and column masks or indices properly so that NumPy knows you want to select a grid of values — not individual elements using multi-indexing.\n",
    "\n",
    "Without np.ix_, Python might interpret the row and column lists as trying to fetch specific coordinates, like A[0, 2], which can cause confusion or errors in 2D arrays.\n",
    "\n",
    "So, np.ix_ helps NumPy generate the correct 2D indexing structure, ensuring it selects rows and columns as expected, not as separate element positions.\n"
   ]
  },
  {
   "cell_type": "code",
   "execution_count": 212,
   "id": "4d34e35a",
   "metadata": {},
   "outputs": [
    {
     "data": {
      "text/plain": [
       "array([[98, 49, 26],\n",
       "       [ 7, 77, 89],\n",
       "       [33, 27, 14]])"
      ]
     },
     "execution_count": 212,
     "metadata": {},
     "output_type": "execute_result"
    }
   ],
   "source": [
    "A\n"
   ]
  },
  {
   "cell_type": "code",
   "execution_count": 213,
   "id": "5484dff1",
   "metadata": {},
   "outputs": [
    {
     "data": {
      "text/plain": [
       "array([98, 49, 77, 89, 33])"
      ]
     },
     "execution_count": 213,
     "metadata": {},
     "output_type": "execute_result"
    }
   ],
   "source": [
    "#Filtering specific data\n",
    "A[np.array([\n",
    "    [True, True, False],\n",
    "    [False, True, True],\n",
    "    [True, False, False],\n",
    "    \n",
    "])]"
   ]
  },
  {
   "cell_type": "code",
   "execution_count": 215,
   "id": "12f797ab",
   "metadata": {},
   "outputs": [
    {
     "data": {
      "text/plain": [
       "array([[ True,  True, False],\n",
       "       [False,  True,  True],\n",
       "       [ True, False, False]])"
      ]
     },
     "execution_count": 215,
     "metadata": {},
     "output_type": "execute_result"
    }
   ],
   "source": [
    "A > 27"
   ]
  },
  {
   "cell_type": "code",
   "execution_count": 217,
   "id": "04be1c97",
   "metadata": {},
   "outputs": [
    {
     "data": {
      "text/plain": [
       "array([98, 49, 77, 89, 33])"
      ]
     },
     "execution_count": 217,
     "metadata": {},
     "output_type": "execute_result"
    }
   ],
   "source": [
    "#Perfect approach and the best alternative for the above data filtration as above process is time consuming and not practical\n",
    "A[A>27]"
   ]
  },
  {
   "cell_type": "markdown",
   "id": "9e1803cd",
   "metadata": {},
   "source": [
    "Linear Algebra"
   ]
  },
  {
   "cell_type": "code",
   "execution_count": 218,
   "id": "661c0160",
   "metadata": {},
   "outputs": [],
   "source": [
    "J = np.array(\n",
    "    [[1,2,3],\n",
    "     [4,5,6],\n",
    "     [7,8,9]]\n",
    ")"
   ]
  },
  {
   "cell_type": "code",
   "execution_count": 224,
   "id": "34f84653",
   "metadata": {},
   "outputs": [],
   "source": [
    "K = np.array([[\n",
    "    [3,2,1],\n",
    "    [6,5,4],\n",
    "    [9,8,7]\n",
    "]])"
   ]
  },
  {
   "cell_type": "code",
   "execution_count": 225,
   "id": "f7969714",
   "metadata": {},
   "outputs": [
    {
     "data": {
      "text/plain": [
       "array([[[ 42,  36,  30]],\n",
       "\n",
       "       [[ 96,  81,  66]],\n",
       "\n",
       "       [[150, 126, 102]]])"
      ]
     },
     "execution_count": 225,
     "metadata": {},
     "output_type": "execute_result"
    }
   ],
   "source": [
    "J.dot(K)\n",
    "#This is a dot product"
   ]
  },
  {
   "cell_type": "code",
   "execution_count": 227,
   "id": "3e37b216",
   "metadata": {},
   "outputs": [
    {
     "data": {
      "text/plain": [
       "array([[[ 42,  36,  30],\n",
       "        [ 96,  81,  66],\n",
       "        [150, 126, 102]]])"
      ]
     },
     "execution_count": 227,
     "metadata": {},
     "output_type": "execute_result"
    }
   ],
   "source": [
    "J @ K\n",
    "#This is a matrix multiplication "
   ]
  },
  {
   "cell_type": "code",
   "execution_count": 231,
   "id": "f00ed92e",
   "metadata": {},
   "outputs": [
    {
     "data": {
      "text/plain": [
       "array([[[3],\n",
       "        [6],\n",
       "        [9]],\n",
       "\n",
       "       [[2],\n",
       "        [5],\n",
       "        [8]],\n",
       "\n",
       "       [[1],\n",
       "        [4],\n",
       "        [7]]])"
      ]
     },
     "execution_count": 231,
     "metadata": {},
     "output_type": "execute_result"
    }
   ],
   "source": [
    "K.T\n",
    "#This is a transpose of the matrix B"
   ]
  },
  {
   "cell_type": "code",
   "execution_count": 228,
   "id": "e16211b6",
   "metadata": {},
   "outputs": [
    {
     "data": {
      "text/plain": [
       "array([[1, 2, 3],\n",
       "       [4, 5, 6],\n",
       "       [7, 8, 9]])"
      ]
     },
     "execution_count": 228,
     "metadata": {},
     "output_type": "execute_result"
    }
   ],
   "source": [
    "J"
   ]
  },
  {
   "cell_type": "code",
   "execution_count": 234,
   "id": "1951c7f3",
   "metadata": {},
   "outputs": [],
   "source": [
    "L = np.array([\n",
    "    [1,2],\n",
    "    [3,4],\n",
    "    [5,6]\n",
    "    ])"
   ]
  },
  {
   "cell_type": "code",
   "execution_count": 235,
   "id": "9b8e5d60",
   "metadata": {},
   "outputs": [
    {
     "data": {
      "text/plain": [
       "array([[48, 57, 66],\n",
       "       [60, 72, 84]])"
      ]
     },
     "execution_count": 235,
     "metadata": {},
     "output_type": "execute_result"
    }
   ],
   "source": [
    "L.T @ J"
   ]
  },
  {
   "cell_type": "code",
   "execution_count": 236,
   "id": "b58e49e1",
   "metadata": {},
   "outputs": [
    {
     "ename": "ValueError",
     "evalue": "matmul: Input operand 1 has a mismatch in its core dimension 0, with gufunc signature (n?,k),(k,m?)->(n?,m?) (size 3 is different from 1)",
     "output_type": "error",
     "traceback": [
      "\u001b[0;31m---------------------------------------------------------------------------\u001b[0m",
      "\u001b[0;31mValueError\u001b[0m                                Traceback (most recent call last)",
      "Cell \u001b[0;32mIn[236], line 1\u001b[0m\n\u001b[0;32m----> 1\u001b[0m \u001b[43mK\u001b[49m\u001b[38;5;241;43m.\u001b[39;49m\u001b[43mT\u001b[49m\u001b[43m \u001b[49m\u001b[38;5;241;43m@\u001b[39;49m\u001b[43m \u001b[49m\u001b[43mJ\u001b[49m\n",
      "\u001b[0;31mValueError\u001b[0m: matmul: Input operand 1 has a mismatch in its core dimension 0, with gufunc signature (n?,k),(k,m?)->(n?,m?) (size 3 is different from 1)"
     ]
    }
   ],
   "source": [
    "K.T @ J"
   ]
  },
  {
   "cell_type": "markdown",
   "id": "14ac5f26",
   "metadata": {},
   "source": [
    "The above error result because for the matrix multiplication to happen the column of the first matrix must be same as the row of the matrix to be multiplied"
   ]
  },
  {
   "cell_type": "markdown",
   "id": "ed06e530",
   "metadata": {},
   "source": [
    "Size of Objects in Memory "
   ]
  },
  {
   "cell_type": "code",
   "execution_count": 238,
   "id": "2132e3fe",
   "metadata": {},
   "outputs": [
    {
     "data": {
      "text/plain": [
       "28"
      ]
     },
     "execution_count": 238,
     "metadata": {},
     "output_type": "execute_result"
    }
   ],
   "source": [
    "# An integer in python is said to be greater than 24 bytes\n",
    "import sys\n",
    "sys.getsizeof(5)"
   ]
  },
  {
   "cell_type": "markdown",
   "id": "12a2234e",
   "metadata": {},
   "source": [
    "sys is a built-in Python module that provides access to some variables and functions related to the Python interpreter and its environment.\n",
    "\n",
    "Think of it as a way to interact with the system Python is running on — like getting info about memory, the Python version, command-line arguments, and more."
   ]
  },
  {
   "cell_type": "code",
   "execution_count": 240,
   "id": "d07e6da2",
   "metadata": {},
   "outputs": [
    {
     "data": {
      "text/plain": [
       "72"
      ]
     },
     "execution_count": 240,
     "metadata": {},
     "output_type": "execute_result"
    }
   ],
   "source": [
    "sys.getsizeof(10**100)\n",
    "#Long are even larger "
   ]
  },
  {
   "cell_type": "code",
   "execution_count": null,
   "id": "4dda74b6",
   "metadata": {},
   "outputs": [
    {
     "data": {
      "text/plain": [
       "8"
      ]
     },
     "execution_count": 241,
     "metadata": {},
     "output_type": "execute_result"
    }
   ],
   "source": [
    "#numpy sizes are smaller compared to the above in python\n",
    "np.dtype(int).itemsize\n",
    "#That mean 8 bytes each or 64-bit"
   ]
  },
  {
   "cell_type": "code",
   "execution_count": 242,
   "id": "fa8f3857",
   "metadata": {},
   "outputs": [
    {
     "data": {
      "text/plain": [
       "8"
      ]
     },
     "execution_count": 242,
     "metadata": {},
     "output_type": "execute_result"
    }
   ],
   "source": [
    "np.dtype(float).itemsize"
   ]
  },
  {
   "cell_type": "markdown",
   "id": "dd4d3e49",
   "metadata": {},
   "source": [
    "Lists size"
   ]
  },
  {
   "cell_type": "code",
   "execution_count": 243,
   "id": "7a17212f",
   "metadata": {},
   "outputs": [
    {
     "data": {
      "text/plain": [
       "64"
      ]
     },
     "execution_count": 243,
     "metadata": {},
     "output_type": "execute_result"
    }
   ],
   "source": [
    "sys.getsizeof([1])\n",
    "#List size in python"
   ]
  },
  {
   "cell_type": "code",
   "execution_count": null,
   "id": "1ca82174",
   "metadata": {},
   "outputs": [
    {
     "data": {
      "text/plain": [
       "8"
      ]
     },
     "execution_count": 244,
     "metadata": {},
     "output_type": "execute_result"
    }
   ],
   "source": [
    "np.array([1]).nbytes\n",
    "#In numpy its comparatively very small in size"
   ]
  },
  {
   "cell_type": "markdown",
   "id": "37bd6457",
   "metadata": {},
   "source": [
    "Performance Comparisions"
   ]
  },
  {
   "cell_type": "code",
   "execution_count": 259,
   "id": "8a379cd3",
   "metadata": {},
   "outputs": [
    {
     "data": {
      "text/plain": [
       "[0,\n",
       " 1,\n",
       " 2,\n",
       " 3,\n",
       " 4,\n",
       " 5,\n",
       " 6,\n",
       " 7,\n",
       " 8,\n",
       " 9,\n",
       " 10,\n",
       " 11,\n",
       " 12,\n",
       " 13,\n",
       " 14,\n",
       " 15,\n",
       " 16,\n",
       " 17,\n",
       " 18,\n",
       " 19,\n",
       " 20,\n",
       " 21,\n",
       " 22,\n",
       " 23,\n",
       " 24,\n",
       " 25,\n",
       " 26,\n",
       " 27,\n",
       " 28,\n",
       " 29,\n",
       " 30,\n",
       " 31,\n",
       " 32,\n",
       " 33,\n",
       " 34,\n",
       " 35,\n",
       " 36,\n",
       " 37,\n",
       " 38,\n",
       " 39,\n",
       " 40,\n",
       " 41,\n",
       " 42,\n",
       " 43,\n",
       " 44,\n",
       " 45,\n",
       " 46,\n",
       " 47,\n",
       " 48,\n",
       " 49,\n",
       " 50,\n",
       " 51,\n",
       " 52,\n",
       " 53,\n",
       " 54,\n",
       " 55,\n",
       " 56,\n",
       " 57,\n",
       " 58,\n",
       " 59,\n",
       " 60,\n",
       " 61,\n",
       " 62,\n",
       " 63,\n",
       " 64,\n",
       " 65,\n",
       " 66,\n",
       " 67,\n",
       " 68,\n",
       " 69,\n",
       " 70,\n",
       " 71,\n",
       " 72,\n",
       " 73,\n",
       " 74,\n",
       " 75,\n",
       " 76,\n",
       " 77,\n",
       " 78,\n",
       " 79,\n",
       " 80,\n",
       " 81,\n",
       " 82,\n",
       " 83,\n",
       " 84,\n",
       " 85,\n",
       " 86,\n",
       " 87,\n",
       " 88,\n",
       " 89,\n",
       " 90,\n",
       " 91,\n",
       " 92,\n",
       " 93,\n",
       " 94,\n",
       " 95,\n",
       " 96,\n",
       " 97,\n",
       " 98,\n",
       " 99,\n",
       " 100,\n",
       " 101,\n",
       " 102,\n",
       " 103,\n",
       " 104,\n",
       " 105,\n",
       " 106,\n",
       " 107,\n",
       " 108,\n",
       " 109,\n",
       " 110,\n",
       " 111,\n",
       " 112,\n",
       " 113,\n",
       " 114,\n",
       " 115,\n",
       " 116,\n",
       " 117,\n",
       " 118,\n",
       " 119,\n",
       " 120,\n",
       " 121,\n",
       " 122,\n",
       " 123,\n",
       " 124,\n",
       " 125,\n",
       " 126,\n",
       " 127,\n",
       " 128,\n",
       " 129,\n",
       " 130,\n",
       " 131,\n",
       " 132,\n",
       " 133,\n",
       " 134,\n",
       " 135,\n",
       " 136,\n",
       " 137,\n",
       " 138,\n",
       " 139,\n",
       " 140,\n",
       " 141,\n",
       " 142,\n",
       " 143,\n",
       " 144,\n",
       " 145,\n",
       " 146,\n",
       " 147,\n",
       " 148,\n",
       " 149,\n",
       " 150,\n",
       " 151,\n",
       " 152,\n",
       " 153,\n",
       " 154,\n",
       " 155,\n",
       " 156,\n",
       " 157,\n",
       " 158,\n",
       " 159,\n",
       " 160,\n",
       " 161,\n",
       " 162,\n",
       " 163,\n",
       " 164,\n",
       " 165,\n",
       " 166,\n",
       " 167,\n",
       " 168,\n",
       " 169,\n",
       " 170,\n",
       " 171,\n",
       " 172,\n",
       " 173,\n",
       " 174,\n",
       " 175,\n",
       " 176,\n",
       " 177,\n",
       " 178,\n",
       " 179,\n",
       " 180,\n",
       " 181,\n",
       " 182,\n",
       " 183,\n",
       " 184,\n",
       " 185,\n",
       " 186,\n",
       " 187,\n",
       " 188,\n",
       " 189,\n",
       " 190,\n",
       " 191,\n",
       " 192,\n",
       " 193,\n",
       " 194,\n",
       " 195,\n",
       " 196,\n",
       " 197,\n",
       " 198,\n",
       " 199,\n",
       " 200,\n",
       " 201,\n",
       " 202,\n",
       " 203,\n",
       " 204,\n",
       " 205,\n",
       " 206,\n",
       " 207,\n",
       " 208,\n",
       " 209,\n",
       " 210,\n",
       " 211,\n",
       " 212,\n",
       " 213,\n",
       " 214,\n",
       " 215,\n",
       " 216,\n",
       " 217,\n",
       " 218,\n",
       " 219,\n",
       " 220,\n",
       " 221,\n",
       " 222,\n",
       " 223,\n",
       " 224,\n",
       " 225,\n",
       " 226,\n",
       " 227,\n",
       " 228,\n",
       " 229,\n",
       " 230,\n",
       " 231,\n",
       " 232,\n",
       " 233,\n",
       " 234,\n",
       " 235,\n",
       " 236,\n",
       " 237,\n",
       " 238,\n",
       " 239,\n",
       " 240,\n",
       " 241,\n",
       " 242,\n",
       " 243,\n",
       " 244,\n",
       " 245,\n",
       " 246,\n",
       " 247,\n",
       " 248,\n",
       " 249,\n",
       " 250,\n",
       " 251,\n",
       " 252,\n",
       " 253,\n",
       " 254,\n",
       " 255,\n",
       " 256,\n",
       " 257,\n",
       " 258,\n",
       " 259,\n",
       " 260,\n",
       " 261,\n",
       " 262,\n",
       " 263,\n",
       " 264,\n",
       " 265,\n",
       " 266,\n",
       " 267,\n",
       " 268,\n",
       " 269,\n",
       " 270,\n",
       " 271,\n",
       " 272,\n",
       " 273,\n",
       " 274,\n",
       " 275,\n",
       " 276,\n",
       " 277,\n",
       " 278,\n",
       " 279,\n",
       " 280,\n",
       " 281,\n",
       " 282,\n",
       " 283,\n",
       " 284,\n",
       " 285,\n",
       " 286,\n",
       " 287,\n",
       " 288,\n",
       " 289,\n",
       " 290,\n",
       " 291,\n",
       " 292,\n",
       " 293,\n",
       " 294,\n",
       " 295,\n",
       " 296,\n",
       " 297,\n",
       " 298,\n",
       " 299,\n",
       " 300,\n",
       " 301,\n",
       " 302,\n",
       " 303,\n",
       " 304,\n",
       " 305,\n",
       " 306,\n",
       " 307,\n",
       " 308,\n",
       " 309,\n",
       " 310,\n",
       " 311,\n",
       " 312,\n",
       " 313,\n",
       " 314,\n",
       " 315,\n",
       " 316,\n",
       " 317,\n",
       " 318,\n",
       " 319,\n",
       " 320,\n",
       " 321,\n",
       " 322,\n",
       " 323,\n",
       " 324,\n",
       " 325,\n",
       " 326,\n",
       " 327,\n",
       " 328,\n",
       " 329,\n",
       " 330,\n",
       " 331,\n",
       " 332,\n",
       " 333,\n",
       " 334,\n",
       " 335,\n",
       " 336,\n",
       " 337,\n",
       " 338,\n",
       " 339,\n",
       " 340,\n",
       " 341,\n",
       " 342,\n",
       " 343,\n",
       " 344,\n",
       " 345,\n",
       " 346,\n",
       " 347,\n",
       " 348,\n",
       " 349,\n",
       " 350,\n",
       " 351,\n",
       " 352,\n",
       " 353,\n",
       " 354,\n",
       " 355,\n",
       " 356,\n",
       " 357,\n",
       " 358,\n",
       " 359,\n",
       " 360,\n",
       " 361,\n",
       " 362,\n",
       " 363,\n",
       " 364,\n",
       " 365,\n",
       " 366,\n",
       " 367,\n",
       " 368,\n",
       " 369,\n",
       " 370,\n",
       " 371,\n",
       " 372,\n",
       " 373,\n",
       " 374,\n",
       " 375,\n",
       " 376,\n",
       " 377,\n",
       " 378,\n",
       " 379,\n",
       " 380,\n",
       " 381,\n",
       " 382,\n",
       " 383,\n",
       " 384,\n",
       " 385,\n",
       " 386,\n",
       " 387,\n",
       " 388,\n",
       " 389,\n",
       " 390,\n",
       " 391,\n",
       " 392,\n",
       " 393,\n",
       " 394,\n",
       " 395,\n",
       " 396,\n",
       " 397,\n",
       " 398,\n",
       " 399,\n",
       " 400,\n",
       " 401,\n",
       " 402,\n",
       " 403,\n",
       " 404,\n",
       " 405,\n",
       " 406,\n",
       " 407,\n",
       " 408,\n",
       " 409,\n",
       " 410,\n",
       " 411,\n",
       " 412,\n",
       " 413,\n",
       " 414,\n",
       " 415,\n",
       " 416,\n",
       " 417,\n",
       " 418,\n",
       " 419,\n",
       " 420,\n",
       " 421,\n",
       " 422,\n",
       " 423,\n",
       " 424,\n",
       " 425,\n",
       " 426,\n",
       " 427,\n",
       " 428,\n",
       " 429,\n",
       " 430,\n",
       " 431,\n",
       " 432,\n",
       " 433,\n",
       " 434,\n",
       " 435,\n",
       " 436,\n",
       " 437,\n",
       " 438,\n",
       " 439,\n",
       " 440,\n",
       " 441,\n",
       " 442,\n",
       " 443,\n",
       " 444,\n",
       " 445,\n",
       " 446,\n",
       " 447,\n",
       " 448,\n",
       " 449,\n",
       " 450,\n",
       " 451,\n",
       " 452,\n",
       " 453,\n",
       " 454,\n",
       " 455,\n",
       " 456,\n",
       " 457,\n",
       " 458,\n",
       " 459,\n",
       " 460,\n",
       " 461,\n",
       " 462,\n",
       " 463,\n",
       " 464,\n",
       " 465,\n",
       " 466,\n",
       " 467,\n",
       " 468,\n",
       " 469,\n",
       " 470,\n",
       " 471,\n",
       " 472,\n",
       " 473,\n",
       " 474,\n",
       " 475,\n",
       " 476,\n",
       " 477,\n",
       " 478,\n",
       " 479,\n",
       " 480,\n",
       " 481,\n",
       " 482,\n",
       " 483,\n",
       " 484,\n",
       " 485,\n",
       " 486,\n",
       " 487,\n",
       " 488,\n",
       " 489,\n",
       " 490,\n",
       " 491,\n",
       " 492,\n",
       " 493,\n",
       " 494,\n",
       " 495,\n",
       " 496,\n",
       " 497,\n",
       " 498,\n",
       " 499,\n",
       " 500,\n",
       " 501,\n",
       " 502,\n",
       " 503,\n",
       " 504,\n",
       " 505,\n",
       " 506,\n",
       " 507,\n",
       " 508,\n",
       " 509,\n",
       " 510,\n",
       " 511,\n",
       " 512,\n",
       " 513,\n",
       " 514,\n",
       " 515,\n",
       " 516,\n",
       " 517,\n",
       " 518,\n",
       " 519,\n",
       " 520,\n",
       " 521,\n",
       " 522,\n",
       " 523,\n",
       " 524,\n",
       " 525,\n",
       " 526,\n",
       " 527,\n",
       " 528,\n",
       " 529,\n",
       " 530,\n",
       " 531,\n",
       " 532,\n",
       " 533,\n",
       " 534,\n",
       " 535,\n",
       " 536,\n",
       " 537,\n",
       " 538,\n",
       " 539,\n",
       " 540,\n",
       " 541,\n",
       " 542,\n",
       " 543,\n",
       " 544,\n",
       " 545,\n",
       " 546,\n",
       " 547,\n",
       " 548,\n",
       " 549,\n",
       " 550,\n",
       " 551,\n",
       " 552,\n",
       " 553,\n",
       " 554,\n",
       " 555,\n",
       " 556,\n",
       " 557,\n",
       " 558,\n",
       " 559,\n",
       " 560,\n",
       " 561,\n",
       " 562,\n",
       " 563,\n",
       " 564,\n",
       " 565,\n",
       " 566,\n",
       " 567,\n",
       " 568,\n",
       " 569,\n",
       " 570,\n",
       " 571,\n",
       " 572,\n",
       " 573,\n",
       " 574,\n",
       " 575,\n",
       " 576,\n",
       " 577,\n",
       " 578,\n",
       " 579,\n",
       " 580,\n",
       " 581,\n",
       " 582,\n",
       " 583,\n",
       " 584,\n",
       " 585,\n",
       " 586,\n",
       " 587,\n",
       " 588,\n",
       " 589,\n",
       " 590,\n",
       " 591,\n",
       " 592,\n",
       " 593,\n",
       " 594,\n",
       " 595,\n",
       " 596,\n",
       " 597,\n",
       " 598,\n",
       " 599,\n",
       " 600,\n",
       " 601,\n",
       " 602,\n",
       " 603,\n",
       " 604,\n",
       " 605,\n",
       " 606,\n",
       " 607,\n",
       " 608,\n",
       " 609,\n",
       " 610,\n",
       " 611,\n",
       " 612,\n",
       " 613,\n",
       " 614,\n",
       " 615,\n",
       " 616,\n",
       " 617,\n",
       " 618,\n",
       " 619,\n",
       " 620,\n",
       " 621,\n",
       " 622,\n",
       " 623,\n",
       " 624,\n",
       " 625,\n",
       " 626,\n",
       " 627,\n",
       " 628,\n",
       " 629,\n",
       " 630,\n",
       " 631,\n",
       " 632,\n",
       " 633,\n",
       " 634,\n",
       " 635,\n",
       " 636,\n",
       " 637,\n",
       " 638,\n",
       " 639,\n",
       " 640,\n",
       " 641,\n",
       " 642,\n",
       " 643,\n",
       " 644,\n",
       " 645,\n",
       " 646,\n",
       " 647,\n",
       " 648,\n",
       " 649,\n",
       " 650,\n",
       " 651,\n",
       " 652,\n",
       " 653,\n",
       " 654,\n",
       " 655,\n",
       " 656,\n",
       " 657,\n",
       " 658,\n",
       " 659,\n",
       " 660,\n",
       " 661,\n",
       " 662,\n",
       " 663,\n",
       " 664,\n",
       " 665,\n",
       " 666,\n",
       " 667,\n",
       " 668,\n",
       " 669,\n",
       " 670,\n",
       " 671,\n",
       " 672,\n",
       " 673,\n",
       " 674,\n",
       " 675,\n",
       " 676,\n",
       " 677,\n",
       " 678,\n",
       " 679,\n",
       " 680,\n",
       " 681,\n",
       " 682,\n",
       " 683,\n",
       " 684,\n",
       " 685,\n",
       " 686,\n",
       " 687,\n",
       " 688,\n",
       " 689,\n",
       " 690,\n",
       " 691,\n",
       " 692,\n",
       " 693,\n",
       " 694,\n",
       " 695,\n",
       " 696,\n",
       " 697,\n",
       " 698,\n",
       " 699,\n",
       " 700,\n",
       " 701,\n",
       " 702,\n",
       " 703,\n",
       " 704,\n",
       " 705,\n",
       " 706,\n",
       " 707,\n",
       " 708,\n",
       " 709,\n",
       " 710,\n",
       " 711,\n",
       " 712,\n",
       " 713,\n",
       " 714,\n",
       " 715,\n",
       " 716,\n",
       " 717,\n",
       " 718,\n",
       " 719,\n",
       " 720,\n",
       " 721,\n",
       " 722,\n",
       " 723,\n",
       " 724,\n",
       " 725,\n",
       " 726,\n",
       " 727,\n",
       " 728,\n",
       " 729,\n",
       " 730,\n",
       " 731,\n",
       " 732,\n",
       " 733,\n",
       " 734,\n",
       " 735,\n",
       " 736,\n",
       " 737,\n",
       " 738,\n",
       " 739,\n",
       " 740,\n",
       " 741,\n",
       " 742,\n",
       " 743,\n",
       " 744,\n",
       " 745,\n",
       " 746,\n",
       " 747,\n",
       " 748,\n",
       " 749,\n",
       " 750,\n",
       " 751,\n",
       " 752,\n",
       " 753,\n",
       " 754,\n",
       " 755,\n",
       " 756,\n",
       " 757,\n",
       " 758,\n",
       " 759,\n",
       " 760,\n",
       " 761,\n",
       " 762,\n",
       " 763,\n",
       " 764,\n",
       " 765,\n",
       " 766,\n",
       " 767,\n",
       " 768,\n",
       " 769,\n",
       " 770,\n",
       " 771,\n",
       " 772,\n",
       " 773,\n",
       " 774,\n",
       " 775,\n",
       " 776,\n",
       " 777,\n",
       " 778,\n",
       " 779,\n",
       " 780,\n",
       " 781,\n",
       " 782,\n",
       " 783,\n",
       " 784,\n",
       " 785,\n",
       " 786,\n",
       " 787,\n",
       " 788,\n",
       " 789,\n",
       " 790,\n",
       " 791,\n",
       " 792,\n",
       " 793,\n",
       " 794,\n",
       " 795,\n",
       " 796,\n",
       " 797,\n",
       " 798,\n",
       " 799,\n",
       " 800,\n",
       " 801,\n",
       " 802,\n",
       " 803,\n",
       " 804,\n",
       " 805,\n",
       " 806,\n",
       " 807,\n",
       " 808,\n",
       " 809,\n",
       " 810,\n",
       " 811,\n",
       " 812,\n",
       " 813,\n",
       " 814,\n",
       " 815,\n",
       " 816,\n",
       " 817,\n",
       " 818,\n",
       " 819,\n",
       " 820,\n",
       " 821,\n",
       " 822,\n",
       " 823,\n",
       " 824,\n",
       " 825,\n",
       " 826,\n",
       " 827,\n",
       " 828,\n",
       " 829,\n",
       " 830,\n",
       " 831,\n",
       " 832,\n",
       " 833,\n",
       " 834,\n",
       " 835,\n",
       " 836,\n",
       " 837,\n",
       " 838,\n",
       " 839,\n",
       " 840,\n",
       " 841,\n",
       " 842,\n",
       " 843,\n",
       " 844,\n",
       " 845,\n",
       " 846,\n",
       " 847,\n",
       " 848,\n",
       " 849,\n",
       " 850,\n",
       " 851,\n",
       " 852,\n",
       " 853,\n",
       " 854,\n",
       " 855,\n",
       " 856,\n",
       " 857,\n",
       " 858,\n",
       " 859,\n",
       " 860,\n",
       " 861,\n",
       " 862,\n",
       " 863,\n",
       " 864,\n",
       " 865,\n",
       " 866,\n",
       " 867,\n",
       " 868,\n",
       " 869,\n",
       " 870,\n",
       " 871,\n",
       " 872,\n",
       " 873,\n",
       " 874,\n",
       " 875,\n",
       " 876,\n",
       " 877,\n",
       " 878,\n",
       " 879,\n",
       " 880,\n",
       " 881,\n",
       " 882,\n",
       " 883,\n",
       " 884,\n",
       " 885,\n",
       " 886,\n",
       " 887,\n",
       " 888,\n",
       " 889,\n",
       " 890,\n",
       " 891,\n",
       " 892,\n",
       " 893,\n",
       " 894,\n",
       " 895,\n",
       " 896,\n",
       " 897,\n",
       " 898,\n",
       " 899,\n",
       " 900,\n",
       " 901,\n",
       " 902,\n",
       " 903,\n",
       " 904,\n",
       " 905,\n",
       " 906,\n",
       " 907,\n",
       " 908,\n",
       " 909,\n",
       " 910,\n",
       " 911,\n",
       " 912,\n",
       " 913,\n",
       " 914,\n",
       " 915,\n",
       " 916,\n",
       " 917,\n",
       " 918,\n",
       " 919,\n",
       " 920,\n",
       " 921,\n",
       " 922,\n",
       " 923,\n",
       " 924,\n",
       " 925,\n",
       " 926,\n",
       " 927,\n",
       " 928,\n",
       " 929,\n",
       " 930,\n",
       " 931,\n",
       " 932,\n",
       " 933,\n",
       " 934,\n",
       " 935,\n",
       " 936,\n",
       " 937,\n",
       " 938,\n",
       " 939,\n",
       " 940,\n",
       " 941,\n",
       " 942,\n",
       " 943,\n",
       " 944,\n",
       " 945,\n",
       " 946,\n",
       " 947,\n",
       " 948,\n",
       " 949,\n",
       " 950,\n",
       " 951,\n",
       " 952,\n",
       " 953,\n",
       " 954,\n",
       " 955,\n",
       " 956,\n",
       " 957,\n",
       " 958,\n",
       " 959,\n",
       " 960,\n",
       " 961,\n",
       " 962,\n",
       " 963,\n",
       " 964,\n",
       " 965,\n",
       " 966,\n",
       " 967,\n",
       " 968,\n",
       " 969,\n",
       " 970,\n",
       " 971,\n",
       " 972,\n",
       " 973,\n",
       " 974,\n",
       " 975,\n",
       " 976,\n",
       " 977,\n",
       " 978,\n",
       " 979,\n",
       " 980,\n",
       " 981,\n",
       " 982,\n",
       " 983,\n",
       " 984,\n",
       " 985,\n",
       " 986,\n",
       " 987,\n",
       " 988,\n",
       " 989,\n",
       " 990,\n",
       " 991,\n",
       " 992,\n",
       " 993,\n",
       " 994,\n",
       " 995,\n",
       " 996,\n",
       " 997,\n",
       " 998,\n",
       " 999]"
      ]
     },
     "execution_count": 259,
     "metadata": {},
     "output_type": "execute_result"
    }
   ],
   "source": [
    "#l = list(range(1000))\n",
    "#del list\n",
    "l = list(range(1000))\n",
    "l"
   ]
  },
  {
   "cell_type": "code",
   "execution_count": null,
   "id": "03412e7b",
   "metadata": {},
   "outputs": [
    {
     "data": {
      "text/plain": [
       "array([  0,   1,   2,   3,   4,   5,   6,   7,   8,   9,  10,  11,  12,\n",
       "        13,  14,  15,  16,  17,  18,  19,  20,  21,  22,  23,  24,  25,\n",
       "        26,  27,  28,  29,  30,  31,  32,  33,  34,  35,  36,  37,  38,\n",
       "        39,  40,  41,  42,  43,  44,  45,  46,  47,  48,  49,  50,  51,\n",
       "        52,  53,  54,  55,  56,  57,  58,  59,  60,  61,  62,  63,  64,\n",
       "        65,  66,  67,  68,  69,  70,  71,  72,  73,  74,  75,  76,  77,\n",
       "        78,  79,  80,  81,  82,  83,  84,  85,  86,  87,  88,  89,  90,\n",
       "        91,  92,  93,  94,  95,  96,  97,  98,  99, 100, 101, 102, 103,\n",
       "       104, 105, 106, 107, 108, 109, 110, 111, 112, 113, 114, 115, 116,\n",
       "       117, 118, 119, 120, 121, 122, 123, 124, 125, 126, 127, 128, 129,\n",
       "       130, 131, 132, 133, 134, 135, 136, 137, 138, 139, 140, 141, 142,\n",
       "       143, 144, 145, 146, 147, 148, 149, 150, 151, 152, 153, 154, 155,\n",
       "       156, 157, 158, 159, 160, 161, 162, 163, 164, 165, 166, 167, 168,\n",
       "       169, 170, 171, 172, 173, 174, 175, 176, 177, 178, 179, 180, 181,\n",
       "       182, 183, 184, 185, 186, 187, 188, 189, 190, 191, 192, 193, 194,\n",
       "       195, 196, 197, 198, 199, 200, 201, 202, 203, 204, 205, 206, 207,\n",
       "       208, 209, 210, 211, 212, 213, 214, 215, 216, 217, 218, 219, 220,\n",
       "       221, 222, 223, 224, 225, 226, 227, 228, 229, 230, 231, 232, 233,\n",
       "       234, 235, 236, 237, 238, 239, 240, 241, 242, 243, 244, 245, 246,\n",
       "       247, 248, 249, 250, 251, 252, 253, 254, 255, 256, 257, 258, 259,\n",
       "       260, 261, 262, 263, 264, 265, 266, 267, 268, 269, 270, 271, 272,\n",
       "       273, 274, 275, 276, 277, 278, 279, 280, 281, 282, 283, 284, 285,\n",
       "       286, 287, 288, 289, 290, 291, 292, 293, 294, 295, 296, 297, 298,\n",
       "       299, 300, 301, 302, 303, 304, 305, 306, 307, 308, 309, 310, 311,\n",
       "       312, 313, 314, 315, 316, 317, 318, 319, 320, 321, 322, 323, 324,\n",
       "       325, 326, 327, 328, 329, 330, 331, 332, 333, 334, 335, 336, 337,\n",
       "       338, 339, 340, 341, 342, 343, 344, 345, 346, 347, 348, 349, 350,\n",
       "       351, 352, 353, 354, 355, 356, 357, 358, 359, 360, 361, 362, 363,\n",
       "       364, 365, 366, 367, 368, 369, 370, 371, 372, 373, 374, 375, 376,\n",
       "       377, 378, 379, 380, 381, 382, 383, 384, 385, 386, 387, 388, 389,\n",
       "       390, 391, 392, 393, 394, 395, 396, 397, 398, 399, 400, 401, 402,\n",
       "       403, 404, 405, 406, 407, 408, 409, 410, 411, 412, 413, 414, 415,\n",
       "       416, 417, 418, 419, 420, 421, 422, 423, 424, 425, 426, 427, 428,\n",
       "       429, 430, 431, 432, 433, 434, 435, 436, 437, 438, 439, 440, 441,\n",
       "       442, 443, 444, 445, 446, 447, 448, 449, 450, 451, 452, 453, 454,\n",
       "       455, 456, 457, 458, 459, 460, 461, 462, 463, 464, 465, 466, 467,\n",
       "       468, 469, 470, 471, 472, 473, 474, 475, 476, 477, 478, 479, 480,\n",
       "       481, 482, 483, 484, 485, 486, 487, 488, 489, 490, 491, 492, 493,\n",
       "       494, 495, 496, 497, 498, 499, 500, 501, 502, 503, 504, 505, 506,\n",
       "       507, 508, 509, 510, 511, 512, 513, 514, 515, 516, 517, 518, 519,\n",
       "       520, 521, 522, 523, 524, 525, 526, 527, 528, 529, 530, 531, 532,\n",
       "       533, 534, 535, 536, 537, 538, 539, 540, 541, 542, 543, 544, 545,\n",
       "       546, 547, 548, 549, 550, 551, 552, 553, 554, 555, 556, 557, 558,\n",
       "       559, 560, 561, 562, 563, 564, 565, 566, 567, 568, 569, 570, 571,\n",
       "       572, 573, 574, 575, 576, 577, 578, 579, 580, 581, 582, 583, 584,\n",
       "       585, 586, 587, 588, 589, 590, 591, 592, 593, 594, 595, 596, 597,\n",
       "       598, 599, 600, 601, 602, 603, 604, 605, 606, 607, 608, 609, 610,\n",
       "       611, 612, 613, 614, 615, 616, 617, 618, 619, 620, 621, 622, 623,\n",
       "       624, 625, 626, 627, 628, 629, 630, 631, 632, 633, 634, 635, 636,\n",
       "       637, 638, 639, 640, 641, 642, 643, 644, 645, 646, 647, 648, 649,\n",
       "       650, 651, 652, 653, 654, 655, 656, 657, 658, 659, 660, 661, 662,\n",
       "       663, 664, 665, 666, 667, 668, 669, 670, 671, 672, 673, 674, 675,\n",
       "       676, 677, 678, 679, 680, 681, 682, 683, 684, 685, 686, 687, 688,\n",
       "       689, 690, 691, 692, 693, 694, 695, 696, 697, 698, 699, 700, 701,\n",
       "       702, 703, 704, 705, 706, 707, 708, 709, 710, 711, 712, 713, 714,\n",
       "       715, 716, 717, 718, 719, 720, 721, 722, 723, 724, 725, 726, 727,\n",
       "       728, 729, 730, 731, 732, 733, 734, 735, 736, 737, 738, 739, 740,\n",
       "       741, 742, 743, 744, 745, 746, 747, 748, 749, 750, 751, 752, 753,\n",
       "       754, 755, 756, 757, 758, 759, 760, 761, 762, 763, 764, 765, 766,\n",
       "       767, 768, 769, 770, 771, 772, 773, 774, 775, 776, 777, 778, 779,\n",
       "       780, 781, 782, 783, 784, 785, 786, 787, 788, 789, 790, 791, 792,\n",
       "       793, 794, 795, 796, 797, 798, 799, 800, 801, 802, 803, 804, 805,\n",
       "       806, 807, 808, 809, 810, 811, 812, 813, 814, 815, 816, 817, 818,\n",
       "       819, 820, 821, 822, 823, 824, 825, 826, 827, 828, 829, 830, 831,\n",
       "       832, 833, 834, 835, 836, 837, 838, 839, 840, 841, 842, 843, 844,\n",
       "       845, 846, 847, 848, 849, 850, 851, 852, 853, 854, 855, 856, 857,\n",
       "       858, 859, 860, 861, 862, 863, 864, 865, 866, 867, 868, 869, 870,\n",
       "       871, 872, 873, 874, 875, 876, 877, 878, 879, 880, 881, 882, 883,\n",
       "       884, 885, 886, 887, 888, 889, 890, 891, 892, 893, 894, 895, 896,\n",
       "       897, 898, 899, 900, 901, 902, 903, 904, 905, 906, 907, 908, 909,\n",
       "       910, 911, 912, 913, 914, 915, 916, 917, 918, 919, 920, 921, 922,\n",
       "       923, 924, 925, 926, 927, 928, 929, 930, 931, 932, 933, 934, 935,\n",
       "       936, 937, 938, 939, 940, 941, 942, 943, 944, 945, 946, 947, 948,\n",
       "       949, 950, 951, 952, 953, 954, 955, 956, 957, 958, 959, 960, 961,\n",
       "       962, 963, 964, 965, 966, 967, 968, 969, 970, 971, 972, 973, 974,\n",
       "       975, 976, 977, 978, 979, 980, 981, 982, 983, 984, 985, 986, 987,\n",
       "       988, 989, 990, 991, 992, 993, 994, 995, 996, 997, 998, 999])"
      ]
     },
     "execution_count": 262,
     "metadata": {},
     "output_type": "execute_result"
    }
   ],
   "source": [
    "numpy_list = np.arange(1000)\n",
    "numpy_list\n",
    "# It uses the same memory for creating the same list again and again so running it twice wont effect the flow compared to list in python"
   ]
  },
  {
   "cell_type": "code",
   "execution_count": 266,
   "id": "edc56ea9",
   "metadata": {},
   "outputs": [
    {
     "name": "stdout",
     "output_type": "stream",
     "text": [
      "CPU times: user 59 μs, sys: 5 μs, total: 64 μs\n",
      "Wall time: 68.2 μs\n"
     ]
    },
    {
     "data": {
      "text/plain": [
       "np.int64(332833500)"
      ]
     },
     "execution_count": 266,
     "metadata": {},
     "output_type": "execute_result"
    }
   ],
   "source": [
    "%time np.sum(numpy_list ** 2)"
   ]
  },
  {
   "cell_type": "code",
   "execution_count": 267,
   "id": "41293edf",
   "metadata": {},
   "outputs": [
    {
     "name": "stdout",
     "output_type": "stream",
     "text": [
      "CPU times: user 256 μs, sys: 28 μs, total: 284 μs\n",
      "Wall time: 334 μs\n"
     ]
    },
    {
     "data": {
      "text/plain": [
       "332833500"
      ]
     },
     "execution_count": 267,
     "metadata": {},
     "output_type": "execute_result"
    }
   ],
   "source": [
    "%time sum(x ** 2 for x in l)"
   ]
  },
  {
   "cell_type": "markdown",
   "id": "5f58cd30",
   "metadata": {},
   "source": [
    "The time taken by numpy is far less than that taken by python"
   ]
  },
  {
   "cell_type": "markdown",
   "id": "f5d4fde3",
   "metadata": {},
   "source": [
    "Useful numpy functions "
   ]
  },
  {
   "cell_type": "markdown",
   "id": "1f0aa380",
   "metadata": {},
   "source": [
    "1. random"
   ]
  },
  {
   "cell_type": "code",
   "execution_count": null,
   "id": "7bd2b868",
   "metadata": {},
   "outputs": [
    {
     "data": {
      "text/plain": [
       "array([0.74115263, 0.65104988])"
      ]
     },
     "execution_count": 268,
     "metadata": {},
     "output_type": "execute_result"
    }
   ],
   "source": [
    "\n",
    "np.random.random(size=2)"
   ]
  },
  {
   "cell_type": "code",
   "execution_count": 269,
   "id": "e9bce389",
   "metadata": {},
   "outputs": [
    {
     "data": {
      "text/plain": [
       "array([-1.33798915,  0.38599906])"
      ]
     },
     "execution_count": 269,
     "metadata": {},
     "output_type": "execute_result"
    }
   ],
   "source": [
    "np.random.normal(size=2)"
   ]
  },
  {
   "cell_type": "code",
   "execution_count": 270,
   "id": "854577aa",
   "metadata": {},
   "outputs": [
    {
     "data": {
      "text/plain": [
       "3"
      ]
     },
     "execution_count": 270,
     "metadata": {},
     "output_type": "execute_result"
    }
   ],
   "source": [
    "np.random.randint(2, 4)"
   ]
  },
  {
   "cell_type": "markdown",
   "id": "061add78",
   "metadata": {},
   "source": [
    "2. arange"
   ]
  },
  {
   "cell_type": "code",
   "execution_count": 272,
   "id": "3d3ce4e8",
   "metadata": {},
   "outputs": [
    {
     "data": {
      "text/plain": [
       "array([0, 1, 2, 3, 4, 5, 6, 7, 8, 9])"
      ]
     },
     "execution_count": 272,
     "metadata": {},
     "output_type": "execute_result"
    }
   ],
   "source": [
    "np.arange(10)"
   ]
  },
  {
   "cell_type": "code",
   "execution_count": 274,
   "id": "be7a9a58",
   "metadata": {},
   "outputs": [
    {
     "data": {
      "text/plain": [
       "array([5, 6, 7, 8, 9])"
      ]
     },
     "execution_count": 274,
     "metadata": {},
     "output_type": "execute_result"
    }
   ],
   "source": [
    "np.arange(5,10)"
   ]
  },
  {
   "cell_type": "code",
   "execution_count": 275,
   "id": "68869005",
   "metadata": {},
   "outputs": [
    {
     "data": {
      "text/plain": [
       "array([ 5,  7,  9, 11, 13, 15, 17, 19])"
      ]
     },
     "execution_count": 275,
     "metadata": {},
     "output_type": "execute_result"
    }
   ],
   "source": [
    "np.arange(5,20,2)"
   ]
  },
  {
   "cell_type": "markdown",
   "id": "a944b06f",
   "metadata": {},
   "source": [
    "3. reshape"
   ]
  },
  {
   "cell_type": "code",
   "execution_count": 276,
   "id": "34895f74",
   "metadata": {},
   "outputs": [
    {
     "data": {
      "text/plain": [
       "array([[0, 1],\n",
       "       [2, 3]])"
      ]
     },
     "execution_count": 276,
     "metadata": {},
     "output_type": "execute_result"
    }
   ],
   "source": [
    "np.arange(4).reshape(2,2)"
   ]
  },
  {
   "cell_type": "code",
   "execution_count": 277,
   "id": "90eb9d44",
   "metadata": {},
   "outputs": [
    {
     "data": {
      "text/plain": [
       "array([[0, 1, 2, 3, 4],\n",
       "       [5, 6, 7, 8, 9]])"
      ]
     },
     "execution_count": 277,
     "metadata": {},
     "output_type": "execute_result"
    }
   ],
   "source": [
    "np.arange(10).reshape(2,5)"
   ]
  },
  {
   "cell_type": "markdown",
   "id": "11441d5d",
   "metadata": {},
   "source": [
    "4. linspace"
   ]
  },
  {
   "cell_type": "markdown",
   "id": "92fbb4e4",
   "metadata": {},
   "source": []
  },
  {
   "cell_type": "markdown",
   "id": "dbb17de2",
   "metadata": {},
   "source": [
    "5. zeros, ones, empty"
   ]
  },
  {
   "cell_type": "markdown",
   "id": "a9b4a915",
   "metadata": {},
   "source": [
    "6. identity and eye"
   ]
  }
 ],
 "metadata": {
  "kernelspec": {
   "display_name": "modelprep",
   "language": "python",
   "name": "python3"
  },
  "language_info": {
   "codemirror_mode": {
    "name": "ipython",
    "version": 3
   },
   "file_extension": ".py",
   "mimetype": "text/x-python",
   "name": "python",
   "nbconvert_exporter": "python",
   "pygments_lexer": "ipython3",
   "version": "3.10.18"
  }
 },
 "nbformat": 4,
 "nbformat_minor": 5
}
