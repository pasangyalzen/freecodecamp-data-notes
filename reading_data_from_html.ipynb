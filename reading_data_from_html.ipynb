{
 "cells": [
  {
   "cell_type": "markdown",
   "id": "9a46b1c3",
   "metadata": {},
   "source": [
    "# Reading HTML tables"
   ]
  },
  {
   "cell_type": "code",
   "execution_count": 5,
   "id": "a61d4b31",
   "metadata": {},
   "outputs": [],
   "source": [
    "import pandas as pd "
   ]
  },
  {
   "cell_type": "markdown",
   "id": "9b0b8f33",
   "metadata": {},
   "source": [
    "Parsing raw HTML strings"
   ]
  },
  {
   "cell_type": "markdown",
   "id": "6623d7ec",
   "metadata": {},
   "source": [
    "Another useful pandas method is read_html(). This method will read HTML tables from a given URL, a file-like object, or a raw string containing HTML, and return a list of dataframes objects. Lets try to read the following html_string into a DataFrame."
   ]
  },
  {
   "cell_type": "code",
   "execution_count": 2,
   "id": "bd9a3997",
   "metadata": {},
   "outputs": [],
   "source": [
    "html_string = \"\"\"\n",
    "<!DOCTYPE html>\n",
    "<html>\n",
    "<head>\n",
    "    <title>Sample HTML Table</title>\n",
    "</head>\n",
    "<body>\n",
    "    <h2>Employee Information</h2>\n",
    "    <table border=\"1\">\n",
    "        <thead>\n",
    "            <tr>\n",
    "                <th>Name</th>\n",
    "                <th>Position</th>\n",
    "                <th>Office</th>\n",
    "                <th>Age</th>\n",
    "                <th>Start date</th>\n",
    "                <th>Salary</th>\n",
    "            </tr>\n",
    "        </thead>\n",
    "        <tbody>\n",
    "            <tr>\n",
    "                <td>Tiger Nixon</td>\n",
    "                <td>System Architect</td>\n",
    "                <td>Edinburgh</td>\n",
    "                <td>61</td>\n",
    "                <td>2011/04/25</td>\n",
    "                <td>$320,800</td>\n",
    "            </tr>\n",
    "            <tr>\n",
    "                <td>Garrett Winters</td>\n",
    "                <td>Accountant</td>\n",
    "                <td>Tokyo</td>\n",
    "                <td>63</td>\n",
    "                <td>2011/07/25</td>\n",
    "                <td>$170,750</td>\n",
    "            </tr>\n",
    "            <tr>\n",
    "                <td>Ashton Cox</td>\n",
    "                <td>Junior Technical Author</td>\n",
    "                <td>San Francisco</td>\n",
    "                <td>66</td>\n",
    "                <td>2009/01/12</td>\n",
    "                <td>$86,000</td>\n",
    "            </tr>\n",
    "            <tr>\n",
    "                <td>Cedric Kelly</td>\n",
    "                <td>Senior Javascript Developer</td>\n",
    "                <td>Edinburgh</td>\n",
    "                <td>22</td>\n",
    "                <td>2012/03/29</td>\n",
    "                <td>$433,060</td>\n",
    "            </tr>\n",
    "            <tr>\n",
    "                <td>Airi Satou</td>\n",
    "                <td>Accountant</td>\n",
    "                <td>Tokyo</td>\n",
    "                <td>33</td>\n",
    "                <td>2008/11/28</td>\n",
    "                <td>$162,700</td>\n",
    "            </tr>\n",
    "        </tbody>\n",
    "    </table>\n",
    "</body>\n",
    "</html>\n",
    "\"\"\""
   ]
  },
  {
   "cell_type": "code",
   "execution_count": 3,
   "id": "d94eaa65",
   "metadata": {},
   "outputs": [
    {
     "name": "stderr",
     "output_type": "stream",
     "text": [
      "/var/folders/69/vt9s16nj1plcwqqsqytyf4l40000gn/T/ipykernel_79995/149234223.py:1: DeprecationWarning: Importing display from IPython.core.display is deprecated since IPython 7.14, please import from IPython.display\n",
      "  from IPython.core.display import display, HTML\n"
     ]
    },
    {
     "data": {
      "text/html": [
       "\n",
       "<!DOCTYPE html>\n",
       "<html>\n",
       "<head>\n",
       "    <title>Sample HTML Table</title>\n",
       "</head>\n",
       "<body>\n",
       "    <h2>Employee Information</h2>\n",
       "    <table border=\"1\">\n",
       "        <thead>\n",
       "            <tr>\n",
       "                <th>Name</th>\n",
       "                <th>Position</th>\n",
       "                <th>Office</th>\n",
       "                <th>Age</th>\n",
       "                <th>Start date</th>\n",
       "                <th>Salary</th>\n",
       "            </tr>\n",
       "        </thead>\n",
       "        <tbody>\n",
       "            <tr>\n",
       "                <td>Tiger Nixon</td>\n",
       "                <td>System Architect</td>\n",
       "                <td>Edinburgh</td>\n",
       "                <td>61</td>\n",
       "                <td>2011/04/25</td>\n",
       "                <td>$320,800</td>\n",
       "            </tr>\n",
       "            <tr>\n",
       "                <td>Garrett Winters</td>\n",
       "                <td>Accountant</td>\n",
       "                <td>Tokyo</td>\n",
       "                <td>63</td>\n",
       "                <td>2011/07/25</td>\n",
       "                <td>$170,750</td>\n",
       "            </tr>\n",
       "            <tr>\n",
       "                <td>Ashton Cox</td>\n",
       "                <td>Junior Technical Author</td>\n",
       "                <td>San Francisco</td>\n",
       "                <td>66</td>\n",
       "                <td>2009/01/12</td>\n",
       "                <td>$86,000</td>\n",
       "            </tr>\n",
       "            <tr>\n",
       "                <td>Cedric Kelly</td>\n",
       "                <td>Senior Javascript Developer</td>\n",
       "                <td>Edinburgh</td>\n",
       "                <td>22</td>\n",
       "                <td>2012/03/29</td>\n",
       "                <td>$433,060</td>\n",
       "            </tr>\n",
       "            <tr>\n",
       "                <td>Airi Satou</td>\n",
       "                <td>Accountant</td>\n",
       "                <td>Tokyo</td>\n",
       "                <td>33</td>\n",
       "                <td>2008/11/28</td>\n",
       "                <td>$162,700</td>\n",
       "            </tr>\n",
       "        </tbody>\n",
       "    </table>\n",
       "</body>\n",
       "</html>\n"
      ],
      "text/plain": [
       "<IPython.core.display.HTML object>"
      ]
     },
     "metadata": {},
     "output_type": "display_data"
    }
   ],
   "source": [
    "from IPython.core.display import display, HTML\n",
    "display(HTML(html_string))"
   ]
  },
  {
   "cell_type": "markdown",
   "id": "f5c7e8c9",
   "metadata": {},
   "source": [
    " What each part does:\n",
    "\n",
    "\t• from IPython.core.display import display, HTML\n",
    "\n",
    "→ Imports the tools needed to display rich content like HTML, LaTeX, images, etc.\n",
    "\t\n",
    "    • HTML(html_string)\n",
    "\n",
    "→ Tells Python: “Hey, interpret this string as HTML.”\n",
    "\t\n",
    "    • display(...)\n",
    "\n",
    "→ Actually shows it inside your notebook (like rendering a webpage)."
   ]
  },
  {
   "cell_type": "code",
   "execution_count": null,
   "id": "2b088f6a",
   "metadata": {},
   "outputs": [],
   "source": [
    "from io import StringIO\n",
    "html_buffer = StringIO(html_string)\n",
    "\n",
    "# Since we cant directly pass html inside the read_html we need to wrap the html string inside the StringIO object so that pandas treat it as a file"
   ]
  },
  {
   "cell_type": "code",
   "execution_count": null,
   "id": "813bb8e5",
   "metadata": {},
   "outputs": [],
   "source": [
    "dfs = pd.read_html(html_buffer)\n",
    "\n",
    "# Finally the read_html returned one dataframe object that is the list of dataframes"
   ]
  },
  {
   "cell_type": "code",
   "execution_count": 12,
   "id": "a27ff9be",
   "metadata": {},
   "outputs": [
    {
     "data": {
      "text/plain": [
       "1"
      ]
     },
     "execution_count": 12,
     "metadata": {},
     "output_type": "execute_result"
    }
   ],
   "source": [
    "len(dfs)"
   ]
  },
  {
   "cell_type": "code",
   "execution_count": 14,
   "id": "5a7ce335",
   "metadata": {},
   "outputs": [
    {
     "data": {
      "text/html": [
       "<div>\n",
       "<style scoped>\n",
       "    .dataframe tbody tr th:only-of-type {\n",
       "        vertical-align: middle;\n",
       "    }\n",
       "\n",
       "    .dataframe tbody tr th {\n",
       "        vertical-align: top;\n",
       "    }\n",
       "\n",
       "    .dataframe thead th {\n",
       "        text-align: right;\n",
       "    }\n",
       "</style>\n",
       "<table border=\"1\" class=\"dataframe\">\n",
       "  <thead>\n",
       "    <tr style=\"text-align: right;\">\n",
       "      <th></th>\n",
       "      <th>Name</th>\n",
       "      <th>Position</th>\n",
       "      <th>Office</th>\n",
       "      <th>Age</th>\n",
       "      <th>Start date</th>\n",
       "      <th>Salary</th>\n",
       "    </tr>\n",
       "  </thead>\n",
       "  <tbody>\n",
       "    <tr>\n",
       "      <th>0</th>\n",
       "      <td>Tiger Nixon</td>\n",
       "      <td>System Architect</td>\n",
       "      <td>Edinburgh</td>\n",
       "      <td>61</td>\n",
       "      <td>2011/04/25</td>\n",
       "      <td>$320,800</td>\n",
       "    </tr>\n",
       "    <tr>\n",
       "      <th>1</th>\n",
       "      <td>Garrett Winters</td>\n",
       "      <td>Accountant</td>\n",
       "      <td>Tokyo</td>\n",
       "      <td>63</td>\n",
       "      <td>2011/07/25</td>\n",
       "      <td>$170,750</td>\n",
       "    </tr>\n",
       "    <tr>\n",
       "      <th>2</th>\n",
       "      <td>Ashton Cox</td>\n",
       "      <td>Junior Technical Author</td>\n",
       "      <td>San Francisco</td>\n",
       "      <td>66</td>\n",
       "      <td>2009/01/12</td>\n",
       "      <td>$86,000</td>\n",
       "    </tr>\n",
       "    <tr>\n",
       "      <th>3</th>\n",
       "      <td>Cedric Kelly</td>\n",
       "      <td>Senior Javascript Developer</td>\n",
       "      <td>Edinburgh</td>\n",
       "      <td>22</td>\n",
       "      <td>2012/03/29</td>\n",
       "      <td>$433,060</td>\n",
       "    </tr>\n",
       "    <tr>\n",
       "      <th>4</th>\n",
       "      <td>Airi Satou</td>\n",
       "      <td>Accountant</td>\n",
       "      <td>Tokyo</td>\n",
       "      <td>33</td>\n",
       "      <td>2008/11/28</td>\n",
       "      <td>$162,700</td>\n",
       "    </tr>\n",
       "  </tbody>\n",
       "</table>\n",
       "</div>"
      ],
      "text/plain": [
       "              Name                     Position         Office  Age  \\\n",
       "0      Tiger Nixon             System Architect      Edinburgh   61   \n",
       "1  Garrett Winters                   Accountant          Tokyo   63   \n",
       "2       Ashton Cox      Junior Technical Author  San Francisco   66   \n",
       "3     Cedric Kelly  Senior Javascript Developer      Edinburgh   22   \n",
       "4       Airi Satou                   Accountant          Tokyo   33   \n",
       "\n",
       "   Start date    Salary  \n",
       "0  2011/04/25  $320,800  \n",
       "1  2011/07/25  $170,750  \n",
       "2  2009/01/12   $86,000  \n",
       "3  2012/03/29  $433,060  \n",
       "4  2008/11/28  $162,700  "
      ]
     },
     "execution_count": 14,
     "metadata": {},
     "output_type": "execute_result"
    }
   ],
   "source": [
    "df= dfs[0]\n",
    "df\n",
    "#Capturing the first dataframe from the list of dataframes"
   ]
  },
  {
   "cell_type": "markdown",
   "id": "c01cae40",
   "metadata": {},
   "source": [
    "Previous dataframe loopked quite like a html table but now we have the real dataframe object, so we can apply any pandas operation we want."
   ]
  },
  {
   "cell_type": "code",
   "execution_count": 15,
   "id": "ef0ca6ed",
   "metadata": {},
   "outputs": [
    {
     "data": {
      "text/plain": [
       "(5, 6)"
      ]
     },
     "execution_count": 15,
     "metadata": {},
     "output_type": "execute_result"
    }
   ],
   "source": [
    "df.shape"
   ]
  },
  {
   "cell_type": "code",
   "execution_count": 17,
   "id": "6bb50e34",
   "metadata": {},
   "outputs": [
    {
     "data": {
      "text/html": [
       "<div>\n",
       "<style scoped>\n",
       "    .dataframe tbody tr th:only-of-type {\n",
       "        vertical-align: middle;\n",
       "    }\n",
       "\n",
       "    .dataframe tbody tr th {\n",
       "        vertical-align: top;\n",
       "    }\n",
       "\n",
       "    .dataframe thead th {\n",
       "        text-align: right;\n",
       "    }\n",
       "</style>\n",
       "<table border=\"1\" class=\"dataframe\">\n",
       "  <thead>\n",
       "    <tr style=\"text-align: right;\">\n",
       "      <th></th>\n",
       "      <th>Name</th>\n",
       "      <th>Position</th>\n",
       "      <th>Office</th>\n",
       "      <th>Age</th>\n",
       "      <th>Start date</th>\n",
       "      <th>Salary</th>\n",
       "    </tr>\n",
       "  </thead>\n",
       "  <tbody>\n",
       "    <tr>\n",
       "      <th>1</th>\n",
       "      <td>Garrett Winters</td>\n",
       "      <td>Accountant</td>\n",
       "      <td>Tokyo</td>\n",
       "      <td>63</td>\n",
       "      <td>2011/07/25</td>\n",
       "      <td>$170,750</td>\n",
       "    </tr>\n",
       "    <tr>\n",
       "      <th>4</th>\n",
       "      <td>Airi Satou</td>\n",
       "      <td>Accountant</td>\n",
       "      <td>Tokyo</td>\n",
       "      <td>33</td>\n",
       "      <td>2008/11/28</td>\n",
       "      <td>$162,700</td>\n",
       "    </tr>\n",
       "  </tbody>\n",
       "</table>\n",
       "</div>"
      ],
      "text/plain": [
       "              Name    Position Office  Age  Start date    Salary\n",
       "1  Garrett Winters  Accountant  Tokyo   63  2011/07/25  $170,750\n",
       "4       Airi Satou  Accountant  Tokyo   33  2008/11/28  $162,700"
      ]
     },
     "execution_count": 17,
     "metadata": {},
     "output_type": "execute_result"
    }
   ],
   "source": [
    "df.loc[df[\"Office\"] == \"Tokyo\" ]"
   ]
  },
  {
   "cell_type": "code",
   "execution_count": 20,
   "id": "b80aab48",
   "metadata": {},
   "outputs": [
    {
     "name": "stdout",
     "output_type": "stream",
     "text": [
      "              Name                     Position     Office  Age  Start date  \\\n",
      "0      Tiger Nixon             System Architect  Edinburgh   61  2011/04/25   \n",
      "1  Garrett Winters                   Accountant      Tokyo   63  2011/07/25   \n",
      "3     Cedric Kelly  Senior Javascript Developer  Edinburgh   22  2012/03/29   \n",
      "4       Airi Satou                   Accountant      Tokyo   33  2008/11/28   \n",
      "\n",
      "     Salary  Salary_cleaned  \n",
      "0  $320,800        320800.0  \n",
      "1  $170,750        170750.0  \n",
      "3  $433,060        433060.0  \n",
      "4  $162,700        162700.0  \n"
     ]
    }
   ],
   "source": [
    "# Step 1: Remove the dollar sign and commas, then convert to float\n",
    "df[\"Salary_cleaned\"] = df[\"Salary\"].replace('[\\$,]', '', regex=True).astype(float)\n",
    "\n",
    "# Step 2: Filter rows with salary > 100000\n",
    "high_salary_df = df.loc[df[\"Salary_cleaned\"] > 100000]\n",
    "\n",
    "# Step 3: View the result\n",
    "print(high_salary_df)"
   ]
  },
  {
   "cell_type": "markdown",
   "id": "884f320d",
   "metadata": {},
   "source": [
    "# Defining header"
   ]
  },
  {
   "cell_type": "markdown",
   "id": "f81d27ae",
   "metadata": {},
   "source": [
    "Pandas will automatically find the header thanks to the tag.\n",
    "\n",
    "But in many cases we will find the wrong or incomplete table that make the read_html method parse the tables in the wrong way without proper headers.\n",
    "\n",
    "That is why we have the header parameter to fix that."
   ]
  },
  {
   "cell_type": "code",
   "execution_count": 21,
   "id": "3fb05813",
   "metadata": {},
   "outputs": [],
   "source": [
    "html_string = \"\"\"\n",
    "<!DOCTYPE html>\n",
    "<html>\n",
    "<head>\n",
    "    <title>Sample HTML Table</title>\n",
    "</head>\n",
    "<body>\n",
    "    <h2>Employee Information</h2>\n",
    "    <table border=\"1\">\n",
    "        <thead>\n",
    "            <tr>\n",
    "                <th>Name</th>\n",
    "                <th>Position</th>\n",
    "                <th>Office</th>\n",
    "                <th>Age</th>\n",
    "                <th>Start date</th>\n",
    "                <th>Salary</th>\n",
    "            </tr>\n",
    "        </thead>\n",
    "        <tbody>\n",
    "            <tr>\n",
    "                <td>Tiger Nixon</td>\n",
    "                <td>System Architect</td>\n",
    "                <td>Edinburgh</td>\n",
    "                <td>61</td>\n",
    "                <td>2011/04/25</td>\n",
    "                <td>$320,800</td>\n",
    "            </tr>\n",
    "            <tr>\n",
    "                <td>Garrett Winters</td>\n",
    "                <td>Accountant</td>\n",
    "                <td>Tokyo</td>\n",
    "                <td>63</td>\n",
    "                <td>2011/07/25</td>\n",
    "                <td>$170,750</td>\n",
    "            </tr>\n",
    "            <tr>\n",
    "                <td>Ashton Cox</td>\n",
    "                <td>Junior Technical Author</td>\n",
    "                <td>San Francisco</td>\n",
    "                <td>66</td>\n",
    "                <td>2009/01/12</td>\n",
    "                <td>$86,000</td>\n",
    "            </tr>\n",
    "            <tr>\n",
    "                <td>Cedric Kelly</td>\n",
    "                <td>Senior Javascript Developer</td>\n",
    "                <td>Edinburgh</td>\n",
    "                <td>22</td>\n",
    "                <td>2012/03/29</td>\n",
    "                <td>$433,060</td>\n",
    "            </tr>\n",
    "            <tr>\n",
    "                <td>Airi Satou</td>\n",
    "                <td>Accountant</td>\n",
    "                <td>Tokyo</td>\n",
    "                <td>33</td>\n",
    "                <td>2008/11/28</td>\n",
    "                <td>$162,700</td>\n",
    "            </tr>\n",
    "        </tbody>\n",
    "    </table>\n",
    "</body>\n",
    "</html>\n",
    "\"\"\""
   ]
  },
  {
   "cell_type": "code",
   "execution_count": null,
   "id": "ef1dd87e",
   "metadata": {},
   "outputs": [],
   "source": [
    "from io import StringIO\n",
    "html_buffer = StringIO(html_string)\n"
   ]
  },
  {
   "cell_type": "code",
   "execution_count": 24,
   "id": "f5f421c1",
   "metadata": {},
   "outputs": [
    {
     "data": {
      "text/html": [
       "<div>\n",
       "<style scoped>\n",
       "    .dataframe tbody tr th:only-of-type {\n",
       "        vertical-align: middle;\n",
       "    }\n",
       "\n",
       "    .dataframe tbody tr th {\n",
       "        vertical-align: top;\n",
       "    }\n",
       "\n",
       "    .dataframe thead th {\n",
       "        text-align: right;\n",
       "    }\n",
       "</style>\n",
       "<table border=\"1\" class=\"dataframe\">\n",
       "  <thead>\n",
       "    <tr style=\"text-align: right;\">\n",
       "      <th></th>\n",
       "      <th>Name</th>\n",
       "      <th>Position</th>\n",
       "      <th>Office</th>\n",
       "      <th>Age</th>\n",
       "      <th>Start date</th>\n",
       "      <th>Salary</th>\n",
       "    </tr>\n",
       "  </thead>\n",
       "  <tbody>\n",
       "    <tr>\n",
       "      <th>0</th>\n",
       "      <td>Tiger Nixon</td>\n",
       "      <td>System Architect</td>\n",
       "      <td>Edinburgh</td>\n",
       "      <td>61</td>\n",
       "      <td>2011/04/25</td>\n",
       "      <td>$320,800</td>\n",
       "    </tr>\n",
       "    <tr>\n",
       "      <th>1</th>\n",
       "      <td>Garrett Winters</td>\n",
       "      <td>Accountant</td>\n",
       "      <td>Tokyo</td>\n",
       "      <td>63</td>\n",
       "      <td>2011/07/25</td>\n",
       "      <td>$170,750</td>\n",
       "    </tr>\n",
       "    <tr>\n",
       "      <th>2</th>\n",
       "      <td>Ashton Cox</td>\n",
       "      <td>Junior Technical Author</td>\n",
       "      <td>San Francisco</td>\n",
       "      <td>66</td>\n",
       "      <td>2009/01/12</td>\n",
       "      <td>$86,000</td>\n",
       "    </tr>\n",
       "    <tr>\n",
       "      <th>3</th>\n",
       "      <td>Cedric Kelly</td>\n",
       "      <td>Senior Javascript Developer</td>\n",
       "      <td>Edinburgh</td>\n",
       "      <td>22</td>\n",
       "      <td>2012/03/29</td>\n",
       "      <td>$433,060</td>\n",
       "    </tr>\n",
       "    <tr>\n",
       "      <th>4</th>\n",
       "      <td>Airi Satou</td>\n",
       "      <td>Accountant</td>\n",
       "      <td>Tokyo</td>\n",
       "      <td>33</td>\n",
       "      <td>2008/11/28</td>\n",
       "      <td>$162,700</td>\n",
       "    </tr>\n",
       "  </tbody>\n",
       "</table>\n",
       "</div>"
      ],
      "text/plain": [
       "              Name                     Position         Office  Age  \\\n",
       "0      Tiger Nixon             System Architect      Edinburgh   61   \n",
       "1  Garrett Winters                   Accountant          Tokyo   63   \n",
       "2       Ashton Cox      Junior Technical Author  San Francisco   66   \n",
       "3     Cedric Kelly  Senior Javascript Developer      Edinburgh   22   \n",
       "4       Airi Satou                   Accountant          Tokyo   33   \n",
       "\n",
       "   Start date    Salary  \n",
       "0  2011/04/25  $320,800  \n",
       "1  2011/07/25  $170,750  \n",
       "2  2009/01/12   $86,000  \n",
       "3  2012/03/29  $433,060  \n",
       "4  2008/11/28  $162,700  "
      ]
     },
     "execution_count": 24,
     "metadata": {},
     "output_type": "execute_result"
    }
   ],
   "source": [
    "pd.read_html(html_buffer)[0]\n",
    "\n",
    "# pd.read_html(...) always returns a list of DataFrames, even if the HTML contains only one table.\n",
    "# \tSo, [0] is used to access the first table (i.e., the first DataFrame in that list)."
   ]
  },
  {
   "cell_type": "markdown",
   "id": "818f7ff5",
   "metadata": {},
   "source": []
  },
  {
   "cell_type": "code",
   "execution_count": 26,
   "id": "9151ce0f",
   "metadata": {},
   "outputs": [
    {
     "data": {
      "text/html": [
       "<div>\n",
       "<style scoped>\n",
       "    .dataframe tbody tr th:only-of-type {\n",
       "        vertical-align: middle;\n",
       "    }\n",
       "\n",
       "    .dataframe tbody tr th {\n",
       "        vertical-align: top;\n",
       "    }\n",
       "\n",
       "    .dataframe thead th {\n",
       "        text-align: right;\n",
       "    }\n",
       "</style>\n",
       "<table border=\"1\" class=\"dataframe\">\n",
       "  <thead>\n",
       "    <tr style=\"text-align: right;\">\n",
       "      <th></th>\n",
       "      <th>Ashton Cox</th>\n",
       "      <th>Junior Technical Author</th>\n",
       "      <th>San Francisco</th>\n",
       "      <th>66</th>\n",
       "      <th>2009/01/12</th>\n",
       "      <th>$86,000</th>\n",
       "    </tr>\n",
       "  </thead>\n",
       "  <tbody>\n",
       "    <tr>\n",
       "      <th>0</th>\n",
       "      <td>Cedric Kelly</td>\n",
       "      <td>Senior Javascript Developer</td>\n",
       "      <td>Edinburgh</td>\n",
       "      <td>22</td>\n",
       "      <td>2012/03/29</td>\n",
       "      <td>$433,060</td>\n",
       "    </tr>\n",
       "    <tr>\n",
       "      <th>1</th>\n",
       "      <td>Airi Satou</td>\n",
       "      <td>Accountant</td>\n",
       "      <td>Tokyo</td>\n",
       "      <td>33</td>\n",
       "      <td>2008/11/28</td>\n",
       "      <td>$162,700</td>\n",
       "    </tr>\n",
       "  </tbody>\n",
       "</table>\n",
       "</div>"
      ],
      "text/plain": [
       "     Ashton Cox      Junior Technical Author San Francisco  66  2009/01/12  \\\n",
       "0  Cedric Kelly  Senior Javascript Developer     Edinburgh  22  2012/03/29   \n",
       "1    Airi Satou                   Accountant         Tokyo  33  2008/11/28   \n",
       "\n",
       "    $86,000  \n",
       "0  $433,060  \n",
       "1  $162,700  "
      ]
     },
     "execution_count": 26,
     "metadata": {},
     "output_type": "execute_result"
    }
   ],
   "source": [
    "pd.read_html(html_buffer, header= 3)[0]\n",
    "# Here the 3rd index row is being used as the header"
   ]
  },
  {
   "cell_type": "code",
   "execution_count": null,
   "id": "8e587313",
   "metadata": {},
   "outputs": [],
   "source": []
  }
 ],
 "metadata": {
  "kernelspec": {
   "display_name": "modelprep",
   "language": "python",
   "name": "python3"
  },
  "language_info": {
   "codemirror_mode": {
    "name": "ipython",
    "version": 3
   },
   "file_extension": ".py",
   "mimetype": "text/x-python",
   "name": "python",
   "nbconvert_exporter": "python",
   "pygments_lexer": "ipython3",
   "version": "3.10.18"
  }
 },
 "nbformat": 4,
 "nbformat_minor": 5
}
