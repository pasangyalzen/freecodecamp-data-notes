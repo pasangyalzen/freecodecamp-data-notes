{
 "cells": [
  {
   "cell_type": "markdown",
   "id": "e423dc6d",
   "metadata": {},
   "source": [
    "Checking duplicate value is extremely simple. It will behave differently in Series and DataFrames. Firstly we will start with Series. So for this we are about to set an example of inviting different ambassadors frmo different countries. But, we can only invite only one ambassador per country. So we will be creating one example list where there will be duplicated ambassadors for two countries."
   ]
  },
  {
   "cell_type": "code",
   "execution_count": 52,
   "id": "75671049",
   "metadata": {},
   "outputs": [],
   "source": [
    "import numpy as np\n",
    "import pandas as pd"
   ]
  },
  {
   "cell_type": "markdown",
   "id": "01769956",
   "metadata": {},
   "source": [
    "# Series"
   ]
  },
  {
   "cell_type": "code",
   "execution_count": 53,
   "id": "bfa58762",
   "metadata": {},
   "outputs": [],
   "source": [
    "ambassadors = pd.Series([\n",
    "    \"France\",\n",
    "    \"United Kingdom\",\n",
    "    \"United Kingdom\",\n",
    "    \"Italy\",\n",
    "    \"Germany\",\n",
    "    \"Germany\",\n",
    "    \"Germany\"\n",
    "],\n",
    "index=[\n",
    "    \"Bipin Tamang\",\n",
    "    \"Yogesh Chamling\",\n",
    "    \"Buddha Tamang\",\n",
    "    \"Bhupendra Pradhan\",\n",
    "    \"Pasang Gyalzen Sherpa\",\n",
    "    \"Lakpa Sherpa\",\n",
    "    \"Dajangbu Sherpa\"\n",
    "])"
   ]
  },
  {
   "cell_type": "code",
   "execution_count": 54,
   "id": "146dcb77",
   "metadata": {},
   "outputs": [
    {
     "data": {
      "text/plain": [
       "Bipin Tamang                     France\n",
       "Yogesh Chamling          United Kingdom\n",
       "Buddha Tamang            United Kingdom\n",
       "Bhupendra Pradhan                 Italy\n",
       "Pasang Gyalzen Sherpa           Germany\n",
       "Lakpa Sherpa                    Germany\n",
       "Dajangbu Sherpa                 Germany\n",
       "dtype: object"
      ]
     },
     "execution_count": 54,
     "metadata": {},
     "output_type": "execute_result"
    }
   ],
   "source": [
    "ambassadors"
   ]
  },
  {
   "cell_type": "code",
   "execution_count": 55,
   "id": "ef5cdedd",
   "metadata": {},
   "outputs": [
    {
     "data": {
      "text/plain": [
       "Bipin Tamang             False\n",
       "Yogesh Chamling          False\n",
       "Buddha Tamang             True\n",
       "Bhupendra Pradhan        False\n",
       "Pasang Gyalzen Sherpa    False\n",
       "Lakpa Sherpa              True\n",
       "Dajangbu Sherpa           True\n",
       "dtype: bool"
      ]
     },
     "execution_count": 55,
     "metadata": {},
     "output_type": "execute_result"
    }
   ],
   "source": [
    "ambassadors.duplicated()"
   ]
  },
  {
   "cell_type": "markdown",
   "id": "d3df54fe",
   "metadata": {},
   "source": [
    "Here we can see that the duplicated didn't consider the first occurence \"Yogesh Chamling\" as duplicates. Similarly, \"Pasang Gyalzen Sherpa\" too. We can change this behaviour with the parameter \"keep\". "
   ]
  },
  {
   "cell_type": "markdown",
   "id": "1e9ed96c",
   "metadata": {},
   "source": [
    "# DataFrame.duplicated(subset=None, keep='first')\n",
    "\n",
    "THe subset parameters helps in specifyinh the column\n"
   ]
  },
  {
   "cell_type": "code",
   "execution_count": 56,
   "id": "378ccaa7",
   "metadata": {},
   "outputs": [
    {
     "data": {
      "text/plain": [
       "Bipin Tamang             False\n",
       "Yogesh Chamling           True\n",
       "Buddha Tamang            False\n",
       "Bhupendra Pradhan        False\n",
       "Pasang Gyalzen Sherpa     True\n",
       "Lakpa Sherpa              True\n",
       "Dajangbu Sherpa          False\n",
       "dtype: bool"
      ]
     },
     "execution_count": 56,
     "metadata": {},
     "output_type": "execute_result"
    }
   ],
   "source": [
    "ambassadors.duplicated(keep=\"last\")"
   ]
  },
  {
   "cell_type": "markdown",
   "id": "1207aa17",
   "metadata": {},
   "source": [
    "What does keep do?\n",
    "\n",
    "• keep=\"first\" (default)\n",
    "\n",
    "Marks all duplicates except the first occurrence as True.\n",
    "\n",
    "Example: [1, 1, 1] → [False, True, True].\n",
    "\n",
    "• keep=\"last\"\n",
    "\n",
    "Marks all duplicates except the last occurrence as True.\n",
    "\n",
    "Example: [1, 1, 1] → [True, True, False].\n",
    "\n",
    "• keep=False\n",
    "\n",
    "Marks all duplicates as True (none are kept).\n",
    "\n",
    "Example: [1, 1, 1] → [True, True, True]."
   ]
  },
  {
   "cell_type": "markdown",
   "id": "2cca4f56",
   "metadata": {},
   "source": [
    "# Drop by default checks ever rows of every columns"
   ]
  },
  {
   "cell_type": "code",
   "execution_count": 57,
   "id": "423c61a0",
   "metadata": {},
   "outputs": [
    {
     "data": {
      "text/plain": [
       "Bipin Tamang             False\n",
       "Yogesh Chamling           True\n",
       "Buddha Tamang             True\n",
       "Bhupendra Pradhan        False\n",
       "Pasang Gyalzen Sherpa     True\n",
       "Lakpa Sherpa              True\n",
       "Dajangbu Sherpa           True\n",
       "dtype: bool"
      ]
     },
     "execution_count": 57,
     "metadata": {},
     "output_type": "execute_result"
    }
   ],
   "source": [
    "ambassadors.duplicated(keep=False)\n",
    "\n",
    "# None of the rows are ommitted "
   ]
  },
  {
   "cell_type": "code",
   "execution_count": 58,
   "id": "6d445289",
   "metadata": {},
   "outputs": [
    {
     "data": {
      "text/plain": [
       "Bipin Tamang                     France\n",
       "Yogesh Chamling          United Kingdom\n",
       "Bhupendra Pradhan                 Italy\n",
       "Pasang Gyalzen Sherpa           Germany\n",
       "dtype: object"
      ]
     },
     "execution_count": 58,
     "metadata": {},
     "output_type": "execute_result"
    }
   ],
   "source": [
    "ambassadors.drop_duplicates()\n",
    "\n",
    "# By default the parameter for the keep is first, so this simply keeps the first row and drops all the other"
   ]
  },
  {
   "cell_type": "code",
   "execution_count": 59,
   "id": "acb97af6",
   "metadata": {},
   "outputs": [
    {
     "data": {
      "text/plain": [
       "Bipin Tamang                 France\n",
       "Buddha Tamang        United Kingdom\n",
       "Bhupendra Pradhan             Italy\n",
       "Dajangbu Sherpa             Germany\n",
       "dtype: object"
      ]
     },
     "execution_count": 59,
     "metadata": {},
     "output_type": "execute_result"
    }
   ],
   "source": [
    "ambassadors.drop_duplicates(keep = \"last\")\n",
    "\n",
    "# This keeps the last duplicate value and drops all before that "
   ]
  },
  {
   "cell_type": "code",
   "execution_count": 60,
   "id": "b9dbdf6d",
   "metadata": {},
   "outputs": [
    {
     "data": {
      "text/plain": [
       "Bipin Tamang         France\n",
       "Bhupendra Pradhan     Italy\n",
       "dtype: object"
      ]
     },
     "execution_count": 60,
     "metadata": {},
     "output_type": "execute_result"
    }
   ],
   "source": [
    "ambassadors.drop_duplicates(keep = False)\n",
    "\n",
    "# This will drop everything and doesnot keep anything"
   ]
  },
  {
   "cell_type": "markdown",
   "id": "f9b2b1b1",
   "metadata": {},
   "source": [
    "# Dataframes"
   ]
  },
  {
   "cell_type": "code",
   "execution_count": 61,
   "id": "cecb7f48",
   "metadata": {},
   "outputs": [],
   "source": [
    "players = pd.DataFrame({\n",
    "    \"Name\"  : [\n",
    "        \"Luka Doncic\",\n",
    "        \"Allen Iverson\",\n",
    "        \"Luka Doncic\",\n",
    "        \"Kyrie Irving\",\n",
    "        \"Luka Doncic\"\n",
    "    ],\n",
    "    \"Pos\" : [\n",
    "        \"SG\",\n",
    "        \"SF\",\n",
    "        \"SG\",\n",
    "        \"SF\",\n",
    "        \"SF\"\n",
    "    ]\n",
    "})"
   ]
  },
  {
   "cell_type": "code",
   "execution_count": 62,
   "id": "a31e19aa",
   "metadata": {},
   "outputs": [
    {
     "data": {
      "text/plain": [
       "0     True\n",
       "1    False\n",
       "2     True\n",
       "3    False\n",
       "4    False\n",
       "dtype: bool"
      ]
     },
     "execution_count": 62,
     "metadata": {},
     "output_type": "execute_result"
    }
   ],
   "source": [
    "players.duplicated(keep=False)"
   ]
  },
  {
   "cell_type": "markdown",
   "id": "d1f75db4",
   "metadata": {},
   "source": [
    "As we can see above there must be something wrong that didnt gave us any duplicated informations. So, we will be accessing it with the help of the column."
   ]
  },
  {
   "cell_type": "code",
   "execution_count": 63,
   "id": "cd1ab014",
   "metadata": {},
   "outputs": [
    {
     "data": {
      "text/plain": [
       "0    False\n",
       "1    False\n",
       "2     True\n",
       "3    False\n",
       "4     True\n",
       "dtype: bool"
      ]
     },
     "execution_count": 63,
     "metadata": {},
     "output_type": "execute_result"
    }
   ],
   "source": [
    "players.duplicated(subset=[\"Name\"])"
   ]
  },
  {
   "cell_type": "code",
   "execution_count": 64,
   "id": "704efa8b",
   "metadata": {},
   "outputs": [
    {
     "data": {
      "text/plain": [
       "0    True\n",
       "1    True\n",
       "2    True\n",
       "3    True\n",
       "4    True\n",
       "dtype: bool"
      ]
     },
     "execution_count": 64,
     "metadata": {},
     "output_type": "execute_result"
    }
   ],
   "source": [
    "players.duplicated(subset = \"Pos\", keep = False)"
   ]
  },
  {
   "cell_type": "code",
   "execution_count": 65,
   "id": "de6833ca",
   "metadata": {},
   "outputs": [
    {
     "data": {
      "text/plain": [
       "0     True\n",
       "1    False\n",
       "2     True\n",
       "3    False\n",
       "4    False\n",
       "dtype: bool"
      ]
     },
     "execution_count": 65,
     "metadata": {},
     "output_type": "execute_result"
    }
   ],
   "source": [
    "players.duplicated(subset= \"Name\", keep =\"last\")"
   ]
  },
  {
   "cell_type": "code",
   "execution_count": 66,
   "id": "a6b454d7",
   "metadata": {},
   "outputs": [
    {
     "data": {
      "text/html": [
       "<div>\n",
       "<style scoped>\n",
       "    .dataframe tbody tr th:only-of-type {\n",
       "        vertical-align: middle;\n",
       "    }\n",
       "\n",
       "    .dataframe tbody tr th {\n",
       "        vertical-align: top;\n",
       "    }\n",
       "\n",
       "    .dataframe thead th {\n",
       "        text-align: right;\n",
       "    }\n",
       "</style>\n",
       "<table border=\"1\" class=\"dataframe\">\n",
       "  <thead>\n",
       "    <tr style=\"text-align: right;\">\n",
       "      <th></th>\n",
       "      <th>Name</th>\n",
       "      <th>Pos</th>\n",
       "    </tr>\n",
       "  </thead>\n",
       "  <tbody>\n",
       "    <tr>\n",
       "      <th>0</th>\n",
       "      <td>Luka Doncic</td>\n",
       "      <td>SG</td>\n",
       "    </tr>\n",
       "    <tr>\n",
       "      <th>1</th>\n",
       "      <td>Allen Iverson</td>\n",
       "      <td>SF</td>\n",
       "    </tr>\n",
       "    <tr>\n",
       "      <th>3</th>\n",
       "      <td>Kyrie Irving</td>\n",
       "      <td>SF</td>\n",
       "    </tr>\n",
       "  </tbody>\n",
       "</table>\n",
       "</div>"
      ],
      "text/plain": [
       "            Name Pos\n",
       "0    Luka Doncic  SG\n",
       "1  Allen Iverson  SF\n",
       "3   Kyrie Irving  SF"
      ]
     },
     "execution_count": 66,
     "metadata": {},
     "output_type": "execute_result"
    }
   ],
   "source": [
    "players.drop_duplicates(subset=\"Name\")"
   ]
  },
  {
   "cell_type": "code",
   "execution_count": 67,
   "id": "a8b5da2a",
   "metadata": {},
   "outputs": [
    {
     "data": {
      "text/html": [
       "<div>\n",
       "<style scoped>\n",
       "    .dataframe tbody tr th:only-of-type {\n",
       "        vertical-align: middle;\n",
       "    }\n",
       "\n",
       "    .dataframe tbody tr th {\n",
       "        vertical-align: top;\n",
       "    }\n",
       "\n",
       "    .dataframe thead th {\n",
       "        text-align: right;\n",
       "    }\n",
       "</style>\n",
       "<table border=\"1\" class=\"dataframe\">\n",
       "  <thead>\n",
       "    <tr style=\"text-align: right;\">\n",
       "      <th></th>\n",
       "      <th>Name</th>\n",
       "      <th>Pos</th>\n",
       "    </tr>\n",
       "  </thead>\n",
       "  <tbody>\n",
       "    <tr>\n",
       "      <th>0</th>\n",
       "      <td>Luka Doncic</td>\n",
       "      <td>SG</td>\n",
       "    </tr>\n",
       "    <tr>\n",
       "      <th>1</th>\n",
       "      <td>Allen Iverson</td>\n",
       "      <td>SF</td>\n",
       "    </tr>\n",
       "    <tr>\n",
       "      <th>3</th>\n",
       "      <td>Kyrie Irving</td>\n",
       "      <td>SF</td>\n",
       "    </tr>\n",
       "    <tr>\n",
       "      <th>4</th>\n",
       "      <td>Luka Doncic</td>\n",
       "      <td>SF</td>\n",
       "    </tr>\n",
       "  </tbody>\n",
       "</table>\n",
       "</div>"
      ],
      "text/plain": [
       "            Name Pos\n",
       "0    Luka Doncic  SG\n",
       "1  Allen Iverson  SF\n",
       "3   Kyrie Irving  SF\n",
       "4    Luka Doncic  SF"
      ]
     },
     "execution_count": 67,
     "metadata": {},
     "output_type": "execute_result"
    }
   ],
   "source": [
    "players.drop_duplicates()\n",
    "\n",
    "# This will only consider duplicate is all the columns value of that row is same as the one in the another row.\n",
    "# So, this will remove any rows that have same Name and position. It keeps the first row and removes all after that."
   ]
  },
  {
   "cell_type": "code",
   "execution_count": 68,
   "id": "302cd1a1",
   "metadata": {},
   "outputs": [
    {
     "data": {
      "text/html": [
       "<div>\n",
       "<style scoped>\n",
       "    .dataframe tbody tr th:only-of-type {\n",
       "        vertical-align: middle;\n",
       "    }\n",
       "\n",
       "    .dataframe tbody tr th {\n",
       "        vertical-align: top;\n",
       "    }\n",
       "\n",
       "    .dataframe thead th {\n",
       "        text-align: right;\n",
       "    }\n",
       "</style>\n",
       "<table border=\"1\" class=\"dataframe\">\n",
       "  <thead>\n",
       "    <tr style=\"text-align: right;\">\n",
       "      <th></th>\n",
       "      <th>Name</th>\n",
       "      <th>Pos</th>\n",
       "    </tr>\n",
       "  </thead>\n",
       "  <tbody>\n",
       "    <tr>\n",
       "      <th>0</th>\n",
       "      <td>Luka Doncic</td>\n",
       "      <td>SG</td>\n",
       "    </tr>\n",
       "    <tr>\n",
       "      <th>1</th>\n",
       "      <td>Allen Iverson</td>\n",
       "      <td>SF</td>\n",
       "    </tr>\n",
       "  </tbody>\n",
       "</table>\n",
       "</div>"
      ],
      "text/plain": [
       "            Name Pos\n",
       "0    Luka Doncic  SG\n",
       "1  Allen Iverson  SF"
      ]
     },
     "execution_count": 68,
     "metadata": {},
     "output_type": "execute_result"
    }
   ],
   "source": [
    "players.drop_duplicates(subset=\"Pos\")\n",
    "\n",
    "# This is what we are going to get if we coinsider the duplicates in the Column \"Pos\". Only the first occurence of the positions are kept."
   ]
  },
  {
   "cell_type": "code",
   "execution_count": 69,
   "id": "9e9fcb02",
   "metadata": {},
   "outputs": [
    {
     "data": {
      "text/html": [
       "<div>\n",
       "<style scoped>\n",
       "    .dataframe tbody tr th:only-of-type {\n",
       "        vertical-align: middle;\n",
       "    }\n",
       "\n",
       "    .dataframe tbody tr th {\n",
       "        vertical-align: top;\n",
       "    }\n",
       "\n",
       "    .dataframe thead th {\n",
       "        text-align: right;\n",
       "    }\n",
       "</style>\n",
       "<table border=\"1\" class=\"dataframe\">\n",
       "  <thead>\n",
       "    <tr style=\"text-align: right;\">\n",
       "      <th></th>\n",
       "      <th>Name</th>\n",
       "      <th>Pos</th>\n",
       "    </tr>\n",
       "  </thead>\n",
       "  <tbody>\n",
       "    <tr>\n",
       "      <th>1</th>\n",
       "      <td>Allen Iverson</td>\n",
       "      <td>SF</td>\n",
       "    </tr>\n",
       "    <tr>\n",
       "      <th>3</th>\n",
       "      <td>Kyrie Irving</td>\n",
       "      <td>SF</td>\n",
       "    </tr>\n",
       "    <tr>\n",
       "      <th>4</th>\n",
       "      <td>Luka Doncic</td>\n",
       "      <td>SF</td>\n",
       "    </tr>\n",
       "  </tbody>\n",
       "</table>\n",
       "</div>"
      ],
      "text/plain": [
       "            Name Pos\n",
       "1  Allen Iverson  SF\n",
       "3   Kyrie Irving  SF\n",
       "4    Luka Doncic  SF"
      ]
     },
     "execution_count": 69,
     "metadata": {},
     "output_type": "execute_result"
    }
   ],
   "source": [
    "players.drop_duplicates(subset= \"Name\", keep = \"last\")"
   ]
  },
  {
   "cell_type": "code",
   "execution_count": 70,
   "id": "739b5ff6",
   "metadata": {},
   "outputs": [
    {
     "data": {
      "text/html": [
       "<div>\n",
       "<style scoped>\n",
       "    .dataframe tbody tr th:only-of-type {\n",
       "        vertical-align: middle;\n",
       "    }\n",
       "\n",
       "    .dataframe tbody tr th {\n",
       "        vertical-align: top;\n",
       "    }\n",
       "\n",
       "    .dataframe thead th {\n",
       "        text-align: right;\n",
       "    }\n",
       "</style>\n",
       "<table border=\"1\" class=\"dataframe\">\n",
       "  <thead>\n",
       "    <tr style=\"text-align: right;\">\n",
       "      <th></th>\n",
       "      <th>Name</th>\n",
       "      <th>Pos</th>\n",
       "    </tr>\n",
       "  </thead>\n",
       "  <tbody>\n",
       "    <tr>\n",
       "      <th>0</th>\n",
       "      <td>Luka Doncic</td>\n",
       "      <td>SG</td>\n",
       "    </tr>\n",
       "    <tr>\n",
       "      <th>1</th>\n",
       "      <td>Allen Iverson</td>\n",
       "      <td>SF</td>\n",
       "    </tr>\n",
       "    <tr>\n",
       "      <th>2</th>\n",
       "      <td>Luka Doncic</td>\n",
       "      <td>SG</td>\n",
       "    </tr>\n",
       "    <tr>\n",
       "      <th>3</th>\n",
       "      <td>Kyrie Irving</td>\n",
       "      <td>SF</td>\n",
       "    </tr>\n",
       "    <tr>\n",
       "      <th>4</th>\n",
       "      <td>Luka Doncic</td>\n",
       "      <td>SF</td>\n",
       "    </tr>\n",
       "  </tbody>\n",
       "</table>\n",
       "</div>"
      ],
      "text/plain": [
       "            Name Pos\n",
       "0    Luka Doncic  SG\n",
       "1  Allen Iverson  SF\n",
       "2    Luka Doncic  SG\n",
       "3   Kyrie Irving  SF\n",
       "4    Luka Doncic  SF"
      ]
     },
     "execution_count": 70,
     "metadata": {},
     "output_type": "execute_result"
    }
   ],
   "source": [
    "players"
   ]
  },
  {
   "cell_type": "markdown",
   "id": "17526cf3",
   "metadata": {},
   "source": [
    "# Text Handling"
   ]
  },
  {
   "cell_type": "markdown",
   "id": "f7c5c3d9",
   "metadata": {},
   "source": [
    "Cleaning text values can be hard. invalid text values involves, 99% of the time , mistyping which is completely unpredictible and doesn't follow any pattern. Thankgod, this is not common these days, where data entry tasks has been replaced by machines. Still lets explore some commno casees."
   ]
  },
  {
   "cell_type": "markdown",
   "id": "4795e98e",
   "metadata": {},
   "source": [
    "# Splitting Columns"
   ]
  },
  {
   "cell_type": "markdown",
   "id": "9b8f64b4",
   "metadata": {},
   "source": [
    "For this we will be making one dataframe."
   ]
  },
  {
   "cell_type": "code",
   "execution_count": 103,
   "id": "f32d462d",
   "metadata": {},
   "outputs": [],
   "source": [
    "df = pd.DataFrame({\n",
    "    \"Data\" : [\n",
    "        \"1987_M_US _1\",\n",
    "        \"1990?_M_UK_1\",\n",
    "        \"1992_F_US_2\",\n",
    "        \"1070?_M_   IT_1\",\n",
    "        \"1985_F_I  T_2\" \n",
    "    ]\n",
    "})"
   ]
  },
  {
   "cell_type": "code",
   "execution_count": 104,
   "id": "5e0aff35",
   "metadata": {},
   "outputs": [
    {
     "data": {
      "text/html": [
       "<div>\n",
       "<style scoped>\n",
       "    .dataframe tbody tr th:only-of-type {\n",
       "        vertical-align: middle;\n",
       "    }\n",
       "\n",
       "    .dataframe tbody tr th {\n",
       "        vertical-align: top;\n",
       "    }\n",
       "\n",
       "    .dataframe thead th {\n",
       "        text-align: right;\n",
       "    }\n",
       "</style>\n",
       "<table border=\"1\" class=\"dataframe\">\n",
       "  <thead>\n",
       "    <tr style=\"text-align: right;\">\n",
       "      <th></th>\n",
       "      <th>Data</th>\n",
       "    </tr>\n",
       "  </thead>\n",
       "  <tbody>\n",
       "    <tr>\n",
       "      <th>0</th>\n",
       "      <td>1987_M_US _1</td>\n",
       "    </tr>\n",
       "    <tr>\n",
       "      <th>1</th>\n",
       "      <td>1990?_M_UK_1</td>\n",
       "    </tr>\n",
       "    <tr>\n",
       "      <th>2</th>\n",
       "      <td>1992_F_US_2</td>\n",
       "    </tr>\n",
       "    <tr>\n",
       "      <th>3</th>\n",
       "      <td>1070?_M_   IT_1</td>\n",
       "    </tr>\n",
       "    <tr>\n",
       "      <th>4</th>\n",
       "      <td>1985_F_I  T_2</td>\n",
       "    </tr>\n",
       "  </tbody>\n",
       "</table>\n",
       "</div>"
      ],
      "text/plain": [
       "              Data\n",
       "0     1987_M_US _1\n",
       "1     1990?_M_UK_1\n",
       "2      1992_F_US_2\n",
       "3  1070?_M_   IT_1\n",
       "4    1985_F_I  T_2"
      ]
     },
     "execution_count": 104,
     "metadata": {},
     "output_type": "execute_result"
    }
   ],
   "source": [
    "df "
   ]
  },
  {
   "cell_type": "markdown",
   "id": "b61bb5be",
   "metadata": {},
   "source": [
    "We can see that these single columns represent Year, Sex, Country and number of children. The problem here is that it has been all grouped into a single column and has been seperated by an underscore. Pandas has convenient method named split for this."
   ]
  },
  {
   "cell_type": "markdown",
   "id": "37dc3e7f",
   "metadata": {},
   "source": [
    "# The split() method is used to break a string into multiple parts (substrings) based on a given separator (like a space, comma, or underscore).\n"
   ]
  },
  {
   "cell_type": "markdown",
   "id": "a04b7b3d",
   "metadata": {},
   "source": [
    "Different attributs like str for string, datetime as dt, and category as cat has method split. "
   ]
  },
  {
   "cell_type": "code",
   "execution_count": 105,
   "id": "d305125b",
   "metadata": {},
   "outputs": [
    {
     "data": {
      "text/plain": [
       "0       [1987, M, US , 1]\n",
       "1       [1990?, M, UK, 1]\n",
       "2        [1992, F, US, 2]\n",
       "3    [1070?, M,    IT, 1]\n",
       "4      [1985, F, I  T, 2]\n",
       "Name: Data, dtype: object"
      ]
     },
     "execution_count": 105,
     "metadata": {},
     "output_type": "execute_result"
    }
   ],
   "source": [
    "df[\"Data\"].str.split(\"_\") "
   ]
  },
  {
   "cell_type": "code",
   "execution_count": 106,
   "id": "f292cc16",
   "metadata": {},
   "outputs": [],
   "source": [
    "df = df[\"Data\"].str.split(\"_\", expand=True)"
   ]
  },
  {
   "cell_type": "markdown",
   "id": "d77e6988",
   "metadata": {},
   "source": [
    "1. The split() function (when used as df[\"col\"].str.split(\"_\"))\n",
    "\n",
    "• Splits each string in the column into a list of substrings based on the delimiter (e.g., _).\n",
    "\n",
    "• The column now contains lists instead of strings.\n",
    "\n",
    "2. The expand=True argument\n",
    "\n",
    "• Takes each list (from step 1) and “expands” it into separate columns.\n",
    "\n",
    "• Each element of the list at a specific index is placed into its own column (0, 1, 2, …)."
   ]
  },
  {
   "cell_type": "code",
   "execution_count": 107,
   "id": "d0a3dcc4",
   "metadata": {},
   "outputs": [
    {
     "data": {
      "text/html": [
       "<div>\n",
       "<style scoped>\n",
       "    .dataframe tbody tr th:only-of-type {\n",
       "        vertical-align: middle;\n",
       "    }\n",
       "\n",
       "    .dataframe tbody tr th {\n",
       "        vertical-align: top;\n",
       "    }\n",
       "\n",
       "    .dataframe thead th {\n",
       "        text-align: right;\n",
       "    }\n",
       "</style>\n",
       "<table border=\"1\" class=\"dataframe\">\n",
       "  <thead>\n",
       "    <tr style=\"text-align: right;\">\n",
       "      <th></th>\n",
       "      <th>0</th>\n",
       "      <th>1</th>\n",
       "      <th>2</th>\n",
       "      <th>3</th>\n",
       "    </tr>\n",
       "  </thead>\n",
       "  <tbody>\n",
       "    <tr>\n",
       "      <th>0</th>\n",
       "      <td>1987</td>\n",
       "      <td>M</td>\n",
       "      <td>US</td>\n",
       "      <td>1</td>\n",
       "    </tr>\n",
       "    <tr>\n",
       "      <th>1</th>\n",
       "      <td>1990?</td>\n",
       "      <td>M</td>\n",
       "      <td>UK</td>\n",
       "      <td>1</td>\n",
       "    </tr>\n",
       "    <tr>\n",
       "      <th>2</th>\n",
       "      <td>1992</td>\n",
       "      <td>F</td>\n",
       "      <td>US</td>\n",
       "      <td>2</td>\n",
       "    </tr>\n",
       "    <tr>\n",
       "      <th>3</th>\n",
       "      <td>1070?</td>\n",
       "      <td>M</td>\n",
       "      <td>IT</td>\n",
       "      <td>1</td>\n",
       "    </tr>\n",
       "    <tr>\n",
       "      <th>4</th>\n",
       "      <td>1985</td>\n",
       "      <td>F</td>\n",
       "      <td>I  T</td>\n",
       "      <td>2</td>\n",
       "    </tr>\n",
       "  </tbody>\n",
       "</table>\n",
       "</div>"
      ],
      "text/plain": [
       "       0  1      2  3\n",
       "0   1987  M    US   1\n",
       "1  1990?  M     UK  1\n",
       "2   1992  F     US  2\n",
       "3  1070?  M     IT  1\n",
       "4   1985  F   I  T  2"
      ]
     },
     "execution_count": 107,
     "metadata": {},
     "output_type": "execute_result"
    }
   ],
   "source": [
    "df"
   ]
  },
  {
   "cell_type": "code",
   "execution_count": 108,
   "id": "236851eb",
   "metadata": {},
   "outputs": [],
   "source": [
    "#Naming the column names \n",
    "df.columns = [\"Year\", \"Sex\", \"Country\", \"No Children\"]\n",
    "\n",
    "#Make sure to indicate as columns not column"
   ]
  },
  {
   "cell_type": "code",
   "execution_count": 109,
   "id": "f36b5d4f",
   "metadata": {},
   "outputs": [
    {
     "data": {
      "text/html": [
       "<div>\n",
       "<style scoped>\n",
       "    .dataframe tbody tr th:only-of-type {\n",
       "        vertical-align: middle;\n",
       "    }\n",
       "\n",
       "    .dataframe tbody tr th {\n",
       "        vertical-align: top;\n",
       "    }\n",
       "\n",
       "    .dataframe thead th {\n",
       "        text-align: right;\n",
       "    }\n",
       "</style>\n",
       "<table border=\"1\" class=\"dataframe\">\n",
       "  <thead>\n",
       "    <tr style=\"text-align: right;\">\n",
       "      <th></th>\n",
       "      <th>Year</th>\n",
       "      <th>Sex</th>\n",
       "      <th>Country</th>\n",
       "      <th>No Children</th>\n",
       "    </tr>\n",
       "  </thead>\n",
       "  <tbody>\n",
       "    <tr>\n",
       "      <th>0</th>\n",
       "      <td>1987</td>\n",
       "      <td>M</td>\n",
       "      <td>US</td>\n",
       "      <td>1</td>\n",
       "    </tr>\n",
       "    <tr>\n",
       "      <th>1</th>\n",
       "      <td>1990?</td>\n",
       "      <td>M</td>\n",
       "      <td>UK</td>\n",
       "      <td>1</td>\n",
       "    </tr>\n",
       "    <tr>\n",
       "      <th>2</th>\n",
       "      <td>1992</td>\n",
       "      <td>F</td>\n",
       "      <td>US</td>\n",
       "      <td>2</td>\n",
       "    </tr>\n",
       "    <tr>\n",
       "      <th>3</th>\n",
       "      <td>1070?</td>\n",
       "      <td>M</td>\n",
       "      <td>IT</td>\n",
       "      <td>1</td>\n",
       "    </tr>\n",
       "    <tr>\n",
       "      <th>4</th>\n",
       "      <td>1985</td>\n",
       "      <td>F</td>\n",
       "      <td>I  T</td>\n",
       "      <td>2</td>\n",
       "    </tr>\n",
       "  </tbody>\n",
       "</table>\n",
       "</div>"
      ],
      "text/plain": [
       "    Year Sex Country No Children\n",
       "0   1987   M     US            1\n",
       "1  1990?   M      UK           1\n",
       "2   1992   F      US           2\n",
       "3  1070?   M      IT           1\n",
       "4   1985   F    I  T           2"
      ]
     },
     "execution_count": 109,
     "metadata": {},
     "output_type": "execute_result"
    }
   ],
   "source": [
    "df"
   ]
  },
  {
   "cell_type": "code",
   "execution_count": 110,
   "id": "27bd5a0c",
   "metadata": {},
   "outputs": [
    {
     "data": {
      "text/plain": [
       "0    False\n",
       "1     True\n",
       "2    False\n",
       "3     True\n",
       "4    False\n",
       "Name: Year, dtype: bool"
      ]
     },
     "execution_count": 110,
     "metadata": {},
     "output_type": "execute_result"
    }
   ],
   "source": [
    "df[\"Year\"].str.contains(\"\\?\")"
   ]
  },
  {
   "cell_type": "code",
   "execution_count": 111,
   "id": "e1552e87",
   "metadata": {},
   "outputs": [
    {
     "data": {
      "text/html": [
       "<div>\n",
       "<style scoped>\n",
       "    .dataframe tbody tr th:only-of-type {\n",
       "        vertical-align: middle;\n",
       "    }\n",
       "\n",
       "    .dataframe tbody tr th {\n",
       "        vertical-align: top;\n",
       "    }\n",
       "\n",
       "    .dataframe thead th {\n",
       "        text-align: right;\n",
       "    }\n",
       "</style>\n",
       "<table border=\"1\" class=\"dataframe\">\n",
       "  <thead>\n",
       "    <tr style=\"text-align: right;\">\n",
       "      <th></th>\n",
       "      <th>Year</th>\n",
       "      <th>Sex</th>\n",
       "      <th>Country</th>\n",
       "      <th>No Children</th>\n",
       "    </tr>\n",
       "  </thead>\n",
       "  <tbody>\n",
       "    <tr>\n",
       "      <th>0</th>\n",
       "      <td>1987</td>\n",
       "      <td>M</td>\n",
       "      <td>US</td>\n",
       "      <td>1</td>\n",
       "    </tr>\n",
       "    <tr>\n",
       "      <th>1</th>\n",
       "      <td>1990?</td>\n",
       "      <td>M</td>\n",
       "      <td>UK</td>\n",
       "      <td>1</td>\n",
       "    </tr>\n",
       "    <tr>\n",
       "      <th>2</th>\n",
       "      <td>1992</td>\n",
       "      <td>F</td>\n",
       "      <td>US</td>\n",
       "      <td>2</td>\n",
       "    </tr>\n",
       "    <tr>\n",
       "      <th>3</th>\n",
       "      <td>1070?</td>\n",
       "      <td>M</td>\n",
       "      <td>IT</td>\n",
       "      <td>1</td>\n",
       "    </tr>\n",
       "    <tr>\n",
       "      <th>4</th>\n",
       "      <td>1985</td>\n",
       "      <td>F</td>\n",
       "      <td>I  T</td>\n",
       "      <td>2</td>\n",
       "    </tr>\n",
       "  </tbody>\n",
       "</table>\n",
       "</div>"
      ],
      "text/plain": [
       "    Year Sex Country No Children\n",
       "0   1987   M     US            1\n",
       "1  1990?   M      UK           1\n",
       "2   1992   F      US           2\n",
       "3  1070?   M      IT           1\n",
       "4   1985   F    I  T           2"
      ]
     },
     "execution_count": 111,
     "metadata": {},
     "output_type": "execute_result"
    }
   ],
   "source": [
    "df"
   ]
  },
  {
   "cell_type": "markdown",
   "id": "3d0ea83c",
   "metadata": {},
   "source": [
    "A question mark (?) has a special meaning in search patterns (regex).\n",
    "\n",
    "• It normally means: “the thing before me can appear 0 or 1 time.”\n",
    "\n",
    "\t• (\\+91)? means the “+91” country code may or may not be present.\n",
    "\t\n",
    "    • Matches:\n",
    "\t\n",
    "    • ”+919876543210”\n",
    "\t\n",
    "    • “9876543210”\n",
    "\n",
    "• So if you just write \"?\", Python thinks you’re talking about this special rule, not the actual ? symbol."
   ]
  },
  {
   "cell_type": "code",
   "execution_count": 112,
   "id": "72510db6",
   "metadata": {},
   "outputs": [
    {
     "data": {
      "text/plain": [
       "0     True\n",
       "1     True\n",
       "2     True\n",
       "3    False\n",
       "4    False\n",
       "Name: Country, dtype: bool"
      ]
     },
     "execution_count": 112,
     "metadata": {},
     "output_type": "execute_result"
    }
   ],
   "source": [
    "df[\"Country\"].str.contains(\"U\")"
   ]
  },
  {
   "cell_type": "code",
   "execution_count": 113,
   "id": "f3ec4060",
   "metadata": {},
   "outputs": [
    {
     "data": {
      "text/plain": [
       "0      US\n",
       "1      UK\n",
       "2      US\n",
       "3      IT\n",
       "4    I  T\n",
       "Name: Country, dtype: object"
      ]
     },
     "execution_count": 113,
     "metadata": {},
     "output_type": "execute_result"
    }
   ],
   "source": [
    "df[\"Country\"].str.strip()\n",
    "\n",
    "# The main use of the strip function is to remove the  unwanted spaces from the beginning and the end of the string."
   ]
  },
  {
   "cell_type": "code",
   "execution_count": 114,
   "id": "5febab27",
   "metadata": {},
   "outputs": [
    {
     "data": {
      "text/plain": [
       "0    US\n",
       "1    UK\n",
       "2    US\n",
       "3    IT\n",
       "4    IT\n",
       "Name: Country, dtype: object"
      ]
     },
     "execution_count": 114,
     "metadata": {},
     "output_type": "execute_result"
    }
   ],
   "source": [
    "df[\"Country\"].str.replace(\" \", \"\")\n",
    "\n",
    "# This will just replace the empty space with no space as given above."
   ]
  },
  {
   "cell_type": "markdown",
   "id": "aa08c2b3",
   "metadata": {},
   "source": [
    "As we said , replace and contains take regex patterns, which can make it easier to replace values in bulk"
   ]
  },
  {
   "cell_type": "markdown",
   "id": "a35bcb40",
   "metadata": {},
   "source": [
    "# Instead of only matching exact words, they can match patterns of text – which lets you handle many variations at once."
   ]
  },
  {
   "cell_type": "code",
   "execution_count": 115,
   "id": "2c4129d2",
   "metadata": {},
   "outputs": [],
   "source": [
    "# Without the regex\n",
    "# df[\"City\"].str.replace(\"NYC\", \"New York\")\n",
    "\t# This will only replace exactly “NYC”??.\n",
    "\n",
    "# With regex\n",
    "# df[\"City\"].str.replace(\"N[Yy][Cc]\", \"New York\", regex=True)\n",
    "# This will replace “NYC”, “nyc”, “NyC”, “nYC” all at once (any case variation) because the regex [Yy] means “Y or y”.\n"
   ]
  },
  {
   "cell_type": "code",
   "execution_count": 116,
   "id": "c2aaa649",
   "metadata": {},
   "outputs": [
    {
     "data": {
      "text/plain": [
       "0    1987\n",
       "1    1990\n",
       "2    1992\n",
       "3    1070\n",
       "4    1985\n",
       "Name: Year, dtype: object"
      ]
     },
     "execution_count": 116,
     "metadata": {},
     "output_type": "execute_result"
    }
   ],
   "source": [
    "df[\"Year\"].str.replace(r'(?P<year>\\d{4})\\?', lambda m: m.group('year'), regex = True)"
   ]
  }
 ],
 "metadata": {
  "kernelspec": {
   "display_name": "modelprep",
   "language": "python",
   "name": "python3"
  },
  "language_info": {
   "codemirror_mode": {
    "name": "ipython",
    "version": 3
   },
   "file_extension": ".py",
   "mimetype": "text/x-python",
   "name": "python",
   "nbconvert_exporter": "python",
   "pygments_lexer": "ipython3",
   "version": "3.10.18"
  }
 },
 "nbformat": 4,
 "nbformat_minor": 5
}
